{
 "cells": [
  {
   "cell_type": "markdown",
   "id": "9623f125-1ff9-4fd4-a6e2-da5ca7ca757e",
   "metadata": {},
   "source": [
    "# Create h2o Delta Lakes\n",
    "\n",
    "* x0: Delta table that was initially created\n",
    "* x1: Delta table after it's been optimized via small file compaction\n",
    "* x2: Delta table Z Ordered by id1\n",
    "* x3: Delta table Z Ordered by id1 and id2"
   ]
  },
  {
   "cell_type": "code",
   "execution_count": 1,
   "id": "2601ff50-7f48-4b6b-8c63-ba4d0fbf0123",
   "metadata": {
    "tags": []
   },
   "outputs": [],
   "source": [
    "import pathlib\n",
    "\n",
    "from delta import *\n",
    "\n",
    "import pyspark"
   ]
  },
  {
   "cell_type": "code",
   "execution_count": 2,
   "id": "c5aed1ed-b588-4292-b9ea-170f19103c44",
   "metadata": {
    "tags": []
   },
   "outputs": [],
   "source": [
    "builder = (\n",
    "    pyspark.sql.SparkSession.builder.appName(\"MyApp\")\n",
    "    .config(\"spark.sql.extensions\", \"io.delta.sql.DeltaSparkSessionExtension\")\n",
    "    .config(\"spark.executor.memory\", '10G')\n",
    "    .config(\"spark.driver.memory\", '25G')\n",
    "    .config(\n",
    "        \"spark.sql.catalog.spark_catalog\",\n",
    "        \"org.apache.spark.sql.delta.catalog.DeltaCatalog\",\n",
    "    )\n",
    ")"
   ]
  },
  {
   "cell_type": "code",
   "execution_count": 3,
   "id": "8e33c0aa-c137-4514-91e2-60d80c7d1049",
   "metadata": {
    "tags": []
   },
   "outputs": [
    {
     "name": "stdout",
     "output_type": "stream",
     "text": [
      ":: loading settings :: url = jar:file:/Users/matthew.powers/opt/miniconda3/envs/pyspark-332-delta-230/lib/python3.9/site-packages/pyspark/jars/ivy-2.5.1.jar!/org/apache/ivy/core/settings/ivysettings.xml\n"
     ]
    },
    {
     "name": "stderr",
     "output_type": "stream",
     "text": [
      "Ivy Default Cache set to: /Users/matthew.powers/.ivy2/cache\n",
      "The jars for the packages stored in: /Users/matthew.powers/.ivy2/jars\n",
      "io.delta#delta-core_2.12 added as a dependency\n",
      ":: resolving dependencies :: org.apache.spark#spark-submit-parent-c1af6615-56d5-410d-8b18-5b69d6f824e6;1.0\n",
      "\tconfs: [default]\n",
      "\tfound io.delta#delta-core_2.12;2.3.0 in central\n",
      "\tfound io.delta#delta-storage;2.3.0 in central\n",
      "\tfound org.antlr#antlr4-runtime;4.8 in central\n",
      ":: resolution report :: resolve 112ms :: artifacts dl 5ms\n",
      "\t:: modules in use:\n",
      "\tio.delta#delta-core_2.12;2.3.0 from central in [default]\n",
      "\tio.delta#delta-storage;2.3.0 from central in [default]\n",
      "\torg.antlr#antlr4-runtime;4.8 from central in [default]\n",
      "\t---------------------------------------------------------------------\n",
      "\t|                  |            modules            ||   artifacts   |\n",
      "\t|       conf       | number| search|dwnlded|evicted|| number|dwnlded|\n",
      "\t---------------------------------------------------------------------\n",
      "\t|      default     |   3   |   0   |   0   |   0   ||   3   |   0   |\n",
      "\t---------------------------------------------------------------------\n",
      ":: retrieving :: org.apache.spark#spark-submit-parent-c1af6615-56d5-410d-8b18-5b69d6f824e6\n",
      "\tconfs: [default]\n",
      "\t0 artifacts copied, 3 already retrieved (0kB/3ms)\n"
     ]
    },
    {
     "name": "stdout",
     "output_type": "stream",
     "text": [
      "23/05/24 15:31:08 WARN NativeCodeLoader: Unable to load native-hadoop library for your platform... using builtin-java classes where applicable\n"
     ]
    },
    {
     "name": "stderr",
     "output_type": "stream",
     "text": [
      "Setting default log level to \"WARN\".\n",
      "To adjust logging level use sc.setLogLevel(newLevel). For SparkR, use setLogLevel(newLevel).\n"
     ]
    }
   ],
   "source": [
    "spark = configure_spark_with_delta_pip(builder).getOrCreate()"
   ]
  },
  {
   "cell_type": "markdown",
   "id": "8002d860-93af-4e59-9fc7-137a66f25601",
   "metadata": {},
   "source": [
    "## G1_1e7"
   ]
  },
  {
   "cell_type": "code",
   "execution_count": 12,
   "id": "e355533c-3261-4751-b188-f27775623f52",
   "metadata": {
    "tags": []
   },
   "outputs": [
    {
     "name": "stderr",
     "output_type": "stream",
     "text": [
      "                                                                                \r"
     ]
    }
   ],
   "source": [
    "df = (\n",
    "    spark.read.option(\"inferSchema\", True)\n",
    "    .option(\"header\", True)\n",
    "    .format(\"csv\")\n",
    "    .load(f\"{pathlib.Path.home()}/data/G1_1e7_1e2_0_0.csv\")\n",
    ")"
   ]
  },
  {
   "cell_type": "code",
   "execution_count": 13,
   "id": "71956481-25b2-49c2-89d1-5aba57a33e75",
   "metadata": {
    "tags": []
   },
   "outputs": [
    {
     "name": "stdout",
     "output_type": "stream",
     "text": [
      "+-----+-----+------------+---+---+-----+---+---+---------+\n",
      "|  id1|  id2|         id3|id4|id5|  id6| v1| v2|       v3|\n",
      "+-----+-----+------------+---+---+-----+---+---+---------+\n",
      "|id016|id016|id0000042202| 15| 24| 5971|  5| 11|37.211254|\n",
      "|id039|id045|id0000029558| 40| 49|39457|  5|  4|48.951141|\n",
      "|id047|id023|id0000071286| 68| 20|74463|  2| 14|60.469241|\n",
      "|id043|id057|id0000015141| 32| 43|63743|  1| 15| 7.692145|\n",
      "|id054|id040|id0000011083|  9| 25|16920|  2|  9|22.863525|\n",
      "|id029|id020|id0000017974| 40| 43|14435|  3| 13|87.521355|\n",
      "|id047|id023|id0000084849| 90| 96|35790|  2|  9|93.348148|\n",
      "|id091|id022|id0000031441| 50| 44|71525|  3| 11|81.013682|\n",
      "|id090|id048|id0000067778| 24|  2|51862|  4|  9|30.718821|\n",
      "|id070|id008|id0000091167| 78|  4|23333|  5| 15| 70.95464|\n",
      "|id039|id084|id0000013708| 94| 81|44406|  1|  3|54.368009|\n",
      "|id023|id061|id0000011331| 36| 67|86498|  5|  2|13.847979|\n",
      "|id070|id054|id0000099110| 24| 15|47054|  4|  2|92.057305|\n",
      "|id022|id008|id0000038862| 38| 92|63088|  3| 10|33.517765|\n",
      "|id020|id070|id0000028952| 17| 57|50831|  4| 15|48.060814|\n",
      "|id078|id022|id0000082008| 69| 44|15891|  1|  4| 95.75571|\n",
      "|id024|id033|id0000074157|  1| 57|83341|  2|  1|72.118722|\n",
      "|id053|id076|id0000061759| 55| 43|59469|  5| 10|10.574836|\n",
      "|id058|id087|id0000094028| 14| 49|72962|  4|  4|37.914258|\n",
      "|id095|id091|id0000066931| 35| 20|98979|  3|  3|16.733062|\n",
      "+-----+-----+------------+---+---+-----+---+---+---------+\n",
      "only showing top 20 rows\n",
      "\n"
     ]
    }
   ],
   "source": [
    "df.show()"
   ]
  },
  {
   "cell_type": "code",
   "execution_count": 14,
   "id": "e27a860c-19c3-48c9-9cca-02353aaec3a0",
   "metadata": {
    "tags": []
   },
   "outputs": [
    {
     "name": "stdout",
     "output_type": "stream",
     "text": [
      "root\n",
      " |-- id1: string (nullable = true)\n",
      " |-- id2: string (nullable = true)\n",
      " |-- id3: string (nullable = true)\n",
      " |-- id4: integer (nullable = true)\n",
      " |-- id5: integer (nullable = true)\n",
      " |-- id6: integer (nullable = true)\n",
      " |-- v1: integer (nullable = true)\n",
      " |-- v2: integer (nullable = true)\n",
      " |-- v3: double (nullable = true)\n",
      "\n"
     ]
    }
   ],
   "source": [
    "df.printSchema()"
   ]
  },
  {
   "cell_type": "code",
   "execution_count": 15,
   "id": "03ba4297-0d1e-43c6-93c1-933ac375afb8",
   "metadata": {
    "tags": []
   },
   "outputs": [
    {
     "name": "stderr",
     "output_type": "stream",
     "text": [
      "[Stage 6:>                                                        (0 + 10) / 10]\r"
     ]
    },
    {
     "name": "stdout",
     "output_type": "stream",
     "text": [
      "23/04/29 09:58:23 WARN MemoryManager: Total allocation exceeds 95.00% (1,017,066,278 bytes) of heap memory\n",
      "Scaling row group sizes to 94.72% for 8 writers\n",
      "23/04/29 09:58:23 WARN MemoryManager: Total allocation exceeds 95.00% (1,017,066,278 bytes) of heap memory\n",
      "Scaling row group sizes to 84.20% for 9 writers\n",
      "23/04/29 09:58:23 WARN MemoryManager: Total allocation exceeds 95.00% (1,017,066,278 bytes) of heap memory\n",
      "Scaling row group sizes to 75.78% for 10 writers\n",
      "23/04/29 09:58:27 WARN MemoryManager: Total allocation exceeds 95.00% (1,017,066,278 bytes) of heap memory\n",
      "Scaling row group sizes to 84.20% for 9 writers\n",
      "23/04/29 09:58:27 WARN MemoryManager: Total allocation exceeds 95.00% (1,017,066,278 bytes) of heap memory\n",
      "Scaling row group sizes to 94.72% for 8 writers\n"
     ]
    },
    {
     "name": "stderr",
     "output_type": "stream",
     "text": [
      "                                                                                \r"
     ]
    },
    {
     "name": "stdout",
     "output_type": "stream",
     "text": [
      "23/04/29 09:58:29 WARN package: Truncated the string representation of a plan since it was too large. This behavior can be adjusted by setting 'spark.sql.debug.maxToStringFields'.\n"
     ]
    }
   ],
   "source": [
    "df.write.format(\"delta\").save(f\"{pathlib.Path.home()}/data/delta/G1_1e7_1e2_0_0\")"
   ]
  },
  {
   "cell_type": "markdown",
   "id": "21131e7f-e84a-4bd9-8f3c-353fa4e6aaea",
   "metadata": {},
   "source": [
    "## G1_1e8"
   ]
  },
  {
   "cell_type": "code",
   "execution_count": 16,
   "id": "077d8d68-ead1-4b42-b3ec-b67cd03803dc",
   "metadata": {
    "tags": []
   },
   "outputs": [
    {
     "name": "stderr",
     "output_type": "stream",
     "text": [
      "                                                                                \r"
     ]
    }
   ],
   "source": [
    "df = (\n",
    "    spark.read.option(\"inferSchema\", True)\n",
    "    .option(\"header\", True)\n",
    "    .format(\"csv\")\n",
    "    .load(f\"{pathlib.Path.home()}/data/G1_1e8_1e2_0_0.csv\")\n",
    ")"
   ]
  },
  {
   "cell_type": "code",
   "execution_count": 17,
   "id": "1287a1b7-661c-4559-aa93-10ce945339ee",
   "metadata": {
    "tags": []
   },
   "outputs": [
    {
     "name": "stdout",
     "output_type": "stream",
     "text": [
      "+-----+-----+------------+---+---+------+---+---+---------+\n",
      "|  id1|  id2|         id3|id4|id5|   id6| v1| v2|       v3|\n",
      "+-----+-----+------------+---+---+------+---+---+---------+\n",
      "|id016|id046|id0000109363| 88| 13|146094|  4|  6|18.837686|\n",
      "|id039|id087|id0000466766| 14| 30|111330|  4| 14|46.797328|\n",
      "|id047|id098|id0000307804| 85| 23|187639|  3|  5|47.577311|\n",
      "|id043|id017|id0000344864| 87| 76|256509|  2|  5|80.462924|\n",
      "|id054|id027|id0000433679| 99| 67| 32736|  1|  7|15.796662|\n",
      "|id029|id012|id0000992073| 52| 54|269367|  1|  7| 7.238164|\n",
      "|id047|id041|id0000497102| 46| 40|797089|  2| 13| 8.333005|\n",
      "|id091|id006|id0000531420| 33| 15|838478|  4|  3|68.466527|\n",
      "|id090|id007|id0000854318| 37| 69|422069|  1|  8|23.563216|\n",
      "|id070|id068|id0000434456| 99| 93|473025|  2| 13|11.782941|\n",
      "|id039|id001|id0000478306| 82| 63|580548|  3| 10|41.377372|\n",
      "|id023|id001|id0000650586| 16| 97|323047|  2| 13| 33.43633|\n",
      "|id070|id097|id0000677597| 35| 21|266226|  1|  8|22.182861|\n",
      "|id022|id027|id0000717475| 87| 48|887463|  3|  6|80.611344|\n",
      "|id020|id050|id0000621571| 56| 67|816082|  1|  9|42.816405|\n",
      "|id078|id017|id0000875533| 30| 33|934508|  1|  9|13.053614|\n",
      "|id024|id018|id0000282698|  2| 97|195087|  4|  8|69.938127|\n",
      "|id053|id090|id0000677471| 69| 80| 18991|  1|  1|16.484222|\n",
      "|id058|id062|id0000288700| 81| 78|361478|  1| 15|37.599111|\n",
      "|id095|id078|id0000584803| 56| 92|213320|  1|  9|63.464315|\n",
      "+-----+-----+------------+---+---+------+---+---+---------+\n",
      "only showing top 20 rows\n",
      "\n"
     ]
    }
   ],
   "source": [
    "df.show()"
   ]
  },
  {
   "cell_type": "code",
   "execution_count": 18,
   "id": "faa94d70-cd2a-4c79-989c-1550e880aead",
   "metadata": {
    "tags": []
   },
   "outputs": [
    {
     "name": "stdout",
     "output_type": "stream",
     "text": [
      "root\n",
      " |-- id1: string (nullable = true)\n",
      " |-- id2: string (nullable = true)\n",
      " |-- id3: string (nullable = true)\n",
      " |-- id4: integer (nullable = true)\n",
      " |-- id5: integer (nullable = true)\n",
      " |-- id6: integer (nullable = true)\n",
      " |-- v1: integer (nullable = true)\n",
      " |-- v2: integer (nullable = true)\n",
      " |-- v3: double (nullable = true)\n",
      "\n"
     ]
    }
   ],
   "source": [
    "df.printSchema()"
   ]
  },
  {
   "cell_type": "code",
   "execution_count": 19,
   "id": "1af6b729-1a24-475a-bd8c-38a5fd35f81f",
   "metadata": {
    "tags": []
   },
   "outputs": [
    {
     "name": "stdout",
     "output_type": "stream",
     "text": [
      "23/04/29 10:00:01 WARN MemoryManager: Total allocation exceeds 95.00% (1,017,066,278 bytes) of heap memory\n",
      "Scaling row group sizes to 94.72% for 8 writers\n",
      "23/04/29 10:00:01 WARN MemoryManager: Total allocation exceeds 95.00% (1,017,066,278 bytes) of heap memory\n",
      "Scaling row group sizes to 84.20% for 9 writers\n",
      "23/04/29 10:00:01 WARN MemoryManager: Total allocation exceeds 95.00% (1,017,066,278 bytes) of heap memory\n",
      "Scaling row group sizes to 75.78% for 10 writers\n"
     ]
    },
    {
     "name": "stderr",
     "output_type": "stream",
     "text": [
      "[Stage 17:>                                                       (0 + 10) / 39]\r"
     ]
    },
    {
     "name": "stdout",
     "output_type": "stream",
     "text": [
      "23/04/29 10:00:09 WARN MemoryManager: Total allocation exceeds 95.00% (1,017,066,278 bytes) of heap memory\n",
      "Scaling row group sizes to 84.20% for 9 writers\n",
      "23/04/29 10:00:09 WARN MemoryManager: Total allocation exceeds 95.00% (1,017,066,278 bytes) of heap memory\n",
      "Scaling row group sizes to 94.72% for 8 writers\n"
     ]
    },
    {
     "name": "stderr",
     "output_type": "stream",
     "text": [
      "[Stage 17:====>                                                   (3 + 10) / 39]\r"
     ]
    },
    {
     "name": "stdout",
     "output_type": "stream",
     "text": [
      "23/04/29 10:00:09 WARN MemoryManager: Total allocation exceeds 95.00% (1,017,066,278 bytes) of heap memory\n",
      "Scaling row group sizes to 94.72% for 8 writers\n",
      "23/04/29 10:00:09 WARN MemoryManager: Total allocation exceeds 95.00% (1,017,066,278 bytes) of heap memory\n",
      "Scaling row group sizes to 84.20% for 9 writers\n",
      "23/04/29 10:00:09 WARN MemoryManager: Total allocation exceeds 95.00% (1,017,066,278 bytes) of heap memory\n",
      "Scaling row group sizes to 75.78% for 10 writers\n",
      "23/04/29 10:00:10 WARN MemoryManager: Total allocation exceeds 95.00% (1,017,066,278 bytes) of heap memory\n",
      "Scaling row group sizes to 84.20% for 9 writers\n",
      "23/04/29 10:00:10 WARN MemoryManager: Total allocation exceeds 95.00% (1,017,066,278 bytes) of heap memory\n",
      "Scaling row group sizes to 94.72% for 8 writers\n",
      "23/04/29 10:00:10 WARN MemoryManager: Total allocation exceeds 95.00% (1,017,066,278 bytes) of heap memory\n",
      "Scaling row group sizes to 84.20% for 9 writers\n"
     ]
    },
    {
     "name": "stderr",
     "output_type": "stream",
     "text": [
      "[Stage 17:=======>                                                (5 + 10) / 39]\r"
     ]
    },
    {
     "name": "stdout",
     "output_type": "stream",
     "text": [
      "23/04/29 10:00:10 WARN MemoryManager: Total allocation exceeds 95.00% (1,017,066,278 bytes) of heap memory\n",
      "Scaling row group sizes to 75.78% for 10 writers\n",
      "23/04/29 10:00:10 WARN MemoryManager: Total allocation exceeds 95.00% (1,017,066,278 bytes) of heap memory\n",
      "Scaling row group sizes to 84.20% for 9 writers\n"
     ]
    },
    {
     "name": "stderr",
     "output_type": "stream",
     "text": [
      "[Stage 17:========>                                               (6 + 10) / 39]\r"
     ]
    },
    {
     "name": "stdout",
     "output_type": "stream",
     "text": [
      "23/04/29 10:00:10 WARN MemoryManager: Total allocation exceeds 95.00% (1,017,066,278 bytes) of heap memory\n",
      "Scaling row group sizes to 75.78% for 10 writers\n",
      "23/04/29 10:00:10 WARN MemoryManager: Total allocation exceeds 95.00% (1,017,066,278 bytes) of heap memory\n",
      "Scaling row group sizes to 84.20% for 9 writers\n"
     ]
    },
    {
     "name": "stderr",
     "output_type": "stream",
     "text": [
      "[Stage 17:==========>                                             (7 + 10) / 39]\r"
     ]
    },
    {
     "name": "stdout",
     "output_type": "stream",
     "text": [
      "23/04/29 10:00:10 WARN MemoryManager: Total allocation exceeds 95.00% (1,017,066,278 bytes) of heap memory\n",
      "Scaling row group sizes to 75.78% for 10 writers\n",
      "23/04/29 10:00:10 WARN MemoryManager: Total allocation exceeds 95.00% (1,017,066,278 bytes) of heap memory\n",
      "Scaling row group sizes to 84.20% for 9 writers\n",
      "23/04/29 10:00:10 WARN MemoryManager: Total allocation exceeds 95.00% (1,017,066,278 bytes) of heap memory\n",
      "Scaling row group sizes to 94.72% for 8 writers\n",
      "23/04/29 10:00:10 WARN MemoryManager: Total allocation exceeds 95.00% (1,017,066,278 bytes) of heap memory\n",
      "Scaling row group sizes to 94.72% for 8 writers\n",
      "23/04/29 10:00:10 WARN MemoryManager: Total allocation exceeds 95.00% (1,017,066,278 bytes) of heap memory\n",
      "Scaling row group sizes to 84.20% for 9 writers\n",
      "23/04/29 10:00:10 WARN MemoryManager: Total allocation exceeds 95.00% (1,017,066,278 bytes) of heap memory\n",
      "Scaling row group sizes to 75.78% for 10 writers\n"
     ]
    },
    {
     "name": "stderr",
     "output_type": "stream",
     "text": [
      "[Stage 17:==============>                                        (10 + 10) / 39]\r"
     ]
    },
    {
     "name": "stdout",
     "output_type": "stream",
     "text": [
      "23/04/29 10:00:17 WARN MemoryManager: Total allocation exceeds 95.00% (1,017,066,278 bytes) of heap memory\n",
      "Scaling row group sizes to 84.20% for 9 writers\n",
      "23/04/29 10:00:17 WARN MemoryManager: Total allocation exceeds 95.00% (1,017,066,278 bytes) of heap memory\n",
      "Scaling row group sizes to 94.72% for 8 writers\n",
      "23/04/29 10:00:17 WARN MemoryManager: Total allocation exceeds 95.00% (1,017,066,278 bytes) of heap memory\n",
      "Scaling row group sizes to 94.72% for 8 writers\n",
      "23/04/29 10:00:17 WARN MemoryManager: Total allocation exceeds 95.00% (1,017,066,278 bytes) of heap memory\n",
      "Scaling row group sizes to 84.20% for 9 writers\n",
      "23/04/29 10:00:17 WARN MemoryManager: Total allocation exceeds 95.00% (1,017,066,278 bytes) of heap memory\n",
      "Scaling row group sizes to 94.72% for 8 writers\n"
     ]
    },
    {
     "name": "stderr",
     "output_type": "stream",
     "text": [
      "[Stage 17:===================>                                   (14 + 10) / 39]\r"
     ]
    },
    {
     "name": "stdout",
     "output_type": "stream",
     "text": [
      "23/04/29 10:00:18 WARN MemoryManager: Total allocation exceeds 95.00% (1,017,066,278 bytes) of heap memory\n",
      "Scaling row group sizes to 84.20% for 9 writers\n",
      "23/04/29 10:00:18 WARN MemoryManager: Total allocation exceeds 95.00% (1,017,066,278 bytes) of heap memory\n",
      "Scaling row group sizes to 75.78% for 10 writers\n",
      "23/04/29 10:00:18 WARN MemoryManager: Total allocation exceeds 95.00% (1,017,066,278 bytes) of heap memory\n",
      "Scaling row group sizes to 84.20% for 9 writers\n",
      "23/04/29 10:00:18 WARN MemoryManager: Total allocation exceeds 95.00% (1,017,066,278 bytes) of heap memory\n",
      "Scaling row group sizes to 94.72% for 8 writers\n",
      "23/04/29 10:00:18 WARN MemoryManager: Total allocation exceeds 95.00% (1,017,066,278 bytes) of heap memory\n",
      "Scaling row group sizes to 94.72% for 8 writers\n"
     ]
    },
    {
     "name": "stderr",
     "output_type": "stream",
     "text": [
      "[Stage 17:=======================>                               (17 + 10) / 39]\r"
     ]
    },
    {
     "name": "stdout",
     "output_type": "stream",
     "text": [
      "23/04/29 10:00:18 WARN MemoryManager: Total allocation exceeds 95.00% (1,017,066,278 bytes) of heap memory\n",
      "Scaling row group sizes to 84.20% for 9 writers\n",
      "23/04/29 10:00:18 WARN MemoryManager: Total allocation exceeds 95.00% (1,017,066,278 bytes) of heap memory\n",
      "Scaling row group sizes to 75.78% for 10 writers\n",
      "23/04/29 10:00:18 WARN MemoryManager: Total allocation exceeds 95.00% (1,017,066,278 bytes) of heap memory\n",
      "Scaling row group sizes to 84.20% for 9 writers\n",
      "23/04/29 10:00:18 WARN MemoryManager: Total allocation exceeds 95.00% (1,017,066,278 bytes) of heap memory\n",
      "Scaling row group sizes to 75.78% for 10 writers\n"
     ]
    },
    {
     "name": "stderr",
     "output_type": "stream",
     "text": [
      "[Stage 17:=========================>                             (18 + 10) / 39]\r"
     ]
    },
    {
     "name": "stdout",
     "output_type": "stream",
     "text": [
      "23/04/29 10:00:19 WARN MemoryManager: Total allocation exceeds 95.00% (1,017,066,278 bytes) of heap memory\n",
      "Scaling row group sizes to 84.20% for 9 writers\n",
      "23/04/29 10:00:19 WARN MemoryManager: Total allocation exceeds 95.00% (1,017,066,278 bytes) of heap memory\n",
      "Scaling row group sizes to 94.72% for 8 writers\n",
      "23/04/29 10:00:19 WARN MemoryManager: Total allocation exceeds 95.00% (1,017,066,278 bytes) of heap memory\n",
      "Scaling row group sizes to 84.20% for 9 writers\n"
     ]
    },
    {
     "name": "stderr",
     "output_type": "stream",
     "text": [
      "[Stage 17:==========================>                            (19 + 10) / 39]\r"
     ]
    },
    {
     "name": "stdout",
     "output_type": "stream",
     "text": [
      "23/04/29 10:00:19 WARN MemoryManager: Total allocation exceeds 95.00% (1,017,066,278 bytes) of heap memory\n",
      "Scaling row group sizes to 75.78% for 10 writers\n"
     ]
    },
    {
     "name": "stderr",
     "output_type": "stream",
     "text": [
      "[Stage 17:============================>                          (20 + 10) / 39]\r"
     ]
    },
    {
     "name": "stdout",
     "output_type": "stream",
     "text": [
      "23/04/29 10:00:26 WARN MemoryManager: Total allocation exceeds 95.00% (1,017,066,278 bytes) of heap memory\n",
      "Scaling row group sizes to 84.20% for 9 writers\n",
      "23/04/29 10:00:26 WARN MemoryManager: Total allocation exceeds 95.00% (1,017,066,278 bytes) of heap memory\n",
      "Scaling row group sizes to 75.78% for 10 writers\n",
      "23/04/29 10:00:26 WARN MemoryManager: Total allocation exceeds 95.00% (1,017,066,278 bytes) of heap memory\n",
      "Scaling row group sizes to 84.20% for 9 writers\n"
     ]
    },
    {
     "name": "stderr",
     "output_type": "stream",
     "text": [
      "[Stage 17:=============================>                         (21 + 10) / 39]\r"
     ]
    },
    {
     "name": "stdout",
     "output_type": "stream",
     "text": [
      "23/04/29 10:00:26 WARN MemoryManager: Total allocation exceeds 95.00% (1,017,066,278 bytes) of heap memory\n",
      "Scaling row group sizes to 94.72% for 8 writers\n",
      "23/04/29 10:00:26 WARN MemoryManager: Total allocation exceeds 95.00% (1,017,066,278 bytes) of heap memory\n",
      "Scaling row group sizes to 94.72% for 8 writers\n",
      "23/04/29 10:00:26 WARN MemoryManager: Total allocation exceeds 95.00% (1,017,066,278 bytes) of heap memory\n",
      "Scaling row group sizes to 84.20% for 9 writers\n"
     ]
    },
    {
     "name": "stderr",
     "output_type": "stream",
     "text": [
      "[Stage 17:====================================>                  (26 + 10) / 39]\r"
     ]
    },
    {
     "name": "stdout",
     "output_type": "stream",
     "text": [
      "23/04/29 10:00:27 WARN MemoryManager: Total allocation exceeds 95.00% (1,017,066,278 bytes) of heap memory\n",
      "Scaling row group sizes to 75.78% for 10 writers\n",
      "23/04/29 10:00:27 WARN MemoryManager: Total allocation exceeds 95.00% (1,017,066,278 bytes) of heap memory\n",
      "Scaling row group sizes to 84.20% for 9 writers\n",
      "23/04/29 10:00:27 WARN MemoryManager: Total allocation exceeds 95.00% (1,017,066,278 bytes) of heap memory\n",
      "Scaling row group sizes to 94.72% for 8 writers\n",
      "23/04/29 10:00:27 WARN MemoryManager: Total allocation exceeds 95.00% (1,017,066,278 bytes) of heap memory\n",
      "Scaling row group sizes to 84.20% for 9 writers\n",
      "23/04/29 10:00:27 WARN MemoryManager: Total allocation exceeds 95.00% (1,017,066,278 bytes) of heap memory\n",
      "Scaling row group sizes to 94.72% for 8 writers\n",
      "23/04/29 10:00:27 WARN MemoryManager: Total allocation exceeds 95.00% (1,017,066,278 bytes) of heap memory\n",
      "Scaling row group sizes to 84.20% for 9 writers\n",
      "23/04/29 10:00:27 WARN MemoryManager: Total allocation exceeds 95.00% (1,017,066,278 bytes) of heap memory\n",
      "Scaling row group sizes to 94.72% for 8 writers\n",
      "23/04/29 10:00:27 WARN MemoryManager: Total allocation exceeds 95.00% (1,017,066,278 bytes) of heap memory\n",
      "Scaling row group sizes to 84.20% for 9 writers\n",
      "23/04/29 10:00:27 WARN MemoryManager: Total allocation exceeds 95.00% (1,017,066,278 bytes) of heap memory\n",
      "Scaling row group sizes to 75.78% for 10 writers\n"
     ]
    },
    {
     "name": "stderr",
     "output_type": "stream",
     "text": [
      "[Stage 17:=======================================>               (28 + 10) / 39]\r"
     ]
    },
    {
     "name": "stdout",
     "output_type": "stream",
     "text": [
      "23/04/29 10:00:28 WARN MemoryManager: Total allocation exceeds 95.00% (1,017,066,278 bytes) of heap memory\n",
      "Scaling row group sizes to 84.20% for 9 writers\n",
      "23/04/29 10:00:28 WARN MemoryManager: Total allocation exceeds 95.00% (1,017,066,278 bytes) of heap memory\n",
      "Scaling row group sizes to 75.78% for 10 writers\n"
     ]
    },
    {
     "name": "stderr",
     "output_type": "stream",
     "text": [
      "[Stage 17:========================================>              (29 + 10) / 39]\r"
     ]
    },
    {
     "name": "stdout",
     "output_type": "stream",
     "text": [
      "23/04/29 10:00:28 WARN MemoryManager: Total allocation exceeds 95.00% (1,017,066,278 bytes) of heap memory\n",
      "Scaling row group sizes to 84.20% for 9 writers\n"
     ]
    },
    {
     "name": "stderr",
     "output_type": "stream",
     "text": [
      "[Stage 17:===========================================>            (30 + 9) / 39]\r"
     ]
    },
    {
     "name": "stdout",
     "output_type": "stream",
     "text": [
      "23/04/29 10:00:33 WARN MemoryManager: Total allocation exceeds 95.00% (1,017,066,278 bytes) of heap memory\n",
      "Scaling row group sizes to 94.72% for 8 writers\n"
     ]
    },
    {
     "name": "stderr",
     "output_type": "stream",
     "text": [
      "                                                                                \r"
     ]
    }
   ],
   "source": [
    "df.write.format(\"delta\").save(f\"{pathlib.Path.home()}/data/delta/G1_1e8_1e2_0_0\")"
   ]
  },
  {
   "cell_type": "code",
   "execution_count": 21,
   "id": "7c452a7f-719b-4322-9561-98f8e6a443b8",
   "metadata": {
    "tags": []
   },
   "outputs": [],
   "source": [
    "dt = DeltaTable.forPath(spark, f\"{pathlib.Path.home()}/data/delta/G1_1e8_1e2_0_0\")"
   ]
  },
  {
   "cell_type": "code",
   "execution_count": 22,
   "id": "9013da4a-8802-4cfa-a639-1e306414d5cd",
   "metadata": {
    "tags": []
   },
   "outputs": [
    {
     "name": "stderr",
     "output_type": "stream",
     "text": [
      "                                                                                \r"
     ]
    },
    {
     "data": {
      "text/plain": [
       "DataFrame[path: string, metrics: struct<numFilesAdded:bigint,numFilesRemoved:bigint,filesAdded:struct<min:bigint,max:bigint,avg:double,totalFiles:bigint,totalSize:bigint>,filesRemoved:struct<min:bigint,max:bigint,avg:double,totalFiles:bigint,totalSize:bigint>,partitionsOptimized:bigint,zOrderStats:struct<strategyName:string,inputCubeFiles:struct<num:bigint,size:bigint>,inputOtherFiles:struct<num:bigint,size:bigint>,inputNumCubes:bigint,mergedFiles:struct<num:bigint,size:bigint>,numOutputCubes:bigint,mergedNumCubes:bigint>,numBatches:bigint,totalConsideredFiles:bigint,totalFilesSkipped:bigint,preserveInsertionOrder:boolean,numFilesSkippedToReduceWriteAmplification:bigint,numBytesSkippedToReduceWriteAmplification:bigint,startTimeMs:bigint,endTimeMs:bigint,totalClusterParallelism:bigint,totalScheduledTasks:bigint,autoCompactParallelismStats:struct<maxClusterActiveParallelism:bigint,minClusterActiveParallelism:bigint,maxSessionActiveParallelism:bigint,minSessionActiveParallelism:bigint>,deletionVectorStats:struct<numDeletionVectorsRemoved:bigint,numDeletionVectorRowsRemoved:bigint>,numTableColumns:bigint,numTableColumnsWithStats:bigint>]"
      ]
     },
     "execution_count": 22,
     "metadata": {},
     "output_type": "execute_result"
    }
   ],
   "source": [
    "dt.optimize().executeZOrderBy(\"id1\")"
   ]
  },
  {
   "cell_type": "markdown",
   "id": "59e7c516-3283-4ac2-9d8d-6c361f5cfa9e",
   "metadata": {},
   "source": [
    "## G1_1e9"
   ]
  },
  {
   "cell_type": "code",
   "execution_count": 23,
   "id": "56f262b5-f8be-4e4e-8275-28e6467bdde2",
   "metadata": {
    "tags": []
   },
   "outputs": [
    {
     "name": "stderr",
     "output_type": "stream",
     "text": [
      "                                                                                \r"
     ]
    }
   ],
   "source": [
    "df = (\n",
    "    spark.read.option(\"inferSchema\", True)\n",
    "    .option(\"header\", True)\n",
    "    .format(\"csv\")\n",
    "    .load(f\"{pathlib.Path.home()}/data/G1_1e9_1e2_0_0.csv\")\n",
    ")"
   ]
  },
  {
   "cell_type": "code",
   "execution_count": 24,
   "id": "a69a8f77-f998-4bf2-91f4-04ff32430677",
   "metadata": {
    "tags": []
   },
   "outputs": [
    {
     "name": "stdout",
     "output_type": "stream",
     "text": [
      "+-----+-----+------------+---+---+-------+---+---+---------+\n",
      "|  id1|  id2|         id3|id4|id5|    id6| v1| v2|       v3|\n",
      "+-----+-----+------------+---+---+-------+---+---+---------+\n",
      "|id016|id059|id0009584273| 31| 54|7579268|  5|  2|92.709317|\n",
      "|id039|id028|id0008226858| 32| 73|1462759|  3| 14|23.308717|\n",
      "|id047|id073|id0004357983| 52| 71| 354157|  2| 15|98.462728|\n",
      "|id043|id069|id0006903604| 37| 35| 372382|  5|  5|32.566149|\n",
      "|id054|id095|id0005719264| 94| 99|6957127|  5| 11| 97.89284|\n",
      "|id029|id027|id0007119528| 11| 41|6768037|  2|  7|26.394021|\n",
      "|id047|id053|id0003186028| 93| 64|3300443|  3| 14|79.319642|\n",
      "|id091|id097|id0007718026| 22| 50|3609381|  5| 15|94.510853|\n",
      "|id090|id033|id0007857423|  5| 65|3618630|  1|  5| 1.579951|\n",
      "|id070|id062|id0001399833| 90| 99|6131090|  5| 14|24.892749|\n",
      "|id039|id030|id0000654974| 22| 18|1298417|  1| 10|15.321252|\n",
      "|id023|id095|id0005131426| 52| 38|7811474|  4| 12| 25.65414|\n",
      "|id070|id013|id0009420524| 14| 33|7075062|  5| 14|43.468912|\n",
      "|id022|id026|id0005191924| 25| 87|4159338|  4|  8| 6.488546|\n",
      "|id020|id032|id0002313922| 84| 11|9165684|  3|  9|16.512325|\n",
      "|id078|id022|id0009474349| 86| 61|6816212|  4| 15|79.239123|\n",
      "|id024|id079|id0008311106| 57| 69|6830494|  3|  9|83.805413|\n",
      "|id053|id073|id0000741477| 95|  4|6277942|  4| 14| 81.13272|\n",
      "|id058|id002|id0003539478| 67|  2|1723400|  4|  8|  5.08792|\n",
      "|id095|id089|id0004424930| 87| 20| 137880|  2| 15|32.932692|\n",
      "+-----+-----+------------+---+---+-------+---+---+---------+\n",
      "only showing top 20 rows\n",
      "\n"
     ]
    }
   ],
   "source": [
    "df.show()"
   ]
  },
  {
   "cell_type": "code",
   "execution_count": 25,
   "id": "1febd31f-05e1-415a-8e8d-96279b0f1c31",
   "metadata": {
    "tags": []
   },
   "outputs": [
    {
     "name": "stdout",
     "output_type": "stream",
     "text": [
      "root\n",
      " |-- id1: string (nullable = true)\n",
      " |-- id2: string (nullable = true)\n",
      " |-- id3: string (nullable = true)\n",
      " |-- id4: integer (nullable = true)\n",
      " |-- id5: integer (nullable = true)\n",
      " |-- id6: integer (nullable = true)\n",
      " |-- v1: integer (nullable = true)\n",
      " |-- v2: integer (nullable = true)\n",
      " |-- v3: double (nullable = true)\n",
      "\n"
     ]
    }
   ],
   "source": [
    "df.printSchema()"
   ]
  },
  {
   "cell_type": "code",
   "execution_count": 26,
   "id": "68fa2f7e-30cb-483c-a6b0-4778a0320e40",
   "metadata": {
    "tags": []
   },
   "outputs": [
    {
     "name": "stdout",
     "output_type": "stream",
     "text": [
      "23/04/29 10:59:09 WARN MemoryManager: Total allocation exceeds 95.00% (1,017,066,278 bytes) of heap memory\n",
      "Scaling row group sizes to 94.72% for 8 writers\n",
      "23/04/29 10:59:09 WARN MemoryManager: Total allocation exceeds 95.00% (1,017,066,278 bytes) of heap memory\n",
      "Scaling row group sizes to 84.20% for 9 writers\n",
      "23/04/29 10:59:09 WARN MemoryManager: Total allocation exceeds 95.00% (1,017,066,278 bytes) of heap memory\n",
      "Scaling row group sizes to 75.78% for 10 writers\n"
     ]
    },
    {
     "name": "stderr",
     "output_type": "stream",
     "text": [
      "[Stage 42:>                                                      (0 + 10) / 395]\r"
     ]
    },
    {
     "name": "stdout",
     "output_type": "stream",
     "text": [
      "23/04/29 10:59:18 WARN MemoryManager: Total allocation exceeds 95.00% (1,017,066,278 bytes) of heap memory\n",
      "Scaling row group sizes to 84.20% for 9 writers\n",
      "23/04/29 10:59:18 WARN MemoryManager: Total allocation exceeds 95.00% (1,017,066,278 bytes) of heap memory\n",
      "Scaling row group sizes to 75.78% for 10 writers\n"
     ]
    },
    {
     "name": "stderr",
     "output_type": "stream",
     "text": [
      "[Stage 42:>                                                      (1 + 10) / 395]\r"
     ]
    },
    {
     "name": "stdout",
     "output_type": "stream",
     "text": [
      "23/04/29 10:59:18 WARN MemoryManager: Total allocation exceeds 95.00% (1,017,066,278 bytes) of heap memory\n",
      "Scaling row group sizes to 84.20% for 9 writers\n",
      "23/04/29 10:59:18 WARN MemoryManager: Total allocation exceeds 95.00% (1,017,066,278 bytes) of heap memory\n",
      "Scaling row group sizes to 75.78% for 10 writers\n"
     ]
    },
    {
     "name": "stderr",
     "output_type": "stream",
     "text": [
      "[Stage 42:>                                                      (6 + 10) / 395]\r"
     ]
    },
    {
     "name": "stdout",
     "output_type": "stream",
     "text": [
      "23/04/29 10:59:18 WARN MemoryManager: Total allocation exceeds 95.00% (1,017,066,278 bytes) of heap memory\n",
      "Scaling row group sizes to 84.20% for 9 writers\n",
      "23/04/29 10:59:18 WARN MemoryManager: Total allocation exceeds 95.00% (1,017,066,278 bytes) of heap memory\n",
      "Scaling row group sizes to 94.72% for 8 writers\n",
      "23/04/29 10:59:18 WARN MemoryManager: Total allocation exceeds 95.00% (1,017,066,278 bytes) of heap memory\n",
      "Scaling row group sizes to 94.72% for 8 writers\n",
      "23/04/29 10:59:18 WARN MemoryManager: Total allocation exceeds 95.00% (1,017,066,278 bytes) of heap memory\n",
      "Scaling row group sizes to 94.72% for 8 writers\n",
      "23/04/29 10:59:18 WARN MemoryManager: Total allocation exceeds 95.00% (1,017,066,278 bytes) of heap memory\n",
      "Scaling row group sizes to 84.20% for 9 writers\n",
      "23/04/29 10:59:18 WARN MemoryManager: Total allocation exceeds 95.00% (1,017,066,278 bytes) of heap memory\n",
      "Scaling row group sizes to 75.78% for 10 writers\n",
      "23/04/29 10:59:18 WARN MemoryManager: Total allocation exceeds 95.00% (1,017,066,278 bytes) of heap memory\n",
      "Scaling row group sizes to 84.20% for 9 writers\n"
     ]
    },
    {
     "name": "stderr",
     "output_type": "stream",
     "text": [
      "[Stage 42:>                                                      (7 + 10) / 395]\r"
     ]
    },
    {
     "name": "stdout",
     "output_type": "stream",
     "text": [
      "23/04/29 10:59:18 WARN MemoryManager: Total allocation exceeds 95.00% (1,017,066,278 bytes) of heap memory\n",
      "Scaling row group sizes to 94.72% for 8 writers\n",
      "23/04/29 10:59:18 WARN MemoryManager: Total allocation exceeds 95.00% (1,017,066,278 bytes) of heap memory\n",
      "Scaling row group sizes to 84.20% for 9 writers\n",
      "23/04/29 10:59:19 WARN MemoryManager: Total allocation exceeds 95.00% (1,017,066,278 bytes) of heap memory\n",
      "Scaling row group sizes to 75.78% for 10 writers\n",
      "23/04/29 10:59:19 WARN MemoryManager: Total allocation exceeds 95.00% (1,017,066,278 bytes) of heap memory\n",
      "Scaling row group sizes to 84.20% for 9 writers\n",
      "23/04/29 10:59:19 WARN MemoryManager: Total allocation exceeds 95.00% (1,017,066,278 bytes) of heap memory\n",
      "Scaling row group sizes to 75.78% for 10 writers\n"
     ]
    },
    {
     "name": "stderr",
     "output_type": "stream",
     "text": [
      "[Stage 42:=>                                                     (9 + 10) / 395]\r"
     ]
    },
    {
     "name": "stdout",
     "output_type": "stream",
     "text": [
      "23/04/29 10:59:19 WARN MemoryManager: Total allocation exceeds 95.00% (1,017,066,278 bytes) of heap memory\n",
      "Scaling row group sizes to 84.20% for 9 writers\n",
      "23/04/29 10:59:19 WARN MemoryManager: Total allocation exceeds 95.00% (1,017,066,278 bytes) of heap memory\n",
      "Scaling row group sizes to 75.78% for 10 writers\n"
     ]
    },
    {
     "name": "stderr",
     "output_type": "stream",
     "text": [
      "[Stage 42:=>                                                    (10 + 10) / 395]\r"
     ]
    },
    {
     "name": "stdout",
     "output_type": "stream",
     "text": [
      "23/04/29 10:59:26 WARN MemoryManager: Total allocation exceeds 95.00% (1,017,066,278 bytes) of heap memory\n",
      "Scaling row group sizes to 84.20% for 9 writers\n",
      "23/04/29 10:59:26 WARN MemoryManager: Total allocation exceeds 95.00% (1,017,066,278 bytes) of heap memory\n",
      "Scaling row group sizes to 75.78% for 10 writers\n"
     ]
    },
    {
     "name": "stderr",
     "output_type": "stream",
     "text": [
      "[Stage 42:=>                                                    (11 + 10) / 395]\r"
     ]
    },
    {
     "name": "stdout",
     "output_type": "stream",
     "text": [
      "23/04/29 10:59:26 WARN MemoryManager: Total allocation exceeds 95.00% (1,017,066,278 bytes) of heap memory\n",
      "Scaling row group sizes to 84.20% for 9 writers\n",
      "23/04/29 10:59:26 WARN MemoryManager: Total allocation exceeds 95.00% (1,017,066,278 bytes) of heap memory\n",
      "Scaling row group sizes to 75.78% for 10 writers\n"
     ]
    },
    {
     "name": "stderr",
     "output_type": "stream",
     "text": [
      "[Stage 42:=>                                                    (12 + 10) / 395]\r"
     ]
    },
    {
     "name": "stdout",
     "output_type": "stream",
     "text": [
      "23/04/29 10:59:26 WARN MemoryManager: Total allocation exceeds 95.00% (1,017,066,278 bytes) of heap memory\n",
      "Scaling row group sizes to 84.20% for 9 writers\n",
      "23/04/29 10:59:26 WARN MemoryManager: Total allocation exceeds 95.00% (1,017,066,278 bytes) of heap memory\n",
      "Scaling row group sizes to 75.78% for 10 writers\n"
     ]
    },
    {
     "name": "stderr",
     "output_type": "stream",
     "text": [
      "[Stage 42:=>                                                    (13 + 10) / 395]\r"
     ]
    },
    {
     "name": "stdout",
     "output_type": "stream",
     "text": [
      "23/04/29 10:59:27 WARN MemoryManager: Total allocation exceeds 95.00% (1,017,066,278 bytes) of heap memory\n",
      "Scaling row group sizes to 84.20% for 9 writers\n",
      "23/04/29 10:59:27 WARN MemoryManager: Total allocation exceeds 95.00% (1,017,066,278 bytes) of heap memory\n",
      "Scaling row group sizes to 94.72% for 8 writers\n",
      "23/04/29 10:59:27 WARN MemoryManager: Total allocation exceeds 95.00% (1,017,066,278 bytes) of heap memory\n",
      "Scaling row group sizes to 94.72% for 8 writers\n",
      "23/04/29 10:59:27 WARN MemoryManager: Total allocation exceeds 95.00% (1,017,066,278 bytes) of heap memory\n",
      "Scaling row group sizes to 84.20% for 9 writers\n",
      "23/04/29 10:59:27 WARN MemoryManager: Total allocation exceeds 95.00% (1,017,066,278 bytes) of heap memory\n",
      "Scaling row group sizes to 94.72% for 8 writers\n",
      "23/04/29 10:59:27 WARN MemoryManager: Total allocation exceeds 95.00% (1,017,066,278 bytes) of heap memory\n",
      "Scaling row group sizes to 94.72% for 8 writers\n",
      "23/04/29 10:59:27 WARN MemoryManager: Total allocation exceeds 95.00% (1,017,066,278 bytes) of heap memory\n",
      "Scaling row group sizes to 84.20% for 9 writers\n",
      "23/04/29 10:59:27 WARN MemoryManager: Total allocation exceeds 95.00% (1,017,066,278 bytes) of heap memory\n",
      "Scaling row group sizes to 75.78% for 10 writers\n",
      "23/04/29 10:59:27 WARN MemoryManager: Total allocation exceeds 95.00% (1,017,066,278 bytes) of heap memory\n",
      "Scaling row group sizes to 84.20% for 9 writers\n",
      "23/04/29 10:59:27 WARN MemoryManager: Total allocation exceeds 95.00% (1,017,066,278 bytes) of heap memory\n",
      "Scaling row group sizes to 94.72% for 8 writers\n"
     ]
    },
    {
     "name": "stderr",
     "output_type": "stream",
     "text": [
      "[Stage 42:==>                                                   (18 + 10) / 395]\r"
     ]
    },
    {
     "name": "stdout",
     "output_type": "stream",
     "text": [
      "23/04/29 10:59:27 WARN MemoryManager: Total allocation exceeds 95.00% (1,017,066,278 bytes) of heap memory\n",
      "Scaling row group sizes to 84.20% for 9 writers\n",
      "23/04/29 10:59:27 WARN MemoryManager: Total allocation exceeds 95.00% (1,017,066,278 bytes) of heap memory\n",
      "Scaling row group sizes to 75.78% for 10 writers\n"
     ]
    },
    {
     "name": "stderr",
     "output_type": "stream",
     "text": [
      "[Stage 42:==>                                                   (20 + 10) / 395]\r"
     ]
    },
    {
     "name": "stdout",
     "output_type": "stream",
     "text": [
      "23/04/29 10:59:34 WARN MemoryManager: Total allocation exceeds 95.00% (1,017,066,278 bytes) of heap memory\n",
      "Scaling row group sizes to 84.20% for 9 writers\n",
      "23/04/29 10:59:34 WARN MemoryManager: Total allocation exceeds 95.00% (1,017,066,278 bytes) of heap memory\n",
      "Scaling row group sizes to 75.78% for 10 writers\n"
     ]
    },
    {
     "name": "stderr",
     "output_type": "stream",
     "text": [
      "[Stage 42:==>                                                   (21 + 10) / 395]\r"
     ]
    },
    {
     "name": "stdout",
     "output_type": "stream",
     "text": [
      "23/04/29 10:59:35 WARN MemoryManager: Total allocation exceeds 95.00% (1,017,066,278 bytes) of heap memory\n",
      "Scaling row group sizes to 84.20% for 9 writers\n",
      "23/04/29 10:59:35 WARN MemoryManager: Total allocation exceeds 95.00% (1,017,066,278 bytes) of heap memory\n",
      "Scaling row group sizes to 75.78% for 10 writers\n",
      "23/04/29 10:59:35 WARN MemoryManager: Total allocation exceeds 95.00% (1,017,066,278 bytes) of heap memory\n",
      "Scaling row group sizes to 84.20% for 9 writers\n",
      "23/04/29 10:59:35 WARN MemoryManager: Total allocation exceeds 95.00% (1,017,066,278 bytes) of heap memory\n",
      "Scaling row group sizes to 75.78% for 10 writers\n"
     ]
    },
    {
     "name": "stderr",
     "output_type": "stream",
     "text": [
      "[Stage 42:===>                                                  (23 + 10) / 395]\r"
     ]
    },
    {
     "name": "stdout",
     "output_type": "stream",
     "text": [
      "23/04/29 10:59:35 WARN MemoryManager: Total allocation exceeds 95.00% (1,017,066,278 bytes) of heap memory\n",
      "Scaling row group sizes to 84.20% for 9 writers\n",
      "23/04/29 10:59:35 WARN MemoryManager: Total allocation exceeds 95.00% (1,017,066,278 bytes) of heap memory\n",
      "Scaling row group sizes to 94.72% for 8 writers\n",
      "23/04/29 10:59:35 WARN MemoryManager: Total allocation exceeds 95.00% (1,017,066,278 bytes) of heap memory\n",
      "Scaling row group sizes to 84.20% for 9 writers\n",
      "23/04/29 10:59:35 WARN MemoryManager: Total allocation exceeds 95.00% (1,017,066,278 bytes) of heap memory\n",
      "Scaling row group sizes to 75.78% for 10 writers\n"
     ]
    },
    {
     "name": "stderr",
     "output_type": "stream",
     "text": [
      "[Stage 42:===>                                                  (25 + 10) / 395]\r"
     ]
    },
    {
     "name": "stdout",
     "output_type": "stream",
     "text": [
      "23/04/29 10:59:35 WARN MemoryManager: Total allocation exceeds 95.00% (1,017,066,278 bytes) of heap memory\n",
      "Scaling row group sizes to 84.20% for 9 writers\n",
      "23/04/29 10:59:35 WARN MemoryManager: Total allocation exceeds 95.00% (1,017,066,278 bytes) of heap memory\n",
      "Scaling row group sizes to 94.72% for 8 writers\n",
      "23/04/29 10:59:35 WARN MemoryManager: Total allocation exceeds 95.00% (1,017,066,278 bytes) of heap memory\n",
      "Scaling row group sizes to 94.72% for 8 writers\n",
      "23/04/29 10:59:35 WARN MemoryManager: Total allocation exceeds 95.00% (1,017,066,278 bytes) of heap memory\n",
      "Scaling row group sizes to 84.20% for 9 writers\n"
     ]
    },
    {
     "name": "stderr",
     "output_type": "stream",
     "text": [
      "[Stage 42:===>                                                  (28 + 10) / 395]\r"
     ]
    },
    {
     "name": "stdout",
     "output_type": "stream",
     "text": [
      "23/04/29 10:59:35 WARN MemoryManager: Total allocation exceeds 95.00% (1,017,066,278 bytes) of heap memory\n",
      "Scaling row group sizes to 75.78% for 10 writers\n",
      "23/04/29 10:59:36 WARN MemoryManager: Total allocation exceeds 95.00% (1,017,066,278 bytes) of heap memory\n",
      "Scaling row group sizes to 84.20% for 9 writers\n",
      "23/04/29 10:59:36 WARN MemoryManager: Total allocation exceeds 95.00% (1,017,066,278 bytes) of heap memory\n",
      "Scaling row group sizes to 75.78% for 10 writers\n",
      "23/04/29 10:59:36 WARN MemoryManager: Total allocation exceeds 95.00% (1,017,066,278 bytes) of heap memory\n",
      "Scaling row group sizes to 84.20% for 9 writers\n"
     ]
    },
    {
     "name": "stderr",
     "output_type": "stream",
     "text": [
      "[Stage 42:===>                                                  (29 + 10) / 395]\r"
     ]
    },
    {
     "name": "stdout",
     "output_type": "stream",
     "text": [
      "23/04/29 10:59:36 WARN MemoryManager: Total allocation exceeds 95.00% (1,017,066,278 bytes) of heap memory\n",
      "Scaling row group sizes to 75.78% for 10 writers\n"
     ]
    },
    {
     "name": "stderr",
     "output_type": "stream",
     "text": [
      "[Stage 42:====>                                                 (30 + 10) / 395]\r"
     ]
    },
    {
     "name": "stdout",
     "output_type": "stream",
     "text": [
      "23/04/29 10:59:42 WARN MemoryManager: Total allocation exceeds 95.00% (1,017,066,278 bytes) of heap memory\n",
      "Scaling row group sizes to 84.20% for 9 writers\n",
      "23/04/29 10:59:43 WARN MemoryManager: Total allocation exceeds 95.00% (1,017,066,278 bytes) of heap memory\n",
      "Scaling row group sizes to 75.78% for 10 writers\n"
     ]
    },
    {
     "name": "stderr",
     "output_type": "stream",
     "text": [
      "[Stage 42:====>                                                 (31 + 10) / 395]\r"
     ]
    },
    {
     "name": "stdout",
     "output_type": "stream",
     "text": [
      "23/04/29 10:59:43 WARN MemoryManager: Total allocation exceeds 95.00% (1,017,066,278 bytes) of heap memory\n",
      "Scaling row group sizes to 84.20% for 9 writers\n",
      "23/04/29 10:59:43 WARN MemoryManager: Total allocation exceeds 95.00% (1,017,066,278 bytes) of heap memory\n",
      "Scaling row group sizes to 75.78% for 10 writers\n",
      "23/04/29 10:59:43 WARN MemoryManager: Total allocation exceeds 95.00% (1,017,066,278 bytes) of heap memory\n",
      "Scaling row group sizes to 84.20% for 9 writers\n",
      "23/04/29 10:59:43 WARN MemoryManager: Total allocation exceeds 95.00% (1,017,066,278 bytes) of heap memory\n",
      "Scaling row group sizes to 75.78% for 10 writers\n"
     ]
    },
    {
     "name": "stderr",
     "output_type": "stream",
     "text": [
      "[Stage 42:====>                                                 (33 + 10) / 395]\r"
     ]
    },
    {
     "name": "stdout",
     "output_type": "stream",
     "text": [
      "23/04/29 10:59:44 WARN MemoryManager: Total allocation exceeds 95.00% (1,017,066,278 bytes) of heap memory\n",
      "Scaling row group sizes to 84.20% for 9 writers\n",
      "23/04/29 10:59:44 WARN MemoryManager: Total allocation exceeds 95.00% (1,017,066,278 bytes) of heap memory\n",
      "Scaling row group sizes to 94.72% for 8 writers\n",
      "23/04/29 10:59:44 WARN MemoryManager: Total allocation exceeds 95.00% (1,017,066,278 bytes) of heap memory\n",
      "Scaling row group sizes to 84.20% for 9 writers\n",
      "23/04/29 10:59:44 WARN MemoryManager: Total allocation exceeds 95.00% (1,017,066,278 bytes) of heap memory\n",
      "Scaling row group sizes to 75.78% for 10 writers\n",
      "23/04/29 10:59:44 WARN MemoryManager: Total allocation exceeds 95.00% (1,017,066,278 bytes) of heap memory\n",
      "Scaling row group sizes to 84.20% for 9 writers\n",
      "23/04/29 10:59:44 WARN MemoryManager: Total allocation exceeds 95.00% (1,017,066,278 bytes) of heap memory\n",
      "Scaling row group sizes to 75.78% for 10 writers\n",
      "23/04/29 10:59:44 WARN MemoryManager: Total allocation exceeds 95.00% (1,017,066,278 bytes) of heap memory\n",
      "Scaling row group sizes to 84.20% for 9 writers\n"
     ]
    },
    {
     "name": "stderr",
     "output_type": "stream",
     "text": [
      "[Stage 42:=====>                                                (37 + 10) / 395]\r"
     ]
    },
    {
     "name": "stdout",
     "output_type": "stream",
     "text": [
      "23/04/29 10:59:44 WARN MemoryManager: Total allocation exceeds 95.00% (1,017,066,278 bytes) of heap memory\n",
      "Scaling row group sizes to 75.78% for 10 writers\n",
      "23/04/29 10:59:44 WARN MemoryManager: Total allocation exceeds 95.00% (1,017,066,278 bytes) of heap memory\n",
      "Scaling row group sizes to 84.20% for 9 writers\n",
      "23/04/29 10:59:44 WARN MemoryManager: Total allocation exceeds 95.00% (1,017,066,278 bytes) of heap memory\n",
      "Scaling row group sizes to 75.78% for 10 writers\n",
      "23/04/29 10:59:44 WARN MemoryManager: Total allocation exceeds 95.00% (1,017,066,278 bytes) of heap memory\n",
      "Scaling row group sizes to 84.20% for 9 writers\n",
      "23/04/29 10:59:44 WARN MemoryManager: Total allocation exceeds 95.00% (1,017,066,278 bytes) of heap memory\n",
      "Scaling row group sizes to 75.78% for 10 writers\n"
     ]
    },
    {
     "name": "stderr",
     "output_type": "stream",
     "text": [
      "[Stage 42:=====>                                                (39 + 10) / 395]\r"
     ]
    },
    {
     "name": "stdout",
     "output_type": "stream",
     "text": [
      "23/04/29 10:59:44 WARN MemoryManager: Total allocation exceeds 95.00% (1,017,066,278 bytes) of heap memory\n",
      "Scaling row group sizes to 84.20% for 9 writers\n",
      "23/04/29 10:59:44 WARN MemoryManager: Total allocation exceeds 95.00% (1,017,066,278 bytes) of heap memory\n",
      "Scaling row group sizes to 75.78% for 10 writers\n"
     ]
    },
    {
     "name": "stderr",
     "output_type": "stream",
     "text": [
      "[Stage 42:=====>                                                (40 + 10) / 395]\r"
     ]
    },
    {
     "name": "stdout",
     "output_type": "stream",
     "text": [
      "23/04/29 10:59:51 WARN MemoryManager: Total allocation exceeds 95.00% (1,017,066,278 bytes) of heap memory\n",
      "Scaling row group sizes to 84.20% for 9 writers\n"
     ]
    },
    {
     "name": "stderr",
     "output_type": "stream",
     "text": [
      "[Stage 42:=====>                                                (41 + 10) / 395]\r"
     ]
    },
    {
     "name": "stdout",
     "output_type": "stream",
     "text": [
      "23/04/29 10:59:51 WARN MemoryManager: Total allocation exceeds 95.00% (1,017,066,278 bytes) of heap memory\n",
      "Scaling row group sizes to 75.78% for 10 writers\n",
      "23/04/29 10:59:52 WARN MemoryManager: Total allocation exceeds 95.00% (1,017,066,278 bytes) of heap memory\n",
      "Scaling row group sizes to 84.20% for 9 writers\n",
      "23/04/29 10:59:52 WARN MemoryManager: Total allocation exceeds 95.00% (1,017,066,278 bytes) of heap memory\n",
      "Scaling row group sizes to 75.78% for 10 writers\n"
     ]
    },
    {
     "name": "stderr",
     "output_type": "stream",
     "text": [
      "[Stage 42:=====>                                                (42 + 10) / 395]\r"
     ]
    },
    {
     "name": "stdout",
     "output_type": "stream",
     "text": [
      "23/04/29 10:59:52 WARN MemoryManager: Total allocation exceeds 95.00% (1,017,066,278 bytes) of heap memory\n",
      "Scaling row group sizes to 84.20% for 9 writers\n",
      "23/04/29 10:59:52 WARN MemoryManager: Total allocation exceeds 95.00% (1,017,066,278 bytes) of heap memory\n",
      "Scaling row group sizes to 75.78% for 10 writers\n",
      "23/04/29 10:59:52 WARN MemoryManager: Total allocation exceeds 95.00% (1,017,066,278 bytes) of heap memory\n",
      "Scaling row group sizes to 84.20% for 9 writers\n",
      "23/04/29 10:59:52 WARN MemoryManager: Total allocation exceeds 95.00% (1,017,066,278 bytes) of heap memory\n",
      "Scaling row group sizes to 94.72% for 8 writers\n",
      "23/04/29 10:59:52 WARN MemoryManager: Total allocation exceeds 95.00% (1,017,066,278 bytes) of heap memory\n",
      "Scaling row group sizes to 84.20% for 9 writers\n",
      "23/04/29 10:59:52 WARN MemoryManager: Total allocation exceeds 95.00% (1,017,066,278 bytes) of heap memory\n",
      "Scaling row group sizes to 94.72% for 8 writers\n"
     ]
    },
    {
     "name": "stderr",
     "output_type": "stream",
     "text": [
      "[Stage 42:=====>                                                (43 + 10) / 395]\r"
     ]
    },
    {
     "name": "stdout",
     "output_type": "stream",
     "text": [
      "23/04/29 10:59:52 WARN MemoryManager: Total allocation exceeds 95.00% (1,017,066,278 bytes) of heap memory\n",
      "Scaling row group sizes to 84.20% for 9 writers\n",
      "23/04/29 10:59:52 WARN MemoryManager: Total allocation exceeds 95.00% (1,017,066,278 bytes) of heap memory\n",
      "Scaling row group sizes to 75.78% for 10 writers\n",
      "23/04/29 10:59:52 WARN MemoryManager: Total allocation exceeds 95.00% (1,017,066,278 bytes) of heap memory\n",
      "Scaling row group sizes to 84.20% for 9 writers\n",
      "23/04/29 10:59:52 WARN MemoryManager: Total allocation exceeds 95.00% (1,017,066,278 bytes) of heap memory\n",
      "Scaling row group sizes to 75.78% for 10 writers\n",
      "23/04/29 10:59:52 WARN MemoryManager: Total allocation exceeds 95.00% (1,017,066,278 bytes) of heap memory\n",
      "Scaling row group sizes to 84.20% for 9 writers\n",
      "23/04/29 10:59:52 WARN MemoryManager: Total allocation exceeds 95.00% (1,017,066,278 bytes) of heap memory\n",
      "Scaling row group sizes to 94.72% for 8 writers\n"
     ]
    },
    {
     "name": "stderr",
     "output_type": "stream",
     "text": [
      "[Stage 42:======>                                               (49 + 10) / 395]\r"
     ]
    },
    {
     "name": "stdout",
     "output_type": "stream",
     "text": [
      "23/04/29 10:59:53 WARN MemoryManager: Total allocation exceeds 95.00% (1,017,066,278 bytes) of heap memory\n",
      "Scaling row group sizes to 84.20% for 9 writers\n",
      "23/04/29 10:59:53 WARN MemoryManager: Total allocation exceeds 95.00% (1,017,066,278 bytes) of heap memory\n",
      "Scaling row group sizes to 75.78% for 10 writers\n",
      "23/04/29 10:59:53 WARN MemoryManager: Total allocation exceeds 95.00% (1,017,066,278 bytes) of heap memory\n",
      "Scaling row group sizes to 84.20% for 9 writers\n",
      "23/04/29 10:59:53 WARN MemoryManager: Total allocation exceeds 95.00% (1,017,066,278 bytes) of heap memory\n",
      "Scaling row group sizes to 75.78% for 10 writers\n"
     ]
    },
    {
     "name": "stderr",
     "output_type": "stream",
     "text": [
      "[Stage 42:======>                                               (50 + 10) / 395]\r"
     ]
    },
    {
     "name": "stdout",
     "output_type": "stream",
     "text": [
      "23/04/29 11:00:00 WARN MemoryManager: Total allocation exceeds 95.00% (1,017,066,278 bytes) of heap memory\n",
      "Scaling row group sizes to 84.20% for 9 writers\n",
      "23/04/29 11:00:00 WARN MemoryManager: Total allocation exceeds 95.00% (1,017,066,278 bytes) of heap memory\n",
      "Scaling row group sizes to 75.78% for 10 writers\n"
     ]
    },
    {
     "name": "stderr",
     "output_type": "stream",
     "text": [
      "[Stage 42:======>                                               (51 + 10) / 395]\r"
     ]
    },
    {
     "name": "stdout",
     "output_type": "stream",
     "text": [
      "23/04/29 11:00:00 WARN MemoryManager: Total allocation exceeds 95.00% (1,017,066,278 bytes) of heap memory\n",
      "Scaling row group sizes to 84.20% for 9 writers\n",
      "23/04/29 11:00:00 WARN MemoryManager: Total allocation exceeds 95.00% (1,017,066,278 bytes) of heap memory\n",
      "Scaling row group sizes to 75.78% for 10 writers\n"
     ]
    },
    {
     "name": "stderr",
     "output_type": "stream",
     "text": [
      "[Stage 42:=======>                                              (52 + 10) / 395]\r"
     ]
    },
    {
     "name": "stdout",
     "output_type": "stream",
     "text": [
      "23/04/29 11:00:01 WARN MemoryManager: Total allocation exceeds 95.00% (1,017,066,278 bytes) of heap memory\n",
      "Scaling row group sizes to 84.20% for 9 writers\n",
      "23/04/29 11:00:01 WARN MemoryManager: Total allocation exceeds 95.00% (1,017,066,278 bytes) of heap memory\n",
      "Scaling row group sizes to 94.72% for 8 writers\n",
      "23/04/29 11:00:01 WARN MemoryManager: Total allocation exceeds 95.00% (1,017,066,278 bytes) of heap memory\n",
      "Scaling row group sizes to 84.20% for 9 writers\n",
      "23/04/29 11:00:01 WARN MemoryManager: Total allocation exceeds 95.00% (1,017,066,278 bytes) of heap memory\n",
      "Scaling row group sizes to 75.78% for 10 writers\n",
      "23/04/29 11:00:01 WARN MemoryManager: Total allocation exceeds 95.00% (1,017,066,278 bytes) of heap memory\n",
      "Scaling row group sizes to 84.20% for 9 writers\n",
      "23/04/29 11:00:01 WARN MemoryManager: Total allocation exceeds 95.00% (1,017,066,278 bytes) of heap memory\n",
      "Scaling row group sizes to 94.72% for 8 writers\n"
     ]
    },
    {
     "name": "stderr",
     "output_type": "stream",
     "text": [
      "[Stage 42:=======>                                              (54 + 10) / 395]\r"
     ]
    },
    {
     "name": "stdout",
     "output_type": "stream",
     "text": [
      "23/04/29 11:00:01 WARN MemoryManager: Total allocation exceeds 95.00% (1,017,066,278 bytes) of heap memory\n",
      "Scaling row group sizes to 94.72% for 8 writers\n",
      "23/04/29 11:00:01 WARN MemoryManager: Total allocation exceeds 95.00% (1,017,066,278 bytes) of heap memory\n",
      "Scaling row group sizes to 84.20% for 9 writers\n",
      "23/04/29 11:00:01 WARN MemoryManager: Total allocation exceeds 95.00% (1,017,066,278 bytes) of heap memory\n",
      "Scaling row group sizes to 75.78% for 10 writers\n",
      "23/04/29 11:00:01 WARN MemoryManager: Total allocation exceeds 95.00% (1,017,066,278 bytes) of heap memory\n",
      "Scaling row group sizes to 84.20% for 9 writers\n",
      "23/04/29 11:00:01 WARN MemoryManager: Total allocation exceeds 95.00% (1,017,066,278 bytes) of heap memory\n",
      "Scaling row group sizes to 94.72% for 8 writers\n",
      "23/04/29 11:00:01 WARN MemoryManager: Total allocation exceeds 95.00% (1,017,066,278 bytes) of heap memory\n",
      "Scaling row group sizes to 84.20% for 9 writers\n",
      "23/04/29 11:00:01 WARN MemoryManager: Total allocation exceeds 95.00% (1,017,066,278 bytes) of heap memory\n",
      "Scaling row group sizes to 75.78% for 10 writers\n",
      "23/04/29 11:00:01 WARN MemoryManager: Total allocation exceeds 95.00% (1,017,066,278 bytes) of heap memory\n",
      "Scaling row group sizes to 84.20% for 9 writers\n"
     ]
    },
    {
     "name": "stderr",
     "output_type": "stream",
     "text": [
      "[Stage 42:========>                                             (59 + 10) / 395]\r"
     ]
    },
    {
     "name": "stdout",
     "output_type": "stream",
     "text": [
      "23/04/29 11:00:01 WARN MemoryManager: Total allocation exceeds 95.00% (1,017,066,278 bytes) of heap memory\n",
      "Scaling row group sizes to 75.78% for 10 writers\n"
     ]
    },
    {
     "name": "stderr",
     "output_type": "stream",
     "text": [
      "[Stage 42:========>                                             (60 + 10) / 395]\r"
     ]
    },
    {
     "name": "stdout",
     "output_type": "stream",
     "text": [
      "23/04/29 11:00:08 WARN MemoryManager: Total allocation exceeds 95.00% (1,017,066,278 bytes) of heap memory\n",
      "Scaling row group sizes to 84.20% for 9 writers\n"
     ]
    },
    {
     "name": "stderr",
     "output_type": "stream",
     "text": [
      "[Stage 42:========>                                             (61 + 10) / 395]\r"
     ]
    },
    {
     "name": "stdout",
     "output_type": "stream",
     "text": [
      "23/04/29 11:00:09 WARN MemoryManager: Total allocation exceeds 95.00% (1,017,066,278 bytes) of heap memory\n",
      "Scaling row group sizes to 75.78% for 10 writers\n",
      "23/04/29 11:00:09 WARN MemoryManager: Total allocation exceeds 95.00% (1,017,066,278 bytes) of heap memory\n",
      "Scaling row group sizes to 84.20% for 9 writers\n",
      "23/04/29 11:00:09 WARN MemoryManager: Total allocation exceeds 95.00% (1,017,066,278 bytes) of heap memory\n",
      "Scaling row group sizes to 94.72% for 8 writers\n",
      "23/04/29 11:00:09 WARN MemoryManager: Total allocation exceeds 95.00% (1,017,066,278 bytes) of heap memory\n",
      "Scaling row group sizes to 84.20% for 9 writers\n",
      "23/04/29 11:00:09 WARN MemoryManager: Total allocation exceeds 95.00% (1,017,066,278 bytes) of heap memory\n",
      "Scaling row group sizes to 75.78% for 10 writers\n",
      "23/04/29 11:00:09 WARN MemoryManager: Total allocation exceeds 95.00% (1,017,066,278 bytes) of heap memory\n",
      "Scaling row group sizes to 84.20% for 9 writers\n"
     ]
    },
    {
     "name": "stderr",
     "output_type": "stream",
     "text": [
      "[Stage 42:========>                                             (63 + 10) / 395]\r"
     ]
    },
    {
     "name": "stdout",
     "output_type": "stream",
     "text": [
      "23/04/29 11:00:09 WARN MemoryManager: Total allocation exceeds 95.00% (1,017,066,278 bytes) of heap memory\n",
      "Scaling row group sizes to 94.72% for 8 writers\n",
      "23/04/29 11:00:09 WARN MemoryManager: Total allocation exceeds 95.00% (1,017,066,278 bytes) of heap memory\n",
      "Scaling row group sizes to 84.20% for 9 writers\n",
      "23/04/29 11:00:09 WARN MemoryManager: Total allocation exceeds 95.00% (1,017,066,278 bytes) of heap memory\n",
      "Scaling row group sizes to 75.78% for 10 writers\n",
      "23/04/29 11:00:09 WARN MemoryManager: Total allocation exceeds 95.00% (1,017,066,278 bytes) of heap memory\n",
      "Scaling row group sizes to 84.20% for 9 writers\n"
     ]
    },
    {
     "name": "stderr",
     "output_type": "stream",
     "text": [
      "[Stage 42:========>                                             (65 + 10) / 395]\r"
     ]
    },
    {
     "name": "stdout",
     "output_type": "stream",
     "text": [
      "23/04/29 11:00:09 WARN MemoryManager: Total allocation exceeds 95.00% (1,017,066,278 bytes) of heap memory\n",
      "Scaling row group sizes to 75.78% for 10 writers\n",
      "23/04/29 11:00:09 WARN MemoryManager: Total allocation exceeds 95.00% (1,017,066,278 bytes) of heap memory\n",
      "Scaling row group sizes to 84.20% for 9 writers\n",
      "23/04/29 11:00:09 WARN MemoryManager: Total allocation exceeds 95.00% (1,017,066,278 bytes) of heap memory\n",
      "Scaling row group sizes to 75.78% for 10 writers\n",
      "23/04/29 11:00:09 WARN MemoryManager: Total allocation exceeds 95.00% (1,017,066,278 bytes) of heap memory\n",
      "Scaling row group sizes to 84.20% for 9 writers\n"
     ]
    },
    {
     "name": "stderr",
     "output_type": "stream",
     "text": [
      "[Stage 42:=========>                                            (68 + 10) / 395]\r"
     ]
    },
    {
     "name": "stdout",
     "output_type": "stream",
     "text": [
      "23/04/29 11:00:10 WARN MemoryManager: Total allocation exceeds 95.00% (1,017,066,278 bytes) of heap memory\n",
      "Scaling row group sizes to 75.78% for 10 writers\n",
      "23/04/29 11:00:10 WARN MemoryManager: Total allocation exceeds 95.00% (1,017,066,278 bytes) of heap memory\n",
      "Scaling row group sizes to 84.20% for 9 writers\n",
      "23/04/29 11:00:10 WARN MemoryManager: Total allocation exceeds 95.00% (1,017,066,278 bytes) of heap memory\n",
      "Scaling row group sizes to 75.78% for 10 writers\n"
     ]
    },
    {
     "name": "stderr",
     "output_type": "stream",
     "text": [
      "[Stage 42:=========>                                            (69 + 10) / 395]\r"
     ]
    },
    {
     "name": "stdout",
     "output_type": "stream",
     "text": [
      "23/04/29 11:00:10 WARN MemoryManager: Total allocation exceeds 95.00% (1,017,066,278 bytes) of heap memory\n",
      "Scaling row group sizes to 84.20% for 9 writers\n",
      "23/04/29 11:00:10 WARN MemoryManager: Total allocation exceeds 95.00% (1,017,066,278 bytes) of heap memory\n",
      "Scaling row group sizes to 75.78% for 10 writers\n"
     ]
    },
    {
     "name": "stderr",
     "output_type": "stream",
     "text": [
      "[Stage 42:=========>                                            (70 + 10) / 395]\r"
     ]
    },
    {
     "name": "stdout",
     "output_type": "stream",
     "text": [
      "23/04/29 11:00:16 WARN MemoryManager: Total allocation exceeds 95.00% (1,017,066,278 bytes) of heap memory\n",
      "Scaling row group sizes to 84.20% for 9 writers\n",
      "23/04/29 11:00:17 WARN MemoryManager: Total allocation exceeds 95.00% (1,017,066,278 bytes) of heap memory\n",
      "Scaling row group sizes to 75.78% for 10 writers\n"
     ]
    },
    {
     "name": "stderr",
     "output_type": "stream",
     "text": [
      "[Stage 42:=========>                                            (71 + 10) / 395]\r"
     ]
    },
    {
     "name": "stdout",
     "output_type": "stream",
     "text": [
      "23/04/29 11:00:17 WARN MemoryManager: Total allocation exceeds 95.00% (1,017,066,278 bytes) of heap memory\n",
      "Scaling row group sizes to 84.20% for 9 writers\n",
      "23/04/29 11:00:17 WARN MemoryManager: Total allocation exceeds 95.00% (1,017,066,278 bytes) of heap memory\n",
      "Scaling row group sizes to 94.72% for 8 writers\n",
      "23/04/29 11:00:17 WARN MemoryManager: Total allocation exceeds 95.00% (1,017,066,278 bytes) of heap memory\n",
      "Scaling row group sizes to 84.20% for 9 writers\n",
      "23/04/29 11:00:17 WARN MemoryManager: Total allocation exceeds 95.00% (1,017,066,278 bytes) of heap memory\n",
      "Scaling row group sizes to 75.78% for 10 writers\n",
      "23/04/29 11:00:17 WARN MemoryManager: Total allocation exceeds 95.00% (1,017,066,278 bytes) of heap memory\n",
      "Scaling row group sizes to 84.20% for 9 writers\n",
      "23/04/29 11:00:17 WARN MemoryManager: Total allocation exceeds 95.00% (1,017,066,278 bytes) of heap memory\n",
      "Scaling row group sizes to 94.72% for 8 writers\n"
     ]
    },
    {
     "name": "stderr",
     "output_type": "stream",
     "text": [
      "[Stage 42:==========>                                           (76 + 10) / 395]\r"
     ]
    },
    {
     "name": "stdout",
     "output_type": "stream",
     "text": [
      "23/04/29 11:00:17 WARN MemoryManager: Total allocation exceeds 95.00% (1,017,066,278 bytes) of heap memory\n",
      "Scaling row group sizes to 94.72% for 8 writers\n",
      "23/04/29 11:00:17 WARN MemoryManager: Total allocation exceeds 95.00% (1,017,066,278 bytes) of heap memory\n",
      "Scaling row group sizes to 94.72% for 8 writers\n",
      "23/04/29 11:00:17 WARN MemoryManager: Total allocation exceeds 95.00% (1,017,066,278 bytes) of heap memory\n",
      "Scaling row group sizes to 84.20% for 9 writers\n",
      "23/04/29 11:00:17 WARN MemoryManager: Total allocation exceeds 95.00% (1,017,066,278 bytes) of heap memory\n",
      "Scaling row group sizes to 75.78% for 10 writers\n",
      "23/04/29 11:00:18 WARN MemoryManager: Total allocation exceeds 95.00% (1,017,066,278 bytes) of heap memory\n",
      "Scaling row group sizes to 84.20% for 9 writers\n",
      "23/04/29 11:00:18 WARN MemoryManager: Total allocation exceeds 95.00% (1,017,066,278 bytes) of heap memory\n",
      "Scaling row group sizes to 94.72% for 8 writers\n"
     ]
    },
    {
     "name": "stderr",
     "output_type": "stream",
     "text": [
      "[Stage 42:==========>                                           (77 + 10) / 395]\r"
     ]
    },
    {
     "name": "stdout",
     "output_type": "stream",
     "text": [
      "23/04/29 11:00:18 WARN MemoryManager: Total allocation exceeds 95.00% (1,017,066,278 bytes) of heap memory\n",
      "Scaling row group sizes to 84.20% for 9 writers\n",
      "23/04/29 11:00:18 WARN MemoryManager: Total allocation exceeds 95.00% (1,017,066,278 bytes) of heap memory\n",
      "Scaling row group sizes to 75.78% for 10 writers\n"
     ]
    },
    {
     "name": "stderr",
     "output_type": "stream",
     "text": [
      "[Stage 42:==========>                                           (79 + 10) / 395]\r"
     ]
    },
    {
     "name": "stdout",
     "output_type": "stream",
     "text": [
      "23/04/29 11:00:18 WARN MemoryManager: Total allocation exceeds 95.00% (1,017,066,278 bytes) of heap memory\n",
      "Scaling row group sizes to 84.20% for 9 writers\n",
      "23/04/29 11:00:18 WARN MemoryManager: Total allocation exceeds 95.00% (1,017,066,278 bytes) of heap memory\n",
      "Scaling row group sizes to 75.78% for 10 writers\n"
     ]
    },
    {
     "name": "stderr",
     "output_type": "stream",
     "text": [
      "[Stage 42:==========>                                           (80 + 10) / 395]\r"
     ]
    },
    {
     "name": "stdout",
     "output_type": "stream",
     "text": [
      "23/04/29 11:00:24 WARN MemoryManager: Total allocation exceeds 95.00% (1,017,066,278 bytes) of heap memory\n",
      "Scaling row group sizes to 84.20% for 9 writers\n",
      "23/04/29 11:00:24 WARN MemoryManager: Total allocation exceeds 95.00% (1,017,066,278 bytes) of heap memory\n",
      "Scaling row group sizes to 75.78% for 10 writers\n"
     ]
    },
    {
     "name": "stderr",
     "output_type": "stream",
     "text": [
      "[Stage 42:===========>                                          (81 + 10) / 395]\r"
     ]
    },
    {
     "name": "stdout",
     "output_type": "stream",
     "text": [
      "23/04/29 11:00:25 WARN MemoryManager: Total allocation exceeds 95.00% (1,017,066,278 bytes) of heap memory\n",
      "Scaling row group sizes to 84.20% for 9 writers\n",
      "23/04/29 11:00:25 WARN MemoryManager: Total allocation exceeds 95.00% (1,017,066,278 bytes) of heap memory\n",
      "Scaling row group sizes to 75.78% for 10 writers\n",
      "23/04/29 11:00:26 WARN MemoryManager: Total allocation exceeds 95.00% (1,017,066,278 bytes) of heap memory\n",
      "Scaling row group sizes to 84.20% for 9 writers\n"
     ]
    },
    {
     "name": "stderr",
     "output_type": "stream",
     "text": [
      "[Stage 42:===========>                                          (83 + 10) / 395]\r"
     ]
    },
    {
     "name": "stdout",
     "output_type": "stream",
     "text": [
      "23/04/29 11:00:26 WARN MemoryManager: Total allocation exceeds 95.00% (1,017,066,278 bytes) of heap memory\n",
      "Scaling row group sizes to 94.72% for 8 writers\n",
      "23/04/29 11:00:26 WARN MemoryManager: Total allocation exceeds 95.00% (1,017,066,278 bytes) of heap memory\n",
      "Scaling row group sizes to 84.20% for 9 writers\n",
      "23/04/29 11:00:26 WARN MemoryManager: Total allocation exceeds 95.00% (1,017,066,278 bytes) of heap memory\n",
      "Scaling row group sizes to 94.72% for 8 writers\n",
      "23/04/29 11:00:26 WARN MemoryManager: Total allocation exceeds 95.00% (1,017,066,278 bytes) of heap memory\n",
      "Scaling row group sizes to 94.72% for 8 writers\n",
      "23/04/29 11:00:26 WARN MemoryManager: Total allocation exceeds 95.00% (1,017,066,278 bytes) of heap memory\n",
      "Scaling row group sizes to 84.20% for 9 writers\n",
      "23/04/29 11:00:26 WARN MemoryManager: Total allocation exceeds 95.00% (1,017,066,278 bytes) of heap memory\n",
      "Scaling row group sizes to 75.78% for 10 writers\n",
      "23/04/29 11:00:26 WARN MemoryManager: Total allocation exceeds 95.00% (1,017,066,278 bytes) of heap memory\n",
      "Scaling row group sizes to 84.20% for 9 writers\n"
     ]
    },
    {
     "name": "stderr",
     "output_type": "stream",
     "text": [
      "[Stage 42:============>                                         (88 + 10) / 395]\r"
     ]
    },
    {
     "name": "stdout",
     "output_type": "stream",
     "text": [
      "23/04/29 11:00:26 WARN MemoryManager: Total allocation exceeds 95.00% (1,017,066,278 bytes) of heap memory\n",
      "Scaling row group sizes to 75.78% for 10 writers\n",
      "23/04/29 11:00:26 WARN MemoryManager: Total allocation exceeds 95.00% (1,017,066,278 bytes) of heap memory\n",
      "Scaling row group sizes to 84.20% for 9 writers\n",
      "23/04/29 11:00:26 WARN MemoryManager: Total allocation exceeds 95.00% (1,017,066,278 bytes) of heap memory\n",
      "Scaling row group sizes to 75.78% for 10 writers\n",
      "23/04/29 11:00:26 WARN MemoryManager: Total allocation exceeds 95.00% (1,017,066,278 bytes) of heap memory\n",
      "Scaling row group sizes to 84.20% for 9 writers\n",
      "23/04/29 11:00:27 WARN MemoryManager: Total allocation exceeds 95.00% (1,017,066,278 bytes) of heap memory\n",
      "Scaling row group sizes to 75.78% for 10 writers\n",
      "23/04/29 11:00:27 WARN MemoryManager: Total allocation exceeds 95.00% (1,017,066,278 bytes) of heap memory\n",
      "Scaling row group sizes to 84.20% for 9 writers\n",
      "23/04/29 11:00:27 WARN MemoryManager: Total allocation exceeds 95.00% (1,017,066,278 bytes) of heap memory\n",
      "Scaling row group sizes to 75.78% for 10 writers\n"
     ]
    },
    {
     "name": "stderr",
     "output_type": "stream",
     "text": [
      "[Stage 42:============>                                         (90 + 10) / 395]\r"
     ]
    },
    {
     "name": "stdout",
     "output_type": "stream",
     "text": [
      "23/04/29 11:00:32 WARN MemoryManager: Total allocation exceeds 95.00% (1,017,066,278 bytes) of heap memory\n",
      "Scaling row group sizes to 84.20% for 9 writers\n",
      "23/04/29 11:00:32 WARN MemoryManager: Total allocation exceeds 95.00% (1,017,066,278 bytes) of heap memory\n",
      "Scaling row group sizes to 75.78% for 10 writers\n"
     ]
    },
    {
     "name": "stderr",
     "output_type": "stream",
     "text": [
      "[Stage 42:============>                                         (91 + 10) / 395]\r"
     ]
    },
    {
     "name": "stdout",
     "output_type": "stream",
     "text": [
      "23/04/29 11:00:33 WARN MemoryManager: Total allocation exceeds 95.00% (1,017,066,278 bytes) of heap memory\n",
      "Scaling row group sizes to 84.20% for 9 writers\n",
      "23/04/29 11:00:33 WARN MemoryManager: Total allocation exceeds 95.00% (1,017,066,278 bytes) of heap memory\n",
      "Scaling row group sizes to 75.78% for 10 writers\n"
     ]
    },
    {
     "name": "stderr",
     "output_type": "stream",
     "text": [
      "[Stage 42:============>                                         (92 + 10) / 395]\r"
     ]
    },
    {
     "name": "stdout",
     "output_type": "stream",
     "text": [
      "23/04/29 11:00:34 WARN MemoryManager: Total allocation exceeds 95.00% (1,017,066,278 bytes) of heap memory\n",
      "Scaling row group sizes to 84.20% for 9 writers\n",
      "23/04/29 11:00:34 WARN MemoryManager: Total allocation exceeds 95.00% (1,017,066,278 bytes) of heap memory\n",
      "Scaling row group sizes to 94.72% for 8 writers\n",
      "23/04/29 11:00:34 WARN MemoryManager: Total allocation exceeds 95.00% (1,017,066,278 bytes) of heap memory\n",
      "Scaling row group sizes to 84.20% for 9 writers\n",
      "23/04/29 11:00:34 WARN MemoryManager: Total allocation exceeds 95.00% (1,017,066,278 bytes) of heap memory\n",
      "Scaling row group sizes to 94.72% for 8 writers\n",
      "23/04/29 11:00:34 WARN MemoryManager: Total allocation exceeds 95.00% (1,017,066,278 bytes) of heap memory\n",
      "Scaling row group sizes to 84.20% for 9 writers\n",
      "23/04/29 11:00:34 WARN MemoryManager: Total allocation exceeds 95.00% (1,017,066,278 bytes) of heap memory\n",
      "Scaling row group sizes to 75.78% for 10 writers\n"
     ]
    },
    {
     "name": "stderr",
     "output_type": "stream",
     "text": [
      "[Stage 42:=============>                                        (98 + 10) / 395]\r"
     ]
    },
    {
     "name": "stdout",
     "output_type": "stream",
     "text": [
      "23/04/29 11:00:34 WARN MemoryManager: Total allocation exceeds 95.00% (1,017,066,278 bytes) of heap memory\n",
      "Scaling row group sizes to 84.20% for 9 writers\n",
      "23/04/29 11:00:34 WARN MemoryManager: Total allocation exceeds 95.00% (1,017,066,278 bytes) of heap memory\n",
      "Scaling row group sizes to 75.78% for 10 writers\n",
      "23/04/29 11:00:34 WARN MemoryManager: Total allocation exceeds 95.00% (1,017,066,278 bytes) of heap memory\n",
      "Scaling row group sizes to 84.20% for 9 writers\n",
      "23/04/29 11:00:34 WARN MemoryManager: Total allocation exceeds 95.00% (1,017,066,278 bytes) of heap memory\n",
      "Scaling row group sizes to 94.72% for 8 writers\n",
      "23/04/29 11:00:34 WARN MemoryManager: Total allocation exceeds 95.00% (1,017,066,278 bytes) of heap memory\n",
      "Scaling row group sizes to 84.20% for 9 writers\n",
      "23/04/29 11:00:34 WARN MemoryManager: Total allocation exceeds 95.00% (1,017,066,278 bytes) of heap memory\n",
      "Scaling row group sizes to 75.78% for 10 writers\n",
      "23/04/29 11:00:34 WARN MemoryManager: Total allocation exceeds 95.00% (1,017,066,278 bytes) of heap memory\n",
      "Scaling row group sizes to 84.20% for 9 writers\n",
      "23/04/29 11:00:34 WARN MemoryManager: Total allocation exceeds 95.00% (1,017,066,278 bytes) of heap memory\n",
      "Scaling row group sizes to 94.72% for 8 writers\n",
      "23/04/29 11:00:35 WARN MemoryManager: Total allocation exceeds 95.00% (1,017,066,278 bytes) of heap memory\n",
      "Scaling row group sizes to 84.20% for 9 writers\n",
      "23/04/29 11:00:35 WARN MemoryManager: Total allocation exceeds 95.00% (1,017,066,278 bytes) of heap memory\n",
      "Scaling row group sizes to 75.78% for 10 writers\n"
     ]
    },
    {
     "name": "stderr",
     "output_type": "stream",
     "text": [
      "[Stage 42:=============>                                       (100 + 10) / 395]\r"
     ]
    },
    {
     "name": "stdout",
     "output_type": "stream",
     "text": [
      "23/04/29 11:00:40 WARN MemoryManager: Total allocation exceeds 95.00% (1,017,066,278 bytes) of heap memory\n",
      "Scaling row group sizes to 84.20% for 9 writers\n",
      "23/04/29 11:00:40 WARN MemoryManager: Total allocation exceeds 95.00% (1,017,066,278 bytes) of heap memory\n",
      "Scaling row group sizes to 75.78% for 10 writers\n"
     ]
    },
    {
     "name": "stderr",
     "output_type": "stream",
     "text": [
      "[Stage 42:=============>                                       (101 + 10) / 395]\r"
     ]
    },
    {
     "name": "stdout",
     "output_type": "stream",
     "text": [
      "23/04/29 11:00:41 WARN MemoryManager: Total allocation exceeds 95.00% (1,017,066,278 bytes) of heap memory\n",
      "Scaling row group sizes to 84.20% for 9 writers\n",
      "23/04/29 11:00:41 WARN MemoryManager: Total allocation exceeds 95.00% (1,017,066,278 bytes) of heap memory\n",
      "Scaling row group sizes to 75.78% for 10 writers\n"
     ]
    },
    {
     "name": "stderr",
     "output_type": "stream",
     "text": [
      "[Stage 42:=============>                                       (102 + 10) / 395]\r"
     ]
    },
    {
     "name": "stdout",
     "output_type": "stream",
     "text": [
      "23/04/29 11:00:42 WARN MemoryManager: Total allocation exceeds 95.00% (1,017,066,278 bytes) of heap memory\n",
      "Scaling row group sizes to 84.20% for 9 writers\n",
      "23/04/29 11:00:42 WARN MemoryManager: Total allocation exceeds 95.00% (1,017,066,278 bytes) of heap memory\n",
      "Scaling row group sizes to 75.78% for 10 writers\n",
      "23/04/29 11:00:42 WARN MemoryManager: Total allocation exceeds 95.00% (1,017,066,278 bytes) of heap memory\n",
      "Scaling row group sizes to 84.20% for 9 writers\n",
      "23/04/29 11:00:42 WARN MemoryManager: Total allocation exceeds 95.00% (1,017,066,278 bytes) of heap memory\n",
      "Scaling row group sizes to 94.72% for 8 writers\n"
     ]
    },
    {
     "name": "stderr",
     "output_type": "stream",
     "text": [
      "[Stage 42:=============>                                       (103 + 10) / 395]\r"
     ]
    },
    {
     "name": "stdout",
     "output_type": "stream",
     "text": [
      "23/04/29 11:00:42 WARN MemoryManager: Total allocation exceeds 95.00% (1,017,066,278 bytes) of heap memory\n",
      "Scaling row group sizes to 84.20% for 9 writers\n",
      "23/04/29 11:00:42 WARN MemoryManager: Total allocation exceeds 95.00% (1,017,066,278 bytes) of heap memory\n",
      "Scaling row group sizes to 75.78% for 10 writers\n",
      "23/04/29 11:00:42 WARN MemoryManager: Total allocation exceeds 95.00% (1,017,066,278 bytes) of heap memory\n",
      "Scaling row group sizes to 84.20% for 9 writers\n",
      "23/04/29 11:00:42 WARN MemoryManager: Total allocation exceeds 95.00% (1,017,066,278 bytes) of heap memory\n",
      "Scaling row group sizes to 94.72% for 8 writers\n",
      "23/04/29 11:00:42 WARN MemoryManager: Total allocation exceeds 95.00% (1,017,066,278 bytes) of heap memory\n",
      "Scaling row group sizes to 84.20% for 9 writers\n",
      "23/04/29 11:00:42 WARN MemoryManager: Total allocation exceeds 95.00% (1,017,066,278 bytes) of heap memory\n",
      "Scaling row group sizes to 94.72% for 8 writers\n",
      "23/04/29 11:00:42 WARN MemoryManager: Total allocation exceeds 95.00% (1,017,066,278 bytes) of heap memory\n",
      "Scaling row group sizes to 84.20% for 9 writers\n"
     ]
    },
    {
     "name": "stderr",
     "output_type": "stream",
     "text": [
      "[Stage 42:==============>                                      (107 + 10) / 395]\r"
     ]
    },
    {
     "name": "stdout",
     "output_type": "stream",
     "text": [
      "23/04/29 11:00:42 WARN MemoryManager: Total allocation exceeds 95.00% (1,017,066,278 bytes) of heap memory\n",
      "Scaling row group sizes to 75.78% for 10 writers\n"
     ]
    },
    {
     "name": "stderr",
     "output_type": "stream",
     "text": [
      "[Stage 42:==============>                                      (108 + 10) / 395]\r"
     ]
    },
    {
     "name": "stdout",
     "output_type": "stream",
     "text": [
      "23/04/29 11:00:43 WARN MemoryManager: Total allocation exceeds 95.00% (1,017,066,278 bytes) of heap memory\n",
      "Scaling row group sizes to 84.20% for 9 writers\n",
      "23/04/29 11:00:43 WARN MemoryManager: Total allocation exceeds 95.00% (1,017,066,278 bytes) of heap memory\n",
      "Scaling row group sizes to 94.72% for 8 writers\n",
      "23/04/29 11:00:43 WARN MemoryManager: Total allocation exceeds 95.00% (1,017,066,278 bytes) of heap memory\n",
      "Scaling row group sizes to 84.20% for 9 writers\n",
      "23/04/29 11:00:43 WARN MemoryManager: Total allocation exceeds 95.00% (1,017,066,278 bytes) of heap memory\n",
      "Scaling row group sizes to 75.78% for 10 writers\n"
     ]
    },
    {
     "name": "stderr",
     "output_type": "stream",
     "text": [
      "[Stage 42:==============>                                      (110 + 10) / 395]\r"
     ]
    },
    {
     "name": "stdout",
     "output_type": "stream",
     "text": [
      "23/04/29 11:00:48 WARN MemoryManager: Total allocation exceeds 95.00% (1,017,066,278 bytes) of heap memory\n",
      "Scaling row group sizes to 84.20% for 9 writers\n",
      "23/04/29 11:00:48 WARN MemoryManager: Total allocation exceeds 95.00% (1,017,066,278 bytes) of heap memory\n",
      "Scaling row group sizes to 75.78% for 10 writers\n"
     ]
    },
    {
     "name": "stderr",
     "output_type": "stream",
     "text": [
      "[Stage 42:==============>                                      (111 + 10) / 395]\r"
     ]
    },
    {
     "name": "stdout",
     "output_type": "stream",
     "text": [
      "23/04/29 11:00:49 WARN MemoryManager: Total allocation exceeds 95.00% (1,017,066,278 bytes) of heap memory\n",
      "Scaling row group sizes to 84.20% for 9 writers\n",
      "23/04/29 11:00:49 WARN MemoryManager: Total allocation exceeds 95.00% (1,017,066,278 bytes) of heap memory\n",
      "Scaling row group sizes to 75.78% for 10 writers\n"
     ]
    },
    {
     "name": "stderr",
     "output_type": "stream",
     "text": [
      "[Stage 42:===============>                                     (112 + 10) / 395]\r"
     ]
    },
    {
     "name": "stdout",
     "output_type": "stream",
     "text": [
      "23/04/29 11:00:49 WARN MemoryManager: Total allocation exceeds 95.00% (1,017,066,278 bytes) of heap memory\n",
      "Scaling row group sizes to 84.20% for 9 writers\n",
      "23/04/29 11:00:49 WARN MemoryManager: Total allocation exceeds 95.00% (1,017,066,278 bytes) of heap memory\n",
      "Scaling row group sizes to 75.78% for 10 writers\n"
     ]
    },
    {
     "name": "stderr",
     "output_type": "stream",
     "text": [
      "[Stage 42:===============>                                     (113 + 10) / 395]\r"
     ]
    },
    {
     "name": "stdout",
     "output_type": "stream",
     "text": [
      "23/04/29 11:00:50 WARN MemoryManager: Total allocation exceeds 95.00% (1,017,066,278 bytes) of heap memory\n",
      "Scaling row group sizes to 84.20% for 9 writers\n",
      "23/04/29 11:00:50 WARN MemoryManager: Total allocation exceeds 95.00% (1,017,066,278 bytes) of heap memory\n",
      "Scaling row group sizes to 94.72% for 8 writers\n",
      "23/04/29 11:00:50 WARN MemoryManager: Total allocation exceeds 95.00% (1,017,066,278 bytes) of heap memory\n",
      "Scaling row group sizes to 94.72% for 8 writers\n",
      "23/04/29 11:00:50 WARN MemoryManager: Total allocation exceeds 95.00% (1,017,066,278 bytes) of heap memory\n",
      "Scaling row group sizes to 84.20% for 9 writers\n",
      "23/04/29 11:00:50 WARN MemoryManager: Total allocation exceeds 95.00% (1,017,066,278 bytes) of heap memory\n",
      "Scaling row group sizes to 75.78% for 10 writers\n"
     ]
    },
    {
     "name": "stderr",
     "output_type": "stream",
     "text": [
      "[Stage 42:===============>                                     (116 + 10) / 395]\r"
     ]
    },
    {
     "name": "stdout",
     "output_type": "stream",
     "text": [
      "23/04/29 11:00:50 WARN MemoryManager: Total allocation exceeds 95.00% (1,017,066,278 bytes) of heap memory\n",
      "Scaling row group sizes to 84.20% for 9 writers\n",
      "23/04/29 11:00:50 WARN MemoryManager: Total allocation exceeds 95.00% (1,017,066,278 bytes) of heap memory\n",
      "Scaling row group sizes to 75.78% for 10 writers\n",
      "23/04/29 11:00:50 WARN MemoryManager: Total allocation exceeds 95.00% (1,017,066,278 bytes) of heap memory\n",
      "Scaling row group sizes to 84.20% for 9 writers\n"
     ]
    },
    {
     "name": "stderr",
     "output_type": "stream",
     "text": [
      "[Stage 42:===============>                                     (118 + 10) / 395]\r"
     ]
    },
    {
     "name": "stdout",
     "output_type": "stream",
     "text": [
      "23/04/29 11:00:50 WARN MemoryManager: Total allocation exceeds 95.00% (1,017,066,278 bytes) of heap memory\n",
      "Scaling row group sizes to 75.78% for 10 writers\n",
      "23/04/29 11:00:51 WARN MemoryManager: Total allocation exceeds 95.00% (1,017,066,278 bytes) of heap memory\n",
      "Scaling row group sizes to 84.20% for 9 writers\n",
      "23/04/29 11:00:51 WARN MemoryManager: Total allocation exceeds 95.00% (1,017,066,278 bytes) of heap memory\n",
      "Scaling row group sizes to 75.78% for 10 writers\n",
      "23/04/29 11:00:51 WARN MemoryManager: Total allocation exceeds 95.00% (1,017,066,278 bytes) of heap memory\n",
      "Scaling row group sizes to 84.20% for 9 writers\n"
     ]
    },
    {
     "name": "stderr",
     "output_type": "stream",
     "text": [
      "[Stage 42:================>                                    (120 + 10) / 395]\r"
     ]
    },
    {
     "name": "stdout",
     "output_type": "stream",
     "text": [
      "23/04/29 11:00:51 WARN MemoryManager: Total allocation exceeds 95.00% (1,017,066,278 bytes) of heap memory\n",
      "Scaling row group sizes to 75.78% for 10 writers\n",
      "23/04/29 11:00:55 WARN MemoryManager: Total allocation exceeds 95.00% (1,017,066,278 bytes) of heap memory\n",
      "Scaling row group sizes to 84.20% for 9 writers\n",
      "23/04/29 11:00:55 WARN MemoryManager: Total allocation exceeds 95.00% (1,017,066,278 bytes) of heap memory\n",
      "Scaling row group sizes to 75.78% for 10 writers\n"
     ]
    },
    {
     "name": "stderr",
     "output_type": "stream",
     "text": [
      "[Stage 42:================>                                    (121 + 10) / 395]\r"
     ]
    },
    {
     "name": "stdout",
     "output_type": "stream",
     "text": [
      "23/04/29 11:00:57 WARN MemoryManager: Total allocation exceeds 95.00% (1,017,066,278 bytes) of heap memory\n",
      "Scaling row group sizes to 84.20% for 9 writers\n",
      "23/04/29 11:00:57 WARN MemoryManager: Total allocation exceeds 95.00% (1,017,066,278 bytes) of heap memory\n",
      "Scaling row group sizes to 75.78% for 10 writers\n"
     ]
    },
    {
     "name": "stderr",
     "output_type": "stream",
     "text": [
      "[Stage 42:================>                                    (122 + 10) / 395]\r"
     ]
    },
    {
     "name": "stdout",
     "output_type": "stream",
     "text": [
      "23/04/29 11:00:57 WARN MemoryManager: Total allocation exceeds 95.00% (1,017,066,278 bytes) of heap memory\n",
      "Scaling row group sizes to 84.20% for 9 writers\n",
      "23/04/29 11:00:57 WARN MemoryManager: Total allocation exceeds 95.00% (1,017,066,278 bytes) of heap memory\n",
      "Scaling row group sizes to 75.78% for 10 writers\n"
     ]
    },
    {
     "name": "stderr",
     "output_type": "stream",
     "text": [
      "[Stage 42:================>                                    (123 + 10) / 395]\r"
     ]
    },
    {
     "name": "stdout",
     "output_type": "stream",
     "text": [
      "23/04/29 11:00:57 WARN MemoryManager: Total allocation exceeds 95.00% (1,017,066,278 bytes) of heap memory\n",
      "Scaling row group sizes to 84.20% for 9 writers\n",
      "23/04/29 11:00:57 WARN MemoryManager: Total allocation exceeds 95.00% (1,017,066,278 bytes) of heap memory\n",
      "Scaling row group sizes to 75.78% for 10 writers\n",
      "23/04/29 11:00:57 WARN MemoryManager: Total allocation exceeds 95.00% (1,017,066,278 bytes) of heap memory\n",
      "Scaling row group sizes to 84.20% for 9 writers\n",
      "23/04/29 11:00:57 WARN MemoryManager: Total allocation exceeds 95.00% (1,017,066,278 bytes) of heap memory\n",
      "Scaling row group sizes to 75.78% for 10 writers\n"
     ]
    },
    {
     "name": "stderr",
     "output_type": "stream",
     "text": [
      "[Stage 42:================>                                    (125 + 10) / 395]\r"
     ]
    },
    {
     "name": "stdout",
     "output_type": "stream",
     "text": [
      "23/04/29 11:00:57 WARN MemoryManager: Total allocation exceeds 95.00% (1,017,066,278 bytes) of heap memory\n",
      "Scaling row group sizes to 84.20% for 9 writers\n",
      "23/04/29 11:00:58 WARN MemoryManager: Total allocation exceeds 95.00% (1,017,066,278 bytes) of heap memory\n",
      "Scaling row group sizes to 75.78% for 10 writers\n",
      "23/04/29 11:00:58 WARN MemoryManager: Total allocation exceeds 95.00% (1,017,066,278 bytes) of heap memory\n",
      "Scaling row group sizes to 84.20% for 9 writers\n"
     ]
    },
    {
     "name": "stderr",
     "output_type": "stream",
     "text": [
      "[Stage 42:================>                                    (126 + 10) / 395]\r"
     ]
    },
    {
     "name": "stdout",
     "output_type": "stream",
     "text": [
      "23/04/29 11:00:58 WARN MemoryManager: Total allocation exceeds 95.00% (1,017,066,278 bytes) of heap memory\n",
      "Scaling row group sizes to 94.72% for 8 writers\n",
      "23/04/29 11:00:58 WARN MemoryManager: Total allocation exceeds 95.00% (1,017,066,278 bytes) of heap memory\n",
      "Scaling row group sizes to 84.20% for 9 writers\n",
      "23/04/29 11:00:58 WARN MemoryManager: Total allocation exceeds 95.00% (1,017,066,278 bytes) of heap memory\n",
      "Scaling row group sizes to 75.78% for 10 writers\n"
     ]
    },
    {
     "name": "stderr",
     "output_type": "stream",
     "text": [
      "[Stage 42:=================>                                   (128 + 10) / 395]\r"
     ]
    },
    {
     "name": "stdout",
     "output_type": "stream",
     "text": [
      "23/04/29 11:00:58 WARN MemoryManager: Total allocation exceeds 95.00% (1,017,066,278 bytes) of heap memory\n",
      "Scaling row group sizes to 84.20% for 9 writers\n",
      "23/04/29 11:00:58 WARN MemoryManager: Total allocation exceeds 95.00% (1,017,066,278 bytes) of heap memory\n",
      "Scaling row group sizes to 75.78% for 10 writers\n",
      "23/04/29 11:00:58 WARN MemoryManager: Total allocation exceeds 95.00% (1,017,066,278 bytes) of heap memory\n",
      "Scaling row group sizes to 84.20% for 9 writers\n",
      "23/04/29 11:00:59 WARN MemoryManager: Total allocation exceeds 95.00% (1,017,066,278 bytes) of heap memory\n",
      "Scaling row group sizes to 75.78% for 10 writers\n"
     ]
    },
    {
     "name": "stderr",
     "output_type": "stream",
     "text": [
      "[Stage 42:=================>                                   (130 + 10) / 395]\r"
     ]
    },
    {
     "name": "stdout",
     "output_type": "stream",
     "text": [
      "23/04/29 11:01:03 WARN MemoryManager: Total allocation exceeds 95.00% (1,017,066,278 bytes) of heap memory\n",
      "Scaling row group sizes to 84.20% for 9 writers\n",
      "23/04/29 11:01:03 WARN MemoryManager: Total allocation exceeds 95.00% (1,017,066,278 bytes) of heap memory\n",
      "Scaling row group sizes to 75.78% for 10 writers\n"
     ]
    },
    {
     "name": "stderr",
     "output_type": "stream",
     "text": [
      "[Stage 42:=================>                                   (131 + 10) / 395]\r"
     ]
    },
    {
     "name": "stdout",
     "output_type": "stream",
     "text": [
      "23/04/29 11:01:04 WARN MemoryManager: Total allocation exceeds 95.00% (1,017,066,278 bytes) of heap memory\n",
      "Scaling row group sizes to 84.20% for 9 writers\n",
      "23/04/29 11:01:04 WARN MemoryManager: Total allocation exceeds 95.00% (1,017,066,278 bytes) of heap memory\n",
      "Scaling row group sizes to 75.78% for 10 writers\n"
     ]
    },
    {
     "name": "stderr",
     "output_type": "stream",
     "text": [
      "[Stage 42:=================>                                   (132 + 10) / 395]\r"
     ]
    },
    {
     "name": "stdout",
     "output_type": "stream",
     "text": [
      "23/04/29 11:01:05 WARN MemoryManager: Total allocation exceeds 95.00% (1,017,066,278 bytes) of heap memory\n",
      "Scaling row group sizes to 84.20% for 9 writers\n",
      "23/04/29 11:01:05 WARN MemoryManager: Total allocation exceeds 95.00% (1,017,066,278 bytes) of heap memory\n",
      "Scaling row group sizes to 75.78% for 10 writers\n"
     ]
    },
    {
     "name": "stderr",
     "output_type": "stream",
     "text": [
      "[Stage 42:=================>                                   (133 + 10) / 395]\r"
     ]
    },
    {
     "name": "stdout",
     "output_type": "stream",
     "text": [
      "23/04/29 11:01:05 WARN MemoryManager: Total allocation exceeds 95.00% (1,017,066,278 bytes) of heap memory\n",
      "Scaling row group sizes to 84.20% for 9 writers\n",
      "23/04/29 11:01:05 WARN MemoryManager: Total allocation exceeds 95.00% (1,017,066,278 bytes) of heap memory\n",
      "Scaling row group sizes to 75.78% for 10 writers\n",
      "23/04/29 11:01:05 WARN MemoryManager: Total allocation exceeds 95.00% (1,017,066,278 bytes) of heap memory\n",
      "Scaling row group sizes to 84.20% for 9 writers\n"
     ]
    },
    {
     "name": "stderr",
     "output_type": "stream",
     "text": [
      "[Stage 42:==================>                                  (135 + 10) / 395]\r"
     ]
    },
    {
     "name": "stdout",
     "output_type": "stream",
     "text": [
      "23/04/29 11:01:05 WARN MemoryManager: Total allocation exceeds 95.00% (1,017,066,278 bytes) of heap memory\n",
      "Scaling row group sizes to 75.78% for 10 writers\n",
      "23/04/29 11:01:05 WARN MemoryManager: Total allocation exceeds 95.00% (1,017,066,278 bytes) of heap memory\n",
      "Scaling row group sizes to 84.20% for 9 writers\n",
      "23/04/29 11:01:05 WARN MemoryManager: Total allocation exceeds 95.00% (1,017,066,278 bytes) of heap memory\n",
      "Scaling row group sizes to 75.78% for 10 writers\n"
     ]
    },
    {
     "name": "stderr",
     "output_type": "stream",
     "text": [
      "[Stage 42:==================>                                  (136 + 10) / 395]\r"
     ]
    },
    {
     "name": "stdout",
     "output_type": "stream",
     "text": [
      "23/04/29 11:01:05 WARN MemoryManager: Total allocation exceeds 95.00% (1,017,066,278 bytes) of heap memory\n",
      "Scaling row group sizes to 84.20% for 9 writers\n",
      "23/04/29 11:01:05 WARN MemoryManager: Total allocation exceeds 95.00% (1,017,066,278 bytes) of heap memory\n",
      "Scaling row group sizes to 94.72% for 8 writers\n",
      "23/04/29 11:01:06 WARN MemoryManager: Total allocation exceeds 95.00% (1,017,066,278 bytes) of heap memory\n",
      "Scaling row group sizes to 84.20% for 9 writers\n",
      "23/04/29 11:01:06 WARN MemoryManager: Total allocation exceeds 95.00% (1,017,066,278 bytes) of heap memory\n",
      "Scaling row group sizes to 75.78% for 10 writers\n"
     ]
    },
    {
     "name": "stderr",
     "output_type": "stream",
     "text": [
      "[Stage 42:==================>                                  (138 + 10) / 395]\r"
     ]
    },
    {
     "name": "stdout",
     "output_type": "stream",
     "text": [
      "23/04/29 11:01:06 WARN MemoryManager: Total allocation exceeds 95.00% (1,017,066,278 bytes) of heap memory\n",
      "Scaling row group sizes to 84.20% for 9 writers\n",
      "23/04/29 11:01:06 WARN MemoryManager: Total allocation exceeds 95.00% (1,017,066,278 bytes) of heap memory\n",
      "Scaling row group sizes to 75.78% for 10 writers\n"
     ]
    },
    {
     "name": "stderr",
     "output_type": "stream",
     "text": [
      "[Stage 42:==================>                                  (140 + 10) / 395]\r"
     ]
    },
    {
     "name": "stdout",
     "output_type": "stream",
     "text": [
      "23/04/29 11:01:06 WARN MemoryManager: Total allocation exceeds 95.00% (1,017,066,278 bytes) of heap memory\n",
      "Scaling row group sizes to 84.20% for 9 writers\n",
      "23/04/29 11:01:06 WARN MemoryManager: Total allocation exceeds 95.00% (1,017,066,278 bytes) of heap memory\n",
      "Scaling row group sizes to 75.78% for 10 writers\n",
      "23/04/29 11:01:11 WARN MemoryManager: Total allocation exceeds 95.00% (1,017,066,278 bytes) of heap memory\n",
      "Scaling row group sizes to 84.20% for 9 writers\n",
      "23/04/29 11:01:11 WARN MemoryManager: Total allocation exceeds 95.00% (1,017,066,278 bytes) of heap memory\n",
      "Scaling row group sizes to 75.78% for 10 writers\n"
     ]
    },
    {
     "name": "stderr",
     "output_type": "stream",
     "text": [
      "[Stage 42:==================>                                  (141 + 10) / 395]\r"
     ]
    },
    {
     "name": "stdout",
     "output_type": "stream",
     "text": [
      "23/04/29 11:01:12 WARN MemoryManager: Total allocation exceeds 95.00% (1,017,066,278 bytes) of heap memory\n",
      "Scaling row group sizes to 84.20% for 9 writers\n",
      "23/04/29 11:01:12 WARN MemoryManager: Total allocation exceeds 95.00% (1,017,066,278 bytes) of heap memory\n",
      "Scaling row group sizes to 75.78% for 10 writers\n"
     ]
    },
    {
     "name": "stderr",
     "output_type": "stream",
     "text": [
      "[Stage 42:===================>                                 (142 + 10) / 395]\r"
     ]
    },
    {
     "name": "stdout",
     "output_type": "stream",
     "text": [
      "23/04/29 11:01:12 WARN MemoryManager: Total allocation exceeds 95.00% (1,017,066,278 bytes) of heap memory\n",
      "Scaling row group sizes to 84.20% for 9 writers\n",
      "23/04/29 11:01:13 WARN MemoryManager: Total allocation exceeds 95.00% (1,017,066,278 bytes) of heap memory\n",
      "Scaling row group sizes to 75.78% for 10 writers\n"
     ]
    },
    {
     "name": "stderr",
     "output_type": "stream",
     "text": [
      "[Stage 42:===================>                                 (143 + 10) / 395]\r"
     ]
    },
    {
     "name": "stdout",
     "output_type": "stream",
     "text": [
      "23/04/29 11:01:13 WARN MemoryManager: Total allocation exceeds 95.00% (1,017,066,278 bytes) of heap memory\n",
      "Scaling row group sizes to 84.20% for 9 writers\n",
      "23/04/29 11:01:13 WARN MemoryManager: Total allocation exceeds 95.00% (1,017,066,278 bytes) of heap memory\n",
      "Scaling row group sizes to 75.78% for 10 writers\n",
      "23/04/29 11:01:13 WARN MemoryManager: Total allocation exceeds 95.00% (1,017,066,278 bytes) of heap memory\n",
      "Scaling row group sizes to 84.20% for 9 writers\n",
      "23/04/29 11:01:13 WARN MemoryManager: Total allocation exceeds 95.00% (1,017,066,278 bytes) of heap memory\n",
      "Scaling row group sizes to 75.78% for 10 writers\n",
      "23/04/29 11:01:13 WARN MemoryManager: Total allocation exceeds 95.00% (1,017,066,278 bytes) of heap memory\n",
      "Scaling row group sizes to 84.20% for 9 writers\n"
     ]
    },
    {
     "name": "stderr",
     "output_type": "stream",
     "text": [
      "[Stage 42:===================>                                 (146 + 10) / 395]\r"
     ]
    },
    {
     "name": "stdout",
     "output_type": "stream",
     "text": [
      "23/04/29 11:01:13 WARN MemoryManager: Total allocation exceeds 95.00% (1,017,066,278 bytes) of heap memory\n",
      "Scaling row group sizes to 75.78% for 10 writers\n",
      "23/04/29 11:01:14 WARN MemoryManager: Total allocation exceeds 95.00% (1,017,066,278 bytes) of heap memory\n",
      "Scaling row group sizes to 84.20% for 9 writers\n",
      "23/04/29 11:01:14 WARN MemoryManager: Total allocation exceeds 95.00% (1,017,066,278 bytes) of heap memory\n",
      "Scaling row group sizes to 94.72% for 8 writers\n",
      "23/04/29 11:01:14 WARN MemoryManager: Total allocation exceeds 95.00% (1,017,066,278 bytes) of heap memory\n",
      "Scaling row group sizes to 84.20% for 9 writers\n",
      "23/04/29 11:01:14 WARN MemoryManager: Total allocation exceeds 95.00% (1,017,066,278 bytes) of heap memory\n",
      "Scaling row group sizes to 75.78% for 10 writers\n"
     ]
    },
    {
     "name": "stderr",
     "output_type": "stream",
     "text": [
      "[Stage 42:===================>                                 (148 + 10) / 395]\r"
     ]
    },
    {
     "name": "stdout",
     "output_type": "stream",
     "text": [
      "23/04/29 11:01:14 WARN MemoryManager: Total allocation exceeds 95.00% (1,017,066,278 bytes) of heap memory\n",
      "Scaling row group sizes to 84.20% for 9 writers\n",
      "23/04/29 11:01:14 WARN MemoryManager: Total allocation exceeds 95.00% (1,017,066,278 bytes) of heap memory\n",
      "Scaling row group sizes to 75.78% for 10 writers\n"
     ]
    },
    {
     "name": "stderr",
     "output_type": "stream",
     "text": [
      "[Stage 42:===================>                                 (149 + 10) / 395]\r"
     ]
    },
    {
     "name": "stdout",
     "output_type": "stream",
     "text": [
      "23/04/29 11:01:14 WARN MemoryManager: Total allocation exceeds 95.00% (1,017,066,278 bytes) of heap memory\n",
      "Scaling row group sizes to 84.20% for 9 writers\n",
      "23/04/29 11:01:14 WARN MemoryManager: Total allocation exceeds 95.00% (1,017,066,278 bytes) of heap memory\n",
      "Scaling row group sizes to 75.78% for 10 writers\n"
     ]
    },
    {
     "name": "stderr",
     "output_type": "stream",
     "text": [
      "[Stage 42:====================>                                (150 + 10) / 395]\r"
     ]
    },
    {
     "name": "stdout",
     "output_type": "stream",
     "text": [
      "23/04/29 11:01:19 WARN MemoryManager: Total allocation exceeds 95.00% (1,017,066,278 bytes) of heap memory\n",
      "Scaling row group sizes to 84.20% for 9 writers\n",
      "23/04/29 11:01:19 WARN MemoryManager: Total allocation exceeds 95.00% (1,017,066,278 bytes) of heap memory\n",
      "Scaling row group sizes to 75.78% for 10 writers\n"
     ]
    },
    {
     "name": "stderr",
     "output_type": "stream",
     "text": [
      "[Stage 42:====================>                                (151 + 10) / 395]\r"
     ]
    },
    {
     "name": "stdout",
     "output_type": "stream",
     "text": [
      "23/04/29 11:01:20 WARN MemoryManager: Total allocation exceeds 95.00% (1,017,066,278 bytes) of heap memory\n",
      "Scaling row group sizes to 84.20% for 9 writers\n",
      "23/04/29 11:01:20 WARN MemoryManager: Total allocation exceeds 95.00% (1,017,066,278 bytes) of heap memory\n",
      "Scaling row group sizes to 75.78% for 10 writers\n"
     ]
    },
    {
     "name": "stderr",
     "output_type": "stream",
     "text": [
      "[Stage 42:====================>                                (152 + 10) / 395]\r"
     ]
    },
    {
     "name": "stdout",
     "output_type": "stream",
     "text": [
      "23/04/29 11:01:20 WARN MemoryManager: Total allocation exceeds 95.00% (1,017,066,278 bytes) of heap memory\n",
      "Scaling row group sizes to 84.20% for 9 writers\n",
      "23/04/29 11:01:20 WARN MemoryManager: Total allocation exceeds 95.00% (1,017,066,278 bytes) of heap memory\n",
      "Scaling row group sizes to 75.78% for 10 writers\n",
      "23/04/29 11:01:20 WARN MemoryManager: Total allocation exceeds 95.00% (1,017,066,278 bytes) of heap memory\n",
      "Scaling row group sizes to 84.20% for 9 writers\n"
     ]
    },
    {
     "name": "stderr",
     "output_type": "stream",
     "text": [
      "[Stage 42:====================>                                (153 + 10) / 395]\r"
     ]
    },
    {
     "name": "stdout",
     "output_type": "stream",
     "text": [
      "23/04/29 11:01:21 WARN MemoryManager: Total allocation exceeds 95.00% (1,017,066,278 bytes) of heap memory\n",
      "Scaling row group sizes to 75.78% for 10 writers\n",
      "23/04/29 11:01:21 WARN MemoryManager: Total allocation exceeds 95.00% (1,017,066,278 bytes) of heap memory\n",
      "Scaling row group sizes to 84.20% for 9 writers\n",
      "23/04/29 11:01:21 WARN MemoryManager: Total allocation exceeds 95.00% (1,017,066,278 bytes) of heap memory\n",
      "Scaling row group sizes to 94.72% for 8 writers\n",
      "23/04/29 11:01:21 WARN MemoryManager: Total allocation exceeds 95.00% (1,017,066,278 bytes) of heap memory\n",
      "Scaling row group sizes to 84.20% for 9 writers\n"
     ]
    },
    {
     "name": "stderr",
     "output_type": "stream",
     "text": [
      "[Stage 42:====================>                                (154 + 10) / 395]\r"
     ]
    },
    {
     "name": "stdout",
     "output_type": "stream",
     "text": [
      "23/04/29 11:01:21 WARN MemoryManager: Total allocation exceeds 95.00% (1,017,066,278 bytes) of heap memory\n",
      "Scaling row group sizes to 75.78% for 10 writers\n"
     ]
    },
    {
     "name": "stderr",
     "output_type": "stream",
     "text": [
      "[Stage 42:====================>                                (156 + 10) / 395]\r"
     ]
    },
    {
     "name": "stdout",
     "output_type": "stream",
     "text": [
      "23/04/29 11:01:21 WARN MemoryManager: Total allocation exceeds 95.00% (1,017,066,278 bytes) of heap memory\n",
      "Scaling row group sizes to 84.20% for 9 writers\n",
      "23/04/29 11:01:21 WARN MemoryManager: Total allocation exceeds 95.00% (1,017,066,278 bytes) of heap memory\n",
      "Scaling row group sizes to 94.72% for 8 writers\n",
      "23/04/29 11:01:22 WARN MemoryManager: Total allocation exceeds 95.00% (1,017,066,278 bytes) of heap memory\n",
      "Scaling row group sizes to 84.20% for 9 writers\n",
      "23/04/29 11:01:22 WARN MemoryManager: Total allocation exceeds 95.00% (1,017,066,278 bytes) of heap memory\n",
      "Scaling row group sizes to 75.78% for 10 writers\n"
     ]
    },
    {
     "name": "stderr",
     "output_type": "stream",
     "text": [
      "[Stage 42:=====================>                               (158 + 10) / 395]\r"
     ]
    },
    {
     "name": "stdout",
     "output_type": "stream",
     "text": [
      "23/04/29 11:01:22 WARN MemoryManager: Total allocation exceeds 95.00% (1,017,066,278 bytes) of heap memory\n",
      "Scaling row group sizes to 84.20% for 9 writers\n",
      "23/04/29 11:01:22 WARN MemoryManager: Total allocation exceeds 95.00% (1,017,066,278 bytes) of heap memory\n",
      "Scaling row group sizes to 75.78% for 10 writers\n"
     ]
    },
    {
     "name": "stderr",
     "output_type": "stream",
     "text": [
      "[Stage 42:=====================>                               (159 + 10) / 395]\r"
     ]
    },
    {
     "name": "stdout",
     "output_type": "stream",
     "text": [
      "23/04/29 11:01:22 WARN MemoryManager: Total allocation exceeds 95.00% (1,017,066,278 bytes) of heap memory\n",
      "Scaling row group sizes to 84.20% for 9 writers\n",
      "23/04/29 11:01:22 WARN MemoryManager: Total allocation exceeds 95.00% (1,017,066,278 bytes) of heap memory\n",
      "Scaling row group sizes to 75.78% for 10 writers\n"
     ]
    },
    {
     "name": "stderr",
     "output_type": "stream",
     "text": [
      "[Stage 42:=====================>                               (160 + 10) / 395]\r"
     ]
    },
    {
     "name": "stdout",
     "output_type": "stream",
     "text": [
      "23/04/29 11:01:26 WARN MemoryManager: Total allocation exceeds 95.00% (1,017,066,278 bytes) of heap memory\n",
      "Scaling row group sizes to 84.20% for 9 writers\n",
      "23/04/29 11:01:27 WARN MemoryManager: Total allocation exceeds 95.00% (1,017,066,278 bytes) of heap memory\n",
      "Scaling row group sizes to 75.78% for 10 writers\n"
     ]
    },
    {
     "name": "stderr",
     "output_type": "stream",
     "text": [
      "[Stage 42:=====================>                               (161 + 10) / 395]\r"
     ]
    },
    {
     "name": "stdout",
     "output_type": "stream",
     "text": [
      "23/04/29 11:01:28 WARN MemoryManager: Total allocation exceeds 95.00% (1,017,066,278 bytes) of heap memory\n",
      "Scaling row group sizes to 84.20% for 9 writers\n",
      "23/04/29 11:01:28 WARN MemoryManager: Total allocation exceeds 95.00% (1,017,066,278 bytes) of heap memory\n",
      "Scaling row group sizes to 75.78% for 10 writers\n"
     ]
    },
    {
     "name": "stderr",
     "output_type": "stream",
     "text": [
      "[Stage 42:=====================>                               (162 + 10) / 395]\r"
     ]
    },
    {
     "name": "stdout",
     "output_type": "stream",
     "text": [
      "23/04/29 11:01:28 WARN MemoryManager: Total allocation exceeds 95.00% (1,017,066,278 bytes) of heap memory\n",
      "Scaling row group sizes to 84.20% for 9 writers\n",
      "23/04/29 11:01:28 WARN MemoryManager: Total allocation exceeds 95.00% (1,017,066,278 bytes) of heap memory\n",
      "Scaling row group sizes to 75.78% for 10 writers\n",
      "23/04/29 11:01:28 WARN MemoryManager: Total allocation exceeds 95.00% (1,017,066,278 bytes) of heap memory\n",
      "Scaling row group sizes to 84.20% for 9 writers\n"
     ]
    },
    {
     "name": "stderr",
     "output_type": "stream",
     "text": [
      "[Stage 42:======================>                              (164 + 10) / 395]\r"
     ]
    },
    {
     "name": "stdout",
     "output_type": "stream",
     "text": [
      "23/04/29 11:01:28 WARN MemoryManager: Total allocation exceeds 95.00% (1,017,066,278 bytes) of heap memory\n",
      "Scaling row group sizes to 75.78% for 10 writers\n",
      "23/04/29 11:01:28 WARN MemoryManager: Total allocation exceeds 95.00% (1,017,066,278 bytes) of heap memory\n",
      "Scaling row group sizes to 84.20% for 9 writers\n",
      "23/04/29 11:01:28 WARN MemoryManager: Total allocation exceeds 95.00% (1,017,066,278 bytes) of heap memory\n",
      "Scaling row group sizes to 94.72% for 8 writers\n",
      "23/04/29 11:01:28 WARN MemoryManager: Total allocation exceeds 95.00% (1,017,066,278 bytes) of heap memory\n",
      "Scaling row group sizes to 84.20% for 9 writers\n"
     ]
    },
    {
     "name": "stderr",
     "output_type": "stream",
     "text": [
      "[Stage 42:======================>                              (166 + 10) / 395]\r"
     ]
    },
    {
     "name": "stdout",
     "output_type": "stream",
     "text": [
      "23/04/29 11:01:29 WARN MemoryManager: Total allocation exceeds 95.00% (1,017,066,278 bytes) of heap memory\n",
      "Scaling row group sizes to 75.78% for 10 writers\n",
      "23/04/29 11:01:29 WARN MemoryManager: Total allocation exceeds 95.00% (1,017,066,278 bytes) of heap memory\n",
      "Scaling row group sizes to 84.20% for 9 writers\n",
      "23/04/29 11:01:29 WARN MemoryManager: Total allocation exceeds 95.00% (1,017,066,278 bytes) of heap memory\n",
      "Scaling row group sizes to 75.78% for 10 writers\n",
      "23/04/29 11:01:29 WARN MemoryManager: Total allocation exceeds 95.00% (1,017,066,278 bytes) of heap memory\n",
      "Scaling row group sizes to 84.20% for 9 writers\n"
     ]
    },
    {
     "name": "stderr",
     "output_type": "stream",
     "text": [
      "[Stage 42:======================>                              (167 + 10) / 395]\r"
     ]
    },
    {
     "name": "stdout",
     "output_type": "stream",
     "text": [
      "23/04/29 11:01:29 WARN MemoryManager: Total allocation exceeds 95.00% (1,017,066,278 bytes) of heap memory\n",
      "Scaling row group sizes to 94.72% for 8 writers\n",
      "23/04/29 11:01:30 WARN MemoryManager: Total allocation exceeds 95.00% (1,017,066,278 bytes) of heap memory\n",
      "Scaling row group sizes to 84.20% for 9 writers\n",
      "23/04/29 11:01:30 WARN MemoryManager: Total allocation exceeds 95.00% (1,017,066,278 bytes) of heap memory\n",
      "Scaling row group sizes to 75.78% for 10 writers\n"
     ]
    },
    {
     "name": "stderr",
     "output_type": "stream",
     "text": [
      "[Stage 42:======================>                              (169 + 10) / 395]\r"
     ]
    },
    {
     "name": "stdout",
     "output_type": "stream",
     "text": [
      "23/04/29 11:01:30 WARN MemoryManager: Total allocation exceeds 95.00% (1,017,066,278 bytes) of heap memory\n",
      "Scaling row group sizes to 84.20% for 9 writers\n",
      "23/04/29 11:01:30 WARN MemoryManager: Total allocation exceeds 95.00% (1,017,066,278 bytes) of heap memory\n",
      "Scaling row group sizes to 75.78% for 10 writers\n"
     ]
    },
    {
     "name": "stderr",
     "output_type": "stream",
     "text": [
      "[Stage 42:======================>                              (170 + 10) / 395]\r"
     ]
    },
    {
     "name": "stdout",
     "output_type": "stream",
     "text": [
      "23/04/29 11:01:34 WARN MemoryManager: Total allocation exceeds 95.00% (1,017,066,278 bytes) of heap memory\n",
      "Scaling row group sizes to 84.20% for 9 writers\n",
      "23/04/29 11:01:34 WARN MemoryManager: Total allocation exceeds 95.00% (1,017,066,278 bytes) of heap memory\n",
      "Scaling row group sizes to 75.78% for 10 writers\n"
     ]
    },
    {
     "name": "stderr",
     "output_type": "stream",
     "text": [
      "[Stage 42:======================>                              (171 + 10) / 395]\r"
     ]
    },
    {
     "name": "stdout",
     "output_type": "stream",
     "text": [
      "23/04/29 11:01:35 WARN MemoryManager: Total allocation exceeds 95.00% (1,017,066,278 bytes) of heap memory\n",
      "Scaling row group sizes to 84.20% for 9 writers\n",
      "23/04/29 11:01:35 WARN MemoryManager: Total allocation exceeds 95.00% (1,017,066,278 bytes) of heap memory\n",
      "Scaling row group sizes to 75.78% for 10 writers\n"
     ]
    },
    {
     "name": "stderr",
     "output_type": "stream",
     "text": [
      "[Stage 42:=======================>                             (172 + 10) / 395]\r"
     ]
    },
    {
     "name": "stdout",
     "output_type": "stream",
     "text": [
      "23/04/29 11:01:36 WARN MemoryManager: Total allocation exceeds 95.00% (1,017,066,278 bytes) of heap memory\n",
      "Scaling row group sizes to 84.20% for 9 writers\n",
      "23/04/29 11:01:36 WARN MemoryManager: Total allocation exceeds 95.00% (1,017,066,278 bytes) of heap memory\n",
      "Scaling row group sizes to 75.78% for 10 writers\n"
     ]
    },
    {
     "name": "stderr",
     "output_type": "stream",
     "text": [
      "[Stage 42:=======================>                             (173 + 10) / 395]\r"
     ]
    },
    {
     "name": "stdout",
     "output_type": "stream",
     "text": [
      "23/04/29 11:01:36 WARN MemoryManager: Total allocation exceeds 95.00% (1,017,066,278 bytes) of heap memory\n",
      "Scaling row group sizes to 84.20% for 9 writers\n",
      "23/04/29 11:01:36 WARN MemoryManager: Total allocation exceeds 95.00% (1,017,066,278 bytes) of heap memory\n",
      "Scaling row group sizes to 75.78% for 10 writers\n"
     ]
    },
    {
     "name": "stderr",
     "output_type": "stream",
     "text": [
      "[Stage 42:=======================>                             (174 + 10) / 395]\r"
     ]
    },
    {
     "name": "stdout",
     "output_type": "stream",
     "text": [
      "23/04/29 11:01:36 WARN MemoryManager: Total allocation exceeds 95.00% (1,017,066,278 bytes) of heap memory\n",
      "Scaling row group sizes to 84.20% for 9 writers\n",
      "23/04/29 11:01:36 WARN MemoryManager: Total allocation exceeds 95.00% (1,017,066,278 bytes) of heap memory\n",
      "Scaling row group sizes to 94.72% for 8 writers\n",
      "23/04/29 11:01:36 WARN MemoryManager: Total allocation exceeds 95.00% (1,017,066,278 bytes) of heap memory\n",
      "Scaling row group sizes to 84.20% for 9 writers\n",
      "23/04/29 11:01:36 WARN MemoryManager: Total allocation exceeds 95.00% (1,017,066,278 bytes) of heap memory\n",
      "Scaling row group sizes to 75.78% for 10 writers\n"
     ]
    },
    {
     "name": "stderr",
     "output_type": "stream",
     "text": [
      "[Stage 42:=======================>                             (176 + 10) / 395]\r"
     ]
    },
    {
     "name": "stdout",
     "output_type": "stream",
     "text": [
      "23/04/29 11:01:37 WARN MemoryManager: Total allocation exceeds 95.00% (1,017,066,278 bytes) of heap memory\n",
      "Scaling row group sizes to 84.20% for 9 writers\n",
      "23/04/29 11:01:37 WARN MemoryManager: Total allocation exceeds 95.00% (1,017,066,278 bytes) of heap memory\n",
      "Scaling row group sizes to 75.78% for 10 writers\n",
      "23/04/29 11:01:37 WARN MemoryManager: Total allocation exceeds 95.00% (1,017,066,278 bytes) of heap memory\n",
      "Scaling row group sizes to 84.20% for 9 writers\n",
      "23/04/29 11:01:37 WARN MemoryManager: Total allocation exceeds 95.00% (1,017,066,278 bytes) of heap memory\n",
      "Scaling row group sizes to 94.72% for 8 writers\n",
      "23/04/29 11:01:37 WARN MemoryManager: Total allocation exceeds 95.00% (1,017,066,278 bytes) of heap memory\n",
      "Scaling row group sizes to 84.20% for 9 writers\n"
     ]
    },
    {
     "name": "stderr",
     "output_type": "stream",
     "text": [
      "[Stage 42:=======================>                             (177 + 10) / 395]\r"
     ]
    },
    {
     "name": "stdout",
     "output_type": "stream",
     "text": [
      "23/04/29 11:01:37 WARN MemoryManager: Total allocation exceeds 95.00% (1,017,066,278 bytes) of heap memory\n",
      "Scaling row group sizes to 75.78% for 10 writers\n"
     ]
    },
    {
     "name": "stderr",
     "output_type": "stream",
     "text": [
      "[Stage 42:========================>                            (179 + 10) / 395]\r"
     ]
    },
    {
     "name": "stdout",
     "output_type": "stream",
     "text": [
      "23/04/29 11:01:38 WARN MemoryManager: Total allocation exceeds 95.00% (1,017,066,278 bytes) of heap memory\n",
      "Scaling row group sizes to 84.20% for 9 writers\n",
      "23/04/29 11:01:38 WARN MemoryManager: Total allocation exceeds 95.00% (1,017,066,278 bytes) of heap memory\n",
      "Scaling row group sizes to 75.78% for 10 writers\n"
     ]
    },
    {
     "name": "stderr",
     "output_type": "stream",
     "text": [
      "[Stage 42:========================>                            (180 + 10) / 395]\r"
     ]
    },
    {
     "name": "stdout",
     "output_type": "stream",
     "text": [
      "23/04/29 11:01:42 WARN MemoryManager: Total allocation exceeds 95.00% (1,017,066,278 bytes) of heap memory\n",
      "Scaling row group sizes to 84.20% for 9 writers\n",
      "23/04/29 11:01:42 WARN MemoryManager: Total allocation exceeds 95.00% (1,017,066,278 bytes) of heap memory\n",
      "Scaling row group sizes to 75.78% for 10 writers\n"
     ]
    },
    {
     "name": "stderr",
     "output_type": "stream",
     "text": [
      "[Stage 42:========================>                            (181 + 10) / 395]\r"
     ]
    },
    {
     "name": "stdout",
     "output_type": "stream",
     "text": [
      "23/04/29 11:01:43 WARN MemoryManager: Total allocation exceeds 95.00% (1,017,066,278 bytes) of heap memory\n",
      "Scaling row group sizes to 84.20% for 9 writers\n",
      "23/04/29 11:01:43 WARN MemoryManager: Total allocation exceeds 95.00% (1,017,066,278 bytes) of heap memory\n",
      "Scaling row group sizes to 75.78% for 10 writers\n"
     ]
    },
    {
     "name": "stderr",
     "output_type": "stream",
     "text": [
      "[Stage 42:========================>                            (182 + 10) / 395]\r"
     ]
    },
    {
     "name": "stdout",
     "output_type": "stream",
     "text": [
      "23/04/29 11:01:43 WARN MemoryManager: Total allocation exceeds 95.00% (1,017,066,278 bytes) of heap memory\n",
      "Scaling row group sizes to 84.20% for 9 writers\n",
      "23/04/29 11:01:43 WARN MemoryManager: Total allocation exceeds 95.00% (1,017,066,278 bytes) of heap memory\n",
      "Scaling row group sizes to 75.78% for 10 writers\n"
     ]
    },
    {
     "name": "stderr",
     "output_type": "stream",
     "text": [
      "[Stage 42:========================>                            (183 + 10) / 395]\r"
     ]
    },
    {
     "name": "stdout",
     "output_type": "stream",
     "text": [
      "23/04/29 11:01:44 WARN MemoryManager: Total allocation exceeds 95.00% (1,017,066,278 bytes) of heap memory\n",
      "Scaling row group sizes to 84.20% for 9 writers\n",
      "23/04/29 11:01:44 WARN MemoryManager: Total allocation exceeds 95.00% (1,017,066,278 bytes) of heap memory\n",
      "Scaling row group sizes to 75.78% for 10 writers\n"
     ]
    },
    {
     "name": "stderr",
     "output_type": "stream",
     "text": [
      "[Stage 42:========================>                            (184 + 10) / 395]\r"
     ]
    },
    {
     "name": "stdout",
     "output_type": "stream",
     "text": [
      "23/04/29 11:01:44 WARN MemoryManager: Total allocation exceeds 95.00% (1,017,066,278 bytes) of heap memory\n",
      "Scaling row group sizes to 84.20% for 9 writers\n",
      "23/04/29 11:01:44 WARN MemoryManager: Total allocation exceeds 95.00% (1,017,066,278 bytes) of heap memory\n",
      "Scaling row group sizes to 75.78% for 10 writers\n",
      "23/04/29 11:01:44 WARN MemoryManager: Total allocation exceeds 95.00% (1,017,066,278 bytes) of heap memory\n",
      "Scaling row group sizes to 84.20% for 9 writers\n",
      "23/04/29 11:01:45 WARN MemoryManager: Total allocation exceeds 95.00% (1,017,066,278 bytes) of heap memory\n",
      "Scaling row group sizes to 75.78% for 10 writers\n"
     ]
    },
    {
     "name": "stderr",
     "output_type": "stream",
     "text": [
      "[Stage 42:========================>                            (186 + 10) / 395]\r"
     ]
    },
    {
     "name": "stdout",
     "output_type": "stream",
     "text": [
      "23/04/29 11:01:45 WARN MemoryManager: Total allocation exceeds 95.00% (1,017,066,278 bytes) of heap memory\n",
      "Scaling row group sizes to 84.20% for 9 writers\n",
      "23/04/29 11:01:45 WARN MemoryManager: Total allocation exceeds 95.00% (1,017,066,278 bytes) of heap memory\n",
      "Scaling row group sizes to 75.78% for 10 writers\n",
      "23/04/29 11:01:45 WARN MemoryManager: Total allocation exceeds 95.00% (1,017,066,278 bytes) of heap memory\n",
      "Scaling row group sizes to 84.20% for 9 writers\n"
     ]
    },
    {
     "name": "stderr",
     "output_type": "stream",
     "text": [
      "[Stage 42:=========================>                           (187 + 10) / 395]\r"
     ]
    },
    {
     "name": "stdout",
     "output_type": "stream",
     "text": [
      "23/04/29 11:01:45 WARN MemoryManager: Total allocation exceeds 95.00% (1,017,066,278 bytes) of heap memory\n",
      "Scaling row group sizes to 94.72% for 8 writers\n",
      "23/04/29 11:01:45 WARN MemoryManager: Total allocation exceeds 95.00% (1,017,066,278 bytes) of heap memory\n",
      "Scaling row group sizes to 84.20% for 9 writers\n",
      "23/04/29 11:01:45 WARN MemoryManager: Total allocation exceeds 95.00% (1,017,066,278 bytes) of heap memory\n",
      "Scaling row group sizes to 75.78% for 10 writers\n",
      "23/04/29 11:01:45 WARN MemoryManager: Total allocation exceeds 95.00% (1,017,066,278 bytes) of heap memory\n",
      "Scaling row group sizes to 84.20% for 9 writers\n"
     ]
    },
    {
     "name": "stderr",
     "output_type": "stream",
     "text": [
      "[Stage 42:=========================>                           (189 + 10) / 395]\r"
     ]
    },
    {
     "name": "stdout",
     "output_type": "stream",
     "text": [
      "23/04/29 11:01:45 WARN MemoryManager: Total allocation exceeds 95.00% (1,017,066,278 bytes) of heap memory\n",
      "Scaling row group sizes to 75.78% for 10 writers\n"
     ]
    },
    {
     "name": "stderr",
     "output_type": "stream",
     "text": [
      "[Stage 42:=========================>                           (190 + 10) / 395]\r"
     ]
    },
    {
     "name": "stdout",
     "output_type": "stream",
     "text": [
      "23/04/29 11:01:50 WARN MemoryManager: Total allocation exceeds 95.00% (1,017,066,278 bytes) of heap memory\n",
      "Scaling row group sizes to 84.20% for 9 writers\n",
      "23/04/29 11:01:50 WARN MemoryManager: Total allocation exceeds 95.00% (1,017,066,278 bytes) of heap memory\n",
      "Scaling row group sizes to 75.78% for 10 writers\n"
     ]
    },
    {
     "name": "stderr",
     "output_type": "stream",
     "text": [
      "[Stage 42:=========================>                           (191 + 10) / 395]\r"
     ]
    },
    {
     "name": "stdout",
     "output_type": "stream",
     "text": [
      "23/04/29 11:01:51 WARN MemoryManager: Total allocation exceeds 95.00% (1,017,066,278 bytes) of heap memory\n",
      "Scaling row group sizes to 84.20% for 9 writers\n",
      "23/04/29 11:01:51 WARN MemoryManager: Total allocation exceeds 95.00% (1,017,066,278 bytes) of heap memory\n",
      "Scaling row group sizes to 75.78% for 10 writers\n"
     ]
    },
    {
     "name": "stderr",
     "output_type": "stream",
     "text": [
      "[Stage 42:=========================>                           (192 + 10) / 395]\r"
     ]
    },
    {
     "name": "stdout",
     "output_type": "stream",
     "text": [
      "23/04/29 11:01:51 WARN MemoryManager: Total allocation exceeds 95.00% (1,017,066,278 bytes) of heap memory\n",
      "Scaling row group sizes to 84.20% for 9 writers\n",
      "23/04/29 11:01:51 WARN MemoryManager: Total allocation exceeds 95.00% (1,017,066,278 bytes) of heap memory\n",
      "Scaling row group sizes to 75.78% for 10 writers\n"
     ]
    },
    {
     "name": "stderr",
     "output_type": "stream",
     "text": [
      "[Stage 42:=========================>                           (193 + 10) / 395]\r"
     ]
    },
    {
     "name": "stdout",
     "output_type": "stream",
     "text": [
      "23/04/29 11:01:52 WARN MemoryManager: Total allocation exceeds 95.00% (1,017,066,278 bytes) of heap memory\n",
      "Scaling row group sizes to 84.20% for 9 writers\n",
      "23/04/29 11:01:52 WARN MemoryManager: Total allocation exceeds 95.00% (1,017,066,278 bytes) of heap memory\n",
      "Scaling row group sizes to 75.78% for 10 writers\n"
     ]
    },
    {
     "name": "stderr",
     "output_type": "stream",
     "text": [
      "[Stage 42:==========================>                          (194 + 10) / 395]\r"
     ]
    },
    {
     "name": "stdout",
     "output_type": "stream",
     "text": [
      "23/04/29 11:01:52 WARN MemoryManager: Total allocation exceeds 95.00% (1,017,066,278 bytes) of heap memory\n",
      "Scaling row group sizes to 84.20% for 9 writers\n",
      "23/04/29 11:01:52 WARN MemoryManager: Total allocation exceeds 95.00% (1,017,066,278 bytes) of heap memory\n",
      "Scaling row group sizes to 75.78% for 10 writers\n",
      "23/04/29 11:01:52 WARN MemoryManager: Total allocation exceeds 95.00% (1,017,066,278 bytes) of heap memory\n",
      "Scaling row group sizes to 84.20% for 9 writers\n",
      "23/04/29 11:01:52 WARN MemoryManager: Total allocation exceeds 95.00% (1,017,066,278 bytes) of heap memory\n",
      "Scaling row group sizes to 75.78% for 10 writers\n"
     ]
    },
    {
     "name": "stderr",
     "output_type": "stream",
     "text": [
      "[Stage 42:==========================>                          (196 + 10) / 395]\r"
     ]
    },
    {
     "name": "stdout",
     "output_type": "stream",
     "text": [
      "23/04/29 11:01:53 WARN MemoryManager: Total allocation exceeds 95.00% (1,017,066,278 bytes) of heap memory\n",
      "Scaling row group sizes to 84.20% for 9 writers\n",
      "23/04/29 11:01:53 WARN MemoryManager: Total allocation exceeds 95.00% (1,017,066,278 bytes) of heap memory\n",
      "Scaling row group sizes to 75.78% for 10 writers\n",
      "23/04/29 11:01:53 WARN MemoryManager: Total allocation exceeds 95.00% (1,017,066,278 bytes) of heap memory\n",
      "Scaling row group sizes to 84.20% for 9 writers\n"
     ]
    },
    {
     "name": "stderr",
     "output_type": "stream",
     "text": [
      "[Stage 42:==========================>                          (198 + 10) / 395]\r"
     ]
    },
    {
     "name": "stdout",
     "output_type": "stream",
     "text": [
      "23/04/29 11:01:53 WARN MemoryManager: Total allocation exceeds 95.00% (1,017,066,278 bytes) of heap memory\n",
      "Scaling row group sizes to 94.72% for 8 writers\n",
      "23/04/29 11:01:53 WARN MemoryManager: Total allocation exceeds 95.00% (1,017,066,278 bytes) of heap memory\n",
      "Scaling row group sizes to 84.20% for 9 writers\n",
      "23/04/29 11:01:53 WARN MemoryManager: Total allocation exceeds 95.00% (1,017,066,278 bytes) of heap memory\n",
      "Scaling row group sizes to 75.78% for 10 writers\n"
     ]
    },
    {
     "name": "stderr",
     "output_type": "stream",
     "text": [
      "[Stage 42:==========================>                          (199 + 10) / 395]\r"
     ]
    },
    {
     "name": "stdout",
     "output_type": "stream",
     "text": [
      "23/04/29 11:01:53 WARN MemoryManager: Total allocation exceeds 95.00% (1,017,066,278 bytes) of heap memory\n",
      "Scaling row group sizes to 84.20% for 9 writers\n",
      "23/04/29 11:01:53 WARN MemoryManager: Total allocation exceeds 95.00% (1,017,066,278 bytes) of heap memory\n",
      "Scaling row group sizes to 75.78% for 10 writers\n"
     ]
    },
    {
     "name": "stderr",
     "output_type": "stream",
     "text": [
      "[Stage 42:==========================>                          (200 + 10) / 395]\r"
     ]
    },
    {
     "name": "stdout",
     "output_type": "stream",
     "text": [
      "23/04/29 11:01:58 WARN MemoryManager: Total allocation exceeds 95.00% (1,017,066,278 bytes) of heap memory\n",
      "Scaling row group sizes to 84.20% for 9 writers\n",
      "23/04/29 11:01:58 WARN MemoryManager: Total allocation exceeds 95.00% (1,017,066,278 bytes) of heap memory\n",
      "Scaling row group sizes to 75.78% for 10 writers\n"
     ]
    },
    {
     "name": "stderr",
     "output_type": "stream",
     "text": [
      "[Stage 42:==========================>                          (201 + 10) / 395]\r"
     ]
    },
    {
     "name": "stdout",
     "output_type": "stream",
     "text": [
      "23/04/29 11:01:59 WARN MemoryManager: Total allocation exceeds 95.00% (1,017,066,278 bytes) of heap memory\n",
      "Scaling row group sizes to 84.20% for 9 writers\n",
      "23/04/29 11:01:59 WARN MemoryManager: Total allocation exceeds 95.00% (1,017,066,278 bytes) of heap memory\n",
      "Scaling row group sizes to 75.78% for 10 writers\n"
     ]
    },
    {
     "name": "stderr",
     "output_type": "stream",
     "text": [
      "[Stage 42:===========================>                         (202 + 10) / 395]\r"
     ]
    },
    {
     "name": "stdout",
     "output_type": "stream",
     "text": [
      "23/04/29 11:01:59 WARN MemoryManager: Total allocation exceeds 95.00% (1,017,066,278 bytes) of heap memory\n",
      "Scaling row group sizes to 84.20% for 9 writers\n",
      "23/04/29 11:01:59 WARN MemoryManager: Total allocation exceeds 95.00% (1,017,066,278 bytes) of heap memory\n",
      "Scaling row group sizes to 75.78% for 10 writers\n"
     ]
    },
    {
     "name": "stderr",
     "output_type": "stream",
     "text": [
      "[Stage 42:===========================>                         (203 + 10) / 395]\r"
     ]
    },
    {
     "name": "stdout",
     "output_type": "stream",
     "text": [
      "23/04/29 11:01:59 WARN MemoryManager: Total allocation exceeds 95.00% (1,017,066,278 bytes) of heap memory\n",
      "Scaling row group sizes to 84.20% for 9 writers\n",
      "23/04/29 11:01:59 WARN MemoryManager: Total allocation exceeds 95.00% (1,017,066,278 bytes) of heap memory\n",
      "Scaling row group sizes to 75.78% for 10 writers\n"
     ]
    },
    {
     "name": "stderr",
     "output_type": "stream",
     "text": [
      "[Stage 42:===========================>                         (204 + 10) / 395]\r"
     ]
    },
    {
     "name": "stdout",
     "output_type": "stream",
     "text": [
      "23/04/29 11:02:00 WARN MemoryManager: Total allocation exceeds 95.00% (1,017,066,278 bytes) of heap memory\n",
      "Scaling row group sizes to 84.20% for 9 writers\n",
      "23/04/29 11:02:00 WARN MemoryManager: Total allocation exceeds 95.00% (1,017,066,278 bytes) of heap memory\n",
      "Scaling row group sizes to 75.78% for 10 writers\n",
      "23/04/29 11:02:00 WARN MemoryManager: Total allocation exceeds 95.00% (1,017,066,278 bytes) of heap memory\n",
      "Scaling row group sizes to 84.20% for 9 writers\n",
      "23/04/29 11:02:00 WARN MemoryManager: Total allocation exceeds 95.00% (1,017,066,278 bytes) of heap memory\n",
      "Scaling row group sizes to 75.78% for 10 writers\n"
     ]
    },
    {
     "name": "stderr",
     "output_type": "stream",
     "text": [
      "[Stage 42:===========================>                         (206 + 10) / 395]\r"
     ]
    },
    {
     "name": "stdout",
     "output_type": "stream",
     "text": [
      "23/04/29 11:02:01 WARN MemoryManager: Total allocation exceeds 95.00% (1,017,066,278 bytes) of heap memory\n",
      "Scaling row group sizes to 84.20% for 9 writers\n",
      "23/04/29 11:02:01 WARN MemoryManager: Total allocation exceeds 95.00% (1,017,066,278 bytes) of heap memory\n",
      "Scaling row group sizes to 75.78% for 10 writers\n"
     ]
    },
    {
     "name": "stderr",
     "output_type": "stream",
     "text": [
      "[Stage 42:===========================>                         (207 + 10) / 395]\r"
     ]
    },
    {
     "name": "stdout",
     "output_type": "stream",
     "text": [
      "23/04/29 11:02:01 WARN MemoryManager: Total allocation exceeds 95.00% (1,017,066,278 bytes) of heap memory\n",
      "Scaling row group sizes to 84.20% for 9 writers\n",
      "23/04/29 11:02:01 WARN MemoryManager: Total allocation exceeds 95.00% (1,017,066,278 bytes) of heap memory\n",
      "Scaling row group sizes to 75.78% for 10 writers\n",
      "23/04/29 11:02:01 WARN MemoryManager: Total allocation exceeds 95.00% (1,017,066,278 bytes) of heap memory\n",
      "Scaling row group sizes to 84.20% for 9 writers\n",
      "23/04/29 11:02:01 WARN MemoryManager: Total allocation exceeds 95.00% (1,017,066,278 bytes) of heap memory\n",
      "Scaling row group sizes to 94.72% for 8 writers\n",
      "23/04/29 11:02:01 WARN MemoryManager: Total allocation exceeds 95.00% (1,017,066,278 bytes) of heap memory\n",
      "Scaling row group sizes to 84.20% for 9 writers\n",
      "23/04/29 11:02:01 WARN MemoryManager: Total allocation exceeds 95.00% (1,017,066,278 bytes) of heap memory\n",
      "Scaling row group sizes to 75.78% for 10 writers\n"
     ]
    },
    {
     "name": "stderr",
     "output_type": "stream",
     "text": [
      "[Stage 42:============================>                        (210 + 10) / 395]\r"
     ]
    },
    {
     "name": "stdout",
     "output_type": "stream",
     "text": [
      "23/04/29 11:02:05 WARN MemoryManager: Total allocation exceeds 95.00% (1,017,066,278 bytes) of heap memory\n",
      "Scaling row group sizes to 84.20% for 9 writers\n",
      "23/04/29 11:02:06 WARN MemoryManager: Total allocation exceeds 95.00% (1,017,066,278 bytes) of heap memory\n",
      "Scaling row group sizes to 75.78% for 10 writers\n"
     ]
    },
    {
     "name": "stderr",
     "output_type": "stream",
     "text": [
      "[Stage 42:============================>                        (211 + 10) / 395]\r"
     ]
    },
    {
     "name": "stdout",
     "output_type": "stream",
     "text": [
      "23/04/29 11:02:06 WARN MemoryManager: Total allocation exceeds 95.00% (1,017,066,278 bytes) of heap memory\n",
      "Scaling row group sizes to 84.20% for 9 writers\n",
      "23/04/29 11:02:07 WARN MemoryManager: Total allocation exceeds 95.00% (1,017,066,278 bytes) of heap memory\n",
      "Scaling row group sizes to 75.78% for 10 writers\n"
     ]
    },
    {
     "name": "stderr",
     "output_type": "stream",
     "text": [
      "[Stage 42:============================>                        (212 + 10) / 395]\r"
     ]
    },
    {
     "name": "stdout",
     "output_type": "stream",
     "text": [
      "23/04/29 11:02:07 WARN MemoryManager: Total allocation exceeds 95.00% (1,017,066,278 bytes) of heap memory\n",
      "Scaling row group sizes to 84.20% for 9 writers\n",
      "23/04/29 11:02:07 WARN MemoryManager: Total allocation exceeds 95.00% (1,017,066,278 bytes) of heap memory\n",
      "Scaling row group sizes to 75.78% for 10 writers\n"
     ]
    },
    {
     "name": "stderr",
     "output_type": "stream",
     "text": [
      "[Stage 42:============================>                        (213 + 10) / 395]\r"
     ]
    },
    {
     "name": "stdout",
     "output_type": "stream",
     "text": [
      "23/04/29 11:02:07 WARN MemoryManager: Total allocation exceeds 95.00% (1,017,066,278 bytes) of heap memory\n",
      "Scaling row group sizes to 84.20% for 9 writers\n",
      "23/04/29 11:02:07 WARN MemoryManager: Total allocation exceeds 95.00% (1,017,066,278 bytes) of heap memory\n",
      "Scaling row group sizes to 75.78% for 10 writers\n"
     ]
    },
    {
     "name": "stderr",
     "output_type": "stream",
     "text": [
      "[Stage 42:============================>                        (214 + 10) / 395]\r"
     ]
    },
    {
     "name": "stdout",
     "output_type": "stream",
     "text": [
      "23/04/29 11:02:08 WARN MemoryManager: Total allocation exceeds 95.00% (1,017,066,278 bytes) of heap memory\n",
      "Scaling row group sizes to 84.20% for 9 writers\n",
      "23/04/29 11:02:08 WARN MemoryManager: Total allocation exceeds 95.00% (1,017,066,278 bytes) of heap memory\n",
      "Scaling row group sizes to 75.78% for 10 writers\n",
      "23/04/29 11:02:08 WARN MemoryManager: Total allocation exceeds 95.00% (1,017,066,278 bytes) of heap memory\n",
      "Scaling row group sizes to 84.20% for 9 writers\n"
     ]
    },
    {
     "name": "stderr",
     "output_type": "stream",
     "text": [
      "[Stage 42:============================>                        (216 + 10) / 395]\r"
     ]
    },
    {
     "name": "stdout",
     "output_type": "stream",
     "text": [
      "23/04/29 11:02:08 WARN MemoryManager: Total allocation exceeds 95.00% (1,017,066,278 bytes) of heap memory\n",
      "Scaling row group sizes to 75.78% for 10 writers\n",
      "23/04/29 11:02:08 WARN MemoryManager: Total allocation exceeds 95.00% (1,017,066,278 bytes) of heap memory\n",
      "Scaling row group sizes to 84.20% for 9 writers\n",
      "23/04/29 11:02:08 WARN MemoryManager: Total allocation exceeds 95.00% (1,017,066,278 bytes) of heap memory\n",
      "Scaling row group sizes to 75.78% for 10 writers\n"
     ]
    },
    {
     "name": "stderr",
     "output_type": "stream",
     "text": [
      "[Stage 42:=============================>                       (217 + 10) / 395]\r"
     ]
    },
    {
     "name": "stdout",
     "output_type": "stream",
     "text": [
      "23/04/29 11:02:09 WARN MemoryManager: Total allocation exceeds 95.00% (1,017,066,278 bytes) of heap memory\n",
      "Scaling row group sizes to 84.20% for 9 writers\n",
      "23/04/29 11:02:09 WARN MemoryManager: Total allocation exceeds 95.00% (1,017,066,278 bytes) of heap memory\n",
      "Scaling row group sizes to 94.72% for 8 writers\n",
      "23/04/29 11:02:09 WARN MemoryManager: Total allocation exceeds 95.00% (1,017,066,278 bytes) of heap memory\n",
      "Scaling row group sizes to 84.20% for 9 writers\n",
      "23/04/29 11:02:09 WARN MemoryManager: Total allocation exceeds 95.00% (1,017,066,278 bytes) of heap memory\n",
      "Scaling row group sizes to 75.78% for 10 writers\n",
      "23/04/29 11:02:09 WARN MemoryManager: Total allocation exceeds 95.00% (1,017,066,278 bytes) of heap memory\n",
      "Scaling row group sizes to 84.20% for 9 writers\n"
     ]
    },
    {
     "name": "stderr",
     "output_type": "stream",
     "text": [
      "[Stage 42:=============================>                       (220 + 10) / 395]\r"
     ]
    },
    {
     "name": "stdout",
     "output_type": "stream",
     "text": [
      "23/04/29 11:02:09 WARN MemoryManager: Total allocation exceeds 95.00% (1,017,066,278 bytes) of heap memory\n",
      "Scaling row group sizes to 75.78% for 10 writers\n",
      "23/04/29 11:02:14 WARN MemoryManager: Total allocation exceeds 95.00% (1,017,066,278 bytes) of heap memory\n",
      "Scaling row group sizes to 84.20% for 9 writers\n",
      "23/04/29 11:02:14 WARN MemoryManager: Total allocation exceeds 95.00% (1,017,066,278 bytes) of heap memory\n",
      "Scaling row group sizes to 75.78% for 10 writers\n"
     ]
    },
    {
     "name": "stderr",
     "output_type": "stream",
     "text": [
      "[Stage 42:=============================>                       (221 + 10) / 395]\r"
     ]
    },
    {
     "name": "stdout",
     "output_type": "stream",
     "text": [
      "23/04/29 11:02:15 WARN MemoryManager: Total allocation exceeds 95.00% (1,017,066,278 bytes) of heap memory\n",
      "Scaling row group sizes to 84.20% for 9 writers\n",
      "23/04/29 11:02:15 WARN MemoryManager: Total allocation exceeds 95.00% (1,017,066,278 bytes) of heap memory\n",
      "Scaling row group sizes to 75.78% for 10 writers\n"
     ]
    },
    {
     "name": "stderr",
     "output_type": "stream",
     "text": [
      "[Stage 42:=============================>                       (222 + 10) / 395]\r"
     ]
    },
    {
     "name": "stdout",
     "output_type": "stream",
     "text": [
      "23/04/29 11:02:15 WARN MemoryManager: Total allocation exceeds 95.00% (1,017,066,278 bytes) of heap memory\n",
      "Scaling row group sizes to 84.20% for 9 writers\n",
      "23/04/29 11:02:15 WARN MemoryManager: Total allocation exceeds 95.00% (1,017,066,278 bytes) of heap memory\n",
      "Scaling row group sizes to 75.78% for 10 writers\n"
     ]
    },
    {
     "name": "stderr",
     "output_type": "stream",
     "text": [
      "[Stage 42:=============================>                       (223 + 10) / 395]\r"
     ]
    },
    {
     "name": "stdout",
     "output_type": "stream",
     "text": [
      "23/04/29 11:02:15 WARN MemoryManager: Total allocation exceeds 95.00% (1,017,066,278 bytes) of heap memory\n",
      "Scaling row group sizes to 84.20% for 9 writers\n",
      "23/04/29 11:02:16 WARN MemoryManager: Total allocation exceeds 95.00% (1,017,066,278 bytes) of heap memory\n",
      "Scaling row group sizes to 75.78% for 10 writers\n"
     ]
    },
    {
     "name": "stderr",
     "output_type": "stream",
     "text": [
      "[Stage 42:==============================>                      (224 + 10) / 395]\r"
     ]
    },
    {
     "name": "stdout",
     "output_type": "stream",
     "text": [
      "23/04/29 11:02:16 WARN MemoryManager: Total allocation exceeds 95.00% (1,017,066,278 bytes) of heap memory\n",
      "Scaling row group sizes to 84.20% for 9 writers\n",
      "23/04/29 11:02:16 WARN MemoryManager: Total allocation exceeds 95.00% (1,017,066,278 bytes) of heap memory\n",
      "Scaling row group sizes to 75.78% for 10 writers\n",
      "23/04/29 11:02:16 WARN MemoryManager: Total allocation exceeds 95.00% (1,017,066,278 bytes) of heap memory\n",
      "Scaling row group sizes to 84.20% for 9 writers\n"
     ]
    },
    {
     "name": "stderr",
     "output_type": "stream",
     "text": [
      "[Stage 42:==============================>                      (226 + 10) / 395]\r"
     ]
    },
    {
     "name": "stdout",
     "output_type": "stream",
     "text": [
      "23/04/29 11:02:16 WARN MemoryManager: Total allocation exceeds 95.00% (1,017,066,278 bytes) of heap memory\n",
      "Scaling row group sizes to 75.78% for 10 writers\n",
      "23/04/29 11:02:17 WARN MemoryManager: Total allocation exceeds 95.00% (1,017,066,278 bytes) of heap memory\n",
      "Scaling row group sizes to 84.20% for 9 writers\n",
      "23/04/29 11:02:17 WARN MemoryManager: Total allocation exceeds 95.00% (1,017,066,278 bytes) of heap memory\n",
      "Scaling row group sizes to 75.78% for 10 writers\n"
     ]
    },
    {
     "name": "stderr",
     "output_type": "stream",
     "text": [
      "[Stage 42:==============================>                      (227 + 10) / 395]\r"
     ]
    },
    {
     "name": "stdout",
     "output_type": "stream",
     "text": [
      "23/04/29 11:02:17 WARN MemoryManager: Total allocation exceeds 95.00% (1,017,066,278 bytes) of heap memory\n",
      "Scaling row group sizes to 84.20% for 9 writers\n",
      "23/04/29 11:02:17 WARN MemoryManager: Total allocation exceeds 95.00% (1,017,066,278 bytes) of heap memory\n",
      "Scaling row group sizes to 75.78% for 10 writers\n",
      "23/04/29 11:02:17 WARN MemoryManager: Total allocation exceeds 95.00% (1,017,066,278 bytes) of heap memory\n",
      "Scaling row group sizes to 84.20% for 9 writers\n",
      "23/04/29 11:02:17 WARN MemoryManager: Total allocation exceeds 95.00% (1,017,066,278 bytes) of heap memory\n",
      "Scaling row group sizes to 75.78% for 10 writers\n",
      "23/04/29 11:02:17 WARN MemoryManager: Total allocation exceeds 95.00% (1,017,066,278 bytes) of heap memory\n",
      "Scaling row group sizes to 84.20% for 9 writers\n"
     ]
    },
    {
     "name": "stderr",
     "output_type": "stream",
     "text": [
      "[Stage 42:==============================>                      (229 + 10) / 395]\r"
     ]
    },
    {
     "name": "stdout",
     "output_type": "stream",
     "text": [
      "23/04/29 11:02:17 WARN MemoryManager: Total allocation exceeds 95.00% (1,017,066,278 bytes) of heap memory\n",
      "Scaling row group sizes to 75.78% for 10 writers\n"
     ]
    },
    {
     "name": "stderr",
     "output_type": "stream",
     "text": [
      "[Stage 42:==============================>                      (230 + 10) / 395]\r"
     ]
    },
    {
     "name": "stdout",
     "output_type": "stream",
     "text": [
      "23/04/29 11:02:22 WARN MemoryManager: Total allocation exceeds 95.00% (1,017,066,278 bytes) of heap memory\n",
      "Scaling row group sizes to 84.20% for 9 writers\n",
      "23/04/29 11:02:22 WARN MemoryManager: Total allocation exceeds 95.00% (1,017,066,278 bytes) of heap memory\n",
      "Scaling row group sizes to 75.78% for 10 writers\n"
     ]
    },
    {
     "name": "stderr",
     "output_type": "stream",
     "text": [
      "[Stage 42:==============================>                      (231 + 10) / 395]\r"
     ]
    },
    {
     "name": "stdout",
     "output_type": "stream",
     "text": [
      "23/04/29 11:02:23 WARN MemoryManager: Total allocation exceeds 95.00% (1,017,066,278 bytes) of heap memory\n",
      "Scaling row group sizes to 84.20% for 9 writers\n",
      "23/04/29 11:02:23 WARN MemoryManager: Total allocation exceeds 95.00% (1,017,066,278 bytes) of heap memory\n",
      "Scaling row group sizes to 75.78% for 10 writers\n"
     ]
    },
    {
     "name": "stderr",
     "output_type": "stream",
     "text": [
      "[Stage 42:===============================>                     (232 + 10) / 395]\r"
     ]
    },
    {
     "name": "stdout",
     "output_type": "stream",
     "text": [
      "23/04/29 11:02:23 WARN MemoryManager: Total allocation exceeds 95.00% (1,017,066,278 bytes) of heap memory\n",
      "Scaling row group sizes to 84.20% for 9 writers\n",
      "23/04/29 11:02:23 WARN MemoryManager: Total allocation exceeds 95.00% (1,017,066,278 bytes) of heap memory\n",
      "Scaling row group sizes to 75.78% for 10 writers\n"
     ]
    },
    {
     "name": "stderr",
     "output_type": "stream",
     "text": [
      "[Stage 42:===============================>                     (233 + 10) / 395]\r"
     ]
    },
    {
     "name": "stdout",
     "output_type": "stream",
     "text": [
      "23/04/29 11:02:23 WARN MemoryManager: Total allocation exceeds 95.00% (1,017,066,278 bytes) of heap memory\n",
      "Scaling row group sizes to 84.20% for 9 writers\n",
      "23/04/29 11:02:23 WARN MemoryManager: Total allocation exceeds 95.00% (1,017,066,278 bytes) of heap memory\n",
      "Scaling row group sizes to 75.78% for 10 writers\n"
     ]
    },
    {
     "name": "stderr",
     "output_type": "stream",
     "text": [
      "[Stage 42:===============================>                     (234 + 10) / 395]\r"
     ]
    },
    {
     "name": "stdout",
     "output_type": "stream",
     "text": [
      "23/04/29 11:02:24 WARN MemoryManager: Total allocation exceeds 95.00% (1,017,066,278 bytes) of heap memory\n",
      "Scaling row group sizes to 84.20% for 9 writers\n",
      "23/04/29 11:02:24 WARN MemoryManager: Total allocation exceeds 95.00% (1,017,066,278 bytes) of heap memory\n",
      "Scaling row group sizes to 75.78% for 10 writers\n",
      "23/04/29 11:02:24 WARN MemoryManager: Total allocation exceeds 95.00% (1,017,066,278 bytes) of heap memory\n",
      "Scaling row group sizes to 84.20% for 9 writers\n",
      "23/04/29 11:02:24 WARN MemoryManager: Total allocation exceeds 95.00% (1,017,066,278 bytes) of heap memory\n",
      "Scaling row group sizes to 75.78% for 10 writers\n"
     ]
    },
    {
     "name": "stderr",
     "output_type": "stream",
     "text": [
      "[Stage 42:===============================>                     (236 + 10) / 395]\r"
     ]
    },
    {
     "name": "stdout",
     "output_type": "stream",
     "text": [
      "23/04/29 11:02:25 WARN MemoryManager: Total allocation exceeds 95.00% (1,017,066,278 bytes) of heap memory\n",
      "Scaling row group sizes to 84.20% for 9 writers\n",
      "23/04/29 11:02:25 WARN MemoryManager: Total allocation exceeds 95.00% (1,017,066,278 bytes) of heap memory\n",
      "Scaling row group sizes to 75.78% for 10 writers\n"
     ]
    },
    {
     "name": "stderr",
     "output_type": "stream",
     "text": [
      "[Stage 42:===============================>                     (237 + 10) / 395]\r"
     ]
    },
    {
     "name": "stdout",
     "output_type": "stream",
     "text": [
      "23/04/29 11:02:25 WARN MemoryManager: Total allocation exceeds 95.00% (1,017,066,278 bytes) of heap memory\n",
      "Scaling row group sizes to 84.20% for 9 writers\n",
      "23/04/29 11:02:25 WARN MemoryManager: Total allocation exceeds 95.00% (1,017,066,278 bytes) of heap memory\n",
      "Scaling row group sizes to 75.78% for 10 writers\n",
      "23/04/29 11:02:25 WARN MemoryManager: Total allocation exceeds 95.00% (1,017,066,278 bytes) of heap memory\n",
      "Scaling row group sizes to 84.20% for 9 writers\n"
     ]
    },
    {
     "name": "stderr",
     "output_type": "stream",
     "text": [
      "[Stage 42:===============================>                     (238 + 10) / 395]\r"
     ]
    },
    {
     "name": "stdout",
     "output_type": "stream",
     "text": [
      "23/04/29 11:02:25 WARN MemoryManager: Total allocation exceeds 95.00% (1,017,066,278 bytes) of heap memory\n",
      "Scaling row group sizes to 75.78% for 10 writers\n",
      "23/04/29 11:02:25 WARN MemoryManager: Total allocation exceeds 95.00% (1,017,066,278 bytes) of heap memory\n",
      "Scaling row group sizes to 84.20% for 9 writers\n",
      "23/04/29 11:02:25 WARN MemoryManager: Total allocation exceeds 95.00% (1,017,066,278 bytes) of heap memory\n",
      "Scaling row group sizes to 75.78% for 10 writers\n"
     ]
    },
    {
     "name": "stderr",
     "output_type": "stream",
     "text": [
      "[Stage 42:================================>                    (240 + 10) / 395]\r"
     ]
    },
    {
     "name": "stdout",
     "output_type": "stream",
     "text": [
      "23/04/29 11:02:30 WARN MemoryManager: Total allocation exceeds 95.00% (1,017,066,278 bytes) of heap memory\n",
      "Scaling row group sizes to 84.20% for 9 writers\n",
      "23/04/29 11:02:30 WARN MemoryManager: Total allocation exceeds 95.00% (1,017,066,278 bytes) of heap memory\n",
      "Scaling row group sizes to 75.78% for 10 writers\n"
     ]
    },
    {
     "name": "stderr",
     "output_type": "stream",
     "text": [
      "[Stage 42:================================>                    (241 + 10) / 395]\r"
     ]
    },
    {
     "name": "stdout",
     "output_type": "stream",
     "text": [
      "23/04/29 11:02:31 WARN MemoryManager: Total allocation exceeds 95.00% (1,017,066,278 bytes) of heap memory\n",
      "Scaling row group sizes to 84.20% for 9 writers\n",
      "23/04/29 11:02:31 WARN MemoryManager: Total allocation exceeds 95.00% (1,017,066,278 bytes) of heap memory\n",
      "Scaling row group sizes to 75.78% for 10 writers\n",
      "23/04/29 11:02:31 WARN MemoryManager: Total allocation exceeds 95.00% (1,017,066,278 bytes) of heap memory\n",
      "Scaling row group sizes to 84.20% for 9 writers\n"
     ]
    },
    {
     "name": "stderr",
     "output_type": "stream",
     "text": [
      "[Stage 42:================================>                    (242 + 10) / 395]\r"
     ]
    },
    {
     "name": "stdout",
     "output_type": "stream",
     "text": [
      "23/04/29 11:02:31 WARN MemoryManager: Total allocation exceeds 95.00% (1,017,066,278 bytes) of heap memory\n",
      "Scaling row group sizes to 75.78% for 10 writers\n"
     ]
    },
    {
     "name": "stderr",
     "output_type": "stream",
     "text": [
      "[Stage 42:================================>                    (243 + 10) / 395]\r"
     ]
    },
    {
     "name": "stdout",
     "output_type": "stream",
     "text": [
      "23/04/29 11:02:31 WARN MemoryManager: Total allocation exceeds 95.00% (1,017,066,278 bytes) of heap memory\n",
      "Scaling row group sizes to 84.20% for 9 writers\n",
      "23/04/29 11:02:31 WARN MemoryManager: Total allocation exceeds 95.00% (1,017,066,278 bytes) of heap memory\n",
      "Scaling row group sizes to 75.78% for 10 writers\n"
     ]
    },
    {
     "name": "stderr",
     "output_type": "stream",
     "text": [
      "[Stage 42:================================>                    (244 + 10) / 395]\r"
     ]
    },
    {
     "name": "stdout",
     "output_type": "stream",
     "text": [
      "23/04/29 11:02:32 WARN MemoryManager: Total allocation exceeds 95.00% (1,017,066,278 bytes) of heap memory\n",
      "Scaling row group sizes to 84.20% for 9 writers\n",
      "23/04/29 11:02:32 WARN MemoryManager: Total allocation exceeds 95.00% (1,017,066,278 bytes) of heap memory\n",
      "Scaling row group sizes to 75.78% for 10 writers\n",
      "23/04/29 11:02:32 WARN MemoryManager: Total allocation exceeds 95.00% (1,017,066,278 bytes) of heap memory\n",
      "Scaling row group sizes to 84.20% for 9 writers\n",
      "23/04/29 11:02:32 WARN MemoryManager: Total allocation exceeds 95.00% (1,017,066,278 bytes) of heap memory\n",
      "Scaling row group sizes to 75.78% for 10 writers\n"
     ]
    },
    {
     "name": "stderr",
     "output_type": "stream",
     "text": [
      "[Stage 42:=================================>                   (246 + 10) / 395]\r"
     ]
    },
    {
     "name": "stdout",
     "output_type": "stream",
     "text": [
      "23/04/29 11:02:33 WARN MemoryManager: Total allocation exceeds 95.00% (1,017,066,278 bytes) of heap memory\n",
      "Scaling row group sizes to 84.20% for 9 writers\n",
      "23/04/29 11:02:33 WARN MemoryManager: Total allocation exceeds 95.00% (1,017,066,278 bytes) of heap memory\n",
      "Scaling row group sizes to 75.78% for 10 writers\n"
     ]
    },
    {
     "name": "stderr",
     "output_type": "stream",
     "text": [
      "[Stage 42:=================================>                   (247 + 10) / 395]\r"
     ]
    },
    {
     "name": "stdout",
     "output_type": "stream",
     "text": [
      "23/04/29 11:02:33 WARN MemoryManager: Total allocation exceeds 95.00% (1,017,066,278 bytes) of heap memory\n",
      "Scaling row group sizes to 84.20% for 9 writers\n",
      "23/04/29 11:02:33 WARN MemoryManager: Total allocation exceeds 95.00% (1,017,066,278 bytes) of heap memory\n",
      "Scaling row group sizes to 75.78% for 10 writers\n",
      "23/04/29 11:02:33 WARN MemoryManager: Total allocation exceeds 95.00% (1,017,066,278 bytes) of heap memory\n",
      "Scaling row group sizes to 84.20% for 9 writers\n"
     ]
    },
    {
     "name": "stderr",
     "output_type": "stream",
     "text": [
      "[Stage 42:=================================>                   (248 + 10) / 395]\r"
     ]
    },
    {
     "name": "stdout",
     "output_type": "stream",
     "text": [
      "23/04/29 11:02:33 WARN MemoryManager: Total allocation exceeds 95.00% (1,017,066,278 bytes) of heap memory\n",
      "Scaling row group sizes to 75.78% for 10 writers\n",
      "23/04/29 11:02:33 WARN MemoryManager: Total allocation exceeds 95.00% (1,017,066,278 bytes) of heap memory\n",
      "Scaling row group sizes to 84.20% for 9 writers\n",
      "23/04/29 11:02:33 WARN MemoryManager: Total allocation exceeds 95.00% (1,017,066,278 bytes) of heap memory\n",
      "Scaling row group sizes to 75.78% for 10 writers\n"
     ]
    },
    {
     "name": "stderr",
     "output_type": "stream",
     "text": [
      "[Stage 42:=================================>                   (250 + 10) / 395]\r"
     ]
    },
    {
     "name": "stdout",
     "output_type": "stream",
     "text": [
      "23/04/29 11:02:37 WARN MemoryManager: Total allocation exceeds 95.00% (1,017,066,278 bytes) of heap memory\n",
      "Scaling row group sizes to 84.20% for 9 writers\n",
      "23/04/29 11:02:38 WARN MemoryManager: Total allocation exceeds 95.00% (1,017,066,278 bytes) of heap memory\n",
      "Scaling row group sizes to 75.78% for 10 writers\n"
     ]
    },
    {
     "name": "stderr",
     "output_type": "stream",
     "text": [
      "[Stage 42:=================================>                   (251 + 10) / 395]\r"
     ]
    },
    {
     "name": "stdout",
     "output_type": "stream",
     "text": [
      "23/04/29 11:02:39 WARN MemoryManager: Total allocation exceeds 95.00% (1,017,066,278 bytes) of heap memory\n",
      "Scaling row group sizes to 84.20% for 9 writers\n",
      "23/04/29 11:02:39 WARN MemoryManager: Total allocation exceeds 95.00% (1,017,066,278 bytes) of heap memory\n",
      "Scaling row group sizes to 75.78% for 10 writers\n",
      "23/04/29 11:02:39 WARN MemoryManager: Total allocation exceeds 95.00% (1,017,066,278 bytes) of heap memory\n",
      "Scaling row group sizes to 84.20% for 9 writers\n"
     ]
    },
    {
     "name": "stderr",
     "output_type": "stream",
     "text": [
      "[Stage 42:=================================>                   (253 + 10) / 395]\r"
     ]
    },
    {
     "name": "stdout",
     "output_type": "stream",
     "text": [
      "23/04/29 11:02:39 WARN MemoryManager: Total allocation exceeds 95.00% (1,017,066,278 bytes) of heap memory\n",
      "Scaling row group sizes to 75.78% for 10 writers\n",
      "23/04/29 11:02:39 WARN MemoryManager: Total allocation exceeds 95.00% (1,017,066,278 bytes) of heap memory\n",
      "Scaling row group sizes to 84.20% for 9 writers\n",
      "23/04/29 11:02:39 WARN MemoryManager: Total allocation exceeds 95.00% (1,017,066,278 bytes) of heap memory\n",
      "Scaling row group sizes to 75.78% for 10 writers\n"
     ]
    },
    {
     "name": "stderr",
     "output_type": "stream",
     "text": [
      "[Stage 42:==================================>                  (254 + 10) / 395]\r"
     ]
    },
    {
     "name": "stdout",
     "output_type": "stream",
     "text": [
      "23/04/29 11:02:40 WARN MemoryManager: Total allocation exceeds 95.00% (1,017,066,278 bytes) of heap memory\n",
      "Scaling row group sizes to 84.20% for 9 writers\n",
      "23/04/29 11:02:40 WARN MemoryManager: Total allocation exceeds 95.00% (1,017,066,278 bytes) of heap memory\n",
      "Scaling row group sizes to 94.72% for 8 writers\n",
      "23/04/29 11:02:40 WARN MemoryManager: Total allocation exceeds 95.00% (1,017,066,278 bytes) of heap memory\n",
      "Scaling row group sizes to 84.20% for 9 writers\n",
      "23/04/29 11:02:40 WARN MemoryManager: Total allocation exceeds 95.00% (1,017,066,278 bytes) of heap memory\n",
      "Scaling row group sizes to 75.78% for 10 writers\n"
     ]
    },
    {
     "name": "stderr",
     "output_type": "stream",
     "text": [
      "[Stage 42:==================================>                  (256 + 10) / 395]\r"
     ]
    },
    {
     "name": "stdout",
     "output_type": "stream",
     "text": [
      "23/04/29 11:02:40 WARN MemoryManager: Total allocation exceeds 95.00% (1,017,066,278 bytes) of heap memory\n",
      "Scaling row group sizes to 84.20% for 9 writers\n",
      "23/04/29 11:02:40 WARN MemoryManager: Total allocation exceeds 95.00% (1,017,066,278 bytes) of heap memory\n",
      "Scaling row group sizes to 75.78% for 10 writers\n"
     ]
    },
    {
     "name": "stderr",
     "output_type": "stream",
     "text": [
      "[Stage 42:==================================>                  (257 + 10) / 395]\r"
     ]
    },
    {
     "name": "stdout",
     "output_type": "stream",
     "text": [
      "23/04/29 11:02:41 WARN MemoryManager: Total allocation exceeds 95.00% (1,017,066,278 bytes) of heap memory\n",
      "Scaling row group sizes to 84.20% for 9 writers\n",
      "23/04/29 11:02:41 WARN MemoryManager: Total allocation exceeds 95.00% (1,017,066,278 bytes) of heap memory\n",
      "Scaling row group sizes to 75.78% for 10 writers\n",
      "23/04/29 11:02:41 WARN MemoryManager: Total allocation exceeds 95.00% (1,017,066,278 bytes) of heap memory\n",
      "Scaling row group sizes to 84.20% for 9 writers\n"
     ]
    },
    {
     "name": "stderr",
     "output_type": "stream",
     "text": [
      "[Stage 42:==================================>                  (260 + 10) / 395]\r"
     ]
    },
    {
     "name": "stdout",
     "output_type": "stream",
     "text": [
      "23/04/29 11:02:41 WARN MemoryManager: Total allocation exceeds 95.00% (1,017,066,278 bytes) of heap memory\n",
      "Scaling row group sizes to 75.78% for 10 writers\n",
      "23/04/29 11:02:41 WARN MemoryManager: Total allocation exceeds 95.00% (1,017,066,278 bytes) of heap memory\n",
      "Scaling row group sizes to 84.20% for 9 writers\n",
      "23/04/29 11:02:41 WARN MemoryManager: Total allocation exceeds 95.00% (1,017,066,278 bytes) of heap memory\n",
      "Scaling row group sizes to 75.78% for 10 writers\n",
      "23/04/29 11:02:46 WARN MemoryManager: Total allocation exceeds 95.00% (1,017,066,278 bytes) of heap memory\n",
      "Scaling row group sizes to 84.20% for 9 writers\n",
      "23/04/29 11:02:46 WARN MemoryManager: Total allocation exceeds 95.00% (1,017,066,278 bytes) of heap memory\n",
      "Scaling row group sizes to 75.78% for 10 writers\n"
     ]
    },
    {
     "name": "stderr",
     "output_type": "stream",
     "text": [
      "[Stage 42:===================================>                 (261 + 10) / 395]\r"
     ]
    },
    {
     "name": "stdout",
     "output_type": "stream",
     "text": [
      "23/04/29 11:02:47 WARN MemoryManager: Total allocation exceeds 95.00% (1,017,066,278 bytes) of heap memory\n",
      "Scaling row group sizes to 84.20% for 9 writers\n",
      "23/04/29 11:02:47 WARN MemoryManager: Total allocation exceeds 95.00% (1,017,066,278 bytes) of heap memory\n",
      "Scaling row group sizes to 94.72% for 8 writers\n",
      "23/04/29 11:02:47 WARN MemoryManager: Total allocation exceeds 95.00% (1,017,066,278 bytes) of heap memory\n",
      "Scaling row group sizes to 84.20% for 9 writers\n",
      "23/04/29 11:02:47 WARN MemoryManager: Total allocation exceeds 95.00% (1,017,066,278 bytes) of heap memory\n",
      "Scaling row group sizes to 75.78% for 10 writers\n"
     ]
    },
    {
     "name": "stderr",
     "output_type": "stream",
     "text": [
      "[Stage 42:===================================>                 (263 + 10) / 395]\r"
     ]
    },
    {
     "name": "stdout",
     "output_type": "stream",
     "text": [
      "23/04/29 11:02:47 WARN MemoryManager: Total allocation exceeds 95.00% (1,017,066,278 bytes) of heap memory\n",
      "Scaling row group sizes to 84.20% for 9 writers\n",
      "23/04/29 11:02:47 WARN MemoryManager: Total allocation exceeds 95.00% (1,017,066,278 bytes) of heap memory\n",
      "Scaling row group sizes to 75.78% for 10 writers\n"
     ]
    },
    {
     "name": "stderr",
     "output_type": "stream",
     "text": [
      "[Stage 42:===================================>                 (264 + 10) / 395]\r"
     ]
    },
    {
     "name": "stdout",
     "output_type": "stream",
     "text": [
      "23/04/29 11:02:48 WARN MemoryManager: Total allocation exceeds 95.00% (1,017,066,278 bytes) of heap memory\n",
      "Scaling row group sizes to 84.20% for 9 writers\n",
      "23/04/29 11:02:48 WARN MemoryManager: Total allocation exceeds 95.00% (1,017,066,278 bytes) of heap memory\n",
      "Scaling row group sizes to 94.72% for 8 writers\n",
      "23/04/29 11:02:48 WARN MemoryManager: Total allocation exceeds 95.00% (1,017,066,278 bytes) of heap memory\n",
      "Scaling row group sizes to 84.20% for 9 writers\n",
      "23/04/29 11:02:48 WARN MemoryManager: Total allocation exceeds 95.00% (1,017,066,278 bytes) of heap memory\n",
      "Scaling row group sizes to 94.72% for 8 writers\n",
      "23/04/29 11:02:48 WARN MemoryManager: Total allocation exceeds 95.00% (1,017,066,278 bytes) of heap memory\n",
      "Scaling row group sizes to 84.20% for 9 writers\n",
      "23/04/29 11:02:48 WARN MemoryManager: Total allocation exceeds 95.00% (1,017,066,278 bytes) of heap memory\n",
      "Scaling row group sizes to 75.78% for 10 writers\n"
     ]
    },
    {
     "name": "stderr",
     "output_type": "stream",
     "text": [
      "[Stage 42:===================================>                 (267 + 10) / 395]\r"
     ]
    },
    {
     "name": "stdout",
     "output_type": "stream",
     "text": [
      "23/04/29 11:02:49 WARN MemoryManager: Total allocation exceeds 95.00% (1,017,066,278 bytes) of heap memory\n",
      "Scaling row group sizes to 84.20% for 9 writers\n",
      "23/04/29 11:02:49 WARN MemoryManager: Total allocation exceeds 95.00% (1,017,066,278 bytes) of heap memory\n",
      "Scaling row group sizes to 75.78% for 10 writers\n",
      "23/04/29 11:02:49 WARN MemoryManager: Total allocation exceeds 95.00% (1,017,066,278 bytes) of heap memory\n",
      "Scaling row group sizes to 84.20% for 9 writers\n",
      "23/04/29 11:02:49 WARN MemoryManager: Total allocation exceeds 95.00% (1,017,066,278 bytes) of heap memory\n",
      "Scaling row group sizes to 75.78% for 10 writers\n"
     ]
    },
    {
     "name": "stderr",
     "output_type": "stream",
     "text": [
      "[Stage 42:====================================>                (269 + 10) / 395]\r"
     ]
    },
    {
     "name": "stdout",
     "output_type": "stream",
     "text": [
      "23/04/29 11:02:49 WARN MemoryManager: Total allocation exceeds 95.00% (1,017,066,278 bytes) of heap memory\n",
      "Scaling row group sizes to 84.20% for 9 writers\n",
      "23/04/29 11:02:49 WARN MemoryManager: Total allocation exceeds 95.00% (1,017,066,278 bytes) of heap memory\n",
      "Scaling row group sizes to 75.78% for 10 writers\n"
     ]
    },
    {
     "name": "stderr",
     "output_type": "stream",
     "text": [
      "[Stage 42:====================================>                (270 + 10) / 395]\r"
     ]
    },
    {
     "name": "stdout",
     "output_type": "stream",
     "text": [
      "23/04/29 11:02:54 WARN MemoryManager: Total allocation exceeds 95.00% (1,017,066,278 bytes) of heap memory\n",
      "Scaling row group sizes to 84.20% for 9 writers\n",
      "23/04/29 11:02:54 WARN MemoryManager: Total allocation exceeds 95.00% (1,017,066,278 bytes) of heap memory\n",
      "Scaling row group sizes to 75.78% for 10 writers\n"
     ]
    },
    {
     "name": "stderr",
     "output_type": "stream",
     "text": [
      "[Stage 42:====================================>                (271 + 10) / 395]\r"
     ]
    },
    {
     "name": "stdout",
     "output_type": "stream",
     "text": [
      "23/04/29 11:02:55 WARN MemoryManager: Total allocation exceeds 95.00% (1,017,066,278 bytes) of heap memory\n",
      "Scaling row group sizes to 84.20% for 9 writers\n",
      "23/04/29 11:02:55 WARN MemoryManager: Total allocation exceeds 95.00% (1,017,066,278 bytes) of heap memory\n",
      "Scaling row group sizes to 75.78% for 10 writers\n",
      "23/04/29 11:02:55 WARN MemoryManager: Total allocation exceeds 95.00% (1,017,066,278 bytes) of heap memory\n",
      "Scaling row group sizes to 84.20% for 9 writers\n",
      "23/04/29 11:02:55 WARN MemoryManager: Total allocation exceeds 95.00% (1,017,066,278 bytes) of heap memory\n",
      "Scaling row group sizes to 75.78% for 10 writers\n"
     ]
    },
    {
     "name": "stderr",
     "output_type": "stream",
     "text": [
      "[Stage 42:====================================>                (273 + 10) / 395]\r"
     ]
    },
    {
     "name": "stdout",
     "output_type": "stream",
     "text": [
      "23/04/29 11:02:55 WARN MemoryManager: Total allocation exceeds 95.00% (1,017,066,278 bytes) of heap memory\n",
      "Scaling row group sizes to 84.20% for 9 writers\n",
      "23/04/29 11:02:55 WARN MemoryManager: Total allocation exceeds 95.00% (1,017,066,278 bytes) of heap memory\n",
      "Scaling row group sizes to 75.78% for 10 writers\n"
     ]
    },
    {
     "name": "stderr",
     "output_type": "stream",
     "text": [
      "[Stage 42:====================================>                (274 + 10) / 395]\r"
     ]
    },
    {
     "name": "stdout",
     "output_type": "stream",
     "text": [
      "23/04/29 11:02:56 WARN MemoryManager: Total allocation exceeds 95.00% (1,017,066,278 bytes) of heap memory\n",
      "Scaling row group sizes to 84.20% for 9 writers\n",
      "23/04/29 11:02:56 WARN MemoryManager: Total allocation exceeds 95.00% (1,017,066,278 bytes) of heap memory\n",
      "Scaling row group sizes to 75.78% for 10 writers\n",
      "23/04/29 11:02:56 WARN MemoryManager: Total allocation exceeds 95.00% (1,017,066,278 bytes) of heap memory\n",
      "Scaling row group sizes to 84.20% for 9 writers\n",
      "23/04/29 11:02:56 WARN MemoryManager: Total allocation exceeds 95.00% (1,017,066,278 bytes) of heap memory\n",
      "Scaling row group sizes to 94.72% for 8 writers\n",
      "23/04/29 11:02:56 WARN MemoryManager: Total allocation exceeds 95.00% (1,017,066,278 bytes) of heap memory\n",
      "Scaling row group sizes to 84.20% for 9 writers\n",
      "23/04/29 11:02:56 WARN MemoryManager: Total allocation exceeds 95.00% (1,017,066,278 bytes) of heap memory\n",
      "Scaling row group sizes to 75.78% for 10 writers\n"
     ]
    },
    {
     "name": "stderr",
     "output_type": "stream",
     "text": [
      "[Stage 42:=====================================>               (277 + 10) / 395]\r"
     ]
    },
    {
     "name": "stdout",
     "output_type": "stream",
     "text": [
      "23/04/29 11:02:57 WARN MemoryManager: Total allocation exceeds 95.00% (1,017,066,278 bytes) of heap memory\n",
      "Scaling row group sizes to 84.20% for 9 writers\n",
      "23/04/29 11:02:57 WARN MemoryManager: Total allocation exceeds 95.00% (1,017,066,278 bytes) of heap memory\n",
      "Scaling row group sizes to 75.78% for 10 writers\n",
      "23/04/29 11:02:57 WARN MemoryManager: Total allocation exceeds 95.00% (1,017,066,278 bytes) of heap memory\n",
      "Scaling row group sizes to 84.20% for 9 writers\n"
     ]
    },
    {
     "name": "stderr",
     "output_type": "stream",
     "text": [
      "[Stage 42:=====================================>               (279 + 10) / 395]\r"
     ]
    },
    {
     "name": "stdout",
     "output_type": "stream",
     "text": [
      "23/04/29 11:02:57 WARN MemoryManager: Total allocation exceeds 95.00% (1,017,066,278 bytes) of heap memory\n",
      "Scaling row group sizes to 75.78% for 10 writers\n",
      "23/04/29 11:02:57 WARN MemoryManager: Total allocation exceeds 95.00% (1,017,066,278 bytes) of heap memory\n",
      "Scaling row group sizes to 84.20% for 9 writers\n",
      "23/04/29 11:02:57 WARN MemoryManager: Total allocation exceeds 95.00% (1,017,066,278 bytes) of heap memory\n",
      "Scaling row group sizes to 75.78% for 10 writers\n"
     ]
    },
    {
     "name": "stderr",
     "output_type": "stream",
     "text": [
      "[Stage 42:=====================================>               (280 + 10) / 395]\r"
     ]
    },
    {
     "name": "stdout",
     "output_type": "stream",
     "text": [
      "23/04/29 11:03:01 WARN MemoryManager: Total allocation exceeds 95.00% (1,017,066,278 bytes) of heap memory\n",
      "Scaling row group sizes to 84.20% for 9 writers\n",
      "23/04/29 11:03:02 WARN MemoryManager: Total allocation exceeds 95.00% (1,017,066,278 bytes) of heap memory\n",
      "Scaling row group sizes to 75.78% for 10 writers\n"
     ]
    },
    {
     "name": "stderr",
     "output_type": "stream",
     "text": [
      "[Stage 42:=====================================>               (281 + 10) / 395]\r"
     ]
    },
    {
     "name": "stdout",
     "output_type": "stream",
     "text": [
      "23/04/29 11:03:03 WARN MemoryManager: Total allocation exceeds 95.00% (1,017,066,278 bytes) of heap memory\n",
      "Scaling row group sizes to 84.20% for 9 writers\n",
      "23/04/29 11:03:03 WARN MemoryManager: Total allocation exceeds 95.00% (1,017,066,278 bytes) of heap memory\n",
      "Scaling row group sizes to 75.78% for 10 writers\n",
      "23/04/29 11:03:03 WARN MemoryManager: Total allocation exceeds 95.00% (1,017,066,278 bytes) of heap memory\n",
      "Scaling row group sizes to 84.20% for 9 writers\n",
      "23/04/29 11:03:03 WARN MemoryManager: Total allocation exceeds 95.00% (1,017,066,278 bytes) of heap memory\n",
      "Scaling row group sizes to 75.78% for 10 writers\n"
     ]
    },
    {
     "name": "stderr",
     "output_type": "stream",
     "text": [
      "[Stage 42:=====================================>               (283 + 10) / 395]\r"
     ]
    },
    {
     "name": "stdout",
     "output_type": "stream",
     "text": [
      "23/04/29 11:03:03 WARN MemoryManager: Total allocation exceeds 95.00% (1,017,066,278 bytes) of heap memory\n",
      "Scaling row group sizes to 84.20% for 9 writers\n",
      "23/04/29 11:03:03 WARN MemoryManager: Total allocation exceeds 95.00% (1,017,066,278 bytes) of heap memory\n",
      "Scaling row group sizes to 75.78% for 10 writers\n"
     ]
    },
    {
     "name": "stderr",
     "output_type": "stream",
     "text": [
      "[Stage 42:======================================>              (284 + 10) / 395]\r"
     ]
    },
    {
     "name": "stdout",
     "output_type": "stream",
     "text": [
      "23/04/29 11:03:04 WARN MemoryManager: Total allocation exceeds 95.00% (1,017,066,278 bytes) of heap memory\n",
      "Scaling row group sizes to 84.20% for 9 writers\n",
      "23/04/29 11:03:04 WARN MemoryManager: Total allocation exceeds 95.00% (1,017,066,278 bytes) of heap memory\n",
      "Scaling row group sizes to 75.78% for 10 writers\n"
     ]
    },
    {
     "name": "stderr",
     "output_type": "stream",
     "text": [
      "[Stage 42:======================================>              (285 + 10) / 395]\r"
     ]
    },
    {
     "name": "stdout",
     "output_type": "stream",
     "text": [
      "23/04/29 11:03:05 WARN MemoryManager: Total allocation exceeds 95.00% (1,017,066,278 bytes) of heap memory\n",
      "Scaling row group sizes to 84.20% for 9 writers\n",
      "23/04/29 11:03:05 WARN MemoryManager: Total allocation exceeds 95.00% (1,017,066,278 bytes) of heap memory\n",
      "Scaling row group sizes to 75.78% for 10 writers\n",
      "23/04/29 11:03:05 WARN MemoryManager: Total allocation exceeds 95.00% (1,017,066,278 bytes) of heap memory\n",
      "Scaling row group sizes to 84.20% for 9 writers\n"
     ]
    },
    {
     "name": "stderr",
     "output_type": "stream",
     "text": [
      "[Stage 42:======================================>              (286 + 10) / 395]\r"
     ]
    },
    {
     "name": "stdout",
     "output_type": "stream",
     "text": [
      "23/04/29 11:03:05 WARN MemoryManager: Total allocation exceeds 95.00% (1,017,066,278 bytes) of heap memory\n",
      "Scaling row group sizes to 94.72% for 8 writers\n",
      "23/04/29 11:03:05 WARN MemoryManager: Total allocation exceeds 95.00% (1,017,066,278 bytes) of heap memory\n",
      "Scaling row group sizes to 84.20% for 9 writers\n",
      "23/04/29 11:03:05 WARN MemoryManager: Total allocation exceeds 95.00% (1,017,066,278 bytes) of heap memory\n",
      "Scaling row group sizes to 75.78% for 10 writers\n"
     ]
    },
    {
     "name": "stderr",
     "output_type": "stream",
     "text": [
      "[Stage 42:======================================>              (288 + 10) / 395]\r"
     ]
    },
    {
     "name": "stdout",
     "output_type": "stream",
     "text": [
      "23/04/29 11:03:05 WARN MemoryManager: Total allocation exceeds 95.00% (1,017,066,278 bytes) of heap memory\n",
      "Scaling row group sizes to 84.20% for 9 writers\n",
      "23/04/29 11:03:05 WARN MemoryManager: Total allocation exceeds 95.00% (1,017,066,278 bytes) of heap memory\n",
      "Scaling row group sizes to 75.78% for 10 writers\n"
     ]
    },
    {
     "name": "stderr",
     "output_type": "stream",
     "text": [
      "[Stage 42:======================================>              (290 + 10) / 395]\r"
     ]
    },
    {
     "name": "stdout",
     "output_type": "stream",
     "text": [
      "23/04/29 11:03:05 WARN MemoryManager: Total allocation exceeds 95.00% (1,017,066,278 bytes) of heap memory\n",
      "Scaling row group sizes to 84.20% for 9 writers\n",
      "23/04/29 11:03:05 WARN MemoryManager: Total allocation exceeds 95.00% (1,017,066,278 bytes) of heap memory\n",
      "Scaling row group sizes to 75.78% for 10 writers\n",
      "23/04/29 11:03:10 WARN MemoryManager: Total allocation exceeds 95.00% (1,017,066,278 bytes) of heap memory\n",
      "Scaling row group sizes to 84.20% for 9 writers\n",
      "23/04/29 11:03:10 WARN MemoryManager: Total allocation exceeds 95.00% (1,017,066,278 bytes) of heap memory\n",
      "Scaling row group sizes to 75.78% for 10 writers\n"
     ]
    },
    {
     "name": "stderr",
     "output_type": "stream",
     "text": [
      "[Stage 42:=======================================>             (291 + 10) / 395]\r"
     ]
    },
    {
     "name": "stdout",
     "output_type": "stream",
     "text": [
      "23/04/29 11:03:11 WARN MemoryManager: Total allocation exceeds 95.00% (1,017,066,278 bytes) of heap memory\n",
      "Scaling row group sizes to 84.20% for 9 writers\n",
      "23/04/29 11:03:11 WARN MemoryManager: Total allocation exceeds 95.00% (1,017,066,278 bytes) of heap memory\n",
      "Scaling row group sizes to 94.72% for 8 writers\n",
      "23/04/29 11:03:11 WARN MemoryManager: Total allocation exceeds 95.00% (1,017,066,278 bytes) of heap memory\n",
      "Scaling row group sizes to 84.20% for 9 writers\n",
      "23/04/29 11:03:11 WARN MemoryManager: Total allocation exceeds 95.00% (1,017,066,278 bytes) of heap memory\n",
      "Scaling row group sizes to 75.78% for 10 writers\n"
     ]
    },
    {
     "name": "stderr",
     "output_type": "stream",
     "text": [
      "[Stage 42:=======================================>             (293 + 10) / 395]\r"
     ]
    },
    {
     "name": "stdout",
     "output_type": "stream",
     "text": [
      "23/04/29 11:03:11 WARN MemoryManager: Total allocation exceeds 95.00% (1,017,066,278 bytes) of heap memory\n",
      "Scaling row group sizes to 84.20% for 9 writers\n",
      "23/04/29 11:03:11 WARN MemoryManager: Total allocation exceeds 95.00% (1,017,066,278 bytes) of heap memory\n",
      "Scaling row group sizes to 75.78% for 10 writers\n"
     ]
    },
    {
     "name": "stderr",
     "output_type": "stream",
     "text": [
      "[Stage 42:=======================================>             (294 + 10) / 395]\r"
     ]
    },
    {
     "name": "stdout",
     "output_type": "stream",
     "text": [
      "23/04/29 11:03:12 WARN MemoryManager: Total allocation exceeds 95.00% (1,017,066,278 bytes) of heap memory\n",
      "Scaling row group sizes to 84.20% for 9 writers\n",
      "23/04/29 11:03:12 WARN MemoryManager: Total allocation exceeds 95.00% (1,017,066,278 bytes) of heap memory\n",
      "Scaling row group sizes to 75.78% for 10 writers\n"
     ]
    },
    {
     "name": "stderr",
     "output_type": "stream",
     "text": [
      "[Stage 42:=======================================>             (295 + 10) / 395]\r"
     ]
    },
    {
     "name": "stdout",
     "output_type": "stream",
     "text": [
      "23/04/29 11:03:13 WARN MemoryManager: Total allocation exceeds 95.00% (1,017,066,278 bytes) of heap memory\n",
      "Scaling row group sizes to 84.20% for 9 writers\n",
      "23/04/29 11:03:13 WARN MemoryManager: Total allocation exceeds 95.00% (1,017,066,278 bytes) of heap memory\n",
      "Scaling row group sizes to 75.78% for 10 writers\n"
     ]
    },
    {
     "name": "stderr",
     "output_type": "stream",
     "text": [
      "[Stage 42:=======================================>             (296 + 10) / 395]\r"
     ]
    },
    {
     "name": "stdout",
     "output_type": "stream",
     "text": [
      "23/04/29 11:03:13 WARN MemoryManager: Total allocation exceeds 95.00% (1,017,066,278 bytes) of heap memory\n",
      "Scaling row group sizes to 84.20% for 9 writers\n",
      "23/04/29 11:03:13 WARN MemoryManager: Total allocation exceeds 95.00% (1,017,066,278 bytes) of heap memory\n",
      "Scaling row group sizes to 94.72% for 8 writers\n",
      "23/04/29 11:03:13 WARN MemoryManager: Total allocation exceeds 95.00% (1,017,066,278 bytes) of heap memory\n",
      "Scaling row group sizes to 84.20% for 9 writers\n",
      "23/04/29 11:03:13 WARN MemoryManager: Total allocation exceeds 95.00% (1,017,066,278 bytes) of heap memory\n",
      "Scaling row group sizes to 75.78% for 10 writers\n"
     ]
    },
    {
     "name": "stderr",
     "output_type": "stream",
     "text": [
      "[Stage 42:=======================================>             (298 + 10) / 395]\r"
     ]
    },
    {
     "name": "stdout",
     "output_type": "stream",
     "text": [
      "23/04/29 11:03:14 WARN MemoryManager: Total allocation exceeds 95.00% (1,017,066,278 bytes) of heap memory\n",
      "Scaling row group sizes to 84.20% for 9 writers\n",
      "23/04/29 11:03:14 WARN MemoryManager: Total allocation exceeds 95.00% (1,017,066,278 bytes) of heap memory\n",
      "Scaling row group sizes to 75.78% for 10 writers\n",
      "23/04/29 11:03:14 WARN MemoryManager: Total allocation exceeds 95.00% (1,017,066,278 bytes) of heap memory\n",
      "Scaling row group sizes to 84.20% for 9 writers\n"
     ]
    },
    {
     "name": "stderr",
     "output_type": "stream",
     "text": [
      "[Stage 42:========================================>            (299 + 10) / 395]\r"
     ]
    },
    {
     "name": "stdout",
     "output_type": "stream",
     "text": [
      "23/04/29 11:03:14 WARN MemoryManager: Total allocation exceeds 95.00% (1,017,066,278 bytes) of heap memory\n",
      "Scaling row group sizes to 75.78% for 10 writers\n"
     ]
    },
    {
     "name": "stderr",
     "output_type": "stream",
     "text": [
      "[Stage 42:========================================>            (300 + 10) / 395]\r"
     ]
    },
    {
     "name": "stdout",
     "output_type": "stream",
     "text": [
      "23/04/29 11:03:18 WARN MemoryManager: Total allocation exceeds 95.00% (1,017,066,278 bytes) of heap memory\n",
      "Scaling row group sizes to 84.20% for 9 writers\n",
      "23/04/29 11:03:18 WARN MemoryManager: Total allocation exceeds 95.00% (1,017,066,278 bytes) of heap memory\n",
      "Scaling row group sizes to 75.78% for 10 writers\n"
     ]
    },
    {
     "name": "stderr",
     "output_type": "stream",
     "text": [
      "[Stage 42:========================================>            (301 + 10) / 395]\r"
     ]
    },
    {
     "name": "stdout",
     "output_type": "stream",
     "text": [
      "23/04/29 11:03:19 WARN MemoryManager: Total allocation exceeds 95.00% (1,017,066,278 bytes) of heap memory\n",
      "Scaling row group sizes to 84.20% for 9 writers\n",
      "23/04/29 11:03:19 WARN MemoryManager: Total allocation exceeds 95.00% (1,017,066,278 bytes) of heap memory\n",
      "Scaling row group sizes to 75.78% for 10 writers\n",
      "23/04/29 11:03:19 WARN MemoryManager: Total allocation exceeds 95.00% (1,017,066,278 bytes) of heap memory\n",
      "Scaling row group sizes to 84.20% for 9 writers\n",
      "23/04/29 11:03:19 WARN MemoryManager: Total allocation exceeds 95.00% (1,017,066,278 bytes) of heap memory\n",
      "Scaling row group sizes to 75.78% for 10 writers\n",
      "23/04/29 11:03:19 WARN MemoryManager: Total allocation exceeds 95.00% (1,017,066,278 bytes) of heap memory\n",
      "Scaling row group sizes to 84.20% for 9 writers\n"
     ]
    },
    {
     "name": "stderr",
     "output_type": "stream",
     "text": [
      "[Stage 42:========================================>            (303 + 10) / 395]\r"
     ]
    },
    {
     "name": "stdout",
     "output_type": "stream",
     "text": [
      "23/04/29 11:03:20 WARN MemoryManager: Total allocation exceeds 95.00% (1,017,066,278 bytes) of heap memory\n",
      "Scaling row group sizes to 75.78% for 10 writers\n"
     ]
    },
    {
     "name": "stderr",
     "output_type": "stream",
     "text": [
      "[Stage 42:========================================>            (304 + 10) / 395]\r"
     ]
    },
    {
     "name": "stdout",
     "output_type": "stream",
     "text": [
      "23/04/29 11:03:21 WARN MemoryManager: Total allocation exceeds 95.00% (1,017,066,278 bytes) of heap memory\n",
      "Scaling row group sizes to 84.20% for 9 writers\n",
      "23/04/29 11:03:21 WARN MemoryManager: Total allocation exceeds 95.00% (1,017,066,278 bytes) of heap memory\n",
      "Scaling row group sizes to 75.78% for 10 writers\n"
     ]
    },
    {
     "name": "stderr",
     "output_type": "stream",
     "text": [
      "[Stage 42:========================================>            (305 + 10) / 395]\r"
     ]
    },
    {
     "name": "stdout",
     "output_type": "stream",
     "text": [
      "23/04/29 11:03:21 WARN MemoryManager: Total allocation exceeds 95.00% (1,017,066,278 bytes) of heap memory\n",
      "Scaling row group sizes to 84.20% for 9 writers\n",
      "23/04/29 11:03:21 WARN MemoryManager: Total allocation exceeds 95.00% (1,017,066,278 bytes) of heap memory\n",
      "Scaling row group sizes to 75.78% for 10 writers\n"
     ]
    },
    {
     "name": "stderr",
     "output_type": "stream",
     "text": [
      "[Stage 42:=========================================>           (306 + 10) / 395]\r"
     ]
    },
    {
     "name": "stdout",
     "output_type": "stream",
     "text": [
      "23/04/29 11:03:22 WARN MemoryManager: Total allocation exceeds 95.00% (1,017,066,278 bytes) of heap memory\n",
      "Scaling row group sizes to 84.20% for 9 writers\n",
      "23/04/29 11:03:22 WARN MemoryManager: Total allocation exceeds 95.00% (1,017,066,278 bytes) of heap memory\n",
      "Scaling row group sizes to 94.72% for 8 writers\n",
      "23/04/29 11:03:22 WARN MemoryManager: Total allocation exceeds 95.00% (1,017,066,278 bytes) of heap memory\n",
      "Scaling row group sizes to 84.20% for 9 writers\n",
      "23/04/29 11:03:22 WARN MemoryManager: Total allocation exceeds 95.00% (1,017,066,278 bytes) of heap memory\n",
      "Scaling row group sizes to 75.78% for 10 writers\n",
      "23/04/29 11:03:22 WARN MemoryManager: Total allocation exceeds 95.00% (1,017,066,278 bytes) of heap memory\n",
      "Scaling row group sizes to 84.20% for 9 writers\n"
     ]
    },
    {
     "name": "stderr",
     "output_type": "stream",
     "text": [
      "[Stage 42:=========================================>           (308 + 10) / 395]\r"
     ]
    },
    {
     "name": "stdout",
     "output_type": "stream",
     "text": [
      "23/04/29 11:03:22 WARN MemoryManager: Total allocation exceeds 95.00% (1,017,066,278 bytes) of heap memory\n",
      "Scaling row group sizes to 94.72% for 8 writers\n",
      "23/04/29 11:03:22 WARN MemoryManager: Total allocation exceeds 95.00% (1,017,066,278 bytes) of heap memory\n",
      "Scaling row group sizes to 84.20% for 9 writers\n",
      "23/04/29 11:03:22 WARN MemoryManager: Total allocation exceeds 95.00% (1,017,066,278 bytes) of heap memory\n",
      "Scaling row group sizes to 75.78% for 10 writers\n"
     ]
    },
    {
     "name": "stderr",
     "output_type": "stream",
     "text": [
      "[Stage 42:=========================================>           (310 + 10) / 395]\r"
     ]
    },
    {
     "name": "stdout",
     "output_type": "stream",
     "text": [
      "23/04/29 11:03:26 WARN MemoryManager: Total allocation exceeds 95.00% (1,017,066,278 bytes) of heap memory\n",
      "Scaling row group sizes to 84.20% for 9 writers\n",
      "23/04/29 11:03:27 WARN MemoryManager: Total allocation exceeds 95.00% (1,017,066,278 bytes) of heap memory\n",
      "Scaling row group sizes to 75.78% for 10 writers\n"
     ]
    },
    {
     "name": "stderr",
     "output_type": "stream",
     "text": [
      "[Stage 42:=========================================>           (311 + 10) / 395]\r"
     ]
    },
    {
     "name": "stdout",
     "output_type": "stream",
     "text": [
      "23/04/29 11:03:28 WARN MemoryManager: Total allocation exceeds 95.00% (1,017,066,278 bytes) of heap memory\n",
      "Scaling row group sizes to 84.20% for 9 writers\n",
      "23/04/29 11:03:28 WARN MemoryManager: Total allocation exceeds 95.00% (1,017,066,278 bytes) of heap memory\n",
      "Scaling row group sizes to 94.72% for 8 writers\n",
      "23/04/29 11:03:28 WARN MemoryManager: Total allocation exceeds 95.00% (1,017,066,278 bytes) of heap memory\n",
      "Scaling row group sizes to 84.20% for 9 writers\n",
      "23/04/29 11:03:28 WARN MemoryManager: Total allocation exceeds 95.00% (1,017,066,278 bytes) of heap memory\n",
      "Scaling row group sizes to 75.78% for 10 writers\n"
     ]
    },
    {
     "name": "stderr",
     "output_type": "stream",
     "text": [
      "[Stage 42:==========================================>          (314 + 10) / 395]\r"
     ]
    },
    {
     "name": "stdout",
     "output_type": "stream",
     "text": [
      "23/04/29 11:03:28 WARN MemoryManager: Total allocation exceeds 95.00% (1,017,066,278 bytes) of heap memory\n",
      "Scaling row group sizes to 84.20% for 9 writers\n",
      "23/04/29 11:03:28 WARN MemoryManager: Total allocation exceeds 95.00% (1,017,066,278 bytes) of heap memory\n",
      "Scaling row group sizes to 75.78% for 10 writers\n",
      "23/04/29 11:03:29 WARN MemoryManager: Total allocation exceeds 95.00% (1,017,066,278 bytes) of heap memory\n",
      "Scaling row group sizes to 84.20% for 9 writers\n",
      "23/04/29 11:03:29 WARN MemoryManager: Total allocation exceeds 95.00% (1,017,066,278 bytes) of heap memory\n",
      "Scaling row group sizes to 75.78% for 10 writers\n"
     ]
    },
    {
     "name": "stderr",
     "output_type": "stream",
     "text": [
      "[Stage 42:==========================================>          (315 + 10) / 395]\r"
     ]
    },
    {
     "name": "stdout",
     "output_type": "stream",
     "text": [
      "23/04/29 11:03:30 WARN MemoryManager: Total allocation exceeds 95.00% (1,017,066,278 bytes) of heap memory\n",
      "Scaling row group sizes to 84.20% for 9 writers\n",
      "23/04/29 11:03:30 WARN MemoryManager: Total allocation exceeds 95.00% (1,017,066,278 bytes) of heap memory\n",
      "Scaling row group sizes to 75.78% for 10 writers\n"
     ]
    },
    {
     "name": "stderr",
     "output_type": "stream",
     "text": [
      "[Stage 42:==========================================>          (316 + 10) / 395]\r"
     ]
    },
    {
     "name": "stdout",
     "output_type": "stream",
     "text": [
      "23/04/29 11:03:31 WARN MemoryManager: Total allocation exceeds 95.00% (1,017,066,278 bytes) of heap memory\n",
      "Scaling row group sizes to 84.20% for 9 writers\n",
      "23/04/29 11:03:31 WARN MemoryManager: Total allocation exceeds 95.00% (1,017,066,278 bytes) of heap memory\n",
      "Scaling row group sizes to 75.78% for 10 writers\n",
      "23/04/29 11:03:31 WARN MemoryManager: Total allocation exceeds 95.00% (1,017,066,278 bytes) of heap memory\n",
      "Scaling row group sizes to 84.20% for 9 writers\n",
      "23/04/29 11:03:31 WARN MemoryManager: Total allocation exceeds 95.00% (1,017,066,278 bytes) of heap memory\n",
      "Scaling row group sizes to 75.78% for 10 writers\n"
     ]
    },
    {
     "name": "stderr",
     "output_type": "stream",
     "text": [
      "[Stage 42:==========================================>          (318 + 10) / 395]\r"
     ]
    },
    {
     "name": "stdout",
     "output_type": "stream",
     "text": [
      "23/04/29 11:03:31 WARN MemoryManager: Total allocation exceeds 95.00% (1,017,066,278 bytes) of heap memory\n",
      "Scaling row group sizes to 84.20% for 9 writers\n",
      "23/04/29 11:03:31 WARN MemoryManager: Total allocation exceeds 95.00% (1,017,066,278 bytes) of heap memory\n",
      "Scaling row group sizes to 75.78% for 10 writers\n"
     ]
    },
    {
     "name": "stderr",
     "output_type": "stream",
     "text": [
      "[Stage 42:==========================================>          (319 + 10) / 395]\r"
     ]
    },
    {
     "name": "stdout",
     "output_type": "stream",
     "text": [
      "23/04/29 11:03:31 WARN MemoryManager: Total allocation exceeds 95.00% (1,017,066,278 bytes) of heap memory\n",
      "Scaling row group sizes to 84.20% for 9 writers\n",
      "23/04/29 11:03:31 WARN MemoryManager: Total allocation exceeds 95.00% (1,017,066,278 bytes) of heap memory\n",
      "Scaling row group sizes to 75.78% for 10 writers\n"
     ]
    },
    {
     "name": "stderr",
     "output_type": "stream",
     "text": [
      "[Stage 42:==========================================>          (320 + 10) / 395]\r"
     ]
    },
    {
     "name": "stdout",
     "output_type": "stream",
     "text": [
      "23/04/29 11:03:35 WARN MemoryManager: Total allocation exceeds 95.00% (1,017,066,278 bytes) of heap memory\n",
      "Scaling row group sizes to 84.20% for 9 writers\n"
     ]
    },
    {
     "name": "stderr",
     "output_type": "stream",
     "text": [
      "[Stage 42:===========================================>         (321 + 10) / 395]\r"
     ]
    },
    {
     "name": "stdout",
     "output_type": "stream",
     "text": [
      "23/04/29 11:03:35 WARN MemoryManager: Total allocation exceeds 95.00% (1,017,066,278 bytes) of heap memory\n",
      "Scaling row group sizes to 75.78% for 10 writers\n",
      "23/04/29 11:03:36 WARN MemoryManager: Total allocation exceeds 95.00% (1,017,066,278 bytes) of heap memory\n",
      "Scaling row group sizes to 84.20% for 9 writers\n",
      "23/04/29 11:03:36 WARN MemoryManager: Total allocation exceeds 95.00% (1,017,066,278 bytes) of heap memory\n",
      "Scaling row group sizes to 94.72% for 8 writers\n",
      "23/04/29 11:03:36 WARN MemoryManager: Total allocation exceeds 95.00% (1,017,066,278 bytes) of heap memory\n",
      "Scaling row group sizes to 84.20% for 9 writers\n",
      "23/04/29 11:03:36 WARN MemoryManager: Total allocation exceeds 95.00% (1,017,066,278 bytes) of heap memory\n",
      "Scaling row group sizes to 75.78% for 10 writers\n",
      "23/04/29 11:03:36 WARN MemoryManager: Total allocation exceeds 95.00% (1,017,066,278 bytes) of heap memory\n",
      "Scaling row group sizes to 84.20% for 9 writers\n"
     ]
    },
    {
     "name": "stderr",
     "output_type": "stream",
     "text": [
      "[Stage 42:===========================================>         (324 + 10) / 395]\r"
     ]
    },
    {
     "name": "stdout",
     "output_type": "stream",
     "text": [
      "23/04/29 11:03:36 WARN MemoryManager: Total allocation exceeds 95.00% (1,017,066,278 bytes) of heap memory\n",
      "Scaling row group sizes to 75.78% for 10 writers\n",
      "23/04/29 11:03:37 WARN MemoryManager: Total allocation exceeds 95.00% (1,017,066,278 bytes) of heap memory\n",
      "Scaling row group sizes to 84.20% for 9 writers\n",
      "23/04/29 11:03:37 WARN MemoryManager: Total allocation exceeds 95.00% (1,017,066,278 bytes) of heap memory\n",
      "Scaling row group sizes to 75.78% for 10 writers\n"
     ]
    },
    {
     "name": "stderr",
     "output_type": "stream",
     "text": [
      "[Stage 42:===========================================>         (325 + 10) / 395]\r"
     ]
    },
    {
     "name": "stdout",
     "output_type": "stream",
     "text": [
      "23/04/29 11:03:38 WARN MemoryManager: Total allocation exceeds 95.00% (1,017,066,278 bytes) of heap memory\n",
      "Scaling row group sizes to 84.20% for 9 writers\n",
      "23/04/29 11:03:38 WARN MemoryManager: Total allocation exceeds 95.00% (1,017,066,278 bytes) of heap memory\n",
      "Scaling row group sizes to 75.78% for 10 writers\n"
     ]
    },
    {
     "name": "stderr",
     "output_type": "stream",
     "text": [
      "[Stage 42:===========================================>         (326 + 10) / 395]\r"
     ]
    },
    {
     "name": "stdout",
     "output_type": "stream",
     "text": [
      "23/04/29 11:03:39 WARN MemoryManager: Total allocation exceeds 95.00% (1,017,066,278 bytes) of heap memory\n",
      "Scaling row group sizes to 84.20% for 9 writers\n",
      "23/04/29 11:03:39 WARN MemoryManager: Total allocation exceeds 95.00% (1,017,066,278 bytes) of heap memory\n",
      "Scaling row group sizes to 94.72% for 8 writers\n",
      "23/04/29 11:03:39 WARN MemoryManager: Total allocation exceeds 95.00% (1,017,066,278 bytes) of heap memory\n",
      "Scaling row group sizes to 84.20% for 9 writers\n",
      "23/04/29 11:03:39 WARN MemoryManager: Total allocation exceeds 95.00% (1,017,066,278 bytes) of heap memory\n",
      "Scaling row group sizes to 75.78% for 10 writers\n"
     ]
    },
    {
     "name": "stderr",
     "output_type": "stream",
     "text": [
      "[Stage 42:============================================>        (328 + 10) / 395]\r"
     ]
    },
    {
     "name": "stdout",
     "output_type": "stream",
     "text": [
      "23/04/29 11:03:39 WARN MemoryManager: Total allocation exceeds 95.00% (1,017,066,278 bytes) of heap memory\n",
      "Scaling row group sizes to 84.20% for 9 writers\n",
      "23/04/29 11:03:39 WARN MemoryManager: Total allocation exceeds 95.00% (1,017,066,278 bytes) of heap memory\n",
      "Scaling row group sizes to 75.78% for 10 writers\n"
     ]
    },
    {
     "name": "stderr",
     "output_type": "stream",
     "text": [
      "[Stage 42:============================================>        (329 + 10) / 395]\r"
     ]
    },
    {
     "name": "stdout",
     "output_type": "stream",
     "text": [
      "23/04/29 11:03:39 WARN MemoryManager: Total allocation exceeds 95.00% (1,017,066,278 bytes) of heap memory\n",
      "Scaling row group sizes to 84.20% for 9 writers\n",
      "23/04/29 11:03:39 WARN MemoryManager: Total allocation exceeds 95.00% (1,017,066,278 bytes) of heap memory\n",
      "Scaling row group sizes to 75.78% for 10 writers\n"
     ]
    },
    {
     "name": "stderr",
     "output_type": "stream",
     "text": [
      "[Stage 42:============================================>        (330 + 10) / 395]\r"
     ]
    },
    {
     "name": "stdout",
     "output_type": "stream",
     "text": [
      "23/04/29 11:03:43 WARN MemoryManager: Total allocation exceeds 95.00% (1,017,066,278 bytes) of heap memory\n",
      "Scaling row group sizes to 84.20% for 9 writers\n",
      "23/04/29 11:03:43 WARN MemoryManager: Total allocation exceeds 95.00% (1,017,066,278 bytes) of heap memory\n",
      "Scaling row group sizes to 75.78% for 10 writers\n"
     ]
    },
    {
     "name": "stderr",
     "output_type": "stream",
     "text": [
      "[Stage 42:============================================>        (331 + 10) / 395]\r"
     ]
    },
    {
     "name": "stdout",
     "output_type": "stream",
     "text": [
      "23/04/29 11:03:44 WARN MemoryManager: Total allocation exceeds 95.00% (1,017,066,278 bytes) of heap memory\n",
      "Scaling row group sizes to 84.20% for 9 writers\n",
      "23/04/29 11:03:44 WARN MemoryManager: Total allocation exceeds 95.00% (1,017,066,278 bytes) of heap memory\n",
      "Scaling row group sizes to 75.78% for 10 writers\n"
     ]
    },
    {
     "name": "stderr",
     "output_type": "stream",
     "text": [
      "[Stage 42:============================================>        (332 + 10) / 395]\r"
     ]
    },
    {
     "name": "stdout",
     "output_type": "stream",
     "text": [
      "23/04/29 11:03:45 WARN MemoryManager: Total allocation exceeds 95.00% (1,017,066,278 bytes) of heap memory\n",
      "Scaling row group sizes to 84.20% for 9 writers\n",
      "23/04/29 11:03:45 WARN MemoryManager: Total allocation exceeds 95.00% (1,017,066,278 bytes) of heap memory\n",
      "Scaling row group sizes to 75.78% for 10 writers\n",
      "23/04/29 11:03:45 WARN MemoryManager: Total allocation exceeds 95.00% (1,017,066,278 bytes) of heap memory\n",
      "Scaling row group sizes to 84.20% for 9 writers\n",
      "23/04/29 11:03:45 WARN MemoryManager: Total allocation exceeds 95.00% (1,017,066,278 bytes) of heap memory\n",
      "Scaling row group sizes to 94.72% for 8 writers\n",
      "23/04/29 11:03:45 WARN MemoryManager: Total allocation exceeds 95.00% (1,017,066,278 bytes) of heap memory\n",
      "Scaling row group sizes to 84.20% for 9 writers\n"
     ]
    },
    {
     "name": "stderr",
     "output_type": "stream",
     "text": [
      "[Stage 42:============================================>        (333 + 10) / 395]\r"
     ]
    },
    {
     "name": "stdout",
     "output_type": "stream",
     "text": [
      "23/04/29 11:03:45 WARN MemoryManager: Total allocation exceeds 95.00% (1,017,066,278 bytes) of heap memory\n",
      "Scaling row group sizes to 75.78% for 10 writers\n"
     ]
    },
    {
     "name": "stderr",
     "output_type": "stream",
     "text": [
      "[Stage 42:============================================>        (335 + 10) / 395]\r"
     ]
    },
    {
     "name": "stdout",
     "output_type": "stream",
     "text": [
      "23/04/29 11:03:46 WARN MemoryManager: Total allocation exceeds 95.00% (1,017,066,278 bytes) of heap memory\n",
      "Scaling row group sizes to 84.20% for 9 writers\n",
      "23/04/29 11:03:46 WARN MemoryManager: Total allocation exceeds 95.00% (1,017,066,278 bytes) of heap memory\n",
      "Scaling row group sizes to 75.78% for 10 writers\n"
     ]
    },
    {
     "name": "stderr",
     "output_type": "stream",
     "text": [
      "[Stage 42:=============================================>       (336 + 10) / 395]\r"
     ]
    },
    {
     "name": "stdout",
     "output_type": "stream",
     "text": [
      "23/04/29 11:03:47 WARN MemoryManager: Total allocation exceeds 95.00% (1,017,066,278 bytes) of heap memory\n",
      "Scaling row group sizes to 84.20% for 9 writers\n",
      "23/04/29 11:03:47 WARN MemoryManager: Total allocation exceeds 95.00% (1,017,066,278 bytes) of heap memory\n",
      "Scaling row group sizes to 75.78% for 10 writers\n"
     ]
    },
    {
     "name": "stderr",
     "output_type": "stream",
     "text": [
      "[Stage 42:=============================================>       (337 + 10) / 395]\r"
     ]
    },
    {
     "name": "stdout",
     "output_type": "stream",
     "text": [
      "23/04/29 11:03:47 WARN MemoryManager: Total allocation exceeds 95.00% (1,017,066,278 bytes) of heap memory\n",
      "Scaling row group sizes to 84.20% for 9 writers\n",
      "23/04/29 11:03:47 WARN MemoryManager: Total allocation exceeds 95.00% (1,017,066,278 bytes) of heap memory\n",
      "Scaling row group sizes to 75.78% for 10 writers\n"
     ]
    },
    {
     "name": "stderr",
     "output_type": "stream",
     "text": [
      "[Stage 42:=============================================>       (338 + 10) / 395]\r"
     ]
    },
    {
     "name": "stdout",
     "output_type": "stream",
     "text": [
      "23/04/29 11:03:48 WARN MemoryManager: Total allocation exceeds 95.00% (1,017,066,278 bytes) of heap memory\n",
      "Scaling row group sizes to 84.20% for 9 writers\n",
      "23/04/29 11:03:48 WARN MemoryManager: Total allocation exceeds 95.00% (1,017,066,278 bytes) of heap memory\n",
      "Scaling row group sizes to 94.72% for 8 writers\n",
      "23/04/29 11:03:48 WARN MemoryManager: Total allocation exceeds 95.00% (1,017,066,278 bytes) of heap memory\n",
      "Scaling row group sizes to 84.20% for 9 writers\n",
      "23/04/29 11:03:48 WARN MemoryManager: Total allocation exceeds 95.00% (1,017,066,278 bytes) of heap memory\n",
      "Scaling row group sizes to 75.78% for 10 writers\n"
     ]
    },
    {
     "name": "stderr",
     "output_type": "stream",
     "text": [
      "[Stage 42:=============================================>       (340 + 10) / 395]\r"
     ]
    },
    {
     "name": "stdout",
     "output_type": "stream",
     "text": [
      "23/04/29 11:03:51 WARN MemoryManager: Total allocation exceeds 95.00% (1,017,066,278 bytes) of heap memory\n",
      "Scaling row group sizes to 84.20% for 9 writers\n",
      "23/04/29 11:03:51 WARN MemoryManager: Total allocation exceeds 95.00% (1,017,066,278 bytes) of heap memory\n",
      "Scaling row group sizes to 75.78% for 10 writers\n"
     ]
    },
    {
     "name": "stderr",
     "output_type": "stream",
     "text": [
      "[Stage 42:=============================================>       (341 + 10) / 395]\r"
     ]
    },
    {
     "name": "stdout",
     "output_type": "stream",
     "text": [
      "23/04/29 11:03:52 WARN MemoryManager: Total allocation exceeds 95.00% (1,017,066,278 bytes) of heap memory\n",
      "Scaling row group sizes to 84.20% for 9 writers\n",
      "23/04/29 11:03:52 WARN MemoryManager: Total allocation exceeds 95.00% (1,017,066,278 bytes) of heap memory\n",
      "Scaling row group sizes to 75.78% for 10 writers\n"
     ]
    },
    {
     "name": "stderr",
     "output_type": "stream",
     "text": [
      "[Stage 42:=============================================>       (342 + 10) / 395]\r"
     ]
    },
    {
     "name": "stdout",
     "output_type": "stream",
     "text": [
      "23/04/29 11:03:53 WARN MemoryManager: Total allocation exceeds 95.00% (1,017,066,278 bytes) of heap memory\n",
      "Scaling row group sizes to 84.20% for 9 writers\n",
      "23/04/29 11:03:53 WARN MemoryManager: Total allocation exceeds 95.00% (1,017,066,278 bytes) of heap memory\n",
      "Scaling row group sizes to 75.78% for 10 writers\n",
      "23/04/29 11:03:53 WARN MemoryManager: Total allocation exceeds 95.00% (1,017,066,278 bytes) of heap memory\n",
      "Scaling row group sizes to 84.20% for 9 writers\n"
     ]
    },
    {
     "name": "stderr",
     "output_type": "stream",
     "text": [
      "[Stage 42:==============================================>      (344 + 10) / 395]\r"
     ]
    },
    {
     "name": "stdout",
     "output_type": "stream",
     "text": [
      "23/04/29 11:03:53 WARN MemoryManager: Total allocation exceeds 95.00% (1,017,066,278 bytes) of heap memory\n",
      "Scaling row group sizes to 75.78% for 10 writers\n",
      "23/04/29 11:03:53 WARN MemoryManager: Total allocation exceeds 95.00% (1,017,066,278 bytes) of heap memory\n",
      "Scaling row group sizes to 84.20% for 9 writers\n",
      "23/04/29 11:03:53 WARN MemoryManager: Total allocation exceeds 95.00% (1,017,066,278 bytes) of heap memory\n",
      "Scaling row group sizes to 75.78% for 10 writers\n"
     ]
    },
    {
     "name": "stderr",
     "output_type": "stream",
     "text": [
      "[Stage 42:==============================================>      (345 + 10) / 395]\r"
     ]
    },
    {
     "name": "stdout",
     "output_type": "stream",
     "text": [
      "23/04/29 11:03:54 WARN MemoryManager: Total allocation exceeds 95.00% (1,017,066,278 bytes) of heap memory\n",
      "Scaling row group sizes to 84.20% for 9 writers\n",
      "23/04/29 11:03:54 WARN MemoryManager: Total allocation exceeds 95.00% (1,017,066,278 bytes) of heap memory\n",
      "Scaling row group sizes to 75.78% for 10 writers\n"
     ]
    },
    {
     "name": "stderr",
     "output_type": "stream",
     "text": [
      "[Stage 42:==============================================>      (346 + 10) / 395]\r"
     ]
    },
    {
     "name": "stdout",
     "output_type": "stream",
     "text": [
      "23/04/29 11:03:55 WARN MemoryManager: Total allocation exceeds 95.00% (1,017,066,278 bytes) of heap memory\n",
      "Scaling row group sizes to 84.20% for 9 writers\n",
      "23/04/29 11:03:55 WARN MemoryManager: Total allocation exceeds 95.00% (1,017,066,278 bytes) of heap memory\n",
      "Scaling row group sizes to 75.78% for 10 writers\n"
     ]
    },
    {
     "name": "stderr",
     "output_type": "stream",
     "text": [
      "[Stage 42:==============================================>      (347 + 10) / 395]\r"
     ]
    },
    {
     "name": "stdout",
     "output_type": "stream",
     "text": [
      "23/04/29 11:03:55 WARN MemoryManager: Total allocation exceeds 95.00% (1,017,066,278 bytes) of heap memory\n",
      "Scaling row group sizes to 84.20% for 9 writers\n",
      "23/04/29 11:03:55 WARN MemoryManager: Total allocation exceeds 95.00% (1,017,066,278 bytes) of heap memory\n",
      "Scaling row group sizes to 75.78% for 10 writers\n"
     ]
    },
    {
     "name": "stderr",
     "output_type": "stream",
     "text": [
      "[Stage 42:==============================================>      (348 + 10) / 395]\r"
     ]
    },
    {
     "name": "stdout",
     "output_type": "stream",
     "text": [
      "23/04/29 11:03:56 WARN MemoryManager: Total allocation exceeds 95.00% (1,017,066,278 bytes) of heap memory\n",
      "Scaling row group sizes to 84.20% for 9 writers\n",
      "23/04/29 11:03:56 WARN MemoryManager: Total allocation exceeds 95.00% (1,017,066,278 bytes) of heap memory\n",
      "Scaling row group sizes to 75.78% for 10 writers\n",
      "23/04/29 11:03:56 WARN MemoryManager: Total allocation exceeds 95.00% (1,017,066,278 bytes) of heap memory\n",
      "Scaling row group sizes to 84.20% for 9 writers\n"
     ]
    },
    {
     "name": "stderr",
     "output_type": "stream",
     "text": [
      "[Stage 42:==============================================>      (349 + 10) / 395]\r"
     ]
    },
    {
     "name": "stdout",
     "output_type": "stream",
     "text": [
      "23/04/29 11:03:56 WARN MemoryManager: Total allocation exceeds 95.00% (1,017,066,278 bytes) of heap memory\n",
      "Scaling row group sizes to 75.78% for 10 writers\n"
     ]
    },
    {
     "name": "stderr",
     "output_type": "stream",
     "text": [
      "[Stage 42:==============================================>      (350 + 10) / 395]\r"
     ]
    },
    {
     "name": "stdout",
     "output_type": "stream",
     "text": [
      "23/04/29 11:03:58 WARN MemoryManager: Total allocation exceeds 95.00% (1,017,066,278 bytes) of heap memory\n",
      "Scaling row group sizes to 84.20% for 9 writers\n",
      "23/04/29 11:03:58 WARN MemoryManager: Total allocation exceeds 95.00% (1,017,066,278 bytes) of heap memory\n",
      "Scaling row group sizes to 75.78% for 10 writers\n"
     ]
    },
    {
     "name": "stderr",
     "output_type": "stream",
     "text": [
      "[Stage 42:===============================================>     (351 + 10) / 395]\r"
     ]
    },
    {
     "name": "stdout",
     "output_type": "stream",
     "text": [
      "23/04/29 11:04:00 WARN MemoryManager: Total allocation exceeds 95.00% (1,017,066,278 bytes) of heap memory\n",
      "Scaling row group sizes to 84.20% for 9 writers\n",
      "23/04/29 11:04:00 WARN MemoryManager: Total allocation exceeds 95.00% (1,017,066,278 bytes) of heap memory\n",
      "Scaling row group sizes to 75.78% for 10 writers\n"
     ]
    },
    {
     "name": "stderr",
     "output_type": "stream",
     "text": [
      "[Stage 42:===============================================>     (352 + 10) / 395]\r"
     ]
    },
    {
     "name": "stdout",
     "output_type": "stream",
     "text": [
      "23/04/29 11:04:01 WARN MemoryManager: Total allocation exceeds 95.00% (1,017,066,278 bytes) of heap memory\n",
      "Scaling row group sizes to 84.20% for 9 writers\n",
      "23/04/29 11:04:01 WARN MemoryManager: Total allocation exceeds 95.00% (1,017,066,278 bytes) of heap memory\n",
      "Scaling row group sizes to 75.78% for 10 writers\n",
      "23/04/29 11:04:01 WARN MemoryManager: Total allocation exceeds 95.00% (1,017,066,278 bytes) of heap memory\n",
      "Scaling row group sizes to 84.20% for 9 writers\n",
      "23/04/29 11:04:01 WARN MemoryManager: Total allocation exceeds 95.00% (1,017,066,278 bytes) of heap memory\n",
      "Scaling row group sizes to 75.78% for 10 writers\n"
     ]
    },
    {
     "name": "stderr",
     "output_type": "stream",
     "text": [
      "[Stage 42:===============================================>     (355 + 10) / 395]\r"
     ]
    },
    {
     "name": "stdout",
     "output_type": "stream",
     "text": [
      "23/04/29 11:04:01 WARN MemoryManager: Total allocation exceeds 95.00% (1,017,066,278 bytes) of heap memory\n",
      "Scaling row group sizes to 84.20% for 9 writers\n",
      "23/04/29 11:04:01 WARN MemoryManager: Total allocation exceeds 95.00% (1,017,066,278 bytes) of heap memory\n",
      "Scaling row group sizes to 75.78% for 10 writers\n",
      "23/04/29 11:04:02 WARN MemoryManager: Total allocation exceeds 95.00% (1,017,066,278 bytes) of heap memory\n",
      "Scaling row group sizes to 84.20% for 9 writers\n",
      "23/04/29 11:04:02 WARN MemoryManager: Total allocation exceeds 95.00% (1,017,066,278 bytes) of heap memory\n",
      "Scaling row group sizes to 75.78% for 10 writers\n"
     ]
    },
    {
     "name": "stderr",
     "output_type": "stream",
     "text": [
      "[Stage 42:===============================================>     (356 + 10) / 395]\r"
     ]
    },
    {
     "name": "stdout",
     "output_type": "stream",
     "text": [
      "23/04/29 11:04:03 WARN MemoryManager: Total allocation exceeds 95.00% (1,017,066,278 bytes) of heap memory\n",
      "Scaling row group sizes to 84.20% for 9 writers\n",
      "23/04/29 11:04:03 WARN MemoryManager: Total allocation exceeds 95.00% (1,017,066,278 bytes) of heap memory\n",
      "Scaling row group sizes to 75.78% for 10 writers\n"
     ]
    },
    {
     "name": "stderr",
     "output_type": "stream",
     "text": [
      "[Stage 42:===============================================>     (357 + 10) / 395]\r"
     ]
    },
    {
     "name": "stdout",
     "output_type": "stream",
     "text": [
      "23/04/29 11:04:03 WARN MemoryManager: Total allocation exceeds 95.00% (1,017,066,278 bytes) of heap memory\n",
      "Scaling row group sizes to 84.20% for 9 writers\n",
      "23/04/29 11:04:03 WARN MemoryManager: Total allocation exceeds 95.00% (1,017,066,278 bytes) of heap memory\n",
      "Scaling row group sizes to 75.78% for 10 writers\n"
     ]
    },
    {
     "name": "stderr",
     "output_type": "stream",
     "text": [
      "[Stage 42:================================================>    (358 + 10) / 395]\r"
     ]
    },
    {
     "name": "stdout",
     "output_type": "stream",
     "text": [
      "23/04/29 11:04:04 WARN MemoryManager: Total allocation exceeds 95.00% (1,017,066,278 bytes) of heap memory\n",
      "Scaling row group sizes to 84.20% for 9 writers\n",
      "23/04/29 11:04:04 WARN MemoryManager: Total allocation exceeds 95.00% (1,017,066,278 bytes) of heap memory\n",
      "Scaling row group sizes to 75.78% for 10 writers\n",
      "23/04/29 11:04:04 WARN MemoryManager: Total allocation exceeds 95.00% (1,017,066,278 bytes) of heap memory\n",
      "Scaling row group sizes to 84.20% for 9 writers\n"
     ]
    },
    {
     "name": "stderr",
     "output_type": "stream",
     "text": [
      "[Stage 42:================================================>    (359 + 10) / 395]\r"
     ]
    },
    {
     "name": "stdout",
     "output_type": "stream",
     "text": [
      "23/04/29 11:04:04 WARN MemoryManager: Total allocation exceeds 95.00% (1,017,066,278 bytes) of heap memory\n",
      "Scaling row group sizes to 75.78% for 10 writers\n"
     ]
    },
    {
     "name": "stderr",
     "output_type": "stream",
     "text": [
      "[Stage 42:================================================>    (360 + 10) / 395]\r"
     ]
    },
    {
     "name": "stdout",
     "output_type": "stream",
     "text": [
      "23/04/29 11:04:06 WARN MemoryManager: Total allocation exceeds 95.00% (1,017,066,278 bytes) of heap memory\n",
      "Scaling row group sizes to 84.20% for 9 writers\n",
      "23/04/29 11:04:06 WARN MemoryManager: Total allocation exceeds 95.00% (1,017,066,278 bytes) of heap memory\n",
      "Scaling row group sizes to 75.78% for 10 writers\n"
     ]
    },
    {
     "name": "stderr",
     "output_type": "stream",
     "text": [
      "[Stage 42:================================================>    (361 + 10) / 395]\r"
     ]
    },
    {
     "name": "stdout",
     "output_type": "stream",
     "text": [
      "23/04/29 11:04:08 WARN MemoryManager: Total allocation exceeds 95.00% (1,017,066,278 bytes) of heap memory\n",
      "Scaling row group sizes to 84.20% for 9 writers\n",
      "23/04/29 11:04:08 WARN MemoryManager: Total allocation exceeds 95.00% (1,017,066,278 bytes) of heap memory\n",
      "Scaling row group sizes to 75.78% for 10 writers\n"
     ]
    },
    {
     "name": "stderr",
     "output_type": "stream",
     "text": [
      "[Stage 42:================================================>    (362 + 10) / 395]\r"
     ]
    },
    {
     "name": "stdout",
     "output_type": "stream",
     "text": [
      "23/04/29 11:04:09 WARN MemoryManager: Total allocation exceeds 95.00% (1,017,066,278 bytes) of heap memory\n",
      "Scaling row group sizes to 84.20% for 9 writers\n",
      "23/04/29 11:04:09 WARN MemoryManager: Total allocation exceeds 95.00% (1,017,066,278 bytes) of heap memory\n",
      "Scaling row group sizes to 75.78% for 10 writers\n"
     ]
    },
    {
     "name": "stderr",
     "output_type": "stream",
     "text": [
      "[Stage 42:================================================>    (363 + 10) / 395]\r"
     ]
    },
    {
     "name": "stdout",
     "output_type": "stream",
     "text": [
      "23/04/29 11:04:09 WARN MemoryManager: Total allocation exceeds 95.00% (1,017,066,278 bytes) of heap memory\n",
      "Scaling row group sizes to 84.20% for 9 writers\n",
      "23/04/29 11:04:09 WARN MemoryManager: Total allocation exceeds 95.00% (1,017,066,278 bytes) of heap memory\n",
      "Scaling row group sizes to 75.78% for 10 writers\n",
      "23/04/29 11:04:09 WARN MemoryManager: Total allocation exceeds 95.00% (1,017,066,278 bytes) of heap memory\n",
      "Scaling row group sizes to 84.20% for 9 writers\n",
      "23/04/29 11:04:09 WARN MemoryManager: Total allocation exceeds 95.00% (1,017,066,278 bytes) of heap memory\n",
      "Scaling row group sizes to 75.78% for 10 writers\n"
     ]
    },
    {
     "name": "stderr",
     "output_type": "stream",
     "text": [
      "[Stage 42:================================================>    (365 + 10) / 395]\r"
     ]
    },
    {
     "name": "stdout",
     "output_type": "stream",
     "text": [
      "23/04/29 11:04:10 WARN MemoryManager: Total allocation exceeds 95.00% (1,017,066,278 bytes) of heap memory\n",
      "Scaling row group sizes to 84.20% for 9 writers\n",
      "23/04/29 11:04:10 WARN MemoryManager: Total allocation exceeds 95.00% (1,017,066,278 bytes) of heap memory\n",
      "Scaling row group sizes to 75.78% for 10 writers\n"
     ]
    },
    {
     "name": "stderr",
     "output_type": "stream",
     "text": [
      "[Stage 42:=================================================>   (366 + 10) / 395]\r"
     ]
    },
    {
     "name": "stdout",
     "output_type": "stream",
     "text": [
      "23/04/29 11:04:11 WARN MemoryManager: Total allocation exceeds 95.00% (1,017,066,278 bytes) of heap memory\n",
      "Scaling row group sizes to 84.20% for 9 writers\n",
      "23/04/29 11:04:11 WARN MemoryManager: Total allocation exceeds 95.00% (1,017,066,278 bytes) of heap memory\n",
      "Scaling row group sizes to 75.78% for 10 writers\n"
     ]
    },
    {
     "name": "stderr",
     "output_type": "stream",
     "text": [
      "[Stage 42:=================================================>   (367 + 10) / 395]\r"
     ]
    },
    {
     "name": "stdout",
     "output_type": "stream",
     "text": [
      "23/04/29 11:04:11 WARN MemoryManager: Total allocation exceeds 95.00% (1,017,066,278 bytes) of heap memory\n",
      "Scaling row group sizes to 84.20% for 9 writers\n",
      "23/04/29 11:04:11 WARN MemoryManager: Total allocation exceeds 95.00% (1,017,066,278 bytes) of heap memory\n",
      "Scaling row group sizes to 75.78% for 10 writers\n"
     ]
    },
    {
     "name": "stderr",
     "output_type": "stream",
     "text": [
      "[Stage 42:=================================================>   (368 + 10) / 395]\r"
     ]
    },
    {
     "name": "stdout",
     "output_type": "stream",
     "text": [
      "23/04/29 11:04:12 WARN MemoryManager: Total allocation exceeds 95.00% (1,017,066,278 bytes) of heap memory\n",
      "Scaling row group sizes to 84.20% for 9 writers\n",
      "23/04/29 11:04:12 WARN MemoryManager: Total allocation exceeds 95.00% (1,017,066,278 bytes) of heap memory\n",
      "Scaling row group sizes to 75.78% for 10 writers\n"
     ]
    },
    {
     "name": "stderr",
     "output_type": "stream",
     "text": [
      "[Stage 42:=================================================>   (370 + 10) / 395]\r"
     ]
    },
    {
     "name": "stdout",
     "output_type": "stream",
     "text": [
      "23/04/29 11:04:12 WARN MemoryManager: Total allocation exceeds 95.00% (1,017,066,278 bytes) of heap memory\n",
      "Scaling row group sizes to 84.20% for 9 writers\n",
      "23/04/29 11:04:12 WARN MemoryManager: Total allocation exceeds 95.00% (1,017,066,278 bytes) of heap memory\n",
      "Scaling row group sizes to 75.78% for 10 writers\n",
      "23/04/29 11:04:14 WARN MemoryManager: Total allocation exceeds 95.00% (1,017,066,278 bytes) of heap memory\n",
      "Scaling row group sizes to 84.20% for 9 writers\n",
      "23/04/29 11:04:14 WARN MemoryManager: Total allocation exceeds 95.00% (1,017,066,278 bytes) of heap memory\n",
      "Scaling row group sizes to 75.78% for 10 writers\n"
     ]
    },
    {
     "name": "stderr",
     "output_type": "stream",
     "text": [
      "[Stage 42:=================================================>   (371 + 10) / 395]\r"
     ]
    },
    {
     "name": "stdout",
     "output_type": "stream",
     "text": [
      "23/04/29 11:04:16 WARN MemoryManager: Total allocation exceeds 95.00% (1,017,066,278 bytes) of heap memory\n",
      "Scaling row group sizes to 84.20% for 9 writers\n",
      "23/04/29 11:04:16 WARN MemoryManager: Total allocation exceeds 95.00% (1,017,066,278 bytes) of heap memory\n",
      "Scaling row group sizes to 75.78% for 10 writers\n"
     ]
    },
    {
     "name": "stderr",
     "output_type": "stream",
     "text": [
      "[Stage 42:=================================================>   (372 + 10) / 395]\r"
     ]
    },
    {
     "name": "stdout",
     "output_type": "stream",
     "text": [
      "23/04/29 11:04:17 WARN MemoryManager: Total allocation exceeds 95.00% (1,017,066,278 bytes) of heap memory\n",
      "Scaling row group sizes to 84.20% for 9 writers\n",
      "23/04/29 11:04:17 WARN MemoryManager: Total allocation exceeds 95.00% (1,017,066,278 bytes) of heap memory\n",
      "Scaling row group sizes to 75.78% for 10 writers\n",
      "23/04/29 11:04:17 WARN MemoryManager: Total allocation exceeds 95.00% (1,017,066,278 bytes) of heap memory\n",
      "Scaling row group sizes to 84.20% for 9 writers\n"
     ]
    },
    {
     "name": "stderr",
     "output_type": "stream",
     "text": [
      "[Stage 42:==================================================>  (373 + 10) / 395]\r"
     ]
    },
    {
     "name": "stdout",
     "output_type": "stream",
     "text": [
      "23/04/29 11:04:17 WARN MemoryManager: Total allocation exceeds 95.00% (1,017,066,278 bytes) of heap memory\n",
      "Scaling row group sizes to 94.72% for 8 writers\n",
      "23/04/29 11:04:17 WARN MemoryManager: Total allocation exceeds 95.00% (1,017,066,278 bytes) of heap memory\n",
      "Scaling row group sizes to 84.20% for 9 writers\n",
      "23/04/29 11:04:17 WARN MemoryManager: Total allocation exceeds 95.00% (1,017,066,278 bytes) of heap memory\n",
      "Scaling row group sizes to 75.78% for 10 writers\n"
     ]
    },
    {
     "name": "stderr",
     "output_type": "stream",
     "text": [
      "[Stage 42:==================================================>  (375 + 10) / 395]\r"
     ]
    },
    {
     "name": "stdout",
     "output_type": "stream",
     "text": [
      "23/04/29 11:04:18 WARN MemoryManager: Total allocation exceeds 95.00% (1,017,066,278 bytes) of heap memory\n",
      "Scaling row group sizes to 84.20% for 9 writers\n",
      "23/04/29 11:04:18 WARN MemoryManager: Total allocation exceeds 95.00% (1,017,066,278 bytes) of heap memory\n",
      "Scaling row group sizes to 75.78% for 10 writers\n"
     ]
    },
    {
     "name": "stderr",
     "output_type": "stream",
     "text": [
      "[Stage 42:==================================================>  (376 + 10) / 395]\r"
     ]
    },
    {
     "name": "stdout",
     "output_type": "stream",
     "text": [
      "23/04/29 11:04:19 WARN MemoryManager: Total allocation exceeds 95.00% (1,017,066,278 bytes) of heap memory\n",
      "Scaling row group sizes to 84.20% for 9 writers\n",
      "23/04/29 11:04:19 WARN MemoryManager: Total allocation exceeds 95.00% (1,017,066,278 bytes) of heap memory\n",
      "Scaling row group sizes to 75.78% for 10 writers\n"
     ]
    },
    {
     "name": "stderr",
     "output_type": "stream",
     "text": [
      "[Stage 42:==================================================>  (377 + 10) / 395]\r"
     ]
    },
    {
     "name": "stdout",
     "output_type": "stream",
     "text": [
      "23/04/29 11:04:20 WARN MemoryManager: Total allocation exceeds 95.00% (1,017,066,278 bytes) of heap memory\n",
      "Scaling row group sizes to 84.20% for 9 writers\n",
      "23/04/29 11:04:20 WARN MemoryManager: Total allocation exceeds 95.00% (1,017,066,278 bytes) of heap memory\n",
      "Scaling row group sizes to 75.78% for 10 writers\n"
     ]
    },
    {
     "name": "stderr",
     "output_type": "stream",
     "text": [
      "[Stage 42:==================================================>  (378 + 10) / 395]\r"
     ]
    },
    {
     "name": "stdout",
     "output_type": "stream",
     "text": [
      "23/04/29 11:04:20 WARN MemoryManager: Total allocation exceeds 95.00% (1,017,066,278 bytes) of heap memory\n",
      "Scaling row group sizes to 84.20% for 9 writers\n",
      "23/04/29 11:04:20 WARN MemoryManager: Total allocation exceeds 95.00% (1,017,066,278 bytes) of heap memory\n",
      "Scaling row group sizes to 75.78% for 10 writers\n"
     ]
    },
    {
     "name": "stderr",
     "output_type": "stream",
     "text": [
      "[Stage 42:==================================================>  (379 + 10) / 395]\r"
     ]
    },
    {
     "name": "stdout",
     "output_type": "stream",
     "text": [
      "23/04/29 11:04:20 WARN MemoryManager: Total allocation exceeds 95.00% (1,017,066,278 bytes) of heap memory\n",
      "Scaling row group sizes to 84.20% for 9 writers\n",
      "23/04/29 11:04:20 WARN MemoryManager: Total allocation exceeds 95.00% (1,017,066,278 bytes) of heap memory\n",
      "Scaling row group sizes to 75.78% for 10 writers\n"
     ]
    },
    {
     "name": "stderr",
     "output_type": "stream",
     "text": [
      "[Stage 42:==================================================>  (380 + 10) / 395]\r"
     ]
    },
    {
     "name": "stdout",
     "output_type": "stream",
     "text": [
      "23/04/29 11:04:23 WARN MemoryManager: Total allocation exceeds 95.00% (1,017,066,278 bytes) of heap memory\n",
      "Scaling row group sizes to 84.20% for 9 writers\n",
      "23/04/29 11:04:23 WARN MemoryManager: Total allocation exceeds 95.00% (1,017,066,278 bytes) of heap memory\n",
      "Scaling row group sizes to 75.78% for 10 writers\n"
     ]
    },
    {
     "name": "stderr",
     "output_type": "stream",
     "text": [
      "[Stage 42:===================================================> (381 + 10) / 395]\r"
     ]
    },
    {
     "name": "stdout",
     "output_type": "stream",
     "text": [
      "23/04/29 11:04:24 WARN MemoryManager: Total allocation exceeds 95.00% (1,017,066,278 bytes) of heap memory\n",
      "Scaling row group sizes to 84.20% for 9 writers\n",
      "23/04/29 11:04:25 WARN MemoryManager: Total allocation exceeds 95.00% (1,017,066,278 bytes) of heap memory\n",
      "Scaling row group sizes to 75.78% for 10 writers\n"
     ]
    },
    {
     "name": "stderr",
     "output_type": "stream",
     "text": [
      "[Stage 42:===================================================> (382 + 10) / 395]\r"
     ]
    },
    {
     "name": "stdout",
     "output_type": "stream",
     "text": [
      "23/04/29 11:04:25 WARN MemoryManager: Total allocation exceeds 95.00% (1,017,066,278 bytes) of heap memory\n",
      "Scaling row group sizes to 84.20% for 9 writers\n",
      "23/04/29 11:04:25 WARN MemoryManager: Total allocation exceeds 95.00% (1,017,066,278 bytes) of heap memory\n",
      "Scaling row group sizes to 75.78% for 10 writers\n"
     ]
    },
    {
     "name": "stderr",
     "output_type": "stream",
     "text": [
      "[Stage 42:===================================================> (383 + 10) / 395]\r"
     ]
    },
    {
     "name": "stdout",
     "output_type": "stream",
     "text": [
      "23/04/29 11:04:26 WARN MemoryManager: Total allocation exceeds 95.00% (1,017,066,278 bytes) of heap memory\n",
      "Scaling row group sizes to 84.20% for 9 writers\n",
      "23/04/29 11:04:26 WARN MemoryManager: Total allocation exceeds 95.00% (1,017,066,278 bytes) of heap memory\n",
      "Scaling row group sizes to 75.78% for 10 writers\n",
      "23/04/29 11:04:26 WARN MemoryManager: Total allocation exceeds 95.00% (1,017,066,278 bytes) of heap memory\n",
      "Scaling row group sizes to 84.20% for 9 writers\n"
     ]
    },
    {
     "name": "stderr",
     "output_type": "stream",
     "text": [
      "[Stage 42:===================================================> (384 + 10) / 395]\r"
     ]
    },
    {
     "name": "stdout",
     "output_type": "stream",
     "text": [
      "23/04/29 11:04:26 WARN MemoryManager: Total allocation exceeds 95.00% (1,017,066,278 bytes) of heap memory\n",
      "Scaling row group sizes to 75.78% for 10 writers\n"
     ]
    },
    {
     "name": "stderr",
     "output_type": "stream",
     "text": [
      "[Stage 42:===================================================> (385 + 10) / 395]\r"
     ]
    },
    {
     "name": "stdout",
     "output_type": "stream",
     "text": [
      "23/04/29 11:04:26 WARN MemoryManager: Total allocation exceeds 95.00% (1,017,066,278 bytes) of heap memory\n",
      "Scaling row group sizes to 84.20% for 9 writers\n"
     ]
    },
    {
     "name": "stderr",
     "output_type": "stream",
     "text": [
      "[Stage 42:====================================================> (386 + 9) / 395]\r"
     ]
    },
    {
     "name": "stdout",
     "output_type": "stream",
     "text": [
      "23/04/29 11:04:27 WARN MemoryManager: Total allocation exceeds 95.00% (1,017,066,278 bytes) of heap memory\n",
      "Scaling row group sizes to 94.72% for 8 writers\n"
     ]
    },
    {
     "name": "stderr",
     "output_type": "stream",
     "text": [
      "                                                                                \r"
     ]
    }
   ],
   "source": [
    "df.write.format(\"delta\").save(f\"{pathlib.Path.home()}/data/delta/G1_1e9_1e2_0_0\")"
   ]
  },
  {
   "cell_type": "code",
   "execution_count": 4,
   "id": "23ee6de5-f318-4579-9118-fb31443c2393",
   "metadata": {},
   "outputs": [
    {
     "name": "stdout",
     "output_type": "stream",
     "text": [
      "23/05/24 15:32:05 WARN package: Truncated the string representation of a plan since it was too large. This behavior can be adjusted by setting 'spark.sql.debug.maxToStringFields'.\n"
     ]
    },
    {
     "name": "stderr",
     "output_type": "stream",
     "text": [
      "                                                                                \r"
     ]
    },
    {
     "name": "stdout",
     "output_type": "stream",
     "text": [
      "+-----+-----+------------+---+---+-------+---+---+---------+\n",
      "|  id1|  id2|         id3|id4|id5|    id6| v1| v2|       v3|\n",
      "+-----+-----+------------+---+---+-------+---+---+---------+\n",
      "|id048|id046|id0005627897| 67| 48|9830370|  1|  8|62.489965|\n",
      "|id022|id056|id0001127472| 83| 34|8961966|  4| 10|58.061764|\n",
      "|id031|id045|id0007426958| 91| 46|9968981|  4|  5|11.336972|\n",
      "|id051|id061|id0009252066| 94| 22|9474100|  5| 14|30.118781|\n",
      "|id069|id048|id0004829797| 40| 68|2512869|  3|  8|38.386956|\n",
      "|id009|id007|id0004637045| 90|  7|  39475|  1| 13|39.786547|\n",
      "|id098|id076|id0008063391| 20| 35|5951390|  3|  2|38.895053|\n",
      "|id007|id023|id0003353590| 54| 11|3360051|  5|  6|69.040842|\n",
      "|id046|id065|id0009415088| 60| 76|7887337|  5| 13| 4.175585|\n",
      "|id033|id053|id0002670285| 59| 27|4347079|  2|  1| 4.029574|\n",
      "|id092|id070|id0007690600| 22| 88|2459380|  1| 14| 21.04833|\n",
      "|id051|id020|id0003809390| 80| 28| 544908|  3| 10|73.984808|\n",
      "|id062|id005|id0008437984| 63| 85|4959261|  5|  5|31.033596|\n",
      "|id100|id091|id0009520900| 38| 22|9248142|  3|  4| 5.738905|\n",
      "|id060|id040|id0005660419| 33| 52|7851453|  5| 10| 80.39292|\n",
      "|id001|id080|id0001650659| 66| 17|3203158|  4|  4|44.167768|\n",
      "|id024|id056|id0002221786| 99| 24|8725318|  4| 13|32.750854|\n",
      "|id047|id027|id0000295864|  9| 47|3728886|  4|  7|39.431555|\n",
      "|id018|id083|id0000825608| 10| 45|5324668|  3|  8|16.363063|\n",
      "|id082|id019|id0007805328|  1| 48|9630534|  5| 10|23.473113|\n",
      "+-----+-----+------------+---+---+-------+---+---+---------+\n",
      "only showing top 20 rows\n",
      "\n"
     ]
    }
   ],
   "source": [
    "spark.read.format(\"delta\").load(f\"{pathlib.Path.home()}/data/delta/G1_1e9_1e2_0_0\").show()"
   ]
  },
  {
   "cell_type": "code",
   "execution_count": 5,
   "id": "0aec310e-cc97-4c2f-bde5-be7e93ba396c",
   "metadata": {
    "tags": []
   },
   "outputs": [],
   "source": [
    "dt = DeltaTable.forPath(spark, f\"{pathlib.Path.home()}/data/delta/G1_1e9_1e2_0_0\")"
   ]
  },
  {
   "cell_type": "code",
   "execution_count": 6,
   "id": "f1bb583d-9ec1-4111-8e04-e28fc41f42a7",
   "metadata": {
    "tags": []
   },
   "outputs": [
    {
     "name": "stderr",
     "output_type": "stream",
     "text": [
      "                                                                                \r"
     ]
    },
    {
     "data": {
      "text/plain": [
       "DataFrame[path: string, metrics: struct<numFilesAdded:bigint,numFilesRemoved:bigint,filesAdded:struct<min:bigint,max:bigint,avg:double,totalFiles:bigint,totalSize:bigint>,filesRemoved:struct<min:bigint,max:bigint,avg:double,totalFiles:bigint,totalSize:bigint>,partitionsOptimized:bigint,zOrderStats:struct<strategyName:string,inputCubeFiles:struct<num:bigint,size:bigint>,inputOtherFiles:struct<num:bigint,size:bigint>,inputNumCubes:bigint,mergedFiles:struct<num:bigint,size:bigint>,numOutputCubes:bigint,mergedNumCubes:bigint>,numBatches:bigint,totalConsideredFiles:bigint,totalFilesSkipped:bigint,preserveInsertionOrder:boolean,numFilesSkippedToReduceWriteAmplification:bigint,numBytesSkippedToReduceWriteAmplification:bigint,startTimeMs:bigint,endTimeMs:bigint,totalClusterParallelism:bigint,totalScheduledTasks:bigint,autoCompactParallelismStats:struct<maxClusterActiveParallelism:bigint,minClusterActiveParallelism:bigint,maxSessionActiveParallelism:bigint,minSessionActiveParallelism:bigint>,deletionVectorStats:struct<numDeletionVectorsRemoved:bigint,numDeletionVectorRowsRemoved:bigint>,numTableColumns:bigint,numTableColumnsWithStats:bigint>]"
      ]
     },
     "execution_count": 6,
     "metadata": {},
     "output_type": "execute_result"
    }
   ],
   "source": [
    "dt.optimize().executeZOrderBy(\"id1\")"
   ]
  },
  {
   "cell_type": "code",
   "execution_count": 4,
   "id": "500bdb5d-2c28-4274-81b2-4631d6e0e397",
   "metadata": {
    "tags": []
   },
   "outputs": [
    {
     "ename": "AnalysisException",
     "evalue": " Cannot modify the value of a Spark config: spark.network.timeout. See also 'https://spark.apache.org/docs/latest/sql-migration-guide.html#ddl-statements'        ",
     "output_type": "error",
     "traceback": [
      "\u001b[0;31m---------------------------------------------------------------------------\u001b[0m",
      "\u001b[0;31mAnalysisException\u001b[0m                         Traceback (most recent call last)",
      "Cell \u001b[0;32mIn[4], line 2\u001b[0m\n\u001b[1;32m      1\u001b[0m \u001b[38;5;66;03m# default is 120s\u001b[39;00m\n\u001b[0;32m----> 2\u001b[0m \u001b[43mspark\u001b[49m\u001b[38;5;241;43m.\u001b[39;49m\u001b[43mconf\u001b[49m\u001b[38;5;241;43m.\u001b[39;49m\u001b[43mset\u001b[49m\u001b[43m(\u001b[49m\u001b[38;5;124;43m\"\u001b[39;49m\u001b[38;5;124;43mspark.network.timeout\u001b[39;49m\u001b[38;5;124;43m\"\u001b[39;49m\u001b[43m,\u001b[49m\u001b[43m \u001b[49m\u001b[38;5;124;43m\"\u001b[39;49m\u001b[38;5;124;43m1200s\u001b[39;49m\u001b[38;5;124;43m\"\u001b[39;49m\u001b[43m)\u001b[49m\n\u001b[1;32m      3\u001b[0m \u001b[38;5;66;03m# default is 10s\u001b[39;00m\n\u001b[1;32m      4\u001b[0m spark\u001b[38;5;241m.\u001b[39mconf\u001b[38;5;241m.\u001b[39mset(\u001b[38;5;124m\"\u001b[39m\u001b[38;5;124mspark.executor.heartbeatInterval\u001b[39m\u001b[38;5;124m\"\u001b[39m, \u001b[38;5;124m\"\u001b[39m\u001b[38;5;124m100s\u001b[39m\u001b[38;5;124m\"\u001b[39m)\n",
      "File \u001b[0;32m~/opt/miniconda3/envs/pyspark-332-delta-230/lib/python3.9/site-packages/pyspark/sql/conf.py:40\u001b[0m, in \u001b[0;36mRuntimeConfig.set\u001b[0;34m(self, key, value)\u001b[0m\n\u001b[1;32m     37\u001b[0m \u001b[38;5;129m@since\u001b[39m(\u001b[38;5;241m2.0\u001b[39m)\n\u001b[1;32m     38\u001b[0m \u001b[38;5;28;01mdef\u001b[39;00m \u001b[38;5;21mset\u001b[39m(\u001b[38;5;28mself\u001b[39m, key: \u001b[38;5;28mstr\u001b[39m, value: \u001b[38;5;28mstr\u001b[39m) \u001b[38;5;241m-\u001b[39m\u001b[38;5;241m>\u001b[39m \u001b[38;5;28;01mNone\u001b[39;00m:\n\u001b[1;32m     39\u001b[0m \u001b[38;5;250m    \u001b[39m\u001b[38;5;124;03m\"\"\"Sets the given Spark runtime configuration property.\"\"\"\u001b[39;00m\n\u001b[0;32m---> 40\u001b[0m     \u001b[38;5;28;43mself\u001b[39;49m\u001b[38;5;241;43m.\u001b[39;49m\u001b[43m_jconf\u001b[49m\u001b[38;5;241;43m.\u001b[39;49m\u001b[43mset\u001b[49m\u001b[43m(\u001b[49m\u001b[43mkey\u001b[49m\u001b[43m,\u001b[49m\u001b[43m \u001b[49m\u001b[43mvalue\u001b[49m\u001b[43m)\u001b[49m\n",
      "File \u001b[0;32m~/opt/miniconda3/envs/pyspark-332-delta-230/lib/python3.9/site-packages/py4j/java_gateway.py:1321\u001b[0m, in \u001b[0;36mJavaMember.__call__\u001b[0;34m(self, *args)\u001b[0m\n\u001b[1;32m   1315\u001b[0m command \u001b[38;5;241m=\u001b[39m proto\u001b[38;5;241m.\u001b[39mCALL_COMMAND_NAME \u001b[38;5;241m+\u001b[39m\\\n\u001b[1;32m   1316\u001b[0m     \u001b[38;5;28mself\u001b[39m\u001b[38;5;241m.\u001b[39mcommand_header \u001b[38;5;241m+\u001b[39m\\\n\u001b[1;32m   1317\u001b[0m     args_command \u001b[38;5;241m+\u001b[39m\\\n\u001b[1;32m   1318\u001b[0m     proto\u001b[38;5;241m.\u001b[39mEND_COMMAND_PART\n\u001b[1;32m   1320\u001b[0m answer \u001b[38;5;241m=\u001b[39m \u001b[38;5;28mself\u001b[39m\u001b[38;5;241m.\u001b[39mgateway_client\u001b[38;5;241m.\u001b[39msend_command(command)\n\u001b[0;32m-> 1321\u001b[0m return_value \u001b[38;5;241m=\u001b[39m \u001b[43mget_return_value\u001b[49m\u001b[43m(\u001b[49m\n\u001b[1;32m   1322\u001b[0m \u001b[43m    \u001b[49m\u001b[43manswer\u001b[49m\u001b[43m,\u001b[49m\u001b[43m \u001b[49m\u001b[38;5;28;43mself\u001b[39;49m\u001b[38;5;241;43m.\u001b[39;49m\u001b[43mgateway_client\u001b[49m\u001b[43m,\u001b[49m\u001b[43m \u001b[49m\u001b[38;5;28;43mself\u001b[39;49m\u001b[38;5;241;43m.\u001b[39;49m\u001b[43mtarget_id\u001b[49m\u001b[43m,\u001b[49m\u001b[43m \u001b[49m\u001b[38;5;28;43mself\u001b[39;49m\u001b[38;5;241;43m.\u001b[39;49m\u001b[43mname\u001b[49m\u001b[43m)\u001b[49m\n\u001b[1;32m   1324\u001b[0m \u001b[38;5;28;01mfor\u001b[39;00m temp_arg \u001b[38;5;129;01min\u001b[39;00m temp_args:\n\u001b[1;32m   1325\u001b[0m     temp_arg\u001b[38;5;241m.\u001b[39m_detach()\n",
      "File \u001b[0;32m~/opt/miniconda3/envs/pyspark-332-delta-230/lib/python3.9/site-packages/pyspark/sql/utils.py:196\u001b[0m, in \u001b[0;36mcapture_sql_exception.<locals>.deco\u001b[0;34m(*a, **kw)\u001b[0m\n\u001b[1;32m    192\u001b[0m converted \u001b[38;5;241m=\u001b[39m convert_exception(e\u001b[38;5;241m.\u001b[39mjava_exception)\n\u001b[1;32m    193\u001b[0m \u001b[38;5;28;01mif\u001b[39;00m \u001b[38;5;129;01mnot\u001b[39;00m \u001b[38;5;28misinstance\u001b[39m(converted, UnknownException):\n\u001b[1;32m    194\u001b[0m     \u001b[38;5;66;03m# Hide where the exception came from that shows a non-Pythonic\u001b[39;00m\n\u001b[1;32m    195\u001b[0m     \u001b[38;5;66;03m# JVM exception message.\u001b[39;00m\n\u001b[0;32m--> 196\u001b[0m     \u001b[38;5;28;01mraise\u001b[39;00m converted \u001b[38;5;28;01mfrom\u001b[39;00m \u001b[38;5;28mNone\u001b[39m\n\u001b[1;32m    197\u001b[0m \u001b[38;5;28;01melse\u001b[39;00m:\n\u001b[1;32m    198\u001b[0m     \u001b[38;5;28;01mraise\u001b[39;00m\n",
      "\u001b[0;31mAnalysisException\u001b[0m:  Cannot modify the value of a Spark config: spark.network.timeout. See also 'https://spark.apache.org/docs/latest/sql-migration-guide.html#ddl-statements'        "
     ]
    }
   ],
   "source": [
    "# default is 120s\n",
    "spark.conf.set(\"spark.network.timeout\", \"1200s\")\n",
    "# default is 10s\n",
    "spark.conf.set(\"spark.executor.heartbeatInterval\", \"100s\")"
   ]
  },
  {
   "cell_type": "code",
   "execution_count": 5,
   "id": "c4d67625-cb49-4609-94a8-5c0492522467",
   "metadata": {},
   "outputs": [],
   "source": [
    "dt = DeltaTable.forPath(spark, f\"{pathlib.Path.home()}/data/delta/G1_1e9_1e2_0_0\")"
   ]
  },
  {
   "cell_type": "code",
   "execution_count": 6,
   "id": "d532d75e-d0e6-4f2c-997b-aa1de03f5ba0",
   "metadata": {
    "tags": []
   },
   "outputs": [
    {
     "name": "stdout",
     "output_type": "stream",
     "text": [
      "23/05/01 12:57:00 WARN package: Truncated the string representation of a plan since it was too large. This behavior can be adjusted by setting 'spark.sql.debug.maxToStringFields'.\n"
     ]
    },
    {
     "name": "stderr",
     "output_type": "stream",
     "text": [
      "[Stage 11:=====================================================>(197 + 1) / 198]\r"
     ]
    },
    {
     "name": "stdout",
     "output_type": "stream",
     "text": [
      "23/05/01 13:41:26 WARN MemoryManager: Total allocation exceeds 95.00% (999,633,703 bytes) of heap memory\n",
      "Scaling row group sizes to 93.10% for 8 writers\n",
      "23/05/01 13:41:26 WARN MemoryManager: Total allocation exceeds 95.00% (999,633,703 bytes) of heap memory\n",
      "Scaling row group sizes to 82.75% for 9 writers\n",
      "23/05/01 13:41:26 WARN MemoryManager: Total allocation exceeds 95.00% (999,633,703 bytes) of heap memory\n",
      "Scaling row group sizes to 74.48% for 10 writers\n"
     ]
    },
    {
     "name": "stderr",
     "output_type": "stream",
     "text": [
      "[Stage 13:>                                                       (0 + 10) / 22]\r"
     ]
    },
    {
     "name": "stdout",
     "output_type": "stream",
     "text": [
      "23/05/01 13:41:54 ERROR Utils: Aborting task\n",
      "java.lang.OutOfMemoryError: GC overhead limit exceeded\n",
      "\tat java.nio.ByteBuffer.wrap(ByteBuffer.java:373)\n",
      "\tat java.nio.ByteBuffer.wrap(ByteBuffer.java:396)\n",
      "\tat org.apache.parquet.io.api.Binary$ByteArrayBackedBinary.toByteBuffer(Binary.java:333)\n",
      "\tat org.apache.parquet.schema.PrimitiveComparator$BinaryComparator.compareNotNulls(PrimitiveComparator.java:186)\n",
      "\tat org.apache.parquet.schema.PrimitiveComparator$BinaryComparator.compareNotNulls(PrimitiveComparator.java:183)\n",
      "\tat org.apache.parquet.schema.PrimitiveComparator.compare(PrimitiveComparator.java:63)\n",
      "\tat org.apache.parquet.column.statistics.BinaryStatistics.updateStats(BinaryStatistics.java:60)\n",
      "\tat org.apache.parquet.column.impl.ColumnWriterBase.write(ColumnWriterBase.java:240)\n",
      "\tat org.apache.parquet.io.MessageColumnIO$MessageColumnIORecordConsumer.addBinary(MessageColumnIO.java:476)\n",
      "\tat org.apache.spark.sql.execution.datasources.parquet.ParquetWriteSupport.$anonfun$makeWriter$9(ParquetWriteSupport.scala:207)\n",
      "\tat org.apache.spark.sql.execution.datasources.parquet.ParquetWriteSupport.$anonfun$makeWriter$9$adapted(ParquetWriteSupport.scala:205)\n",
      "\tat org.apache.spark.sql.execution.datasources.parquet.ParquetWriteSupport$$Lambda$5630/923690876.apply(Unknown Source)\n",
      "\tat org.apache.spark.sql.execution.datasources.parquet.ParquetWriteSupport.$anonfun$writeFields$1(ParquetWriteSupport.scala:163)\n",
      "\tat org.apache.spark.sql.execution.datasources.parquet.ParquetWriteSupport$$Lambda$5722/1758937877.apply$mcV$sp(Unknown Source)\n",
      "\tat org.apache.spark.sql.execution.datasources.parquet.ParquetWriteSupport.consumeField(ParquetWriteSupport.scala:486)\n",
      "\tat org.apache.spark.sql.execution.datasources.parquet.ParquetWriteSupport.writeFields(ParquetWriteSupport.scala:163)\n",
      "\tat org.apache.spark.sql.execution.datasources.parquet.ParquetWriteSupport.$anonfun$write$1(ParquetWriteSupport.scala:153)\n",
      "\tat org.apache.spark.sql.execution.datasources.parquet.ParquetWriteSupport$$Lambda$5716/1357124542.apply$mcV$sp(Unknown Source)\n",
      "\tat org.apache.spark.sql.execution.datasources.parquet.ParquetWriteSupport.consumeMessage(ParquetWriteSupport.scala:474)\n",
      "\tat org.apache.spark.sql.execution.datasources.parquet.ParquetWriteSupport.write(ParquetWriteSupport.scala:153)\n",
      "\tat org.apache.spark.sql.execution.datasources.parquet.ParquetWriteSupport.write(ParquetWriteSupport.scala:55)\n",
      "\tat org.apache.parquet.hadoop.InternalParquetRecordWriter.write(InternalParquetRecordWriter.java:138)\n",
      "\tat org.apache.parquet.hadoop.ParquetRecordWriter.write(ParquetRecordWriter.java:181)\n",
      "\tat org.apache.parquet.hadoop.ParquetRecordWriter.write(ParquetRecordWriter.java:43)\n",
      "\tat org.apache.spark.sql.execution.datasources.parquet.ParquetOutputWriter.write(ParquetOutputWriter.scala:39)\n",
      "\tat org.apache.spark.sql.execution.datasources.SingleDirectoryDataWriter.write(FileFormatDataWriter.scala:175)\n",
      "\tat org.apache.spark.sql.execution.datasources.FileFormatDataWriter.writeWithMetrics(FileFormatDataWriter.scala:85)\n",
      "\tat org.apache.spark.sql.execution.datasources.FileFormatDataWriter.writeWithIterator(FileFormatDataWriter.scala:92)\n",
      "\tat org.apache.spark.sql.execution.datasources.FileFormatWriter$.$anonfun$executeTask$1(FileFormatWriter.scala:341)\n",
      "\tat org.apache.spark.sql.execution.datasources.FileFormatWriter$$$Lambda$5691/2033011139.apply(Unknown Source)\n",
      "\tat org.apache.spark.util.Utils$.tryWithSafeFinallyAndFailureCallbacks(Utils.scala:1538)\n",
      "\tat org.apache.spark.sql.execution.datasources.FileFormatWriter$.executeTask(FileFormatWriter.scala:348)\n",
      "23/05/01 13:41:54 ERROR Utils: Aborting task\n",
      "java.lang.OutOfMemoryError: GC overhead limit exceeded\n",
      "\tat java.nio.ByteBuffer.wrap(ByteBuffer.java:373)\n",
      "\tat java.nio.ByteBuffer.wrap(ByteBuffer.java:396)\n",
      "\tat org.apache.parquet.io.api.Binary$ByteArrayBackedBinary.toByteBuffer(Binary.java:333)\n",
      "\tat org.apache.parquet.schema.PrimitiveComparator$BinaryComparator.compareNotNulls(PrimitiveComparator.java:186)\n",
      "\tat org.apache.parquet.schema.PrimitiveComparator$BinaryComparator.compareNotNulls(PrimitiveComparator.java:183)\n",
      "\tat org.apache.parquet.schema.PrimitiveComparator.compare(PrimitiveComparator.java:63)\n",
      "\tat org.apache.parquet.column.statistics.BinaryStatistics.updateStats(BinaryStatistics.java:62)\n",
      "\tat org.apache.parquet.column.impl.ColumnWriterBase.write(ColumnWriterBase.java:240)\n",
      "\tat org.apache.parquet.io.MessageColumnIO$MessageColumnIORecordConsumer.addBinary(MessageColumnIO.java:476)\n",
      "\tat org.apache.spark.sql.execution.datasources.parquet.ParquetWriteSupport.$anonfun$makeWriter$9(ParquetWriteSupport.scala:207)\n",
      "\tat org.apache.spark.sql.execution.datasources.parquet.ParquetWriteSupport.$anonfun$makeWriter$9$adapted(ParquetWriteSupport.scala:205)\n",
      "\tat org.apache.spark.sql.execution.datasources.parquet.ParquetWriteSupport$$Lambda$5630/923690876.apply(Unknown Source)\n",
      "\tat org.apache.spark.sql.execution.datasources.parquet.ParquetWriteSupport.$anonfun$writeFields$1(ParquetWriteSupport.scala:163)\n",
      "\tat org.apache.spark.sql.execution.datasources.parquet.ParquetWriteSupport$$Lambda$5722/1758937877.apply$mcV$sp(Unknown Source)\n",
      "\tat org.apache.spark.sql.execution.datasources.parquet.ParquetWriteSupport.consumeField(ParquetWriteSupport.scala:486)\n",
      "\tat org.apache.spark.sql.execution.datasources.parquet.ParquetWriteSupport.writeFields(ParquetWriteSupport.scala:163)\n",
      "\tat org.apache.spark.sql.execution.datasources.parquet.ParquetWriteSupport.$anonfun$write$1(ParquetWriteSupport.scala:153)\n",
      "\tat org.apache.spark.sql.execution.datasources.parquet.ParquetWriteSupport$$Lambda$5716/1357124542.apply$mcV$sp(Unknown Source)\n",
      "\tat org.apache.spark.sql.execution.datasources.parquet.ParquetWriteSupport.consumeMessage(ParquetWriteSupport.scala:474)\n",
      "\tat org.apache.spark.sql.execution.datasources.parquet.ParquetWriteSupport.write(ParquetWriteSupport.scala:153)\n",
      "\tat org.apache.spark.sql.execution.datasources.parquet.ParquetWriteSupport.write(ParquetWriteSupport.scala:55)\n",
      "\tat org.apache.parquet.hadoop.InternalParquetRecordWriter.write(InternalParquetRecordWriter.java:138)\n",
      "\tat org.apache.parquet.hadoop.ParquetRecordWriter.write(ParquetRecordWriter.java:181)\n",
      "\tat org.apache.parquet.hadoop.ParquetRecordWriter.write(ParquetRecordWriter.java:43)\n",
      "\tat org.apache.spark.sql.execution.datasources.parquet.ParquetOutputWriter.write(ParquetOutputWriter.scala:39)\n",
      "\tat org.apache.spark.sql.execution.datasources.SingleDirectoryDataWriter.write(FileFormatDataWriter.scala:175)\n",
      "\tat org.apache.spark.sql.execution.datasources.FileFormatDataWriter.writeWithMetrics(FileFormatDataWriter.scala:85)\n",
      "\tat org.apache.spark.sql.execution.datasources.FileFormatDataWriter.writeWithIterator(FileFormatDataWriter.scala:92)\n",
      "\tat org.apache.spark.sql.execution.datasources.FileFormatWriter$.$anonfun$executeTask$1(FileFormatWriter.scala:341)\n",
      "\tat org.apache.spark.sql.execution.datasources.FileFormatWriter$$$Lambda$5691/2033011139.apply(Unknown Source)\n",
      "\tat org.apache.spark.util.Utils$.tryWithSafeFinallyAndFailureCallbacks(Utils.scala:1538)\n",
      "\tat org.apache.spark.sql.execution.datasources.FileFormatWriter$.executeTask(FileFormatWriter.scala:348)\n",
      "23/05/01 13:41:58 ERROR Utils: Aborting task\n",
      "java.lang.OutOfMemoryError: GC overhead limit exceeded\n",
      "23/05/01 13:41:59 ERROR Utils: Aborting task\n",
      "java.lang.OutOfMemoryError: GC overhead limit exceeded\n",
      "23/05/01 13:41:59 ERROR Utils: Aborting task\n",
      "java.lang.OutOfMemoryError: GC overhead limit exceeded\n",
      "23/05/01 13:42:00 ERROR Utils: Aborting task\n",
      "java.lang.OutOfMemoryError: GC overhead limit exceeded\n",
      "23/05/01 13:42:02 ERROR Utils: Aborting task\n",
      "java.lang.OutOfMemoryError: GC overhead limit exceeded\n",
      "23/05/01 13:42:03 ERROR Utils: Aborting task\n",
      "java.lang.OutOfMemoryError: GC overhead limit exceeded\n",
      "23/05/01 13:42:03 ERROR Utils: Aborting task\n",
      "java.lang.OutOfMemoryError: GC overhead limit exceeded\n",
      "23/05/01 13:42:04 ERROR Utils: Aborting task\n",
      "java.lang.OutOfMemoryError: GC overhead limit exceeded\n",
      "23/05/01 13:42:05 WARN MemoryManager: Total allocation exceeds 95.00% (999,633,703 bytes) of heap memory\n",
      "Scaling row group sizes to 82.75% for 9 writers\n",
      "23/05/01 13:42:05 WARN MemoryManager: Total allocation exceeds 95.00% (999,633,703 bytes) of heap memory\n",
      "Scaling row group sizes to 93.10% for 8 writers\n",
      "23/05/01 13:42:05 ERROR FileFormatWriter: Job job_20230501134126506255162261030703_0013 aborted.\n",
      "23/05/01 13:42:05 ERROR FileFormatWriter: Job job_20230501134126506255162261030703_0013 aborted.\n",
      "23/05/01 13:42:05 ERROR Executor: Exception in task 0.0 in stage 13.0 (TID 697)\n",
      "org.apache.spark.SparkException: Task failed while writing rows.\n",
      "\tat org.apache.spark.sql.errors.QueryExecutionErrors$.taskFailedWhileWritingRowsError(QueryExecutionErrors.scala:655)\n",
      "\tat org.apache.spark.sql.execution.datasources.FileFormatWriter$.executeTask(FileFormatWriter.scala:358)\n",
      "\tat org.apache.spark.sql.execution.datasources.FileFormatWriter$.$anonfun$write$22(FileFormatWriter.scala:266)\n",
      "\tat org.apache.spark.scheduler.ResultTask.runTask(ResultTask.scala:90)\n",
      "\tat org.apache.spark.scheduler.Task.run(Task.scala:136)\n",
      "\tat org.apache.spark.executor.Executor$TaskRunner.$anonfun$run$3(Executor.scala:548)\n",
      "\tat org.apache.spark.util.Utils$.tryWithSafeFinally(Utils.scala:1504)\n",
      "\tat org.apache.spark.executor.Executor$TaskRunner.run(Executor.scala:551)\n",
      "\tat java.util.concurrent.ThreadPoolExecutor.runWorker(ThreadPoolExecutor.java:1149)\n",
      "\tat java.util.concurrent.ThreadPoolExecutor$Worker.run(ThreadPoolExecutor.java:624)\n",
      "\tat java.lang.Thread.run(Thread.java:750)\n",
      "Caused by: java.lang.OutOfMemoryError: GC overhead limit exceeded\n",
      "\tat java.nio.ByteBuffer.wrap(ByteBuffer.java:373)\n",
      "\tat java.nio.ByteBuffer.wrap(ByteBuffer.java:396)\n",
      "\tat org.apache.parquet.io.api.Binary$ByteArrayBackedBinary.toByteBuffer(Binary.java:333)\n",
      "\tat org.apache.parquet.schema.PrimitiveComparator$BinaryComparator.compareNotNulls(PrimitiveComparator.java:186)\n",
      "\tat org.apache.parquet.schema.PrimitiveComparator$BinaryComparator.compareNotNulls(PrimitiveComparator.java:183)\n",
      "\tat org.apache.parquet.schema.PrimitiveComparator.compare(PrimitiveComparator.java:63)\n",
      "\tat org.apache.parquet.column.statistics.BinaryStatistics.updateStats(BinaryStatistics.java:62)\n",
      "\tat org.apache.parquet.column.impl.ColumnWriterBase.write(ColumnWriterBase.java:240)\n",
      "\tat org.apache.parquet.io.MessageColumnIO$MessageColumnIORecordConsumer.addBinary(MessageColumnIO.java:476)\n",
      "\tat org.apache.spark.sql.execution.datasources.parquet.ParquetWriteSupport.$anonfun$makeWriter$9(ParquetWriteSupport.scala:207)\n",
      "\tat org.apache.spark.sql.execution.datasources.parquet.ParquetWriteSupport.$anonfun$makeWriter$9$adapted(ParquetWriteSupport.scala:205)\n",
      "\tat org.apache.spark.sql.execution.datasources.parquet.ParquetWriteSupport$$Lambda$5630/923690876.apply(Unknown Source)\n",
      "\tat org.apache.spark.sql.execution.datasources.parquet.ParquetWriteSupport.$anonfun$writeFields$1(ParquetWriteSupport.scala:163)\n",
      "\tat org.apache.spark.sql.execution.datasources.parquet.ParquetWriteSupport$$Lambda$5722/1758937877.apply$mcV$sp(Unknown Source)\n",
      "\tat org.apache.spark.sql.execution.datasources.parquet.ParquetWriteSupport.consumeField(ParquetWriteSupport.scala:486)\n",
      "\tat org.apache.spark.sql.execution.datasources.parquet.ParquetWriteSupport.writeFields(ParquetWriteSupport.scala:163)\n",
      "\tat org.apache.spark.sql.execution.datasources.parquet.ParquetWriteSupport.$anonfun$write$1(ParquetWriteSupport.scala:153)\n",
      "\tat org.apache.spark.sql.execution.datasources.parquet.ParquetWriteSupport$$Lambda$5716/1357124542.apply$mcV$sp(Unknown Source)\n",
      "\tat org.apache.spark.sql.execution.datasources.parquet.ParquetWriteSupport.consumeMessage(ParquetWriteSupport.scala:474)\n",
      "\tat org.apache.spark.sql.execution.datasources.parquet.ParquetWriteSupport.write(ParquetWriteSupport.scala:153)\n",
      "\tat org.apache.spark.sql.execution.datasources.parquet.ParquetWriteSupport.write(ParquetWriteSupport.scala:55)\n",
      "\tat org.apache.parquet.hadoop.InternalParquetRecordWriter.write(InternalParquetRecordWriter.java:138)\n",
      "\tat org.apache.parquet.hadoop.ParquetRecordWriter.write(ParquetRecordWriter.java:181)\n",
      "\tat org.apache.parquet.hadoop.ParquetRecordWriter.write(ParquetRecordWriter.java:43)\n",
      "\tat org.apache.spark.sql.execution.datasources.parquet.ParquetOutputWriter.write(ParquetOutputWriter.scala:39)\n",
      "\tat org.apache.spark.sql.execution.datasources.SingleDirectoryDataWriter.write(FileFormatDataWriter.scala:175)\n",
      "\tat org.apache.spark.sql.execution.datasources.FileFormatDataWriter.writeWithMetrics(FileFormatDataWriter.scala:85)\n",
      "\tat org.apache.spark.sql.execution.datasources.FileFormatDataWriter.writeWithIterator(FileFormatDataWriter.scala:92)\n",
      "\tat org.apache.spark.sql.execution.datasources.FileFormatWriter$.$anonfun$executeTask$1(FileFormatWriter.scala:341)\n",
      "\tat org.apache.spark.sql.execution.datasources.FileFormatWriter$$$Lambda$5691/2033011139.apply(Unknown Source)\n",
      "\tat org.apache.spark.util.Utils$.tryWithSafeFinallyAndFailureCallbacks(Utils.scala:1538)\n",
      "\tat org.apache.spark.sql.execution.datasources.FileFormatWriter$.executeTask(FileFormatWriter.scala:348)\n",
      "23/05/01 13:42:05 ERROR Executor: Exception in task 4.0 in stage 13.0 (TID 701)\n",
      "org.apache.spark.SparkException: Task failed while writing rows.\n",
      "\tat org.apache.spark.sql.errors.QueryExecutionErrors$.taskFailedWhileWritingRowsError(QueryExecutionErrors.scala:655)\n",
      "\tat org.apache.spark.sql.execution.datasources.FileFormatWriter$.executeTask(FileFormatWriter.scala:358)\n",
      "\tat org.apache.spark.sql.execution.datasources.FileFormatWriter$.$anonfun$write$22(FileFormatWriter.scala:266)\n",
      "\tat org.apache.spark.scheduler.ResultTask.runTask(ResultTask.scala:90)\n",
      "\tat org.apache.spark.scheduler.Task.run(Task.scala:136)\n",
      "\tat org.apache.spark.executor.Executor$TaskRunner.$anonfun$run$3(Executor.scala:548)\n",
      "\tat org.apache.spark.util.Utils$.tryWithSafeFinally(Utils.scala:1504)\n",
      "\tat org.apache.spark.executor.Executor$TaskRunner.run(Executor.scala:551)\n",
      "\tat java.util.concurrent.ThreadPoolExecutor.runWorker(ThreadPoolExecutor.java:1149)\n",
      "\tat java.util.concurrent.ThreadPoolExecutor$Worker.run(ThreadPoolExecutor.java:624)\n",
      "\tat java.lang.Thread.run(Thread.java:750)\n",
      "Caused by: java.lang.OutOfMemoryError: GC overhead limit exceeded\n",
      "\tat java.nio.ByteBuffer.wrap(ByteBuffer.java:373)\n",
      "\tat java.nio.ByteBuffer.wrap(ByteBuffer.java:396)\n",
      "\tat org.apache.parquet.io.api.Binary$ByteArrayBackedBinary.toByteBuffer(Binary.java:333)\n",
      "\tat org.apache.parquet.schema.PrimitiveComparator$BinaryComparator.compareNotNulls(PrimitiveComparator.java:186)\n",
      "\tat org.apache.parquet.schema.PrimitiveComparator$BinaryComparator.compareNotNulls(PrimitiveComparator.java:183)\n",
      "\tat org.apache.parquet.schema.PrimitiveComparator.compare(PrimitiveComparator.java:63)\n",
      "\tat org.apache.parquet.column.statistics.BinaryStatistics.updateStats(BinaryStatistics.java:60)\n",
      "\tat org.apache.parquet.column.impl.ColumnWriterBase.write(ColumnWriterBase.java:240)\n",
      "\tat org.apache.parquet.io.MessageColumnIO$MessageColumnIORecordConsumer.addBinary(MessageColumnIO.java:476)\n",
      "\tat org.apache.spark.sql.execution.datasources.parquet.ParquetWriteSupport.$anonfun$makeWriter$9(ParquetWriteSupport.scala:207)\n",
      "\tat org.apache.spark.sql.execution.datasources.parquet.ParquetWriteSupport.$anonfun$makeWriter$9$adapted(ParquetWriteSupport.scala:205)\n",
      "\tat org.apache.spark.sql.execution.datasources.parquet.ParquetWriteSupport$$Lambda$5630/923690876.apply(Unknown Source)\n",
      "\tat org.apache.spark.sql.execution.datasources.parquet.ParquetWriteSupport.$anonfun$writeFields$1(ParquetWriteSupport.scala:163)\n",
      "\tat org.apache.spark.sql.execution.datasources.parquet.ParquetWriteSupport$$Lambda$5722/1758937877.apply$mcV$sp(Unknown Source)\n",
      "\tat org.apache.spark.sql.execution.datasources.parquet.ParquetWriteSupport.consumeField(ParquetWriteSupport.scala:486)\n",
      "\tat org.apache.spark.sql.execution.datasources.parquet.ParquetWriteSupport.writeFields(ParquetWriteSupport.scala:163)\n",
      "\tat org.apache.spark.sql.execution.datasources.parquet.ParquetWriteSupport.$anonfun$write$1(ParquetWriteSupport.scala:153)\n",
      "\tat org.apache.spark.sql.execution.datasources.parquet.ParquetWriteSupport$$Lambda$5716/1357124542.apply$mcV$sp(Unknown Source)\n",
      "\tat org.apache.spark.sql.execution.datasources.parquet.ParquetWriteSupport.consumeMessage(ParquetWriteSupport.scala:474)\n",
      "\tat org.apache.spark.sql.execution.datasources.parquet.ParquetWriteSupport.write(ParquetWriteSupport.scala:153)\n",
      "\tat org.apache.spark.sql.execution.datasources.parquet.ParquetWriteSupport.write(ParquetWriteSupport.scala:55)\n",
      "\tat org.apache.parquet.hadoop.InternalParquetRecordWriter.write(InternalParquetRecordWriter.java:138)\n",
      "\tat org.apache.parquet.hadoop.ParquetRecordWriter.write(ParquetRecordWriter.java:181)\n",
      "\tat org.apache.parquet.hadoop.ParquetRecordWriter.write(ParquetRecordWriter.java:43)\n",
      "\tat org.apache.spark.sql.execution.datasources.parquet.ParquetOutputWriter.write(ParquetOutputWriter.scala:39)\n",
      "\tat org.apache.spark.sql.execution.datasources.SingleDirectoryDataWriter.write(FileFormatDataWriter.scala:175)\n",
      "\tat org.apache.spark.sql.execution.datasources.FileFormatDataWriter.writeWithMetrics(FileFormatDataWriter.scala:85)\n",
      "\tat org.apache.spark.sql.execution.datasources.FileFormatDataWriter.writeWithIterator(FileFormatDataWriter.scala:92)\n",
      "\tat org.apache.spark.sql.execution.datasources.FileFormatWriter$.$anonfun$executeTask$1(FileFormatWriter.scala:341)\n",
      "\tat org.apache.spark.sql.execution.datasources.FileFormatWriter$$$Lambda$5691/2033011139.apply(Unknown Source)\n",
      "\tat org.apache.spark.util.Utils$.tryWithSafeFinallyAndFailureCallbacks(Utils.scala:1538)\n",
      "\tat org.apache.spark.sql.execution.datasources.FileFormatWriter$.executeTask(FileFormatWriter.scala:348)\n",
      "23/05/01 13:42:05 ERROR SparkUncaughtExceptionHandler: Uncaught exception in thread Thread[Executor task launch worker for task 4.0 in stage 13.0 (TID 701),5,main]\n",
      "org.apache.spark.SparkException: Task failed while writing rows.\n",
      "\tat org.apache.spark.sql.errors.QueryExecutionErrors$.taskFailedWhileWritingRowsError(QueryExecutionErrors.scala:655)\n",
      "\tat org.apache.spark.sql.execution.datasources.FileFormatWriter$.executeTask(FileFormatWriter.scala:358)\n",
      "\tat org.apache.spark.sql.execution.datasources.FileFormatWriter$.$anonfun$write$22(FileFormatWriter.scala:266)\n",
      "\tat org.apache.spark.scheduler.ResultTask.runTask(ResultTask.scala:90)\n",
      "\tat org.apache.spark.scheduler.Task.run(Task.scala:136)\n",
      "\tat org.apache.spark.executor.Executor$TaskRunner.$anonfun$run$3(Executor.scala:548)\n",
      "\tat org.apache.spark.util.Utils$.tryWithSafeFinally(Utils.scala:1504)\n",
      "\tat org.apache.spark.executor.Executor$TaskRunner.run(Executor.scala:551)\n",
      "\tat java.util.concurrent.ThreadPoolExecutor.runWorker(ThreadPoolExecutor.java:1149)\n",
      "\tat java.util.concurrent.ThreadPoolExecutor$Worker.run(ThreadPoolExecutor.java:624)\n",
      "\tat java.lang.Thread.run(Thread.java:750)\n",
      "Caused by: java.lang.OutOfMemoryError: GC overhead limit exceeded\n",
      "\tat java.nio.ByteBuffer.wrap(ByteBuffer.java:373)\n",
      "\tat java.nio.ByteBuffer.wrap(ByteBuffer.java:396)\n",
      "\tat org.apache.parquet.io.api.Binary$ByteArrayBackedBinary.toByteBuffer(Binary.java:333)\n",
      "\tat org.apache.parquet.schema.PrimitiveComparator$BinaryComparator.compareNotNulls(PrimitiveComparator.java:186)\n",
      "\tat org.apache.parquet.schema.PrimitiveComparator$BinaryComparator.compareNotNulls(PrimitiveComparator.java:183)\n",
      "\tat org.apache.parquet.schema.PrimitiveComparator.compare(PrimitiveComparator.java:63)\n",
      "\tat org.apache.parquet.column.statistics.BinaryStatistics.updateStats(BinaryStatistics.java:60)\n",
      "\tat org.apache.parquet.column.impl.ColumnWriterBase.write(ColumnWriterBase.java:240)\n",
      "\tat org.apache.parquet.io.MessageColumnIO$MessageColumnIORecordConsumer.addBinary(MessageColumnIO.java:476)\n",
      "\tat org.apache.spark.sql.execution.datasources.parquet.ParquetWriteSupport.$anonfun$makeWriter$9(ParquetWriteSupport.scala:207)\n",
      "\tat org.apache.spark.sql.execution.datasources.parquet.ParquetWriteSupport.$anonfun$makeWriter$9$adapted(ParquetWriteSupport.scala:205)\n",
      "\tat org.apache.spark.sql.execution.datasources.parquet.ParquetWriteSupport$$Lambda$5630/923690876.apply(Unknown Source)\n",
      "\tat org.apache.spark.sql.execution.datasources.parquet.ParquetWriteSupport.$anonfun$writeFields$1(ParquetWriteSupport.scala:163)\n",
      "\tat org.apache.spark.sql.execution.datasources.parquet.ParquetWriteSupport$$Lambda$5722/1758937877.apply$mcV$sp(Unknown Source)\n",
      "\tat org.apache.spark.sql.execution.datasources.parquet.ParquetWriteSupport.consumeField(ParquetWriteSupport.scala:486)\n",
      "\tat org.apache.spark.sql.execution.datasources.parquet.ParquetWriteSupport.writeFields(ParquetWriteSupport.scala:163)\n",
      "\tat org.apache.spark.sql.execution.datasources.parquet.ParquetWriteSupport.$anonfun$write$1(ParquetWriteSupport.scala:153)\n",
      "\tat org.apache.spark.sql.execution.datasources.parquet.ParquetWriteSupport$$Lambda$5716/1357124542.apply$mcV$sp(Unknown Source)\n",
      "\tat org.apache.spark.sql.execution.datasources.parquet.ParquetWriteSupport.consumeMessage(ParquetWriteSupport.scala:474)\n",
      "\tat org.apache.spark.sql.execution.datasources.parquet.ParquetWriteSupport.write(ParquetWriteSupport.scala:153)\n",
      "\tat org.apache.spark.sql.execution.datasources.parquet.ParquetWriteSupport.write(ParquetWriteSupport.scala:55)\n",
      "\tat org.apache.parquet.hadoop.InternalParquetRecordWriter.write(InternalParquetRecordWriter.java:138)\n",
      "\tat org.apache.parquet.hadoop.ParquetRecordWriter.write(ParquetRecordWriter.java:181)\n",
      "\tat org.apache.parquet.hadoop.ParquetRecordWriter.write(ParquetRecordWriter.java:43)\n",
      "\tat org.apache.spark.sql.execution.datasources.parquet.ParquetOutputWriter.write(ParquetOutputWriter.scala:39)\n",
      "\tat org.apache.spark.sql.execution.datasources.SingleDirectoryDataWriter.write(FileFormatDataWriter.scala:175)\n",
      "\tat org.apache.spark.sql.execution.datasources.FileFormatDataWriter.writeWithMetrics(FileFormatDataWriter.scala:85)\n",
      "\tat org.apache.spark.sql.execution.datasources.FileFormatDataWriter.writeWithIterator(FileFormatDataWriter.scala:92)\n",
      "\tat org.apache.spark.sql.execution.datasources.FileFormatWriter$.$anonfun$executeTask$1(FileFormatWriter.scala:341)\n",
      "\tat org.apache.spark.sql.execution.datasources.FileFormatWriter$$$Lambda$5691/2033011139.apply(Unknown Source)\n",
      "\tat org.apache.spark.util.Utils$.tryWithSafeFinallyAndFailureCallbacks(Utils.scala:1538)\n",
      "\tat org.apache.spark.sql.execution.datasources.FileFormatWriter$.executeTask(FileFormatWriter.scala:348)\n",
      "23/05/01 13:42:05 ERROR SparkUncaughtExceptionHandler: Uncaught exception in thread Thread[Executor task launch worker for task 0.0 in stage 13.0 (TID 697),5,main]\n",
      "org.apache.spark.SparkException: Task failed while writing rows.\n",
      "\tat org.apache.spark.sql.errors.QueryExecutionErrors$.taskFailedWhileWritingRowsError(QueryExecutionErrors.scala:655)\n",
      "\tat org.apache.spark.sql.execution.datasources.FileFormatWriter$.executeTask(FileFormatWriter.scala:358)\n",
      "\tat org.apache.spark.sql.execution.datasources.FileFormatWriter$.$anonfun$write$22(FileFormatWriter.scala:266)\n",
      "\tat org.apache.spark.scheduler.ResultTask.runTask(ResultTask.scala:90)\n",
      "\tat org.apache.spark.scheduler.Task.run(Task.scala:136)\n",
      "\tat org.apache.spark.executor.Executor$TaskRunner.$anonfun$run$3(Executor.scala:548)\n",
      "\tat org.apache.spark.util.Utils$.tryWithSafeFinally(Utils.scala:1504)\n",
      "\tat org.apache.spark.executor.Executor$TaskRunner.run(Executor.scala:551)\n",
      "\tat java.util.concurrent.ThreadPoolExecutor.runWorker(ThreadPoolExecutor.java:1149)\n",
      "\tat java.util.concurrent.ThreadPoolExecutor$Worker.run(ThreadPoolExecutor.java:624)\n",
      "\tat java.lang.Thread.run(Thread.java:750)\n",
      "Caused by: java.lang.OutOfMemoryError: GC overhead limit exceeded\n",
      "\tat java.nio.ByteBuffer.wrap(ByteBuffer.java:373)\n",
      "\tat java.nio.ByteBuffer.wrap(ByteBuffer.java:396)\n",
      "\tat org.apache.parquet.io.api.Binary$ByteArrayBackedBinary.toByteBuffer(Binary.java:333)\n",
      "\tat org.apache.parquet.schema.PrimitiveComparator$BinaryComparator.compareNotNulls(PrimitiveComparator.java:186)\n",
      "\tat org.apache.parquet.schema.PrimitiveComparator$BinaryComparator.compareNotNulls(PrimitiveComparator.java:183)\n",
      "\tat org.apache.parquet.schema.PrimitiveComparator.compare(PrimitiveComparator.java:63)\n",
      "\tat org.apache.parquet.column.statistics.BinaryStatistics.updateStats(BinaryStatistics.java:62)\n",
      "\tat org.apache.parquet.column.impl.ColumnWriterBase.write(ColumnWriterBase.java:240)\n",
      "\tat org.apache.parquet.io.MessageColumnIO$MessageColumnIORecordConsumer.addBinary(MessageColumnIO.java:476)\n",
      "\tat org.apache.spark.sql.execution.datasources.parquet.ParquetWriteSupport.$anonfun$makeWriter$9(ParquetWriteSupport.scala:207)\n",
      "\tat org.apache.spark.sql.execution.datasources.parquet.ParquetWriteSupport.$anonfun$makeWriter$9$adapted(ParquetWriteSupport.scala:205)\n",
      "\tat org.apache.spark.sql.execution.datasources.parquet.ParquetWriteSupport$$Lambda$5630/923690876.apply(Unknown Source)\n",
      "\tat org.apache.spark.sql.execution.datasources.parquet.ParquetWriteSupport.$anonfun$writeFields$1(ParquetWriteSupport.scala:163)\n",
      "\tat org.apache.spark.sql.execution.datasources.parquet.ParquetWriteSupport$$Lambda$5722/1758937877.apply$mcV$sp(Unknown Source)\n",
      "\tat org.apache.spark.sql.execution.datasources.parquet.ParquetWriteSupport.consumeField(ParquetWriteSupport.scala:486)\n",
      "\tat org.apache.spark.sql.execution.datasources.parquet.ParquetWriteSupport.writeFields(ParquetWriteSupport.scala:163)\n",
      "\tat org.apache.spark.sql.execution.datasources.parquet.ParquetWriteSupport.$anonfun$write$1(ParquetWriteSupport.scala:153)\n",
      "\tat org.apache.spark.sql.execution.datasources.parquet.ParquetWriteSupport$$Lambda$5716/1357124542.apply$mcV$sp(Unknown Source)\n",
      "\tat org.apache.spark.sql.execution.datasources.parquet.ParquetWriteSupport.consumeMessage(ParquetWriteSupport.scala:474)\n",
      "\tat org.apache.spark.sql.execution.datasources.parquet.ParquetWriteSupport.write(ParquetWriteSupport.scala:153)\n",
      "\tat org.apache.spark.sql.execution.datasources.parquet.ParquetWriteSupport.write(ParquetWriteSupport.scala:55)\n",
      "\tat org.apache.parquet.hadoop.InternalParquetRecordWriter.write(InternalParquetRecordWriter.java:138)\n",
      "\tat org.apache.parquet.hadoop.ParquetRecordWriter.write(ParquetRecordWriter.java:181)\n",
      "\tat org.apache.parquet.hadoop.ParquetRecordWriter.write(ParquetRecordWriter.java:43)\n",
      "\tat org.apache.spark.sql.execution.datasources.parquet.ParquetOutputWriter.write(ParquetOutputWriter.scala:39)\n",
      "\tat org.apache.spark.sql.execution.datasources.SingleDirectoryDataWriter.write(FileFormatDataWriter.scala:175)\n",
      "\tat org.apache.spark.sql.execution.datasources.FileFormatDataWriter.writeWithMetrics(FileFormatDataWriter.scala:85)\n",
      "\tat org.apache.spark.sql.execution.datasources.FileFormatDataWriter.writeWithIterator(FileFormatDataWriter.scala:92)\n",
      "\tat org.apache.spark.sql.execution.datasources.FileFormatWriter$.$anonfun$executeTask$1(FileFormatWriter.scala:341)\n",
      "\tat org.apache.spark.sql.execution.datasources.FileFormatWriter$$$Lambda$5691/2033011139.apply(Unknown Source)\n",
      "\tat org.apache.spark.util.Utils$.tryWithSafeFinallyAndFailureCallbacks(Utils.scala:1538)\n",
      "\tat org.apache.spark.sql.execution.datasources.FileFormatWriter$.executeTask(FileFormatWriter.scala:348)\n",
      "23/05/01 13:42:05 ERROR FileFormatWriter: Job job_20230501134126506255162261030703_0013 aborted.\n",
      "23/05/01 13:42:05 ERROR Executor: Exception in task 7.0 in stage 13.0 (TID 704)\n",
      "org.apache.spark.SparkException: Task failed while writing rows.\n",
      "\tat org.apache.spark.sql.errors.QueryExecutionErrors$.taskFailedWhileWritingRowsError(QueryExecutionErrors.scala:655)\n",
      "\tat org.apache.spark.sql.execution.datasources.FileFormatWriter$.executeTask(FileFormatWriter.scala:358)\n",
      "\tat org.apache.spark.sql.execution.datasources.FileFormatWriter$.$anonfun$write$22(FileFormatWriter.scala:266)\n",
      "\tat org.apache.spark.scheduler.ResultTask.runTask(ResultTask.scala:90)\n",
      "\tat org.apache.spark.scheduler.Task.run(Task.scala:136)\n",
      "\tat org.apache.spark.executor.Executor$TaskRunner.$anonfun$run$3(Executor.scala:548)\n",
      "\tat org.apache.spark.util.Utils$.tryWithSafeFinally(Utils.scala:1504)\n",
      "\tat org.apache.spark.executor.Executor$TaskRunner.run(Executor.scala:551)\n",
      "\tat java.util.concurrent.ThreadPoolExecutor.runWorker(ThreadPoolExecutor.java:1149)\n",
      "\tat java.util.concurrent.ThreadPoolExecutor$Worker.run(ThreadPoolExecutor.java:624)\n",
      "\tat java.lang.Thread.run(Thread.java:750)\n",
      "Caused by: java.lang.OutOfMemoryError: GC overhead limit exceeded\n",
      "23/05/01 13:42:05 ERROR SparkUncaughtExceptionHandler: Uncaught exception in thread Thread[Executor task launch worker for task 7.0 in stage 13.0 (TID 704),5,main]\n",
      "org.apache.spark.SparkException: Task failed while writing rows.\n",
      "\tat org.apache.spark.sql.errors.QueryExecutionErrors$.taskFailedWhileWritingRowsError(QueryExecutionErrors.scala:655)\n",
      "\tat org.apache.spark.sql.execution.datasources.FileFormatWriter$.executeTask(FileFormatWriter.scala:358)\n",
      "\tat org.apache.spark.sql.execution.datasources.FileFormatWriter$.$anonfun$write$22(FileFormatWriter.scala:266)\n",
      "\tat org.apache.spark.scheduler.ResultTask.runTask(ResultTask.scala:90)\n",
      "\tat org.apache.spark.scheduler.Task.run(Task.scala:136)\n",
      "\tat org.apache.spark.executor.Executor$TaskRunner.$anonfun$run$3(Executor.scala:548)\n",
      "\tat org.apache.spark.util.Utils$.tryWithSafeFinally(Utils.scala:1504)\n",
      "\tat org.apache.spark.executor.Executor$TaskRunner.run(Executor.scala:551)\n",
      "\tat java.util.concurrent.ThreadPoolExecutor.runWorker(ThreadPoolExecutor.java:1149)\n",
      "\tat java.util.concurrent.ThreadPoolExecutor$Worker.run(ThreadPoolExecutor.java:624)\n",
      "\tat java.lang.Thread.run(Thread.java:750)\n",
      "Caused by: java.lang.OutOfMemoryError: GC overhead limit exceeded\n",
      "23/05/01 13:42:05 ERROR Inbox: Ignoring error\n",
      "java.util.concurrent.RejectedExecutionException: Task org.apache.spark.executor.Executor$TaskRunner@55bfa8ca rejected from java.util.concurrent.ThreadPoolExecutor@5771d8ed[Shutting down, pool size = 10, active threads = 10, queued tasks = 0, completed tasks = 697]\n",
      "\tat java.util.concurrent.ThreadPoolExecutor$AbortPolicy.rejectedExecution(ThreadPoolExecutor.java:2063)\n",
      "\tat java.util.concurrent.ThreadPoolExecutor.reject(ThreadPoolExecutor.java:830)\n",
      "\tat java.util.concurrent.ThreadPoolExecutor.execute(ThreadPoolExecutor.java:1379)\n",
      "\tat org.apache.spark.executor.Executor.launchTask(Executor.scala:305)\n",
      "\tat org.apache.spark.scheduler.local.LocalEndpoint.$anonfun$reviveOffers$1(LocalSchedulerBackend.scala:93)\n",
      "\tat org.apache.spark.scheduler.local.LocalEndpoint.$anonfun$reviveOffers$1$adapted(LocalSchedulerBackend.scala:91)\n",
      "\tat scala.collection.Iterator.foreach(Iterator.scala:943)\n",
      "\tat scala.collection.Iterator.foreach$(Iterator.scala:943)\n",
      "\tat scala.collection.AbstractIterator.foreach(Iterator.scala:1431)\n",
      "\tat scala.collection.IterableLike.foreach(IterableLike.scala:74)\n",
      "\tat scala.collection.IterableLike.foreach$(IterableLike.scala:73)\n",
      "\tat scala.collection.AbstractIterable.foreach(Iterable.scala:56)\n",
      "\tat org.apache.spark.scheduler.local.LocalEndpoint.reviveOffers(LocalSchedulerBackend.scala:91)\n",
      "\tat org.apache.spark.scheduler.local.LocalEndpoint$$anonfun$receive$1.applyOrElse(LocalSchedulerBackend.scala:74)\n",
      "\tat org.apache.spark.rpc.netty.Inbox.$anonfun$process$1(Inbox.scala:115)\n",
      "\tat org.apache.spark.rpc.netty.Inbox.safelyCall(Inbox.scala:213)\n",
      "\tat org.apache.spark.rpc.netty.Inbox.process(Inbox.scala:100)\n",
      "\tat org.apache.spark.rpc.netty.MessageLoop.org$apache$spark$rpc$netty$MessageLoop$$receiveLoop(MessageLoop.scala:75)\n",
      "\tat org.apache.spark.rpc.netty.MessageLoop$$anon$1.run(MessageLoop.scala:41)\n",
      "\tat java.util.concurrent.ThreadPoolExecutor.runWorker(ThreadPoolExecutor.java:1149)\n",
      "\tat java.util.concurrent.ThreadPoolExecutor$Worker.run(ThreadPoolExecutor.java:624)\n",
      "\tat java.lang.Thread.run(Thread.java:750)\n",
      "23/05/01 13:42:05 WARN TaskSetManager: Lost task 0.0 in stage 13.0 (TID 697) (qtk9h72yp0.lan executor driver): org.apache.spark.SparkException: Task failed while writing rows.\n",
      "\tat org.apache.spark.sql.errors.QueryExecutionErrors$.taskFailedWhileWritingRowsError(QueryExecutionErrors.scala:655)\n",
      "\tat org.apache.spark.sql.execution.datasources.FileFormatWriter$.executeTask(FileFormatWriter.scala:358)\n",
      "\tat org.apache.spark.sql.execution.datasources.FileFormatWriter$.$anonfun$write$22(FileFormatWriter.scala:266)\n",
      "\tat org.apache.spark.scheduler.ResultTask.runTask(ResultTask.scala:90)\n",
      "\tat org.apache.spark.scheduler.Task.run(Task.scala:136)\n",
      "\tat org.apache.spark.executor.Executor$TaskRunner.$anonfun$run$3(Executor.scala:548)\n",
      "\tat org.apache.spark.util.Utils$.tryWithSafeFinally(Utils.scala:1504)\n",
      "\tat org.apache.spark.executor.Executor$TaskRunner.run(Executor.scala:551)\n",
      "\tat java.util.concurrent.ThreadPoolExecutor.runWorker(ThreadPoolExecutor.java:1149)\n",
      "\tat java.util.concurrent.ThreadPoolExecutor$Worker.run(ThreadPoolExecutor.java:624)\n",
      "\tat java.lang.Thread.run(Thread.java:750)\n",
      "Caused by: java.lang.OutOfMemoryError: GC overhead limit exceeded\n",
      "\tat java.nio.ByteBuffer.wrap(ByteBuffer.java:373)\n",
      "\tat java.nio.ByteBuffer.wrap(ByteBuffer.java:396)\n",
      "\tat org.apache.parquet.io.api.Binary$ByteArrayBackedBinary.toByteBuffer(Binary.java:333)\n",
      "\tat org.apache.parquet.schema.PrimitiveComparator$BinaryComparator.compareNotNulls(PrimitiveComparator.java:186)\n",
      "\tat org.apache.parquet.schema.PrimitiveComparator$BinaryComparator.compareNotNulls(PrimitiveComparator.java:183)\n",
      "\tat org.apache.parquet.schema.PrimitiveComparator.compare(PrimitiveComparator.java:63)\n",
      "\tat org.apache.parquet.column.statistics.BinaryStatistics.updateStats(BinaryStatistics.java:62)\n",
      "\tat org.apache.parquet.column.impl.ColumnWriterBase.write(ColumnWriterBase.java:240)\n",
      "\tat org.apache.parquet.io.MessageColumnIO$MessageColumnIORecordConsumer.addBinary(MessageColumnIO.java:476)\n",
      "\tat org.apache.spark.sql.execution.datasources.parquet.ParquetWriteSupport.$anonfun$makeWriter$9(ParquetWriteSupport.scala:207)\n",
      "\tat org.apache.spark.sql.execution.datasources.parquet.ParquetWriteSupport.$anonfun$makeWriter$9$adapted(ParquetWriteSupport.scala:205)\n",
      "\tat org.apache.spark.sql.execution.datasources.parquet.ParquetWriteSupport$$Lambda$5630/923690876.apply(Unknown Source)\n",
      "\tat org.apache.spark.sql.execution.datasources.parquet.ParquetWriteSupport.$anonfun$writeFields$1(ParquetWriteSupport.scala:163)\n",
      "\tat org.apache.spark.sql.execution.datasources.parquet.ParquetWriteSupport$$Lambda$5722/1758937877.apply$mcV$sp(Unknown Source)\n",
      "\tat org.apache.spark.sql.execution.datasources.parquet.ParquetWriteSupport.consumeField(ParquetWriteSupport.scala:486)\n",
      "\tat org.apache.spark.sql.execution.datasources.parquet.ParquetWriteSupport.writeFields(ParquetWriteSupport.scala:163)\n",
      "\tat org.apache.spark.sql.execution.datasources.parquet.ParquetWriteSupport.$anonfun$write$1(ParquetWriteSupport.scala:153)\n",
      "\tat org.apache.spark.sql.execution.datasources.parquet.ParquetWriteSupport$$Lambda$5716/1357124542.apply$mcV$sp(Unknown Source)\n",
      "\tat org.apache.spark.sql.execution.datasources.parquet.ParquetWriteSupport.consumeMessage(ParquetWriteSupport.scala:474)\n",
      "\tat org.apache.spark.sql.execution.datasources.parquet.ParquetWriteSupport.write(ParquetWriteSupport.scala:153)\n",
      "\tat org.apache.spark.sql.execution.datasources.parquet.ParquetWriteSupport.write(ParquetWriteSupport.scala:55)\n",
      "\tat org.apache.parquet.hadoop.InternalParquetRecordWriter.write(InternalParquetRecordWriter.java:138)\n",
      "\tat org.apache.parquet.hadoop.ParquetRecordWriter.write(ParquetRecordWriter.java:181)\n",
      "\tat org.apache.parquet.hadoop.ParquetRecordWriter.write(ParquetRecordWriter.java:43)\n",
      "\tat org.apache.spark.sql.execution.datasources.parquet.ParquetOutputWriter.write(ParquetOutputWriter.scala:39)\n",
      "\tat org.apache.spark.sql.execution.datasources.SingleDirectoryDataWriter.write(FileFormatDataWriter.scala:175)\n",
      "\tat org.apache.spark.sql.execution.datasources.FileFormatDataWriter.writeWithMetrics(FileFormatDataWriter.scala:85)\n",
      "\tat org.apache.spark.sql.execution.datasources.FileFormatDataWriter.writeWithIterator(FileFormatDataWriter.scala:92)\n",
      "\tat org.apache.spark.sql.execution.datasources.FileFormatWriter$.$anonfun$executeTask$1(FileFormatWriter.scala:341)\n",
      "\tat org.apache.spark.sql.execution.datasources.FileFormatWriter$$$Lambda$5691/2033011139.apply(Unknown Source)\n",
      "\tat org.apache.spark.util.Utils$.tryWithSafeFinallyAndFailureCallbacks(Utils.scala:1538)\n",
      "\tat org.apache.spark.sql.execution.datasources.FileFormatWriter$.executeTask(FileFormatWriter.scala:348)\n",
      "\n",
      "23/05/01 13:42:05 ERROR TaskSetManager: Task 0 in stage 13.0 failed 1 times; aborting job\n",
      "23/05/01 13:42:05 ERROR FileFormatWriter: Job job_20230501134126506255162261030703_0013 aborted.\n",
      "23/05/01 13:42:05 ERROR Executor: Exception in task 2.0 in stage 13.0 (TID 699)\n",
      "org.apache.spark.SparkException: Task failed while writing rows.\n",
      "\tat org.apache.spark.sql.errors.QueryExecutionErrors$.taskFailedWhileWritingRowsError(QueryExecutionErrors.scala:655)\n",
      "\tat org.apache.spark.sql.execution.datasources.FileFormatWriter$.executeTask(FileFormatWriter.scala:358)\n",
      "\tat org.apache.spark.sql.execution.datasources.FileFormatWriter$.$anonfun$write$22(FileFormatWriter.scala:266)\n",
      "\tat org.apache.spark.scheduler.ResultTask.runTask(ResultTask.scala:90)\n",
      "\tat org.apache.spark.scheduler.Task.run(Task.scala:136)\n",
      "\tat org.apache.spark.executor.Executor$TaskRunner.$anonfun$run$3(Executor.scala:548)\n",
      "\tat org.apache.spark.util.Utils$.tryWithSafeFinally(Utils.scala:1504)\n",
      "\tat org.apache.spark.executor.Executor$TaskRunner.run(Executor.scala:551)\n",
      "\tat java.util.concurrent.ThreadPoolExecutor.runWorker(ThreadPoolExecutor.java:1149)\n",
      "\tat java.util.concurrent.ThreadPoolExecutor$Worker.run(ThreadPoolExecutor.java:624)\n",
      "\tat java.lang.Thread.run(Thread.java:750)\n",
      "Caused by: java.lang.OutOfMemoryError: GC overhead limit exceeded\n",
      "23/05/01 13:42:05 ERROR SparkUncaughtExceptionHandler: [Container in shutdown] Uncaught exception in thread Thread[Executor task launch worker for task 2.0 in stage 13.0 (TID 699),5,main]\n",
      "org.apache.spark.SparkException: Task failed while writing rows.\n",
      "\tat org.apache.spark.sql.errors.QueryExecutionErrors$.taskFailedWhileWritingRowsError(QueryExecutionErrors.scala:655)\n",
      "\tat org.apache.spark.sql.execution.datasources.FileFormatWriter$.executeTask(FileFormatWriter.scala:358)\n",
      "\tat org.apache.spark.sql.execution.datasources.FileFormatWriter$.$anonfun$write$22(FileFormatWriter.scala:266)\n",
      "\tat org.apache.spark.scheduler.ResultTask.runTask(ResultTask.scala:90)\n",
      "\tat org.apache.spark.scheduler.Task.run(Task.scala:136)\n",
      "\tat org.apache.spark.executor.Executor$TaskRunner.$anonfun$run$3(Executor.scala:548)\n",
      "\tat org.apache.spark.util.Utils$.tryWithSafeFinally(Utils.scala:1504)\n",
      "\tat org.apache.spark.executor.Executor$TaskRunner.run(Executor.scala:551)\n",
      "\tat java.util.concurrent.ThreadPoolExecutor.runWorker(ThreadPoolExecutor.java:1149)\n",
      "\tat java.util.concurrent.ThreadPoolExecutor$Worker.run(ThreadPoolExecutor.java:624)\n",
      "\tat java.lang.Thread.run(Thread.java:750)\n",
      "Caused by: java.lang.OutOfMemoryError: GC overhead limit exceeded\n",
      "23/05/01 13:42:05 ERROR FileFormatWriter: Aborting job ffb95540-c2f5-4917-b5d2-ace481e332f4.\n",
      "org.apache.spark.SparkException: Job aborted due to stage failure: Task 0 in stage 13.0 failed 1 times, most recent failure: Lost task 0.0 in stage 13.0 (TID 697) (qtk9h72yp0.lan executor driver): org.apache.spark.SparkException: Task failed while writing rows.\n",
      "\tat org.apache.spark.sql.errors.QueryExecutionErrors$.taskFailedWhileWritingRowsError(QueryExecutionErrors.scala:655)\n",
      "\tat org.apache.spark.sql.execution.datasources.FileFormatWriter$.executeTask(FileFormatWriter.scala:358)\n",
      "\tat org.apache.spark.sql.execution.datasources.FileFormatWriter$.$anonfun$write$22(FileFormatWriter.scala:266)\n",
      "\tat org.apache.spark.scheduler.ResultTask.runTask(ResultTask.scala:90)\n",
      "\tat org.apache.spark.scheduler.Task.run(Task.scala:136)\n",
      "\tat org.apache.spark.executor.Executor$TaskRunner.$anonfun$run$3(Executor.scala:548)\n",
      "\tat org.apache.spark.util.Utils$.tryWithSafeFinally(Utils.scala:1504)\n",
      "\tat org.apache.spark.executor.Executor$TaskRunner.run(Executor.scala:551)\n",
      "\tat java.util.concurrent.ThreadPoolExecutor.runWorker(ThreadPoolExecutor.java:1149)\n",
      "\tat java.util.concurrent.ThreadPoolExecutor$Worker.run(ThreadPoolExecutor.java:624)\n",
      "\tat java.lang.Thread.run(Thread.java:750)\n",
      "Caused by: java.lang.OutOfMemoryError: GC overhead limit exceeded\n",
      "\tat java.nio.ByteBuffer.wrap(ByteBuffer.java:373)\n",
      "\tat java.nio.ByteBuffer.wrap(ByteBuffer.java:396)\n",
      "\tat org.apache.parquet.io.api.Binary$ByteArrayBackedBinary.toByteBuffer(Binary.java:333)\n",
      "\tat org.apache.parquet.schema.PrimitiveComparator$BinaryComparator.compareNotNulls(PrimitiveComparator.java:186)\n",
      "\tat org.apache.parquet.schema.PrimitiveComparator$BinaryComparator.compareNotNulls(PrimitiveComparator.java:183)\n",
      "\tat org.apache.parquet.schema.PrimitiveComparator.compare(PrimitiveComparator.java:63)\n",
      "\tat org.apache.parquet.column.statistics.BinaryStatistics.updateStats(BinaryStatistics.java:62)\n",
      "\tat org.apache.parquet.column.impl.ColumnWriterBase.write(ColumnWriterBase.java:240)\n",
      "\tat org.apache.parquet.io.MessageColumnIO$MessageColumnIORecordConsumer.addBinary(MessageColumnIO.java:476)\n",
      "\tat org.apache.spark.sql.execution.datasources.parquet.ParquetWriteSupport.$anonfun$makeWriter$9(ParquetWriteSupport.scala:207)\n",
      "\tat org.apache.spark.sql.execution.datasources.parquet.ParquetWriteSupport.$anonfun$makeWriter$9$adapted(ParquetWriteSupport.scala:205)\n",
      "\tat org.apache.spark.sql.execution.datasources.parquet.ParquetWriteSupport$$Lambda$5630/923690876.apply(Unknown Source)\n",
      "\tat org.apache.spark.sql.execution.datasources.parquet.ParquetWriteSupport.$anonfun$writeFields$1(ParquetWriteSupport.scala:163)\n",
      "\tat org.apache.spark.sql.execution.datasources.parquet.ParquetWriteSupport$$Lambda$5722/1758937877.apply$mcV$sp(Unknown Source)\n",
      "\tat org.apache.spark.sql.execution.datasources.parquet.ParquetWriteSupport.consumeField(ParquetWriteSupport.scala:486)\n",
      "\tat org.apache.spark.sql.execution.datasources.parquet.ParquetWriteSupport.writeFields(ParquetWriteSupport.scala:163)\n",
      "\tat org.apache.spark.sql.execution.datasources.parquet.ParquetWriteSupport.$anonfun$write$1(ParquetWriteSupport.scala:153)\n",
      "\tat org.apache.spark.sql.execution.datasources.parquet.ParquetWriteSupport$$Lambda$5716/1357124542.apply$mcV$sp(Unknown Source)\n",
      "\tat org.apache.spark.sql.execution.datasources.parquet.ParquetWriteSupport.consumeMessage(ParquetWriteSupport.scala:474)\n",
      "\tat org.apache.spark.sql.execution.datasources.parquet.ParquetWriteSupport.write(ParquetWriteSupport.scala:153)\n",
      "\tat org.apache.spark.sql.execution.datasources.parquet.ParquetWriteSupport.write(ParquetWriteSupport.scala:55)\n",
      "\tat org.apache.parquet.hadoop.InternalParquetRecordWriter.write(InternalParquetRecordWriter.java:138)\n",
      "\tat org.apache.parquet.hadoop.ParquetRecordWriter.write(ParquetRecordWriter.java:181)\n",
      "\tat org.apache.parquet.hadoop.ParquetRecordWriter.write(ParquetRecordWriter.java:43)\n",
      "\tat org.apache.spark.sql.execution.datasources.parquet.ParquetOutputWriter.write(ParquetOutputWriter.scala:39)\n",
      "\tat org.apache.spark.sql.execution.datasources.SingleDirectoryDataWriter.write(FileFormatDataWriter.scala:175)\n",
      "\tat org.apache.spark.sql.execution.datasources.FileFormatDataWriter.writeWithMetrics(FileFormatDataWriter.scala:85)\n",
      "\tat org.apache.spark.sql.execution.datasources.FileFormatDataWriter.writeWithIterator(FileFormatDataWriter.scala:92)\n",
      "\tat org.apache.spark.sql.execution.datasources.FileFormatWriter$.$anonfun$executeTask$1(FileFormatWriter.scala:341)\n",
      "\tat org.apache.spark.sql.execution.datasources.FileFormatWriter$$$Lambda$5691/2033011139.apply(Unknown Source)\n",
      "\tat org.apache.spark.util.Utils$.tryWithSafeFinallyAndFailureCallbacks(Utils.scala:1538)\n",
      "\tat org.apache.spark.sql.execution.datasources.FileFormatWriter$.executeTask(FileFormatWriter.scala:348)\n",
      "\n",
      "Driver stacktrace:\n",
      "\tat org.apache.spark.scheduler.DAGScheduler.failJobAndIndependentStages(DAGScheduler.scala:2672)\n",
      "\tat org.apache.spark.scheduler.DAGScheduler.$anonfun$abortStage$2(DAGScheduler.scala:2608)\n",
      "\tat org.apache.spark.scheduler.DAGScheduler.$anonfun$abortStage$2$adapted(DAGScheduler.scala:2607)\n",
      "\tat scala.collection.mutable.ResizableArray.foreach(ResizableArray.scala:62)\n",
      "\tat scala.collection.mutable.ResizableArray.foreach$(ResizableArray.scala:55)\n",
      "\tat scala.collection.mutable.ArrayBuffer.foreach(ArrayBuffer.scala:49)\n",
      "\tat org.apache.spark.scheduler.DAGScheduler.abortStage(DAGScheduler.scala:2607)\n",
      "\tat org.apache.spark.scheduler.DAGScheduler.$anonfun$handleTaskSetFailed$1(DAGScheduler.scala:1182)\n",
      "\tat org.apache.spark.scheduler.DAGScheduler.$anonfun$handleTaskSetFailed$1$adapted(DAGScheduler.scala:1182)\n",
      "\tat scala.Option.foreach(Option.scala:407)\n",
      "\tat org.apache.spark.scheduler.DAGScheduler.handleTaskSetFailed(DAGScheduler.scala:1182)\n",
      "\tat org.apache.spark.scheduler.DAGSchedulerEventProcessLoop.doOnReceive(DAGScheduler.scala:2860)\n",
      "\tat org.apache.spark.scheduler.DAGSchedulerEventProcessLoop.onReceive(DAGScheduler.scala:2802)\n",
      "\tat org.apache.spark.scheduler.DAGSchedulerEventProcessLoop.onReceive(DAGScheduler.scala:2791)\n",
      "\tat org.apache.spark.util.EventLoop$$anon$1.run(EventLoop.scala:49)\n",
      "\tat org.apache.spark.scheduler.DAGScheduler.runJob(DAGScheduler.scala:952)\n",
      "\tat org.apache.spark.SparkContext.runJob(SparkContext.scala:2238)\n",
      "\tat org.apache.spark.sql.execution.datasources.FileFormatWriter$.write(FileFormatWriter.scala:255)\n",
      "\tat org.apache.spark.sql.delta.files.TransactionalWrite.$anonfun$writeFiles$1(TransactionalWrite.scala:398)\n",
      "\tat org.apache.spark.sql.execution.SQLExecution$.$anonfun$withNewExecutionId$6(SQLExecution.scala:109)\n",
      "\tat org.apache.spark.sql.execution.SQLExecution$.withSQLConfPropagated(SQLExecution.scala:169)\n",
      "\tat org.apache.spark.sql.execution.SQLExecution$.$anonfun$withNewExecutionId$1(SQLExecution.scala:95)\n",
      "\tat org.apache.spark.sql.SparkSession.withActive(SparkSession.scala:779)\n",
      "\tat org.apache.spark.sql.execution.SQLExecution$.withNewExecutionId(SQLExecution.scala:64)\n",
      "\tat org.apache.spark.sql.delta.files.TransactionalWrite.writeFiles(TransactionalWrite.scala:353)\n",
      "\tat org.apache.spark.sql.delta.files.TransactionalWrite.writeFiles$(TransactionalWrite.scala:328)\n",
      "\tat org.apache.spark.sql.delta.OptimisticTransaction.writeFiles(OptimisticTransaction.scala:129)\n",
      "\tat org.apache.spark.sql.delta.files.TransactionalWrite.writeFiles(TransactionalWrite.scala:206)\n",
      "\tat org.apache.spark.sql.delta.files.TransactionalWrite.writeFiles$(TransactionalWrite.scala:203)\n",
      "\tat org.apache.spark.sql.delta.OptimisticTransaction.writeFiles(OptimisticTransaction.scala:129)\n",
      "\tat org.apache.spark.sql.delta.files.TransactionalWrite.writeFiles(TransactionalWrite.scala:216)\n",
      "\tat org.apache.spark.sql.delta.files.TransactionalWrite.writeFiles$(TransactionalWrite.scala:215)\n",
      "\tat org.apache.spark.sql.delta.OptimisticTransaction.writeFiles(OptimisticTransaction.scala:129)\n",
      "\tat org.apache.spark.sql.delta.commands.OptimizeExecutor.runOptimizeBinJob(OptimizeTableCommand.scala:363)\n",
      "\tat org.apache.spark.sql.delta.commands.OptimizeExecutor.$anonfun$optimize$5(OptimizeTableCommand.scala:187)\n",
      "\tat org.apache.spark.util.ThreadUtils$.$anonfun$parmap$2(ThreadUtils.scala:372)\n",
      "\tat scala.concurrent.Future$.$anonfun$apply$1(Future.scala:659)\n",
      "\tat scala.util.Success.$anonfun$map$1(Try.scala:255)\n",
      "\tat scala.util.Success.map(Try.scala:213)\n",
      "\tat scala.concurrent.Future.$anonfun$map$1(Future.scala:292)\n",
      "\tat scala.concurrent.impl.Promise.liftedTree1$1(Promise.scala:33)\n",
      "\tat scala.concurrent.impl.Promise.$anonfun$transform$1(Promise.scala:33)\n",
      "\tat scala.concurrent.impl.CallbackRunnable.run(Promise.scala:64)\n",
      "\tat java.util.concurrent.ForkJoinTask$RunnableExecuteAction.exec(ForkJoinTask.java:1402)\n",
      "\tat java.util.concurrent.ForkJoinTask.doExec(ForkJoinTask.java:289)\n",
      "\tat java.util.concurrent.ForkJoinPool$WorkQueue.runTask(ForkJoinPool.java:1056)\n",
      "\tat java.util.concurrent.ForkJoinPool.runWorker(ForkJoinPool.java:1692)\n",
      "\tat java.util.concurrent.ForkJoinWorkerThread.run(ForkJoinWorkerThread.java:175)\n",
      "Caused by: org.apache.spark.SparkException: Task failed while writing rows.\n",
      "\tat org.apache.spark.sql.errors.QueryExecutionErrors$.taskFailedWhileWritingRowsError(QueryExecutionErrors.scala:655)\n",
      "\tat org.apache.spark.sql.execution.datasources.FileFormatWriter$.executeTask(FileFormatWriter.scala:358)\n",
      "\tat org.apache.spark.sql.execution.datasources.FileFormatWriter$.$anonfun$write$22(FileFormatWriter.scala:266)\n",
      "\tat org.apache.spark.scheduler.ResultTask.runTask(ResultTask.scala:90)\n",
      "\tat org.apache.spark.scheduler.Task.run(Task.scala:136)\n",
      "\tat org.apache.spark.executor.Executor$TaskRunner.$anonfun$run$3(Executor.scala:548)\n",
      "\tat org.apache.spark.util.Utils$.tryWithSafeFinally(Utils.scala:1504)\n",
      "\tat org.apache.spark.executor.Executor$TaskRunner.run(Executor.scala:551)\n",
      "\tat java.util.concurrent.ThreadPoolExecutor.runWorker(ThreadPoolExecutor.java:1149)\n",
      "\tat java.util.concurrent.ThreadPoolExecutor$Worker.run(ThreadPoolExecutor.java:624)\n",
      "\tat java.lang.Thread.run(Thread.java:750)\n",
      "Caused by: java.lang.OutOfMemoryError: GC overhead limit exceeded\n",
      "\tat java.nio.ByteBuffer.wrap(ByteBuffer.java:373)\n",
      "\tat java.nio.ByteBuffer.wrap(ByteBuffer.java:396)\n",
      "\tat org.apache.parquet.io.api.Binary$ByteArrayBackedBinary.toByteBuffer(Binary.java:333)\n",
      "\tat org.apache.parquet.schema.PrimitiveComparator$BinaryComparator.compareNotNulls(PrimitiveComparator.java:186)\n",
      "\tat org.apache.parquet.schema.PrimitiveComparator$BinaryComparator.compareNotNulls(PrimitiveComparator.java:183)\n",
      "\tat org.apache.parquet.schema.PrimitiveComparator.compare(PrimitiveComparator.java:63)\n",
      "\tat org.apache.parquet.column.statistics.BinaryStatistics.updateStats(BinaryStatistics.java:62)\n",
      "\tat org.apache.parquet.column.impl.ColumnWriterBase.write(ColumnWriterBase.java:240)\n",
      "\tat org.apache.parquet.io.MessageColumnIO$MessageColumnIORecordConsumer.addBinary(MessageColumnIO.java:476)\n",
      "\tat org.apache.spark.sql.execution.datasources.parquet.ParquetWriteSupport.$anonfun$makeWriter$9(ParquetWriteSupport.scala:207)\n",
      "\tat org.apache.spark.sql.execution.datasources.parquet.ParquetWriteSupport.$anonfun$makeWriter$9$adapted(ParquetWriteSupport.scala:205)\n",
      "\tat org.apache.spark.sql.execution.datasources.parquet.ParquetWriteSupport$$Lambda$5630/923690876.apply(Unknown Source)\n",
      "\tat org.apache.spark.sql.execution.datasources.parquet.ParquetWriteSupport.$anonfun$writeFields$1(ParquetWriteSupport.scala:163)\n",
      "\tat org.apache.spark.sql.execution.datasources.parquet.ParquetWriteSupport$$Lambda$5722/1758937877.apply$mcV$sp(Unknown Source)\n",
      "\tat org.apache.spark.sql.execution.datasources.parquet.ParquetWriteSupport.consumeField(ParquetWriteSupport.scala:486)\n",
      "\tat org.apache.spark.sql.execution.datasources.parquet.ParquetWriteSupport.writeFields(ParquetWriteSupport.scala:163)\n",
      "\tat org.apache.spark.sql.execution.datasources.parquet.ParquetWriteSupport.$anonfun$write$1(ParquetWriteSupport.scala:153)\n",
      "\tat org.apache.spark.sql.execution.datasources.parquet.ParquetWriteSupport$$Lambda$5716/1357124542.apply$mcV$sp(Unknown Source)\n",
      "\tat org.apache.spark.sql.execution.datasources.parquet.ParquetWriteSupport.consumeMessage(ParquetWriteSupport.scala:474)\n",
      "\tat org.apache.spark.sql.execution.datasources.parquet.ParquetWriteSupport.write(ParquetWriteSupport.scala:153)\n",
      "\tat org.apache.spark.sql.execution.datasources.parquet.ParquetWriteSupport.write(ParquetWriteSupport.scala:55)\n",
      "\tat org.apache.parquet.hadoop.InternalParquetRecordWriter.write(InternalParquetRecordWriter.java:138)\n",
      "\tat org.apache.parquet.hadoop.ParquetRecordWriter.write(ParquetRecordWriter.java:181)\n",
      "\tat org.apache.parquet.hadoop.ParquetRecordWriter.write(ParquetRecordWriter.java:43)\n",
      "\tat org.apache.spark.sql.execution.datasources.parquet.ParquetOutputWriter.write(ParquetOutputWriter.scala:39)\n",
      "\tat org.apache.spark.sql.execution.datasources.SingleDirectoryDataWriter.write(FileFormatDataWriter.scala:175)\n",
      "\tat org.apache.spark.sql.execution.datasources.FileFormatDataWriter.writeWithMetrics(FileFormatDataWriter.scala:85)\n",
      "\tat org.apache.spark.sql.execution.datasources.FileFormatDataWriter.writeWithIterator(FileFormatDataWriter.scala:92)\n",
      "\tat org.apache.spark.sql.execution.datasources.FileFormatWriter$.$anonfun$executeTask$1(FileFormatWriter.scala:341)\n",
      "\tat org.apache.spark.sql.execution.datasources.FileFormatWriter$$$Lambda$5691/2033011139.apply(Unknown Source)\n",
      "\tat org.apache.spark.util.Utils$.tryWithSafeFinallyAndFailureCallbacks(Utils.scala:1538)\n",
      "\tat org.apache.spark.sql.execution.datasources.FileFormatWriter$.executeTask(FileFormatWriter.scala:348)\n",
      "23/05/01 13:42:05 ERROR FileFormatWriter: Job job_20230501134126506255162261030703_0013 aborted.\n",
      "23/05/01 13:42:05 WARN TaskSetManager: Lost task 6.0 in stage 13.0 (TID 703) (qtk9h72yp0.lan executor driver): TaskKilled (Stage cancelled)\n",
      "23/05/01 13:42:05 ERROR FileFormatWriter: Job job_20230501134126506255162261030703_0013 aborted.\n",
      "23/05/01 13:42:05 ERROR FileFormatWriter: Job job_20230501134126506255162261030703_0013 aborted.\n",
      "23/05/01 13:42:05 WARN TaskSetManager: Lost task 5.0 in stage 13.0 (TID 702) (qtk9h72yp0.lan executor driver): TaskKilled (Stage cancelled)\n",
      "23/05/01 13:42:05 ERROR FileFormatWriter: Job job_20230501134126506255162261030703_0013 aborted.\n",
      "23/05/01 13:42:05 WARN TaskSetManager: Lost task 1.0 in stage 13.0 (TID 698) (qtk9h72yp0.lan executor driver): TaskKilled (Stage cancelled)\n",
      "23/05/01 13:42:05 WARN TaskSetManager: Lost task 3.0 in stage 13.0 (TID 700) (qtk9h72yp0.lan executor driver): TaskKilled (Stage cancelled)\n",
      "23/05/01 13:42:05 ERROR FileFormatWriter: Job job_20230501134126506255162261030703_0013 aborted.\n",
      "23/05/01 13:42:05 ERROR TaskSchedulerImpl: Exception in statusUpdate\n",
      "java.util.concurrent.RejectedExecutionException: Task org.apache.spark.scheduler.TaskResultGetter$$Lambda$5772/1126732691@7e71ed42 rejected from java.util.concurrent.ThreadPoolExecutor@74f02e66[Terminated, pool size = 0, active threads = 0, queued tasks = 0, completed tasks = 704]\n",
      "\tat java.util.concurrent.ThreadPoolExecutor$AbortPolicy.rejectedExecution(ThreadPoolExecutor.java:2063)\n",
      "\tat java.util.concurrent.ThreadPoolExecutor.reject(ThreadPoolExecutor.java:830)\n",
      "\tat java.util.concurrent.ThreadPoolExecutor.execute(ThreadPoolExecutor.java:1379)\n",
      "\tat org.apache.spark.scheduler.TaskResultGetter.enqueueFailedTask(TaskResultGetter.scala:137)\n",
      "\tat org.apache.spark.scheduler.TaskSchedulerImpl.liftedTree2$1(TaskSchedulerImpl.scala:821)\n",
      "\tat org.apache.spark.scheduler.TaskSchedulerImpl.statusUpdate(TaskSchedulerImpl.scala:794)\n",
      "\tat org.apache.spark.scheduler.local.LocalEndpoint$$anonfun$receive$1.applyOrElse(LocalSchedulerBackend.scala:71)\n",
      "\tat org.apache.spark.rpc.netty.Inbox.$anonfun$process$1(Inbox.scala:115)\n",
      "\tat org.apache.spark.rpc.netty.Inbox.safelyCall(Inbox.scala:213)\n",
      "\tat org.apache.spark.rpc.netty.Inbox.process(Inbox.scala:100)\n",
      "\tat org.apache.spark.rpc.netty.MessageLoop.org$apache$spark$rpc$netty$MessageLoop$$receiveLoop(MessageLoop.scala:75)\n",
      "\tat org.apache.spark.rpc.netty.MessageLoop$$anon$1.run(MessageLoop.scala:41)\n",
      "\tat java.util.concurrent.ThreadPoolExecutor.runWorker(ThreadPoolExecutor.java:1149)\n",
      "\tat java.util.concurrent.ThreadPoolExecutor$Worker.run(ThreadPoolExecutor.java:624)\n",
      "\tat java.lang.Thread.run(Thread.java:750)\n",
      "23/05/01 13:42:05 ERROR FileFormatWriter: Job job_20230501134126506255162261030703_0013 aborted.\n"
     ]
    },
    {
     "ename": "Py4JJavaError",
     "evalue": "An error occurred while calling o41.executeZOrderBy.\n: org.apache.spark.SparkException: Exception thrown in awaitResult: \n\tat org.apache.spark.util.ThreadUtils$.awaitResult(ThreadUtils.scala:301)\n\tat org.apache.spark.util.ThreadUtils$.parmap(ThreadUtils.scala:375)\n\tat org.apache.spark.sql.delta.commands.OptimizeExecutor.$anonfun$optimize$1(OptimizeTableCommand.scala:186)\n\tat org.apache.spark.sql.delta.metering.DeltaLogging.recordFrameProfile(DeltaLogging.scala:140)\n\tat org.apache.spark.sql.delta.metering.DeltaLogging.recordFrameProfile$(DeltaLogging.scala:138)\n\tat org.apache.spark.sql.delta.commands.OptimizeExecutor.recordFrameProfile(OptimizeTableCommand.scala:153)\n\tat org.apache.spark.sql.delta.metering.DeltaLogging.$anonfun$recordDeltaOperationInternal$1(DeltaLogging.scala:133)\n\tat com.databricks.spark.util.DatabricksLogging.recordOperation(DatabricksLogging.scala:128)\n\tat com.databricks.spark.util.DatabricksLogging.recordOperation$(DatabricksLogging.scala:117)\n\tat org.apache.spark.sql.delta.commands.OptimizeExecutor.recordOperation(OptimizeTableCommand.scala:153)\n\tat org.apache.spark.sql.delta.metering.DeltaLogging.recordDeltaOperationInternal(DeltaLogging.scala:132)\n\tat org.apache.spark.sql.delta.metering.DeltaLogging.recordDeltaOperation(DeltaLogging.scala:122)\n\tat org.apache.spark.sql.delta.metering.DeltaLogging.recordDeltaOperation$(DeltaLogging.scala:112)\n\tat org.apache.spark.sql.delta.commands.OptimizeExecutor.recordDeltaOperation(OptimizeTableCommand.scala:153)\n\tat org.apache.spark.sql.delta.commands.OptimizeExecutor.optimize(OptimizeTableCommand.scala:166)\n\tat org.apache.spark.sql.delta.commands.OptimizeTableCommand.run(OptimizeTableCommand.scala:141)\n\tat org.apache.spark.sql.execution.command.ExecutedCommandExec.sideEffectResult$lzycompute(commands.scala:75)\n\tat org.apache.spark.sql.execution.command.ExecutedCommandExec.sideEffectResult(commands.scala:73)\n\tat org.apache.spark.sql.execution.command.ExecutedCommandExec.executeCollect(commands.scala:84)\n\tat org.apache.spark.sql.execution.QueryExecution$$anonfun$eagerlyExecuteCommands$1.$anonfun$applyOrElse$1(QueryExecution.scala:98)\n\tat org.apache.spark.sql.execution.SQLExecution$.$anonfun$withNewExecutionId$6(SQLExecution.scala:109)\n\tat org.apache.spark.sql.execution.SQLExecution$.withSQLConfPropagated(SQLExecution.scala:169)\n\tat org.apache.spark.sql.execution.SQLExecution$.$anonfun$withNewExecutionId$1(SQLExecution.scala:95)\n\tat org.apache.spark.sql.SparkSession.withActive(SparkSession.scala:779)\n\tat org.apache.spark.sql.execution.SQLExecution$.withNewExecutionId(SQLExecution.scala:64)\n\tat org.apache.spark.sql.execution.QueryExecution$$anonfun$eagerlyExecuteCommands$1.applyOrElse(QueryExecution.scala:98)\n\tat org.apache.spark.sql.execution.QueryExecution$$anonfun$eagerlyExecuteCommands$1.applyOrElse(QueryExecution.scala:94)\n\tat org.apache.spark.sql.catalyst.trees.TreeNode.$anonfun$transformDownWithPruning$1(TreeNode.scala:584)\n\tat org.apache.spark.sql.catalyst.trees.CurrentOrigin$.withOrigin(TreeNode.scala:176)\n\tat org.apache.spark.sql.catalyst.trees.TreeNode.transformDownWithPruning(TreeNode.scala:584)\n\tat org.apache.spark.sql.catalyst.plans.logical.LogicalPlan.org$apache$spark$sql$catalyst$plans$logical$AnalysisHelper$$super$transformDownWithPruning(LogicalPlan.scala:30)\n\tat org.apache.spark.sql.catalyst.plans.logical.AnalysisHelper.transformDownWithPruning(AnalysisHelper.scala:267)\n\tat org.apache.spark.sql.catalyst.plans.logical.AnalysisHelper.transformDownWithPruning$(AnalysisHelper.scala:263)\n\tat org.apache.spark.sql.catalyst.plans.logical.LogicalPlan.transformDownWithPruning(LogicalPlan.scala:30)\n\tat org.apache.spark.sql.catalyst.plans.logical.LogicalPlan.transformDownWithPruning(LogicalPlan.scala:30)\n\tat org.apache.spark.sql.catalyst.trees.TreeNode.transformDown(TreeNode.scala:560)\n\tat org.apache.spark.sql.execution.QueryExecution.eagerlyExecuteCommands(QueryExecution.scala:94)\n\tat org.apache.spark.sql.execution.QueryExecution.commandExecuted$lzycompute(QueryExecution.scala:81)\n\tat org.apache.spark.sql.execution.QueryExecution.commandExecuted(QueryExecution.scala:79)\n\tat org.apache.spark.sql.Dataset.<init>(Dataset.scala:220)\n\tat org.apache.spark.sql.Dataset$.$anonfun$ofRows$1(Dataset.scala:92)\n\tat org.apache.spark.sql.SparkSession.withActive(SparkSession.scala:779)\n\tat org.apache.spark.sql.Dataset$.ofRows(Dataset.scala:89)\n\tat org.apache.spark.sql.delta.util.AnalysisHelper.toDataset(AnalysisHelper.scala:88)\n\tat org.apache.spark.sql.delta.util.AnalysisHelper.toDataset$(AnalysisHelper.scala:87)\n\tat io.delta.tables.DeltaOptimizeBuilder.toDataset(DeltaOptimizeBuilder.scala:38)\n\tat io.delta.tables.DeltaOptimizeBuilder.execute(DeltaOptimizeBuilder.scala:85)\n\tat io.delta.tables.DeltaOptimizeBuilder.executeZOrderBy(DeltaOptimizeBuilder.scala:75)\n\tat sun.reflect.NativeMethodAccessorImpl.invoke0(Native Method)\n\tat sun.reflect.NativeMethodAccessorImpl.invoke(NativeMethodAccessorImpl.java:62)\n\tat sun.reflect.DelegatingMethodAccessorImpl.invoke(DelegatingMethodAccessorImpl.java:43)\n\tat java.lang.reflect.Method.invoke(Method.java:498)\n\tat py4j.reflection.MethodInvoker.invoke(MethodInvoker.java:244)\n\tat py4j.reflection.ReflectionEngine.invoke(ReflectionEngine.java:357)\n\tat py4j.Gateway.invoke(Gateway.java:282)\n\tat py4j.commands.AbstractCommand.invokeMethod(AbstractCommand.java:132)\n\tat py4j.commands.CallCommand.execute(CallCommand.java:79)\n\tat py4j.ClientServerConnection.waitForCommands(ClientServerConnection.java:182)\n\tat py4j.ClientServerConnection.run(ClientServerConnection.java:106)\n\tat java.lang.Thread.run(Thread.java:750)\nCaused by: org.apache.spark.SparkException: Job aborted.\n\tat org.apache.spark.sql.errors.QueryExecutionErrors$.jobAbortedError(QueryExecutionErrors.scala:651)\n\tat org.apache.spark.sql.execution.datasources.FileFormatWriter$.write(FileFormatWriter.scala:288)\n\tat org.apache.spark.sql.delta.files.TransactionalWrite.$anonfun$writeFiles$1(TransactionalWrite.scala:398)\n\tat org.apache.spark.sql.execution.SQLExecution$.$anonfun$withNewExecutionId$6(SQLExecution.scala:109)\n\tat org.apache.spark.sql.execution.SQLExecution$.withSQLConfPropagated(SQLExecution.scala:169)\n\tat org.apache.spark.sql.execution.SQLExecution$.$anonfun$withNewExecutionId$1(SQLExecution.scala:95)\n\tat org.apache.spark.sql.SparkSession.withActive(SparkSession.scala:779)\n\tat org.apache.spark.sql.execution.SQLExecution$.withNewExecutionId(SQLExecution.scala:64)\n\tat org.apache.spark.sql.delta.files.TransactionalWrite.writeFiles(TransactionalWrite.scala:353)\n\tat org.apache.spark.sql.delta.files.TransactionalWrite.writeFiles$(TransactionalWrite.scala:328)\n\tat org.apache.spark.sql.delta.OptimisticTransaction.writeFiles(OptimisticTransaction.scala:129)\n\tat org.apache.spark.sql.delta.files.TransactionalWrite.writeFiles(TransactionalWrite.scala:206)\n\tat org.apache.spark.sql.delta.files.TransactionalWrite.writeFiles$(TransactionalWrite.scala:203)\n\tat org.apache.spark.sql.delta.OptimisticTransaction.writeFiles(OptimisticTransaction.scala:129)\n\tat org.apache.spark.sql.delta.files.TransactionalWrite.writeFiles(TransactionalWrite.scala:216)\n\tat org.apache.spark.sql.delta.files.TransactionalWrite.writeFiles$(TransactionalWrite.scala:215)\n\tat org.apache.spark.sql.delta.OptimisticTransaction.writeFiles(OptimisticTransaction.scala:129)\n\tat org.apache.spark.sql.delta.commands.OptimizeExecutor.runOptimizeBinJob(OptimizeTableCommand.scala:363)\n\tat org.apache.spark.sql.delta.commands.OptimizeExecutor.$anonfun$optimize$5(OptimizeTableCommand.scala:187)\n\tat org.apache.spark.util.ThreadUtils$.$anonfun$parmap$2(ThreadUtils.scala:372)\n\tat scala.concurrent.Future$.$anonfun$apply$1(Future.scala:659)\n\tat scala.util.Success.$anonfun$map$1(Try.scala:255)\n\tat scala.util.Success.map(Try.scala:213)\n\tat scala.concurrent.Future.$anonfun$map$1(Future.scala:292)\n\tat scala.concurrent.impl.Promise.liftedTree1$1(Promise.scala:33)\n\tat scala.concurrent.impl.Promise.$anonfun$transform$1(Promise.scala:33)\n\tat scala.concurrent.impl.CallbackRunnable.run(Promise.scala:64)\n\tat java.util.concurrent.ForkJoinTask$RunnableExecuteAction.exec(ForkJoinTask.java:1402)\n\tat java.util.concurrent.ForkJoinTask.doExec(ForkJoinTask.java:289)\n\tat java.util.concurrent.ForkJoinPool$WorkQueue.runTask(ForkJoinPool.java:1056)\n\tat java.util.concurrent.ForkJoinPool.runWorker(ForkJoinPool.java:1692)\n\tat java.util.concurrent.ForkJoinWorkerThread.run(ForkJoinWorkerThread.java:175)\nCaused by: org.apache.spark.SparkException: Job aborted due to stage failure: Task 0 in stage 13.0 failed 1 times, most recent failure: Lost task 0.0 in stage 13.0 (TID 697) (qtk9h72yp0.lan executor driver): org.apache.spark.SparkException: Task failed while writing rows.\n\tat org.apache.spark.sql.errors.QueryExecutionErrors$.taskFailedWhileWritingRowsError(QueryExecutionErrors.scala:655)\n\tat org.apache.spark.sql.execution.datasources.FileFormatWriter$.executeTask(FileFormatWriter.scala:358)\n\tat org.apache.spark.sql.execution.datasources.FileFormatWriter$.$anonfun$write$22(FileFormatWriter.scala:266)\n\tat org.apache.spark.scheduler.ResultTask.runTask(ResultTask.scala:90)\n\tat org.apache.spark.scheduler.Task.run(Task.scala:136)\n\tat org.apache.spark.executor.Executor$TaskRunner.$anonfun$run$3(Executor.scala:548)\n\tat org.apache.spark.util.Utils$.tryWithSafeFinally(Utils.scala:1504)\n\tat org.apache.spark.executor.Executor$TaskRunner.run(Executor.scala:551)\n\tat java.util.concurrent.ThreadPoolExecutor.runWorker(ThreadPoolExecutor.java:1149)\n\tat java.util.concurrent.ThreadPoolExecutor$Worker.run(ThreadPoolExecutor.java:624)\n\tat java.lang.Thread.run(Thread.java:750)\nCaused by: java.lang.OutOfMemoryError: GC overhead limit exceeded\n\tat java.nio.ByteBuffer.wrap(ByteBuffer.java:373)\n\tat java.nio.ByteBuffer.wrap(ByteBuffer.java:396)\n\tat org.apache.parquet.io.api.Binary$ByteArrayBackedBinary.toByteBuffer(Binary.java:333)\n\tat org.apache.parquet.schema.PrimitiveComparator$BinaryComparator.compareNotNulls(PrimitiveComparator.java:186)\n\tat org.apache.parquet.schema.PrimitiveComparator$BinaryComparator.compareNotNulls(PrimitiveComparator.java:183)\n\tat org.apache.parquet.schema.PrimitiveComparator.compare(PrimitiveComparator.java:63)\n\tat org.apache.parquet.column.statistics.BinaryStatistics.updateStats(BinaryStatistics.java:62)\n\tat org.apache.parquet.column.impl.ColumnWriterBase.write(ColumnWriterBase.java:240)\n\tat org.apache.parquet.io.MessageColumnIO$MessageColumnIORecordConsumer.addBinary(MessageColumnIO.java:476)\n\tat org.apache.spark.sql.execution.datasources.parquet.ParquetWriteSupport.$anonfun$makeWriter$9(ParquetWriteSupport.scala:207)\n\tat org.apache.spark.sql.execution.datasources.parquet.ParquetWriteSupport.$anonfun$makeWriter$9$adapted(ParquetWriteSupport.scala:205)\n\tat org.apache.spark.sql.execution.datasources.parquet.ParquetWriteSupport$$Lambda$5630/923690876.apply(Unknown Source)\n\tat org.apache.spark.sql.execution.datasources.parquet.ParquetWriteSupport.$anonfun$writeFields$1(ParquetWriteSupport.scala:163)\n\tat org.apache.spark.sql.execution.datasources.parquet.ParquetWriteSupport$$Lambda$5722/1758937877.apply$mcV$sp(Unknown Source)\n\tat org.apache.spark.sql.execution.datasources.parquet.ParquetWriteSupport.consumeField(ParquetWriteSupport.scala:486)\n\tat org.apache.spark.sql.execution.datasources.parquet.ParquetWriteSupport.writeFields(ParquetWriteSupport.scala:163)\n\tat org.apache.spark.sql.execution.datasources.parquet.ParquetWriteSupport.$anonfun$write$1(ParquetWriteSupport.scala:153)\n\tat org.apache.spark.sql.execution.datasources.parquet.ParquetWriteSupport$$Lambda$5716/1357124542.apply$mcV$sp(Unknown Source)\n\tat org.apache.spark.sql.execution.datasources.parquet.ParquetWriteSupport.consumeMessage(ParquetWriteSupport.scala:474)\n\tat org.apache.spark.sql.execution.datasources.parquet.ParquetWriteSupport.write(ParquetWriteSupport.scala:153)\n\tat org.apache.spark.sql.execution.datasources.parquet.ParquetWriteSupport.write(ParquetWriteSupport.scala:55)\n\tat org.apache.parquet.hadoop.InternalParquetRecordWriter.write(InternalParquetRecordWriter.java:138)\n\tat org.apache.parquet.hadoop.ParquetRecordWriter.write(ParquetRecordWriter.java:181)\n\tat org.apache.parquet.hadoop.ParquetRecordWriter.write(ParquetRecordWriter.java:43)\n\tat org.apache.spark.sql.execution.datasources.parquet.ParquetOutputWriter.write(ParquetOutputWriter.scala:39)\n\tat org.apache.spark.sql.execution.datasources.SingleDirectoryDataWriter.write(FileFormatDataWriter.scala:175)\n\tat org.apache.spark.sql.execution.datasources.FileFormatDataWriter.writeWithMetrics(FileFormatDataWriter.scala:85)\n\tat org.apache.spark.sql.execution.datasources.FileFormatDataWriter.writeWithIterator(FileFormatDataWriter.scala:92)\n\tat org.apache.spark.sql.execution.datasources.FileFormatWriter$.$anonfun$executeTask$1(FileFormatWriter.scala:341)\n\tat org.apache.spark.sql.execution.datasources.FileFormatWriter$$$Lambda$5691/2033011139.apply(Unknown Source)\n\tat org.apache.spark.util.Utils$.tryWithSafeFinallyAndFailureCallbacks(Utils.scala:1538)\n\tat org.apache.spark.sql.execution.datasources.FileFormatWriter$.executeTask(FileFormatWriter.scala:348)\n\nDriver stacktrace:\n\tat org.apache.spark.scheduler.DAGScheduler.failJobAndIndependentStages(DAGScheduler.scala:2672)\n\tat org.apache.spark.scheduler.DAGScheduler.$anonfun$abortStage$2(DAGScheduler.scala:2608)\n\tat org.apache.spark.scheduler.DAGScheduler.$anonfun$abortStage$2$adapted(DAGScheduler.scala:2607)\n\tat scala.collection.mutable.ResizableArray.foreach(ResizableArray.scala:62)\n\tat scala.collection.mutable.ResizableArray.foreach$(ResizableArray.scala:55)\n\tat scala.collection.mutable.ArrayBuffer.foreach(ArrayBuffer.scala:49)\n\tat org.apache.spark.scheduler.DAGScheduler.abortStage(DAGScheduler.scala:2607)\n\tat org.apache.spark.scheduler.DAGScheduler.$anonfun$handleTaskSetFailed$1(DAGScheduler.scala:1182)\n\tat org.apache.spark.scheduler.DAGScheduler.$anonfun$handleTaskSetFailed$1$adapted(DAGScheduler.scala:1182)\n\tat scala.Option.foreach(Option.scala:407)\n\tat org.apache.spark.scheduler.DAGScheduler.handleTaskSetFailed(DAGScheduler.scala:1182)\n\tat org.apache.spark.scheduler.DAGSchedulerEventProcessLoop.doOnReceive(DAGScheduler.scala:2860)\n\tat org.apache.spark.scheduler.DAGSchedulerEventProcessLoop.onReceive(DAGScheduler.scala:2802)\n\tat org.apache.spark.scheduler.DAGSchedulerEventProcessLoop.onReceive(DAGScheduler.scala:2791)\n\tat org.apache.spark.util.EventLoop$$anon$1.run(EventLoop.scala:49)\n\tat org.apache.spark.scheduler.DAGScheduler.runJob(DAGScheduler.scala:952)\n\tat org.apache.spark.SparkContext.runJob(SparkContext.scala:2238)\n\tat org.apache.spark.sql.execution.datasources.FileFormatWriter$.write(FileFormatWriter.scala:255)\n\t... 30 more\nCaused by: org.apache.spark.SparkException: Task failed while writing rows.\n\tat org.apache.spark.sql.errors.QueryExecutionErrors$.taskFailedWhileWritingRowsError(QueryExecutionErrors.scala:655)\n\tat org.apache.spark.sql.execution.datasources.FileFormatWriter$.executeTask(FileFormatWriter.scala:358)\n\tat org.apache.spark.sql.execution.datasources.FileFormatWriter$.$anonfun$write$22(FileFormatWriter.scala:266)\n\tat org.apache.spark.scheduler.ResultTask.runTask(ResultTask.scala:90)\n\tat org.apache.spark.scheduler.Task.run(Task.scala:136)\n\tat org.apache.spark.executor.Executor$TaskRunner.$anonfun$run$3(Executor.scala:548)\n\tat org.apache.spark.util.Utils$.tryWithSafeFinally(Utils.scala:1504)\n\tat org.apache.spark.executor.Executor$TaskRunner.run(Executor.scala:551)\n\tat java.util.concurrent.ThreadPoolExecutor.runWorker(ThreadPoolExecutor.java:1149)\n\tat java.util.concurrent.ThreadPoolExecutor$Worker.run(ThreadPoolExecutor.java:624)\n\tat java.lang.Thread.run(Thread.java:750)\nCaused by: java.lang.OutOfMemoryError: GC overhead limit exceeded\n\tat java.nio.ByteBuffer.wrap(ByteBuffer.java:373)\n\tat java.nio.ByteBuffer.wrap(ByteBuffer.java:396)\n\tat org.apache.parquet.io.api.Binary$ByteArrayBackedBinary.toByteBuffer(Binary.java:333)\n\tat org.apache.parquet.schema.PrimitiveComparator$BinaryComparator.compareNotNulls(PrimitiveComparator.java:186)\n\tat org.apache.parquet.schema.PrimitiveComparator$BinaryComparator.compareNotNulls(PrimitiveComparator.java:183)\n\tat org.apache.parquet.schema.PrimitiveComparator.compare(PrimitiveComparator.java:63)\n\tat org.apache.parquet.column.statistics.BinaryStatistics.updateStats(BinaryStatistics.java:62)\n\tat org.apache.parquet.column.impl.ColumnWriterBase.write(ColumnWriterBase.java:240)\n\tat org.apache.parquet.io.MessageColumnIO$MessageColumnIORecordConsumer.addBinary(MessageColumnIO.java:476)\n\tat org.apache.spark.sql.execution.datasources.parquet.ParquetWriteSupport.$anonfun$makeWriter$9(ParquetWriteSupport.scala:207)\n\tat org.apache.spark.sql.execution.datasources.parquet.ParquetWriteSupport.$anonfun$makeWriter$9$adapted(ParquetWriteSupport.scala:205)\n\tat org.apache.spark.sql.execution.datasources.parquet.ParquetWriteSupport$$Lambda$5630/923690876.apply(Unknown Source)\n\tat org.apache.spark.sql.execution.datasources.parquet.ParquetWriteSupport.$anonfun$writeFields$1(ParquetWriteSupport.scala:163)\n\tat org.apache.spark.sql.execution.datasources.parquet.ParquetWriteSupport$$Lambda$5722/1758937877.apply$mcV$sp(Unknown Source)\n\tat org.apache.spark.sql.execution.datasources.parquet.ParquetWriteSupport.consumeField(ParquetWriteSupport.scala:486)\n\tat org.apache.spark.sql.execution.datasources.parquet.ParquetWriteSupport.writeFields(ParquetWriteSupport.scala:163)\n\tat org.apache.spark.sql.execution.datasources.parquet.ParquetWriteSupport.$anonfun$write$1(ParquetWriteSupport.scala:153)\n\tat org.apache.spark.sql.execution.datasources.parquet.ParquetWriteSupport$$Lambda$5716/1357124542.apply$mcV$sp(Unknown Source)\n\tat org.apache.spark.sql.execution.datasources.parquet.ParquetWriteSupport.consumeMessage(ParquetWriteSupport.scala:474)\n\tat org.apache.spark.sql.execution.datasources.parquet.ParquetWriteSupport.write(ParquetWriteSupport.scala:153)\n\tat org.apache.spark.sql.execution.datasources.parquet.ParquetWriteSupport.write(ParquetWriteSupport.scala:55)\n\tat org.apache.parquet.hadoop.InternalParquetRecordWriter.write(InternalParquetRecordWriter.java:138)\n\tat org.apache.parquet.hadoop.ParquetRecordWriter.write(ParquetRecordWriter.java:181)\n\tat org.apache.parquet.hadoop.ParquetRecordWriter.write(ParquetRecordWriter.java:43)\n\tat org.apache.spark.sql.execution.datasources.parquet.ParquetOutputWriter.write(ParquetOutputWriter.scala:39)\n\tat org.apache.spark.sql.execution.datasources.SingleDirectoryDataWriter.write(FileFormatDataWriter.scala:175)\n\tat org.apache.spark.sql.execution.datasources.FileFormatDataWriter.writeWithMetrics(FileFormatDataWriter.scala:85)\n\tat org.apache.spark.sql.execution.datasources.FileFormatDataWriter.writeWithIterator(FileFormatDataWriter.scala:92)\n\tat org.apache.spark.sql.execution.datasources.FileFormatWriter$.$anonfun$executeTask$1(FileFormatWriter.scala:341)\n\tat org.apache.spark.sql.execution.datasources.FileFormatWriter$$$Lambda$5691/2033011139.apply(Unknown Source)\n\tat org.apache.spark.util.Utils$.tryWithSafeFinallyAndFailureCallbacks(Utils.scala:1538)\n\tat org.apache.spark.sql.execution.datasources.FileFormatWriter$.executeTask(FileFormatWriter.scala:348)\n",
     "output_type": "error",
     "traceback": [
      "\u001b[0;31m---------------------------------------------------------------------------\u001b[0m",
      "\u001b[0;31mPy4JJavaError\u001b[0m                             Traceback (most recent call last)",
      "Cell \u001b[0;32mIn[6], line 1\u001b[0m\n\u001b[0;32m----> 1\u001b[0m \u001b[43mdt\u001b[49m\u001b[38;5;241;43m.\u001b[39;49m\u001b[43moptimize\u001b[49m\u001b[43m(\u001b[49m\u001b[43m)\u001b[49m\u001b[38;5;241;43m.\u001b[39;49m\u001b[43mexecuteZOrderBy\u001b[49m\u001b[43m(\u001b[49m\u001b[38;5;124;43m\"\u001b[39;49m\u001b[38;5;124;43mid1\u001b[39;49m\u001b[38;5;124;43m\"\u001b[39;49m\u001b[43m)\u001b[49m\n",
      "File \u001b[0;32m~/opt/miniconda3/envs/pyspark-332-delta-230/lib/python3.9/site-packages/delta/tables.py:1364\u001b[0m, in \u001b[0;36mDeltaOptimizeBuilder.executeZOrderBy\u001b[0;34m(self, *cols)\u001b[0m\n\u001b[1;32m   1360\u001b[0m         errorMsg \u001b[38;5;241m+\u001b[39m\u001b[38;5;241m=\u001b[39m \u001b[38;5;124m\"\u001b[39m\u001b[38;5;124mFound \u001b[39m\u001b[38;5;132;01m%s\u001b[39;00m\u001b[38;5;124m with type \u001b[39m\u001b[38;5;132;01m%s\u001b[39;00m\u001b[38;5;124m\"\u001b[39m \u001b[38;5;241m%\u001b[39m ((\u001b[38;5;28mstr\u001b[39m(c)), \u001b[38;5;28mstr\u001b[39m(\u001b[38;5;28mtype\u001b[39m(c)))\n\u001b[1;32m   1361\u001b[0m         \u001b[38;5;28;01mraise\u001b[39;00m \u001b[38;5;167;01mTypeError\u001b[39;00m(errorMsg)\n\u001b[1;32m   1363\u001b[0m \u001b[38;5;28;01mreturn\u001b[39;00m DataFrame(\n\u001b[0;32m-> 1364\u001b[0m     \u001b[38;5;28;43mself\u001b[39;49m\u001b[38;5;241;43m.\u001b[39;49m\u001b[43m_jbuilder\u001b[49m\u001b[38;5;241;43m.\u001b[39;49m\u001b[43mexecuteZOrderBy\u001b[49m\u001b[43m(\u001b[49m\u001b[43m_to_seq\u001b[49m\u001b[43m(\u001b[49m\n\u001b[1;32m   1365\u001b[0m \u001b[43m        \u001b[49m\u001b[38;5;28;43mself\u001b[39;49m\u001b[38;5;241;43m.\u001b[39;49m\u001b[43m_spark\u001b[49m\u001b[38;5;241;43m.\u001b[39;49m\u001b[43m_sc\u001b[49m\u001b[43m,\u001b[49m\u001b[43m  \u001b[49m\u001b[38;5;66;43;03m# type: ignore[attr-defined]\u001b[39;49;00m\n\u001b[1;32m   1366\u001b[0m \u001b[43m        \u001b[49m\u001b[43mcast\u001b[49m\u001b[43m(\u001b[49m\u001b[43mIterable\u001b[49m\u001b[43m[\u001b[49m\u001b[43mUnion\u001b[49m\u001b[43m[\u001b[49m\u001b[43mColumn\u001b[49m\u001b[43m,\u001b[49m\u001b[43m \u001b[49m\u001b[38;5;28;43mstr\u001b[39;49m\u001b[43m]\u001b[49m\u001b[43m]\u001b[49m\u001b[43m,\u001b[49m\u001b[43m \u001b[49m\u001b[43mcols\u001b[49m\u001b[43m)\u001b[49m\n\u001b[1;32m   1367\u001b[0m \u001b[43m    \u001b[49m\u001b[43m)\u001b[49m\u001b[43m)\u001b[49m,\n\u001b[1;32m   1368\u001b[0m     \u001b[38;5;28mgetattr\u001b[39m(\u001b[38;5;28mself\u001b[39m\u001b[38;5;241m.\u001b[39m_spark, \u001b[38;5;124m\"\u001b[39m\u001b[38;5;124m_wrapped\u001b[39m\u001b[38;5;124m\"\u001b[39m, \u001b[38;5;28mself\u001b[39m\u001b[38;5;241m.\u001b[39m_spark)  \u001b[38;5;66;03m# type: ignore[attr-defined]\u001b[39;00m\n\u001b[1;32m   1369\u001b[0m )\n",
      "File \u001b[0;32m~/opt/miniconda3/envs/pyspark-332-delta-230/lib/python3.9/site-packages/py4j/java_gateway.py:1321\u001b[0m, in \u001b[0;36mJavaMember.__call__\u001b[0;34m(self, *args)\u001b[0m\n\u001b[1;32m   1315\u001b[0m command \u001b[38;5;241m=\u001b[39m proto\u001b[38;5;241m.\u001b[39mCALL_COMMAND_NAME \u001b[38;5;241m+\u001b[39m\\\n\u001b[1;32m   1316\u001b[0m     \u001b[38;5;28mself\u001b[39m\u001b[38;5;241m.\u001b[39mcommand_header \u001b[38;5;241m+\u001b[39m\\\n\u001b[1;32m   1317\u001b[0m     args_command \u001b[38;5;241m+\u001b[39m\\\n\u001b[1;32m   1318\u001b[0m     proto\u001b[38;5;241m.\u001b[39mEND_COMMAND_PART\n\u001b[1;32m   1320\u001b[0m answer \u001b[38;5;241m=\u001b[39m \u001b[38;5;28mself\u001b[39m\u001b[38;5;241m.\u001b[39mgateway_client\u001b[38;5;241m.\u001b[39msend_command(command)\n\u001b[0;32m-> 1321\u001b[0m return_value \u001b[38;5;241m=\u001b[39m \u001b[43mget_return_value\u001b[49m\u001b[43m(\u001b[49m\n\u001b[1;32m   1322\u001b[0m \u001b[43m    \u001b[49m\u001b[43manswer\u001b[49m\u001b[43m,\u001b[49m\u001b[43m \u001b[49m\u001b[38;5;28;43mself\u001b[39;49m\u001b[38;5;241;43m.\u001b[39;49m\u001b[43mgateway_client\u001b[49m\u001b[43m,\u001b[49m\u001b[43m \u001b[49m\u001b[38;5;28;43mself\u001b[39;49m\u001b[38;5;241;43m.\u001b[39;49m\u001b[43mtarget_id\u001b[49m\u001b[43m,\u001b[49m\u001b[43m \u001b[49m\u001b[38;5;28;43mself\u001b[39;49m\u001b[38;5;241;43m.\u001b[39;49m\u001b[43mname\u001b[49m\u001b[43m)\u001b[49m\n\u001b[1;32m   1324\u001b[0m \u001b[38;5;28;01mfor\u001b[39;00m temp_arg \u001b[38;5;129;01min\u001b[39;00m temp_args:\n\u001b[1;32m   1325\u001b[0m     temp_arg\u001b[38;5;241m.\u001b[39m_detach()\n",
      "File \u001b[0;32m~/opt/miniconda3/envs/pyspark-332-delta-230/lib/python3.9/site-packages/pyspark/sql/utils.py:190\u001b[0m, in \u001b[0;36mcapture_sql_exception.<locals>.deco\u001b[0;34m(*a, **kw)\u001b[0m\n\u001b[1;32m    188\u001b[0m \u001b[38;5;28;01mdef\u001b[39;00m \u001b[38;5;21mdeco\u001b[39m(\u001b[38;5;241m*\u001b[39ma: Any, \u001b[38;5;241m*\u001b[39m\u001b[38;5;241m*\u001b[39mkw: Any) \u001b[38;5;241m-\u001b[39m\u001b[38;5;241m>\u001b[39m Any:\n\u001b[1;32m    189\u001b[0m     \u001b[38;5;28;01mtry\u001b[39;00m:\n\u001b[0;32m--> 190\u001b[0m         \u001b[38;5;28;01mreturn\u001b[39;00m \u001b[43mf\u001b[49m\u001b[43m(\u001b[49m\u001b[38;5;241;43m*\u001b[39;49m\u001b[43ma\u001b[49m\u001b[43m,\u001b[49m\u001b[43m \u001b[49m\u001b[38;5;241;43m*\u001b[39;49m\u001b[38;5;241;43m*\u001b[39;49m\u001b[43mkw\u001b[49m\u001b[43m)\u001b[49m\n\u001b[1;32m    191\u001b[0m     \u001b[38;5;28;01mexcept\u001b[39;00m Py4JJavaError \u001b[38;5;28;01mas\u001b[39;00m e:\n\u001b[1;32m    192\u001b[0m         converted \u001b[38;5;241m=\u001b[39m convert_exception(e\u001b[38;5;241m.\u001b[39mjava_exception)\n",
      "File \u001b[0;32m~/opt/miniconda3/envs/pyspark-332-delta-230/lib/python3.9/site-packages/py4j/protocol.py:326\u001b[0m, in \u001b[0;36mget_return_value\u001b[0;34m(answer, gateway_client, target_id, name)\u001b[0m\n\u001b[1;32m    324\u001b[0m value \u001b[38;5;241m=\u001b[39m OUTPUT_CONVERTER[\u001b[38;5;28mtype\u001b[39m](answer[\u001b[38;5;241m2\u001b[39m:], gateway_client)\n\u001b[1;32m    325\u001b[0m \u001b[38;5;28;01mif\u001b[39;00m answer[\u001b[38;5;241m1\u001b[39m] \u001b[38;5;241m==\u001b[39m REFERENCE_TYPE:\n\u001b[0;32m--> 326\u001b[0m     \u001b[38;5;28;01mraise\u001b[39;00m Py4JJavaError(\n\u001b[1;32m    327\u001b[0m         \u001b[38;5;124m\"\u001b[39m\u001b[38;5;124mAn error occurred while calling \u001b[39m\u001b[38;5;132;01m{0}\u001b[39;00m\u001b[38;5;132;01m{1}\u001b[39;00m\u001b[38;5;132;01m{2}\u001b[39;00m\u001b[38;5;124m.\u001b[39m\u001b[38;5;130;01m\\n\u001b[39;00m\u001b[38;5;124m\"\u001b[39m\u001b[38;5;241m.\u001b[39m\n\u001b[1;32m    328\u001b[0m         \u001b[38;5;28mformat\u001b[39m(target_id, \u001b[38;5;124m\"\u001b[39m\u001b[38;5;124m.\u001b[39m\u001b[38;5;124m\"\u001b[39m, name), value)\n\u001b[1;32m    329\u001b[0m \u001b[38;5;28;01melse\u001b[39;00m:\n\u001b[1;32m    330\u001b[0m     \u001b[38;5;28;01mraise\u001b[39;00m Py4JError(\n\u001b[1;32m    331\u001b[0m         \u001b[38;5;124m\"\u001b[39m\u001b[38;5;124mAn error occurred while calling \u001b[39m\u001b[38;5;132;01m{0}\u001b[39;00m\u001b[38;5;132;01m{1}\u001b[39;00m\u001b[38;5;132;01m{2}\u001b[39;00m\u001b[38;5;124m. Trace:\u001b[39m\u001b[38;5;130;01m\\n\u001b[39;00m\u001b[38;5;132;01m{3}\u001b[39;00m\u001b[38;5;130;01m\\n\u001b[39;00m\u001b[38;5;124m\"\u001b[39m\u001b[38;5;241m.\u001b[39m\n\u001b[1;32m    332\u001b[0m         \u001b[38;5;28mformat\u001b[39m(target_id, \u001b[38;5;124m\"\u001b[39m\u001b[38;5;124m.\u001b[39m\u001b[38;5;124m\"\u001b[39m, name, value))\n",
      "\u001b[0;31mPy4JJavaError\u001b[0m: An error occurred while calling o41.executeZOrderBy.\n: org.apache.spark.SparkException: Exception thrown in awaitResult: \n\tat org.apache.spark.util.ThreadUtils$.awaitResult(ThreadUtils.scala:301)\n\tat org.apache.spark.util.ThreadUtils$.parmap(ThreadUtils.scala:375)\n\tat org.apache.spark.sql.delta.commands.OptimizeExecutor.$anonfun$optimize$1(OptimizeTableCommand.scala:186)\n\tat org.apache.spark.sql.delta.metering.DeltaLogging.recordFrameProfile(DeltaLogging.scala:140)\n\tat org.apache.spark.sql.delta.metering.DeltaLogging.recordFrameProfile$(DeltaLogging.scala:138)\n\tat org.apache.spark.sql.delta.commands.OptimizeExecutor.recordFrameProfile(OptimizeTableCommand.scala:153)\n\tat org.apache.spark.sql.delta.metering.DeltaLogging.$anonfun$recordDeltaOperationInternal$1(DeltaLogging.scala:133)\n\tat com.databricks.spark.util.DatabricksLogging.recordOperation(DatabricksLogging.scala:128)\n\tat com.databricks.spark.util.DatabricksLogging.recordOperation$(DatabricksLogging.scala:117)\n\tat org.apache.spark.sql.delta.commands.OptimizeExecutor.recordOperation(OptimizeTableCommand.scala:153)\n\tat org.apache.spark.sql.delta.metering.DeltaLogging.recordDeltaOperationInternal(DeltaLogging.scala:132)\n\tat org.apache.spark.sql.delta.metering.DeltaLogging.recordDeltaOperation(DeltaLogging.scala:122)\n\tat org.apache.spark.sql.delta.metering.DeltaLogging.recordDeltaOperation$(DeltaLogging.scala:112)\n\tat org.apache.spark.sql.delta.commands.OptimizeExecutor.recordDeltaOperation(OptimizeTableCommand.scala:153)\n\tat org.apache.spark.sql.delta.commands.OptimizeExecutor.optimize(OptimizeTableCommand.scala:166)\n\tat org.apache.spark.sql.delta.commands.OptimizeTableCommand.run(OptimizeTableCommand.scala:141)\n\tat org.apache.spark.sql.execution.command.ExecutedCommandExec.sideEffectResult$lzycompute(commands.scala:75)\n\tat org.apache.spark.sql.execution.command.ExecutedCommandExec.sideEffectResult(commands.scala:73)\n\tat org.apache.spark.sql.execution.command.ExecutedCommandExec.executeCollect(commands.scala:84)\n\tat org.apache.spark.sql.execution.QueryExecution$$anonfun$eagerlyExecuteCommands$1.$anonfun$applyOrElse$1(QueryExecution.scala:98)\n\tat org.apache.spark.sql.execution.SQLExecution$.$anonfun$withNewExecutionId$6(SQLExecution.scala:109)\n\tat org.apache.spark.sql.execution.SQLExecution$.withSQLConfPropagated(SQLExecution.scala:169)\n\tat org.apache.spark.sql.execution.SQLExecution$.$anonfun$withNewExecutionId$1(SQLExecution.scala:95)\n\tat org.apache.spark.sql.SparkSession.withActive(SparkSession.scala:779)\n\tat org.apache.spark.sql.execution.SQLExecution$.withNewExecutionId(SQLExecution.scala:64)\n\tat org.apache.spark.sql.execution.QueryExecution$$anonfun$eagerlyExecuteCommands$1.applyOrElse(QueryExecution.scala:98)\n\tat org.apache.spark.sql.execution.QueryExecution$$anonfun$eagerlyExecuteCommands$1.applyOrElse(QueryExecution.scala:94)\n\tat org.apache.spark.sql.catalyst.trees.TreeNode.$anonfun$transformDownWithPruning$1(TreeNode.scala:584)\n\tat org.apache.spark.sql.catalyst.trees.CurrentOrigin$.withOrigin(TreeNode.scala:176)\n\tat org.apache.spark.sql.catalyst.trees.TreeNode.transformDownWithPruning(TreeNode.scala:584)\n\tat org.apache.spark.sql.catalyst.plans.logical.LogicalPlan.org$apache$spark$sql$catalyst$plans$logical$AnalysisHelper$$super$transformDownWithPruning(LogicalPlan.scala:30)\n\tat org.apache.spark.sql.catalyst.plans.logical.AnalysisHelper.transformDownWithPruning(AnalysisHelper.scala:267)\n\tat org.apache.spark.sql.catalyst.plans.logical.AnalysisHelper.transformDownWithPruning$(AnalysisHelper.scala:263)\n\tat org.apache.spark.sql.catalyst.plans.logical.LogicalPlan.transformDownWithPruning(LogicalPlan.scala:30)\n\tat org.apache.spark.sql.catalyst.plans.logical.LogicalPlan.transformDownWithPruning(LogicalPlan.scala:30)\n\tat org.apache.spark.sql.catalyst.trees.TreeNode.transformDown(TreeNode.scala:560)\n\tat org.apache.spark.sql.execution.QueryExecution.eagerlyExecuteCommands(QueryExecution.scala:94)\n\tat org.apache.spark.sql.execution.QueryExecution.commandExecuted$lzycompute(QueryExecution.scala:81)\n\tat org.apache.spark.sql.execution.QueryExecution.commandExecuted(QueryExecution.scala:79)\n\tat org.apache.spark.sql.Dataset.<init>(Dataset.scala:220)\n\tat org.apache.spark.sql.Dataset$.$anonfun$ofRows$1(Dataset.scala:92)\n\tat org.apache.spark.sql.SparkSession.withActive(SparkSession.scala:779)\n\tat org.apache.spark.sql.Dataset$.ofRows(Dataset.scala:89)\n\tat org.apache.spark.sql.delta.util.AnalysisHelper.toDataset(AnalysisHelper.scala:88)\n\tat org.apache.spark.sql.delta.util.AnalysisHelper.toDataset$(AnalysisHelper.scala:87)\n\tat io.delta.tables.DeltaOptimizeBuilder.toDataset(DeltaOptimizeBuilder.scala:38)\n\tat io.delta.tables.DeltaOptimizeBuilder.execute(DeltaOptimizeBuilder.scala:85)\n\tat io.delta.tables.DeltaOptimizeBuilder.executeZOrderBy(DeltaOptimizeBuilder.scala:75)\n\tat sun.reflect.NativeMethodAccessorImpl.invoke0(Native Method)\n\tat sun.reflect.NativeMethodAccessorImpl.invoke(NativeMethodAccessorImpl.java:62)\n\tat sun.reflect.DelegatingMethodAccessorImpl.invoke(DelegatingMethodAccessorImpl.java:43)\n\tat java.lang.reflect.Method.invoke(Method.java:498)\n\tat py4j.reflection.MethodInvoker.invoke(MethodInvoker.java:244)\n\tat py4j.reflection.ReflectionEngine.invoke(ReflectionEngine.java:357)\n\tat py4j.Gateway.invoke(Gateway.java:282)\n\tat py4j.commands.AbstractCommand.invokeMethod(AbstractCommand.java:132)\n\tat py4j.commands.CallCommand.execute(CallCommand.java:79)\n\tat py4j.ClientServerConnection.waitForCommands(ClientServerConnection.java:182)\n\tat py4j.ClientServerConnection.run(ClientServerConnection.java:106)\n\tat java.lang.Thread.run(Thread.java:750)\nCaused by: org.apache.spark.SparkException: Job aborted.\n\tat org.apache.spark.sql.errors.QueryExecutionErrors$.jobAbortedError(QueryExecutionErrors.scala:651)\n\tat org.apache.spark.sql.execution.datasources.FileFormatWriter$.write(FileFormatWriter.scala:288)\n\tat org.apache.spark.sql.delta.files.TransactionalWrite.$anonfun$writeFiles$1(TransactionalWrite.scala:398)\n\tat org.apache.spark.sql.execution.SQLExecution$.$anonfun$withNewExecutionId$6(SQLExecution.scala:109)\n\tat org.apache.spark.sql.execution.SQLExecution$.withSQLConfPropagated(SQLExecution.scala:169)\n\tat org.apache.spark.sql.execution.SQLExecution$.$anonfun$withNewExecutionId$1(SQLExecution.scala:95)\n\tat org.apache.spark.sql.SparkSession.withActive(SparkSession.scala:779)\n\tat org.apache.spark.sql.execution.SQLExecution$.withNewExecutionId(SQLExecution.scala:64)\n\tat org.apache.spark.sql.delta.files.TransactionalWrite.writeFiles(TransactionalWrite.scala:353)\n\tat org.apache.spark.sql.delta.files.TransactionalWrite.writeFiles$(TransactionalWrite.scala:328)\n\tat org.apache.spark.sql.delta.OptimisticTransaction.writeFiles(OptimisticTransaction.scala:129)\n\tat org.apache.spark.sql.delta.files.TransactionalWrite.writeFiles(TransactionalWrite.scala:206)\n\tat org.apache.spark.sql.delta.files.TransactionalWrite.writeFiles$(TransactionalWrite.scala:203)\n\tat org.apache.spark.sql.delta.OptimisticTransaction.writeFiles(OptimisticTransaction.scala:129)\n\tat org.apache.spark.sql.delta.files.TransactionalWrite.writeFiles(TransactionalWrite.scala:216)\n\tat org.apache.spark.sql.delta.files.TransactionalWrite.writeFiles$(TransactionalWrite.scala:215)\n\tat org.apache.spark.sql.delta.OptimisticTransaction.writeFiles(OptimisticTransaction.scala:129)\n\tat org.apache.spark.sql.delta.commands.OptimizeExecutor.runOptimizeBinJob(OptimizeTableCommand.scala:363)\n\tat org.apache.spark.sql.delta.commands.OptimizeExecutor.$anonfun$optimize$5(OptimizeTableCommand.scala:187)\n\tat org.apache.spark.util.ThreadUtils$.$anonfun$parmap$2(ThreadUtils.scala:372)\n\tat scala.concurrent.Future$.$anonfun$apply$1(Future.scala:659)\n\tat scala.util.Success.$anonfun$map$1(Try.scala:255)\n\tat scala.util.Success.map(Try.scala:213)\n\tat scala.concurrent.Future.$anonfun$map$1(Future.scala:292)\n\tat scala.concurrent.impl.Promise.liftedTree1$1(Promise.scala:33)\n\tat scala.concurrent.impl.Promise.$anonfun$transform$1(Promise.scala:33)\n\tat scala.concurrent.impl.CallbackRunnable.run(Promise.scala:64)\n\tat java.util.concurrent.ForkJoinTask$RunnableExecuteAction.exec(ForkJoinTask.java:1402)\n\tat java.util.concurrent.ForkJoinTask.doExec(ForkJoinTask.java:289)\n\tat java.util.concurrent.ForkJoinPool$WorkQueue.runTask(ForkJoinPool.java:1056)\n\tat java.util.concurrent.ForkJoinPool.runWorker(ForkJoinPool.java:1692)\n\tat java.util.concurrent.ForkJoinWorkerThread.run(ForkJoinWorkerThread.java:175)\nCaused by: org.apache.spark.SparkException: Job aborted due to stage failure: Task 0 in stage 13.0 failed 1 times, most recent failure: Lost task 0.0 in stage 13.0 (TID 697) (qtk9h72yp0.lan executor driver): org.apache.spark.SparkException: Task failed while writing rows.\n\tat org.apache.spark.sql.errors.QueryExecutionErrors$.taskFailedWhileWritingRowsError(QueryExecutionErrors.scala:655)\n\tat org.apache.spark.sql.execution.datasources.FileFormatWriter$.executeTask(FileFormatWriter.scala:358)\n\tat org.apache.spark.sql.execution.datasources.FileFormatWriter$.$anonfun$write$22(FileFormatWriter.scala:266)\n\tat org.apache.spark.scheduler.ResultTask.runTask(ResultTask.scala:90)\n\tat org.apache.spark.scheduler.Task.run(Task.scala:136)\n\tat org.apache.spark.executor.Executor$TaskRunner.$anonfun$run$3(Executor.scala:548)\n\tat org.apache.spark.util.Utils$.tryWithSafeFinally(Utils.scala:1504)\n\tat org.apache.spark.executor.Executor$TaskRunner.run(Executor.scala:551)\n\tat java.util.concurrent.ThreadPoolExecutor.runWorker(ThreadPoolExecutor.java:1149)\n\tat java.util.concurrent.ThreadPoolExecutor$Worker.run(ThreadPoolExecutor.java:624)\n\tat java.lang.Thread.run(Thread.java:750)\nCaused by: java.lang.OutOfMemoryError: GC overhead limit exceeded\n\tat java.nio.ByteBuffer.wrap(ByteBuffer.java:373)\n\tat java.nio.ByteBuffer.wrap(ByteBuffer.java:396)\n\tat org.apache.parquet.io.api.Binary$ByteArrayBackedBinary.toByteBuffer(Binary.java:333)\n\tat org.apache.parquet.schema.PrimitiveComparator$BinaryComparator.compareNotNulls(PrimitiveComparator.java:186)\n\tat org.apache.parquet.schema.PrimitiveComparator$BinaryComparator.compareNotNulls(PrimitiveComparator.java:183)\n\tat org.apache.parquet.schema.PrimitiveComparator.compare(PrimitiveComparator.java:63)\n\tat org.apache.parquet.column.statistics.BinaryStatistics.updateStats(BinaryStatistics.java:62)\n\tat org.apache.parquet.column.impl.ColumnWriterBase.write(ColumnWriterBase.java:240)\n\tat org.apache.parquet.io.MessageColumnIO$MessageColumnIORecordConsumer.addBinary(MessageColumnIO.java:476)\n\tat org.apache.spark.sql.execution.datasources.parquet.ParquetWriteSupport.$anonfun$makeWriter$9(ParquetWriteSupport.scala:207)\n\tat org.apache.spark.sql.execution.datasources.parquet.ParquetWriteSupport.$anonfun$makeWriter$9$adapted(ParquetWriteSupport.scala:205)\n\tat org.apache.spark.sql.execution.datasources.parquet.ParquetWriteSupport$$Lambda$5630/923690876.apply(Unknown Source)\n\tat org.apache.spark.sql.execution.datasources.parquet.ParquetWriteSupport.$anonfun$writeFields$1(ParquetWriteSupport.scala:163)\n\tat org.apache.spark.sql.execution.datasources.parquet.ParquetWriteSupport$$Lambda$5722/1758937877.apply$mcV$sp(Unknown Source)\n\tat org.apache.spark.sql.execution.datasources.parquet.ParquetWriteSupport.consumeField(ParquetWriteSupport.scala:486)\n\tat org.apache.spark.sql.execution.datasources.parquet.ParquetWriteSupport.writeFields(ParquetWriteSupport.scala:163)\n\tat org.apache.spark.sql.execution.datasources.parquet.ParquetWriteSupport.$anonfun$write$1(ParquetWriteSupport.scala:153)\n\tat org.apache.spark.sql.execution.datasources.parquet.ParquetWriteSupport$$Lambda$5716/1357124542.apply$mcV$sp(Unknown Source)\n\tat org.apache.spark.sql.execution.datasources.parquet.ParquetWriteSupport.consumeMessage(ParquetWriteSupport.scala:474)\n\tat org.apache.spark.sql.execution.datasources.parquet.ParquetWriteSupport.write(ParquetWriteSupport.scala:153)\n\tat org.apache.spark.sql.execution.datasources.parquet.ParquetWriteSupport.write(ParquetWriteSupport.scala:55)\n\tat org.apache.parquet.hadoop.InternalParquetRecordWriter.write(InternalParquetRecordWriter.java:138)\n\tat org.apache.parquet.hadoop.ParquetRecordWriter.write(ParquetRecordWriter.java:181)\n\tat org.apache.parquet.hadoop.ParquetRecordWriter.write(ParquetRecordWriter.java:43)\n\tat org.apache.spark.sql.execution.datasources.parquet.ParquetOutputWriter.write(ParquetOutputWriter.scala:39)\n\tat org.apache.spark.sql.execution.datasources.SingleDirectoryDataWriter.write(FileFormatDataWriter.scala:175)\n\tat org.apache.spark.sql.execution.datasources.FileFormatDataWriter.writeWithMetrics(FileFormatDataWriter.scala:85)\n\tat org.apache.spark.sql.execution.datasources.FileFormatDataWriter.writeWithIterator(FileFormatDataWriter.scala:92)\n\tat org.apache.spark.sql.execution.datasources.FileFormatWriter$.$anonfun$executeTask$1(FileFormatWriter.scala:341)\n\tat org.apache.spark.sql.execution.datasources.FileFormatWriter$$$Lambda$5691/2033011139.apply(Unknown Source)\n\tat org.apache.spark.util.Utils$.tryWithSafeFinallyAndFailureCallbacks(Utils.scala:1538)\n\tat org.apache.spark.sql.execution.datasources.FileFormatWriter$.executeTask(FileFormatWriter.scala:348)\n\nDriver stacktrace:\n\tat org.apache.spark.scheduler.DAGScheduler.failJobAndIndependentStages(DAGScheduler.scala:2672)\n\tat org.apache.spark.scheduler.DAGScheduler.$anonfun$abortStage$2(DAGScheduler.scala:2608)\n\tat org.apache.spark.scheduler.DAGScheduler.$anonfun$abortStage$2$adapted(DAGScheduler.scala:2607)\n\tat scala.collection.mutable.ResizableArray.foreach(ResizableArray.scala:62)\n\tat scala.collection.mutable.ResizableArray.foreach$(ResizableArray.scala:55)\n\tat scala.collection.mutable.ArrayBuffer.foreach(ArrayBuffer.scala:49)\n\tat org.apache.spark.scheduler.DAGScheduler.abortStage(DAGScheduler.scala:2607)\n\tat org.apache.spark.scheduler.DAGScheduler.$anonfun$handleTaskSetFailed$1(DAGScheduler.scala:1182)\n\tat org.apache.spark.scheduler.DAGScheduler.$anonfun$handleTaskSetFailed$1$adapted(DAGScheduler.scala:1182)\n\tat scala.Option.foreach(Option.scala:407)\n\tat org.apache.spark.scheduler.DAGScheduler.handleTaskSetFailed(DAGScheduler.scala:1182)\n\tat org.apache.spark.scheduler.DAGSchedulerEventProcessLoop.doOnReceive(DAGScheduler.scala:2860)\n\tat org.apache.spark.scheduler.DAGSchedulerEventProcessLoop.onReceive(DAGScheduler.scala:2802)\n\tat org.apache.spark.scheduler.DAGSchedulerEventProcessLoop.onReceive(DAGScheduler.scala:2791)\n\tat org.apache.spark.util.EventLoop$$anon$1.run(EventLoop.scala:49)\n\tat org.apache.spark.scheduler.DAGScheduler.runJob(DAGScheduler.scala:952)\n\tat org.apache.spark.SparkContext.runJob(SparkContext.scala:2238)\n\tat org.apache.spark.sql.execution.datasources.FileFormatWriter$.write(FileFormatWriter.scala:255)\n\t... 30 more\nCaused by: org.apache.spark.SparkException: Task failed while writing rows.\n\tat org.apache.spark.sql.errors.QueryExecutionErrors$.taskFailedWhileWritingRowsError(QueryExecutionErrors.scala:655)\n\tat org.apache.spark.sql.execution.datasources.FileFormatWriter$.executeTask(FileFormatWriter.scala:358)\n\tat org.apache.spark.sql.execution.datasources.FileFormatWriter$.$anonfun$write$22(FileFormatWriter.scala:266)\n\tat org.apache.spark.scheduler.ResultTask.runTask(ResultTask.scala:90)\n\tat org.apache.spark.scheduler.Task.run(Task.scala:136)\n\tat org.apache.spark.executor.Executor$TaskRunner.$anonfun$run$3(Executor.scala:548)\n\tat org.apache.spark.util.Utils$.tryWithSafeFinally(Utils.scala:1504)\n\tat org.apache.spark.executor.Executor$TaskRunner.run(Executor.scala:551)\n\tat java.util.concurrent.ThreadPoolExecutor.runWorker(ThreadPoolExecutor.java:1149)\n\tat java.util.concurrent.ThreadPoolExecutor$Worker.run(ThreadPoolExecutor.java:624)\n\tat java.lang.Thread.run(Thread.java:750)\nCaused by: java.lang.OutOfMemoryError: GC overhead limit exceeded\n\tat java.nio.ByteBuffer.wrap(ByteBuffer.java:373)\n\tat java.nio.ByteBuffer.wrap(ByteBuffer.java:396)\n\tat org.apache.parquet.io.api.Binary$ByteArrayBackedBinary.toByteBuffer(Binary.java:333)\n\tat org.apache.parquet.schema.PrimitiveComparator$BinaryComparator.compareNotNulls(PrimitiveComparator.java:186)\n\tat org.apache.parquet.schema.PrimitiveComparator$BinaryComparator.compareNotNulls(PrimitiveComparator.java:183)\n\tat org.apache.parquet.schema.PrimitiveComparator.compare(PrimitiveComparator.java:63)\n\tat org.apache.parquet.column.statistics.BinaryStatistics.updateStats(BinaryStatistics.java:62)\n\tat org.apache.parquet.column.impl.ColumnWriterBase.write(ColumnWriterBase.java:240)\n\tat org.apache.parquet.io.MessageColumnIO$MessageColumnIORecordConsumer.addBinary(MessageColumnIO.java:476)\n\tat org.apache.spark.sql.execution.datasources.parquet.ParquetWriteSupport.$anonfun$makeWriter$9(ParquetWriteSupport.scala:207)\n\tat org.apache.spark.sql.execution.datasources.parquet.ParquetWriteSupport.$anonfun$makeWriter$9$adapted(ParquetWriteSupport.scala:205)\n\tat org.apache.spark.sql.execution.datasources.parquet.ParquetWriteSupport$$Lambda$5630/923690876.apply(Unknown Source)\n\tat org.apache.spark.sql.execution.datasources.parquet.ParquetWriteSupport.$anonfun$writeFields$1(ParquetWriteSupport.scala:163)\n\tat org.apache.spark.sql.execution.datasources.parquet.ParquetWriteSupport$$Lambda$5722/1758937877.apply$mcV$sp(Unknown Source)\n\tat org.apache.spark.sql.execution.datasources.parquet.ParquetWriteSupport.consumeField(ParquetWriteSupport.scala:486)\n\tat org.apache.spark.sql.execution.datasources.parquet.ParquetWriteSupport.writeFields(ParquetWriteSupport.scala:163)\n\tat org.apache.spark.sql.execution.datasources.parquet.ParquetWriteSupport.$anonfun$write$1(ParquetWriteSupport.scala:153)\n\tat org.apache.spark.sql.execution.datasources.parquet.ParquetWriteSupport$$Lambda$5716/1357124542.apply$mcV$sp(Unknown Source)\n\tat org.apache.spark.sql.execution.datasources.parquet.ParquetWriteSupport.consumeMessage(ParquetWriteSupport.scala:474)\n\tat org.apache.spark.sql.execution.datasources.parquet.ParquetWriteSupport.write(ParquetWriteSupport.scala:153)\n\tat org.apache.spark.sql.execution.datasources.parquet.ParquetWriteSupport.write(ParquetWriteSupport.scala:55)\n\tat org.apache.parquet.hadoop.InternalParquetRecordWriter.write(InternalParquetRecordWriter.java:138)\n\tat org.apache.parquet.hadoop.ParquetRecordWriter.write(ParquetRecordWriter.java:181)\n\tat org.apache.parquet.hadoop.ParquetRecordWriter.write(ParquetRecordWriter.java:43)\n\tat org.apache.spark.sql.execution.datasources.parquet.ParquetOutputWriter.write(ParquetOutputWriter.scala:39)\n\tat org.apache.spark.sql.execution.datasources.SingleDirectoryDataWriter.write(FileFormatDataWriter.scala:175)\n\tat org.apache.spark.sql.execution.datasources.FileFormatDataWriter.writeWithMetrics(FileFormatDataWriter.scala:85)\n\tat org.apache.spark.sql.execution.datasources.FileFormatDataWriter.writeWithIterator(FileFormatDataWriter.scala:92)\n\tat org.apache.spark.sql.execution.datasources.FileFormatWriter$.$anonfun$executeTask$1(FileFormatWriter.scala:341)\n\tat org.apache.spark.sql.execution.datasources.FileFormatWriter$$$Lambda$5691/2033011139.apply(Unknown Source)\n\tat org.apache.spark.util.Utils$.tryWithSafeFinallyAndFailureCallbacks(Utils.scala:1538)\n\tat org.apache.spark.sql.execution.datasources.FileFormatWriter$.executeTask(FileFormatWriter.scala:348)\n"
     ]
    }
   ],
   "source": [
    "dt.optimize().executeZOrderBy(\"id1\")"
   ]
  },
  {
   "cell_type": "code",
   "execution_count": null,
   "id": "685b17e3-d33e-486d-aff3-fb23136ef9bb",
   "metadata": {},
   "outputs": [],
   "source": []
  }
 ],
 "metadata": {
  "kernelspec": {
   "display_name": "Python [conda env:pyspark-332-delta-230] *",
   "language": "python",
   "name": "conda-env-pyspark-332-delta-230-py"
  },
  "language_info": {
   "codemirror_mode": {
    "name": "ipython",
    "version": 3
   },
   "file_extension": ".py",
   "mimetype": "text/x-python",
   "name": "python",
   "nbconvert_exporter": "python",
   "pygments_lexer": "ipython3",
   "version": "3.9.16"
  }
 },
 "nbformat": 4,
 "nbformat_minor": 5
}
