{
 "cells": [
  {
   "cell_type": "markdown",
   "id": "e1497510-986e-44e8-bcf9-ba6876c8d989",
   "metadata": {},
   "source": [
    "# Polars CSV vs Delta Lake"
   ]
  },
  {
   "cell_type": "code",
   "execution_count": 5,
   "id": "ef2819fb-cd6f-4b39-bf1f-bde4829a7943",
   "metadata": {},
   "outputs": [],
   "source": [
    "import polars as pl\n",
    "import gc"
   ]
  },
  {
   "cell_type": "code",
   "execution_count": 12,
   "id": "8acfe012-5054-40ed-be0a-de2a7afbf68a",
   "metadata": {},
   "outputs": [
    {
     "data": {
      "text/plain": [
       "0"
      ]
     },
     "execution_count": 12,
     "metadata": {},
     "output_type": "execute_result"
    }
   ],
   "source": [
    "gc.collect()"
   ]
  },
  {
   "cell_type": "markdown",
   "id": "7f1bd388-fc83-437d-9ad7-e83034c68a20",
   "metadata": {},
   "source": [
    "## 1e8 CSV"
   ]
  },
  {
   "cell_type": "code",
   "execution_count": 14,
   "id": "65c31635-cfde-4b31-a0fb-9b5e3c3a5e18",
   "metadata": {},
   "outputs": [
    {
     "name": "stdout",
     "output_type": "stream",
     "text": [
      "CPU times: user 16.2 s, sys: 5.5 s, total: 21.7 s\n",
      "Wall time: 3.73 s\n"
     ]
    },
    {
     "data": {
      "text/html": [
       "<div><style>\n",
       ".dataframe > thead > tr > th,\n",
       ".dataframe > tbody > tr > td {\n",
       "  text-align: right;\n",
       "}\n",
       "</style>\n",
       "<small>shape: (1, 2)</small><table border=\"1\" class=\"dataframe\"><thead><tr><th>id1</th><th>v1</th></tr><tr><td>str</td><td>i64</td></tr></thead><tbody><tr><td>&quot;id016&quot;</td><td>2998623</td></tr></tbody></table></div>"
      ],
      "text/plain": [
       "shape: (1, 2)\n",
       "┌───────┬─────────┐\n",
       "│ id1   ┆ v1      │\n",
       "│ ---   ┆ ---     │\n",
       "│ str   ┆ i64     │\n",
       "╞═══════╪═════════╡\n",
       "│ id016 ┆ 2998623 │\n",
       "└───────┴─────────┘"
      ]
     },
     "execution_count": 14,
     "metadata": {},
     "output_type": "execute_result"
    }
   ],
   "source": [
    "%%time\n",
    "\n",
    "(\n",
    "    pl.read_csv(\"~/data/G1_1e8_1e2_0_0.csv\")\n",
    "    .filter(pl.col(\"id1\") == 'id016')\n",
    "    .groupby(\"id1\")\n",
    "    .agg(pl.sum(\"v1\"))\n",
    ")"
   ]
  },
  {
   "cell_type": "code",
   "execution_count": 15,
   "id": "2e9aa809-a90f-459f-acba-f10c842fe7d2",
   "metadata": {},
   "outputs": [
    {
     "name": "stdout",
     "output_type": "stream",
     "text": [
      "CPU times: user 7.44 s, sys: 535 ms, total: 7.97 s\n",
      "Wall time: 916 ms\n"
     ]
    },
    {
     "data": {
      "text/html": [
       "<div><style>\n",
       ".dataframe > thead > tr > th,\n",
       ".dataframe > tbody > tr > td {\n",
       "  text-align: right;\n",
       "}\n",
       "</style>\n",
       "<small>shape: (1, 2)</small><table border=\"1\" class=\"dataframe\"><thead><tr><th>id1</th><th>v1</th></tr><tr><td>str</td><td>i64</td></tr></thead><tbody><tr><td>&quot;id016&quot;</td><td>2998623</td></tr></tbody></table></div>"
      ],
      "text/plain": [
       "shape: (1, 2)\n",
       "┌───────┬─────────┐\n",
       "│ id1   ┆ v1      │\n",
       "│ ---   ┆ ---     │\n",
       "│ str   ┆ i64     │\n",
       "╞═══════╪═════════╡\n",
       "│ id016 ┆ 2998623 │\n",
       "└───────┴─────────┘"
      ]
     },
     "execution_count": 15,
     "metadata": {},
     "output_type": "execute_result"
    }
   ],
   "source": [
    "%%time\n",
    "\n",
    "(\n",
    "    pl.scan_csv(\"~/data/G1_1e8_1e2_0_0.csv\")\n",
    "    .filter(pl.col(\"id1\") == 'id016')\n",
    "    .groupby(\"id1\")\n",
    "    .agg(pl.sum(\"v1\"))\n",
    ").collect()"
   ]
  },
  {
   "cell_type": "code",
   "execution_count": null,
   "id": "9a1846dc-0ba7-42e5-9bbf-78abd850e204",
   "metadata": {},
   "outputs": [],
   "source": []
  },
  {
   "cell_type": "markdown",
   "id": "2989d735-1cf8-4397-aca1-a8205ea9689b",
   "metadata": {},
   "source": [
    "## 1e8 Delta Lake"
   ]
  },
  {
   "cell_type": "code",
   "execution_count": 16,
   "id": "d89cf5e5-c824-43b0-8349-772169e7b997",
   "metadata": {},
   "outputs": [
    {
     "name": "stdout",
     "output_type": "stream",
     "text": [
      "CPU times: user 7.01 s, sys: 3.28 s, total: 10.3 s\n",
      "Wall time: 3.89 s\n"
     ]
    },
    {
     "data": {
      "text/html": [
       "<div><style>\n",
       ".dataframe > thead > tr > th,\n",
       ".dataframe > tbody > tr > td {\n",
       "  text-align: right;\n",
       "}\n",
       "</style>\n",
       "<small>shape: (1, 2)</small><table border=\"1\" class=\"dataframe\"><thead><tr><th>id1</th><th>v1</th></tr><tr><td>str</td><td>i32</td></tr></thead><tbody><tr><td>&quot;id016&quot;</td><td>2998623</td></tr></tbody></table></div>"
      ],
      "text/plain": [
       "shape: (1, 2)\n",
       "┌───────┬─────────┐\n",
       "│ id1   ┆ v1      │\n",
       "│ ---   ┆ ---     │\n",
       "│ str   ┆ i32     │\n",
       "╞═══════╪═════════╡\n",
       "│ id016 ┆ 2998623 │\n",
       "└───────┴─────────┘"
      ]
     },
     "execution_count": 16,
     "metadata": {},
     "output_type": "execute_result"
    }
   ],
   "source": [
    "%%time\n",
    "\n",
    "(\n",
    "    pl.read_delta(\"~/data/delta/G1_1e8_1e2_0_0\")\n",
    "    .filter(pl.col(\"id1\") == 'id016')\n",
    "    .groupby(\"id1\")\n",
    "    .agg(pl.sum(\"v1\"))\n",
    ")"
   ]
  },
  {
   "cell_type": "code",
   "execution_count": 17,
   "id": "e884967c-4af0-401a-a355-ff3c18f526fb",
   "metadata": {},
   "outputs": [
    {
     "name": "stdout",
     "output_type": "stream",
     "text": [
      "CPU times: user 1.27 s, sys: 161 ms, total: 1.43 s\n",
      "Wall time: 829 ms\n"
     ]
    },
    {
     "data": {
      "text/html": [
       "<div><style>\n",
       ".dataframe > thead > tr > th,\n",
       ".dataframe > tbody > tr > td {\n",
       "  text-align: right;\n",
       "}\n",
       "</style>\n",
       "<small>shape: (1, 2)</small><table border=\"1\" class=\"dataframe\"><thead><tr><th>id1</th><th>v1</th></tr><tr><td>str</td><td>i32</td></tr></thead><tbody><tr><td>&quot;id016&quot;</td><td>2998623</td></tr></tbody></table></div>"
      ],
      "text/plain": [
       "shape: (1, 2)\n",
       "┌───────┬─────────┐\n",
       "│ id1   ┆ v1      │\n",
       "│ ---   ┆ ---     │\n",
       "│ str   ┆ i32     │\n",
       "╞═══════╪═════════╡\n",
       "│ id016 ┆ 2998623 │\n",
       "└───────┴─────────┘"
      ]
     },
     "execution_count": 17,
     "metadata": {},
     "output_type": "execute_result"
    }
   ],
   "source": [
    "%%time\n",
    "\n",
    "(\n",
    "    pl.scan_delta(\"~/data/delta/G1_1e8_1e2_0_0\")\n",
    "    .filter(pl.col(\"id1\") == 'id016')\n",
    "    .groupby(\"id1\")\n",
    "    .agg(pl.sum(\"v1\"))\n",
    ").collect()"
   ]
  },
  {
   "cell_type": "markdown",
   "id": "0d60595c-dafb-4448-9227-48a213a206a0",
   "metadata": {},
   "source": [
    "## 1e9 Parquet"
   ]
  },
  {
   "cell_type": "code",
   "execution_count": 6,
   "id": "37ff1e76-a553-4f3f-ad89-760af8787274",
   "metadata": {},
   "outputs": [
    {
     "name": "stdout",
     "output_type": "stream",
     "text": [
      "CPU times: user 25.3 s, sys: 32.9 s, total: 58.2 s\n",
      "Wall time: 11.5 s\n"
     ]
    },
    {
     "data": {
      "text/html": [
       "<div><style>\n",
       ".dataframe > thead > tr > th,\n",
       ".dataframe > tbody > tr > td {\n",
       "  text-align: right;\n",
       "}\n",
       "</style>\n",
       "<small>shape: (1, 2)</small><table border=\"1\" class=\"dataframe\"><thead><tr><th>id1</th><th>v1</th></tr><tr><td>str</td><td>i64</td></tr></thead><tbody><tr><td>&quot;id016&quot;</td><td>30003304</td></tr></tbody></table></div>"
      ],
      "text/plain": [
       "shape: (1, 2)\n",
       "┌───────┬──────────┐\n",
       "│ id1   ┆ v1       │\n",
       "│ ---   ┆ ---      │\n",
       "│ str   ┆ i64      │\n",
       "╞═══════╪══════════╡\n",
       "│ id016 ┆ 30003304 │\n",
       "└───────┴──────────┘"
      ]
     },
     "execution_count": 6,
     "metadata": {},
     "output_type": "execute_result"
    }
   ],
   "source": [
    "%%time\n",
    "\n",
    "(\n",
    "    pl.scan_parquet(\"~/data/G1_1e9_1e2_0_0.parquet\")\n",
    "    .filter(pl.col(\"id1\") == 'id016')\n",
    "    .groupby(\"id1\")\n",
    "    .agg(pl.sum(\"v1\"))\n",
    ").collect(streaming=True)"
   ]
  },
  {
   "cell_type": "code",
   "execution_count": 4,
   "id": "85c7526e-e645-4490-8447-117bc5b003ea",
   "metadata": {},
   "outputs": [
    {
     "name": "stdout",
     "output_type": "stream",
     "text": [
      "CPU times: user 1min 48s, sys: 3min 39s, total: 5min 27s\n",
      "Wall time: 5min 30s\n"
     ]
    },
    {
     "data": {
      "text/html": [
       "<div><style>\n",
       ".dataframe > thead > tr > th,\n",
       ".dataframe > tbody > tr > td {\n",
       "  text-align: right;\n",
       "}\n",
       "</style>\n",
       "<small>shape: (1, 2)</small><table border=\"1\" class=\"dataframe\"><thead><tr><th>id1</th><th>v1</th></tr><tr><td>str</td><td>i64</td></tr></thead><tbody><tr><td>&quot;id016&quot;</td><td>30003304</td></tr></tbody></table></div>"
      ],
      "text/plain": [
       "shape: (1, 2)\n",
       "┌───────┬──────────┐\n",
       "│ id1   ┆ v1       │\n",
       "│ ---   ┆ ---      │\n",
       "│ str   ┆ i64      │\n",
       "╞═══════╪══════════╡\n",
       "│ id016 ┆ 30003304 │\n",
       "└───────┴──────────┘"
      ]
     },
     "execution_count": 4,
     "metadata": {},
     "output_type": "execute_result"
    }
   ],
   "source": [
    "%%time\n",
    "(\n",
    "    pl.read_parquet(\"~/data/G1_1e9_1e2_0_0.parquet\")\n",
    "    .filter(pl.col(\"id1\") == 'id016')\n",
    "    .groupby(\"id1\")\n",
    "    .agg(pl.sum(\"v1\"))\n",
    ")"
   ]
  },
  {
   "cell_type": "markdown",
   "id": "5773b201-c78b-4ac5-ba2c-e2845106d316",
   "metadata": {},
   "source": [
    "## 1e9 Delta Lake"
   ]
  },
  {
   "cell_type": "code",
   "execution_count": 2,
   "id": "1af23870-ccea-4d4b-a5c6-99086e65c7fa",
   "metadata": {},
   "outputs": [
    {
     "name": "stdout",
     "output_type": "stream",
     "text": [
      "CPU times: user 1.68 s, sys: 295 ms, total: 1.98 s\n",
      "Wall time: 1.11 s\n"
     ]
    },
    {
     "data": {
      "text/html": [
       "<div><style>\n",
       ".dataframe > thead > tr > th,\n",
       ".dataframe > tbody > tr > td {\n",
       "  text-align: right;\n",
       "}\n",
       "</style>\n",
       "<small>shape: (1, 2)</small><table border=\"1\" class=\"dataframe\"><thead><tr><th>id1</th><th>v1</th></tr><tr><td>str</td><td>i32</td></tr></thead><tbody><tr><td>&quot;id016&quot;</td><td>30003304</td></tr></tbody></table></div>"
      ],
      "text/plain": [
       "shape: (1, 2)\n",
       "┌───────┬──────────┐\n",
       "│ id1   ┆ v1       │\n",
       "│ ---   ┆ ---      │\n",
       "│ str   ┆ i32      │\n",
       "╞═══════╪══════════╡\n",
       "│ id016 ┆ 30003304 │\n",
       "└───────┴──────────┘"
      ]
     },
     "execution_count": 2,
     "metadata": {},
     "output_type": "execute_result"
    }
   ],
   "source": [
    "%%time\n",
    "\n",
    "(\n",
    "    pl.scan_delta(\"~/data/delta/G1_1e9_1e2_0_0\")\n",
    "    .filter(pl.col(\"id1\") == 'id016')\n",
    "    .groupby(\"id1\")\n",
    "    .agg(pl.sum(\"v1\"))\n",
    ").collect()"
   ]
  },
  {
   "cell_type": "markdown",
   "id": "03a78847-8c8f-4631-a059-bfda9694c2d1",
   "metadata": {},
   "source": [
    "## 1e9 CSV"
   ]
  },
  {
   "cell_type": "code",
   "execution_count": 4,
   "id": "b08b84d2-7b4b-4bca-b95d-2259aac12b1d",
   "metadata": {},
   "outputs": [
    {
     "name": "stdout",
     "output_type": "stream",
     "text": [
      "CPU times: user 1min 8s, sys: 36.6 s, total: 1min 45s\n",
      "Wall time: 34.2 s\n"
     ]
    },
    {
     "data": {
      "text/html": [
       "<div><style>\n",
       ".dataframe > thead > tr > th,\n",
       ".dataframe > tbody > tr > td {\n",
       "  text-align: right;\n",
       "}\n",
       "</style>\n",
       "<small>shape: (1, 2)</small><table border=\"1\" class=\"dataframe\"><thead><tr><th>id1</th><th>v1</th></tr><tr><td>str</td><td>i64</td></tr></thead><tbody><tr><td>&quot;id016&quot;</td><td>30003304</td></tr></tbody></table></div>"
      ],
      "text/plain": [
       "shape: (1, 2)\n",
       "┌───────┬──────────┐\n",
       "│ id1   ┆ v1       │\n",
       "│ ---   ┆ ---      │\n",
       "│ str   ┆ i64      │\n",
       "╞═══════╪══════════╡\n",
       "│ id016 ┆ 30003304 │\n",
       "└───────┴──────────┘"
      ]
     },
     "execution_count": 4,
     "metadata": {},
     "output_type": "execute_result"
    }
   ],
   "source": [
    "%%time\n",
    "\n",
    "(\n",
    "    pl.scan_csv(\"~/data/G1_1e9_1e2_0_0.csv\")\n",
    "    .filter(pl.col(\"id1\") == 'id016')\n",
    "    .groupby(\"id1\")\n",
    "    .agg(pl.sum(\"v1\"))\n",
    ").collect()"
   ]
  },
  {
   "cell_type": "code",
   "execution_count": null,
   "id": "be2d67d5-da01-43a2-83af-81d69bbad335",
   "metadata": {},
   "outputs": [],
   "source": []
  }
 ],
 "metadata": {
  "kernelspec": {
   "display_name": "deltalake-0100",
   "language": "python",
   "name": "deltalake-0100"
  },
  "language_info": {
   "codemirror_mode": {
    "name": "ipython",
    "version": 3
   },
   "file_extension": ".py",
   "mimetype": "text/x-python",
   "name": "python",
   "nbconvert_exporter": "python",
   "pygments_lexer": "ipython3",
   "version": "3.9.16"
  }
 },
 "nbformat": 4,
 "nbformat_minor": 5
}
