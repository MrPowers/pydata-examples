{
 "cells": [
  {
   "cell_type": "markdown",
   "id": "e393bf1f-7de7-4f02-822d-c85c902e3b1d",
   "metadata": {},
   "source": [
    "# Polars h2o groupby queries"
   ]
  },
  {
   "cell_type": "code",
   "execution_count": 3,
   "id": "d3e85292-7df2-4e36-9d3a-d57094abcef3",
   "metadata": {
    "tags": []
   },
   "outputs": [],
   "source": [
    "import polars as pl\n",
    "import gc"
   ]
  },
  {
   "cell_type": "markdown",
   "id": "bd324b44-b456-4741-a80f-4d20a2d92b05",
   "metadata": {},
   "source": [
    "## 1e8 CSV"
   ]
  },
  {
   "cell_type": "code",
   "execution_count": 2,
   "id": "58c0eb9d-b7b3-47d9-9359-35188eefb43c",
   "metadata": {
    "tags": []
   },
   "outputs": [
    {
     "name": "stdout",
     "output_type": "stream",
     "text": [
      "CPU times: user 15.7 s, sys: 9.49 s, total: 25.2 s\n",
      "Wall time: 6.49 s\n"
     ]
    },
    {
     "data": {
      "text/html": [
       "<div><style>\n",
       ".dataframe > thead > tr > th,\n",
       ".dataframe > tbody > tr > td {\n",
       "  text-align: right;\n",
       "}\n",
       "</style>\n",
       "<small>shape: (100, 2)</small><table border=\"1\" class=\"dataframe\"><thead><tr><th>id1</th><th>v1</th></tr><tr><td>str</td><td>i64</td></tr></thead><tbody><tr><td>&quot;id035&quot;</td><td>3002488</td></tr><tr><td>&quot;id068&quot;</td><td>2997342</td></tr><tr><td>&quot;id082&quot;</td><td>3001692</td></tr><tr><td>&quot;id096&quot;</td><td>2997704</td></tr><tr><td>&quot;id055&quot;</td><td>2996030</td></tr><tr><td>&quot;id081&quot;</td><td>2999941</td></tr><tr><td>&quot;id059&quot;</td><td>3001938</td></tr><tr><td>&quot;id033&quot;</td><td>2994558</td></tr><tr><td>&quot;id028&quot;</td><td>2992208</td></tr><tr><td>&quot;id091&quot;</td><td>3002225</td></tr><tr><td>&quot;id074&quot;</td><td>3002154</td></tr><tr><td>&quot;id025&quot;</td><td>3003923</td></tr><tr><td>&hellip;</td><td>&hellip;</td></tr><tr><td>&quot;id086&quot;</td><td>3003907</td></tr><tr><td>&quot;id012&quot;</td><td>2997255</td></tr><tr><td>&quot;id049&quot;</td><td>2998645</td></tr><tr><td>&quot;id019&quot;</td><td>2997246</td></tr><tr><td>&quot;id032&quot;</td><td>2996228</td></tr><tr><td>&quot;id066&quot;</td><td>3001928</td></tr><tr><td>&quot;id054&quot;</td><td>3003915</td></tr><tr><td>&quot;id044&quot;</td><td>2999000</td></tr><tr><td>&quot;id095&quot;</td><td>3000553</td></tr><tr><td>&quot;id023&quot;</td><td>2996678</td></tr><tr><td>&quot;id022&quot;</td><td>3001135</td></tr><tr><td>&quot;id034&quot;</td><td>2999826</td></tr></tbody></table></div>"
      ],
      "text/plain": [
       "shape: (100, 2)\n",
       "┌───────┬─────────┐\n",
       "│ id1   ┆ v1      │\n",
       "│ ---   ┆ ---     │\n",
       "│ str   ┆ i64     │\n",
       "╞═══════╪═════════╡\n",
       "│ id035 ┆ 3002488 │\n",
       "│ id068 ┆ 2997342 │\n",
       "│ id082 ┆ 3001692 │\n",
       "│ id096 ┆ 2997704 │\n",
       "│ …     ┆ …       │\n",
       "│ id095 ┆ 3000553 │\n",
       "│ id023 ┆ 2996678 │\n",
       "│ id022 ┆ 3001135 │\n",
       "│ id034 ┆ 2999826 │\n",
       "└───────┴─────────┘"
      ]
     },
     "execution_count": 2,
     "metadata": {},
     "output_type": "execute_result"
    }
   ],
   "source": [
    "%%time\n",
    "df_csv_1e8 = pl.read_csv(\"~/data/G1_1e8_1e2_0_0.csv\")\n",
    "df_csv_1e8.groupby(\"id1\").agg(pl.sum(\"v1\"))"
   ]
  },
  {
   "cell_type": "code",
   "execution_count": 4,
   "id": "5a357be3-8a90-429f-b481-8f7940734f62",
   "metadata": {
    "tags": []
   },
   "outputs": [],
   "source": [
    "del df_csv_1e8"
   ]
  },
  {
   "cell_type": "code",
   "execution_count": 5,
   "id": "c7d3fd1e-33b1-4489-b8d2-77f4279114e1",
   "metadata": {
    "tags": []
   },
   "outputs": [
    {
     "data": {
      "text/plain": [
       "0"
      ]
     },
     "execution_count": 5,
     "metadata": {},
     "output_type": "execute_result"
    }
   ],
   "source": [
    "gc.collect()"
   ]
  },
  {
   "cell_type": "markdown",
   "id": "eb579b00-c3ef-48e8-a037-829c36774097",
   "metadata": {},
   "source": [
    "## 1e8 Parquet"
   ]
  },
  {
   "cell_type": "code",
   "execution_count": 3,
   "id": "e9dd2a2e-1c9d-496c-9920-0b9b36dd7a9a",
   "metadata": {
    "tags": []
   },
   "outputs": [
    {
     "name": "stdout",
     "output_type": "stream",
     "text": [
      "CPU times: user 7.85 s, sys: 1.37 s, total: 9.22 s\n",
      "Wall time: 2.53 s\n"
     ]
    },
    {
     "data": {
      "text/html": [
       "<div><style>\n",
       ".dataframe > thead > tr > th,\n",
       ".dataframe > tbody > tr > td {\n",
       "  text-align: right;\n",
       "}\n",
       "</style>\n",
       "<small>shape: (100, 2)</small><table border=\"1\" class=\"dataframe\"><thead><tr><th>id1</th><th>v1</th></tr><tr><td>str</td><td>i64</td></tr></thead><tbody><tr><td>&quot;id056&quot;</td><td>3004499</td></tr><tr><td>&quot;id092&quot;</td><td>3004608</td></tr><tr><td>&quot;id036&quot;</td><td>3007324</td></tr><tr><td>&quot;id004&quot;</td><td>3000945</td></tr><tr><td>&quot;id042&quot;</td><td>3000182</td></tr><tr><td>&quot;id001&quot;</td><td>2997617</td></tr><tr><td>&quot;id033&quot;</td><td>2994558</td></tr><tr><td>&quot;id072&quot;</td><td>2999245</td></tr><tr><td>&quot;id040&quot;</td><td>3004182</td></tr><tr><td>&quot;id091&quot;</td><td>3002225</td></tr><tr><td>&quot;id083&quot;</td><td>2999907</td></tr><tr><td>&quot;id009&quot;</td><td>2999741</td></tr><tr><td>&hellip;</td><td>&hellip;</td></tr><tr><td>&quot;id025&quot;</td><td>3003923</td></tr><tr><td>&quot;id052&quot;</td><td>3008005</td></tr><tr><td>&quot;id097&quot;</td><td>3004476</td></tr><tr><td>&quot;id030&quot;</td><td>2999593</td></tr><tr><td>&quot;id079&quot;</td><td>3004434</td></tr><tr><td>&quot;id037&quot;</td><td>3000984</td></tr><tr><td>&quot;id080&quot;</td><td>2995965</td></tr><tr><td>&quot;id071&quot;</td><td>2999093</td></tr><tr><td>&quot;id038&quot;</td><td>3003191</td></tr><tr><td>&quot;id090&quot;</td><td>2998808</td></tr><tr><td>&quot;id095&quot;</td><td>3000553</td></tr><tr><td>&quot;id014&quot;</td><td>2998661</td></tr></tbody></table></div>"
      ],
      "text/plain": [
       "shape: (100, 2)\n",
       "┌───────┬─────────┐\n",
       "│ id1   ┆ v1      │\n",
       "│ ---   ┆ ---     │\n",
       "│ str   ┆ i64     │\n",
       "╞═══════╪═════════╡\n",
       "│ id056 ┆ 3004499 │\n",
       "│ id092 ┆ 3004608 │\n",
       "│ id036 ┆ 3007324 │\n",
       "│ id004 ┆ 3000945 │\n",
       "│ …     ┆ …       │\n",
       "│ id038 ┆ 3003191 │\n",
       "│ id090 ┆ 2998808 │\n",
       "│ id095 ┆ 3000553 │\n",
       "│ id014 ┆ 2998661 │\n",
       "└───────┴─────────┘"
      ]
     },
     "execution_count": 3,
     "metadata": {},
     "output_type": "execute_result"
    }
   ],
   "source": [
    "%%time\n",
    "df_parquet_1e8 = pl.read_parquet(\"~/data/parquet/G1_1e8_1e2_0_0.parquet\")\n",
    "df_parquet_1e8.groupby(\"id1\").agg(pl.sum(\"v1\"))"
   ]
  },
  {
   "cell_type": "code",
   "execution_count": 4,
   "id": "206a13eb-8b4d-4405-bc13-7afd763d6c5d",
   "metadata": {
    "tags": []
   },
   "outputs": [],
   "source": [
    "del df_parquet_1e8"
   ]
  },
  {
   "cell_type": "code",
   "execution_count": 5,
   "id": "8ce304ce-2c9e-448b-bf2d-f7e688932a72",
   "metadata": {
    "tags": []
   },
   "outputs": [
    {
     "data": {
      "text/plain": [
       "0"
      ]
     },
     "execution_count": 5,
     "metadata": {},
     "output_type": "execute_result"
    }
   ],
   "source": [
    "gc.collect()"
   ]
  },
  {
   "cell_type": "markdown",
   "id": "935d786d-d554-41c6-9a6e-b172e409905a",
   "metadata": {},
   "source": [
    "## 1e9 CSV"
   ]
  },
  {
   "cell_type": "code",
   "execution_count": 8,
   "id": "75dd3933-7c75-48e3-bea2-fc00fdbc680b",
   "metadata": {
    "tags": []
   },
   "outputs": [
    {
     "name": "stdout",
     "output_type": "stream",
     "text": [
      "CPU times: user 2min 34s, sys: 4min 15s, total: 6min 49s\n",
      "Wall time: 5min 15s\n"
     ]
    },
    {
     "data": {
      "text/html": [
       "<div><style>\n",
       ".dataframe > thead > tr > th,\n",
       ".dataframe > tbody > tr > td {\n",
       "  text-align: right;\n",
       "}\n",
       "</style>\n",
       "<small>shape: (100, 2)</small><table border=\"1\" class=\"dataframe\"><thead><tr><th>id1</th><th>v1</th></tr><tr><td>str</td><td>i64</td></tr></thead><tbody><tr><td>&quot;id016&quot;</td><td>30003304</td></tr><tr><td>&quot;id054&quot;</td><td>30011978</td></tr><tr><td>&quot;id097&quot;</td><td>30015928</td></tr><tr><td>&quot;id017&quot;</td><td>29995061</td></tr><tr><td>&quot;id061&quot;</td><td>30012298</td></tr><tr><td>&quot;id031&quot;</td><td>29998489</td></tr><tr><td>&quot;id055&quot;</td><td>30009993</td></tr><tr><td>&quot;id005&quot;</td><td>29993888</td></tr><tr><td>&quot;id059&quot;</td><td>30010798</td></tr><tr><td>&quot;id027&quot;</td><td>30000498</td></tr><tr><td>&quot;id033&quot;</td><td>29983262</td></tr><tr><td>&quot;id008&quot;</td><td>29999024</td></tr><tr><td>&hellip;</td><td>&hellip;</td></tr><tr><td>&quot;id038&quot;</td><td>29995309</td></tr><tr><td>&quot;id050&quot;</td><td>30008271</td></tr><tr><td>&quot;id022&quot;</td><td>29994847</td></tr><tr><td>&quot;id042&quot;</td><td>29989540</td></tr><tr><td>&quot;id009&quot;</td><td>29994474</td></tr><tr><td>&quot;id007&quot;</td><td>29992448</td></tr><tr><td>&quot;id044&quot;</td><td>29999327</td></tr><tr><td>&quot;id003&quot;</td><td>30003365</td></tr><tr><td>&quot;id018&quot;</td><td>29992469</td></tr><tr><td>&quot;id077&quot;</td><td>29990807</td></tr><tr><td>&quot;id043&quot;</td><td>30005705</td></tr><tr><td>&quot;id094&quot;</td><td>30005130</td></tr></tbody></table></div>"
      ],
      "text/plain": [
       "shape: (100, 2)\n",
       "┌───────┬──────────┐\n",
       "│ id1   ┆ v1       │\n",
       "│ ---   ┆ ---      │\n",
       "│ str   ┆ i64      │\n",
       "╞═══════╪══════════╡\n",
       "│ id016 ┆ 30003304 │\n",
       "│ id054 ┆ 30011978 │\n",
       "│ id097 ┆ 30015928 │\n",
       "│ id017 ┆ 29995061 │\n",
       "│ …     ┆ …        │\n",
       "│ id018 ┆ 29992469 │\n",
       "│ id077 ┆ 29990807 │\n",
       "│ id043 ┆ 30005705 │\n",
       "│ id094 ┆ 30005130 │\n",
       "└───────┴──────────┘"
      ]
     },
     "execution_count": 8,
     "metadata": {},
     "output_type": "execute_result"
    }
   ],
   "source": [
    "%%time\n",
    "df_csv_1e9 = pl.read_csv(\"~/data/G1_1e9_1e2_0_0.csv\")\n",
    "df_csv_1e9.groupby(\"id1\").agg(pl.sum(\"v1\"))"
   ]
  },
  {
   "cell_type": "code",
   "execution_count": 7,
   "id": "c3b5e45a-2dab-432c-bb62-7d65f6a3b2d6",
   "metadata": {
    "tags": []
   },
   "outputs": [
    {
     "ename": "NameError",
     "evalue": "name 'df_csv_1e9' is not defined",
     "output_type": "error",
     "traceback": [
      "\u001b[0;31m---------------------------------------------------------------------------\u001b[0m",
      "\u001b[0;31mNameError\u001b[0m                                 Traceback (most recent call last)",
      "Cell \u001b[0;32mIn[7], line 1\u001b[0m\n\u001b[0;32m----> 1\u001b[0m \u001b[38;5;28;01mdel\u001b[39;00m df_csv_1e9\n",
      "\u001b[0;31mNameError\u001b[0m: name 'df_csv_1e9' is not defined"
     ]
    }
   ],
   "source": [
    "del df_csv_1e9"
   ]
  },
  {
   "cell_type": "code",
   "execution_count": 4,
   "id": "9fafb3ab-372a-41b6-a8e9-15fc54028edf",
   "metadata": {},
   "outputs": [
    {
     "name": "stdout",
     "output_type": "stream",
     "text": [
      "CPU times: user 1min 9s, sys: 34.6 s, total: 1min 43s\n",
      "Wall time: 30.4 s\n"
     ]
    },
    {
     "data": {
      "text/html": [
       "<div><style>\n",
       ".dataframe > thead > tr > th,\n",
       ".dataframe > tbody > tr > td {\n",
       "  text-align: right;\n",
       "}\n",
       "</style>\n",
       "<small>shape: (1, 2)</small><table border=\"1\" class=\"dataframe\"><thead><tr><th>id1</th><th>v1</th></tr><tr><td>str</td><td>i64</td></tr></thead><tbody><tr><td>&quot;id016&quot;</td><td>30003304</td></tr></tbody></table></div>"
      ],
      "text/plain": [
       "shape: (1, 2)\n",
       "┌───────┬──────────┐\n",
       "│ id1   ┆ v1       │\n",
       "│ ---   ┆ ---      │\n",
       "│ str   ┆ i64      │\n",
       "╞═══════╪══════════╡\n",
       "│ id016 ┆ 30003304 │\n",
       "└───────┴──────────┘"
      ]
     },
     "execution_count": 4,
     "metadata": {},
     "output_type": "execute_result"
    }
   ],
   "source": [
    "%%time\n",
    "\n",
    "(\n",
    "    pl.scan_csv(\"~/data/G1_1e9_1e2_0_0.csv\")\n",
    "    .filter(pl.col(\"id1\") == 'id016')\n",
    "    .groupby(\"id1\")\n",
    "    .agg(pl.sum(\"v1\"))\n",
    ").collect()"
   ]
  },
  {
   "cell_type": "markdown",
   "id": "b9d232b2-c27a-4020-9306-43905b55240c",
   "metadata": {},
   "source": [
    "## 1e8 Delta Lake"
   ]
  },
  {
   "cell_type": "code",
   "execution_count": 8,
   "id": "04e023f3-93fb-48aa-ba30-d955c8e21ee5",
   "metadata": {
    "tags": []
   },
   "outputs": [
    {
     "name": "stdout",
     "output_type": "stream",
     "text": [
      "CPU times: user 7.6 s, sys: 2.93 s, total: 10.5 s\n",
      "Wall time: 3.26 s\n"
     ]
    },
    {
     "data": {
      "text/html": [
       "<div><style>\n",
       ".dataframe > thead > tr > th,\n",
       ".dataframe > tbody > tr > td {\n",
       "  text-align: right;\n",
       "}\n",
       "</style>\n",
       "<small>shape: (100, 2)</small><table border=\"1\" class=\"dataframe\"><thead><tr><th>id1</th><th>v1</th></tr><tr><td>str</td><td>i32</td></tr></thead><tbody><tr><td>&quot;id083&quot;</td><td>2999907</td></tr><tr><td>&quot;id025&quot;</td><td>3003923</td></tr><tr><td>&quot;id039&quot;</td><td>3007771</td></tr><tr><td>&quot;id056&quot;</td><td>3004499</td></tr><tr><td>&quot;id008&quot;</td><td>2999124</td></tr><tr><td>&quot;id087&quot;</td><td>3002390</td></tr><tr><td>&quot;id060&quot;</td><td>3000353</td></tr><tr><td>&quot;id082&quot;</td><td>3001692</td></tr><tr><td>&quot;id045&quot;</td><td>2995056</td></tr><tr><td>&quot;id066&quot;</td><td>3001928</td></tr><tr><td>&quot;id005&quot;</td><td>3001731</td></tr><tr><td>&quot;id098&quot;</td><td>2996139</td></tr><tr><td>&hellip;</td><td>&hellip;</td></tr><tr><td>&quot;id048&quot;</td><td>2999693</td></tr><tr><td>&quot;id014&quot;</td><td>2998661</td></tr><tr><td>&quot;id018&quot;</td><td>2998792</td></tr><tr><td>&quot;id050&quot;</td><td>2999787</td></tr><tr><td>&quot;id085&quot;</td><td>2999400</td></tr><tr><td>&quot;id046&quot;</td><td>3001731</td></tr><tr><td>&quot;id052&quot;</td><td>3008005</td></tr><tr><td>&quot;id001&quot;</td><td>2997617</td></tr><tr><td>&quot;id041&quot;</td><td>3000990</td></tr><tr><td>&quot;id015&quot;</td><td>3002869</td></tr><tr><td>&quot;id004&quot;</td><td>3000945</td></tr><tr><td>&quot;id064&quot;</td><td>2998428</td></tr></tbody></table></div>"
      ],
      "text/plain": [
       "shape: (100, 2)\n",
       "┌───────┬─────────┐\n",
       "│ id1   ┆ v1      │\n",
       "│ ---   ┆ ---     │\n",
       "│ str   ┆ i32     │\n",
       "╞═══════╪═════════╡\n",
       "│ id083 ┆ 2999907 │\n",
       "│ id025 ┆ 3003923 │\n",
       "│ id039 ┆ 3007771 │\n",
       "│ id056 ┆ 3004499 │\n",
       "│ …     ┆ …       │\n",
       "│ id041 ┆ 3000990 │\n",
       "│ id015 ┆ 3002869 │\n",
       "│ id004 ┆ 3000945 │\n",
       "│ id064 ┆ 2998428 │\n",
       "└───────┴─────────┘"
      ]
     },
     "execution_count": 8,
     "metadata": {},
     "output_type": "execute_result"
    }
   ],
   "source": [
    "%%time\n",
    "\n",
    "df = pl.read_delta(\"~/data/delta/G1_1e8_1e2_0_0\")\n",
    "\n",
    "df.groupby(\"id1\").agg(pl.sum(\"v1\"))"
   ]
  },
  {
   "cell_type": "code",
   "execution_count": 9,
   "id": "2e12e7a6-4e69-4926-8507-460148e7bb72",
   "metadata": {
    "tags": []
   },
   "outputs": [
    {
     "data": {
      "text/html": [
       "<div><style>\n",
       ".dataframe > thead > tr > th,\n",
       ".dataframe > tbody > tr > td {\n",
       "  text-align: right;\n",
       "}\n",
       "</style>\n",
       "<small>shape: (100, 2)</small><table border=\"1\" class=\"dataframe\"><thead><tr><th>id1</th><th>v1</th></tr><tr><td>str</td><td>i32</td></tr></thead><tbody><tr><td>&quot;id089&quot;</td><td>2997861</td></tr><tr><td>&quot;id014&quot;</td><td>2998661</td></tr><tr><td>&quot;id067&quot;</td><td>3004428</td></tr><tr><td>&quot;id062&quot;</td><td>2998476</td></tr><tr><td>&quot;id005&quot;</td><td>3001731</td></tr><tr><td>&quot;id078&quot;</td><td>2999607</td></tr><tr><td>&quot;id047&quot;</td><td>2992872</td></tr><tr><td>&quot;id099&quot;</td><td>3001163</td></tr><tr><td>&quot;id003&quot;</td><td>3001204</td></tr><tr><td>&quot;id055&quot;</td><td>2996030</td></tr><tr><td>&quot;id012&quot;</td><td>2997255</td></tr><tr><td>&quot;id031&quot;</td><td>3001841</td></tr><tr><td>&hellip;</td><td>&hellip;</td></tr><tr><td>&quot;id056&quot;</td><td>3004499</td></tr><tr><td>&quot;id090&quot;</td><td>2998808</td></tr><tr><td>&quot;id086&quot;</td><td>3003907</td></tr><tr><td>&quot;id023&quot;</td><td>2996678</td></tr><tr><td>&quot;id080&quot;</td><td>2995965</td></tr><tr><td>&quot;id035&quot;</td><td>3002488</td></tr><tr><td>&quot;id079&quot;</td><td>3004434</td></tr><tr><td>&quot;id029&quot;</td><td>3000287</td></tr><tr><td>&quot;id072&quot;</td><td>2999245</td></tr><tr><td>&quot;id024&quot;</td><td>2998621</td></tr><tr><td>&quot;id071&quot;</td><td>2999093</td></tr><tr><td>&quot;id022&quot;</td><td>3001135</td></tr></tbody></table></div>"
      ],
      "text/plain": [
       "shape: (100, 2)\n",
       "┌───────┬─────────┐\n",
       "│ id1   ┆ v1      │\n",
       "│ ---   ┆ ---     │\n",
       "│ str   ┆ i32     │\n",
       "╞═══════╪═════════╡\n",
       "│ id089 ┆ 2997861 │\n",
       "│ id014 ┆ 2998661 │\n",
       "│ id067 ┆ 3004428 │\n",
       "│ id062 ┆ 2998476 │\n",
       "│ …     ┆ …       │\n",
       "│ id072 ┆ 2999245 │\n",
       "│ id024 ┆ 2998621 │\n",
       "│ id071 ┆ 2999093 │\n",
       "│ id022 ┆ 3001135 │\n",
       "└───────┴─────────┘"
      ]
     },
     "execution_count": 9,
     "metadata": {},
     "output_type": "execute_result"
    }
   ],
   "source": [
    "df.groupby(\"id1\").agg(pl.sum(\"v1\"))"
   ]
  },
  {
   "cell_type": "code",
   "execution_count": 6,
   "id": "2ba7d6bf-225a-4a99-bfc1-fca9a6c9ccdc",
   "metadata": {
    "tags": []
   },
   "outputs": [],
   "source": [
    "del df"
   ]
  },
  {
   "cell_type": "markdown",
   "id": "7b8b1432-9bbb-4aeb-811e-fe6ae7fd4b97",
   "metadata": {},
   "source": [
    "## 1e9 Delta Lake"
   ]
  },
  {
   "cell_type": "code",
   "execution_count": 8,
   "id": "6c9bd655-4867-4d5f-8a29-1bf560ebcd9d",
   "metadata": {},
   "outputs": [
    {
     "name": "stdout",
     "output_type": "stream",
     "text": [
      "CPU times: user 1.49 s, sys: 197 ms, total: 1.69 s\n",
      "Wall time: 836 ms\n"
     ]
    },
    {
     "data": {
      "text/html": [
       "<div><style>\n",
       ".dataframe > thead > tr > th,\n",
       ".dataframe > tbody > tr > td {\n",
       "  text-align: right;\n",
       "}\n",
       "</style>\n",
       "<small>shape: (1, 2)</small><table border=\"1\" class=\"dataframe\"><thead><tr><th>id1</th><th>v1</th></tr><tr><td>str</td><td>i32</td></tr></thead><tbody><tr><td>&quot;id016&quot;</td><td>30003304</td></tr></tbody></table></div>"
      ],
      "text/plain": [
       "shape: (1, 2)\n",
       "┌───────┬──────────┐\n",
       "│ id1   ┆ v1       │\n",
       "│ ---   ┆ ---      │\n",
       "│ str   ┆ i32      │\n",
       "╞═══════╪══════════╡\n",
       "│ id016 ┆ 30003304 │\n",
       "└───────┴──────────┘"
      ]
     },
     "execution_count": 8,
     "metadata": {},
     "output_type": "execute_result"
    }
   ],
   "source": [
    "%%time\n",
    "\n",
    "(\n",
    "    pl.scan_delta(\"~/data/delta/G1_1e9_1e2_0_0\")\n",
    "    .filter(pl.col(\"id1\") == 'id016')\n",
    "    .groupby(\"id1\")\n",
    "    .agg(pl.sum(\"v1\"))\n",
    ").collect()"
   ]
  },
  {
   "cell_type": "markdown",
   "id": "4beb6c27-d633-47e5-a7fb-21c9f84137a7",
   "metadata": {},
   "source": [
    "## 1e9 Parquet"
   ]
  },
  {
   "cell_type": "code",
   "execution_count": 9,
   "id": "fdff88d1-750f-42f7-a806-9b1b2025b2da",
   "metadata": {},
   "outputs": [
    {
     "ename": "FileNotFoundError",
     "evalue": "No such file or directory: /Users/matthew.powers/data/parquet/G1_1e9_1e2_0_0.parquet",
     "output_type": "error",
     "traceback": [
      "\u001b[0;31m---------------------------------------------------------------------------\u001b[0m",
      "\u001b[0;31mFileNotFoundError\u001b[0m                         Traceback (most recent call last)",
      "File \u001b[0;32m<timed eval>:2\u001b[0m\n",
      "File \u001b[0;32m~/opt/miniconda3/envs/deltalake-090/lib/python3.9/site-packages/polars/io/parquet/functions.py:210\u001b[0m, in \u001b[0;36mscan_parquet\u001b[0;34m(source, n_rows, cache, parallel, rechunk, row_count_name, row_count_offset, storage_options, low_memory, use_statistics)\u001b[0m\n\u001b[1;32m    207\u001b[0m \u001b[38;5;28;01mif\u001b[39;00m \u001b[38;5;28misinstance\u001b[39m(source, (\u001b[38;5;28mstr\u001b[39m, Path)):\n\u001b[1;32m    208\u001b[0m     source \u001b[38;5;241m=\u001b[39m normalise_filepath(source)\n\u001b[0;32m--> 210\u001b[0m \u001b[38;5;28;01mreturn\u001b[39;00m \u001b[43mpl\u001b[49m\u001b[38;5;241;43m.\u001b[39;49m\u001b[43mLazyFrame\u001b[49m\u001b[38;5;241;43m.\u001b[39;49m\u001b[43m_scan_parquet\u001b[49m\u001b[43m(\u001b[49m\n\u001b[1;32m    211\u001b[0m \u001b[43m    \u001b[49m\u001b[43msource\u001b[49m\u001b[43m,\u001b[49m\n\u001b[1;32m    212\u001b[0m \u001b[43m    \u001b[49m\u001b[43mn_rows\u001b[49m\u001b[38;5;241;43m=\u001b[39;49m\u001b[43mn_rows\u001b[49m\u001b[43m,\u001b[49m\n\u001b[1;32m    213\u001b[0m \u001b[43m    \u001b[49m\u001b[43mcache\u001b[49m\u001b[38;5;241;43m=\u001b[39;49m\u001b[43mcache\u001b[49m\u001b[43m,\u001b[49m\n\u001b[1;32m    214\u001b[0m \u001b[43m    \u001b[49m\u001b[43mparallel\u001b[49m\u001b[38;5;241;43m=\u001b[39;49m\u001b[43mparallel\u001b[49m\u001b[43m,\u001b[49m\n\u001b[1;32m    215\u001b[0m \u001b[43m    \u001b[49m\u001b[43mrechunk\u001b[49m\u001b[38;5;241;43m=\u001b[39;49m\u001b[43mrechunk\u001b[49m\u001b[43m,\u001b[49m\n\u001b[1;32m    216\u001b[0m \u001b[43m    \u001b[49m\u001b[43mrow_count_name\u001b[49m\u001b[38;5;241;43m=\u001b[39;49m\u001b[43mrow_count_name\u001b[49m\u001b[43m,\u001b[49m\n\u001b[1;32m    217\u001b[0m \u001b[43m    \u001b[49m\u001b[43mrow_count_offset\u001b[49m\u001b[38;5;241;43m=\u001b[39;49m\u001b[43mrow_count_offset\u001b[49m\u001b[43m,\u001b[49m\n\u001b[1;32m    218\u001b[0m \u001b[43m    \u001b[49m\u001b[43mstorage_options\u001b[49m\u001b[38;5;241;43m=\u001b[39;49m\u001b[43mstorage_options\u001b[49m\u001b[43m,\u001b[49m\n\u001b[1;32m    219\u001b[0m \u001b[43m    \u001b[49m\u001b[43mlow_memory\u001b[49m\u001b[38;5;241;43m=\u001b[39;49m\u001b[43mlow_memory\u001b[49m\u001b[43m,\u001b[49m\n\u001b[1;32m    220\u001b[0m \u001b[43m    \u001b[49m\u001b[43muse_statistics\u001b[49m\u001b[38;5;241;43m=\u001b[39;49m\u001b[43muse_statistics\u001b[49m\u001b[43m,\u001b[49m\n\u001b[1;32m    221\u001b[0m \u001b[43m\u001b[49m\u001b[43m)\u001b[49m\n",
      "File \u001b[0;32m~/opt/miniconda3/envs/deltalake-090/lib/python3.9/site-packages/polars/lazyframe/frame.py:397\u001b[0m, in \u001b[0;36mLazyFrame._scan_parquet\u001b[0;34m(cls, source, n_rows, cache, parallel, rechunk, row_count_name, row_count_offset, storage_options, low_memory, use_statistics)\u001b[0m\n\u001b[1;32m    395\u001b[0m \u001b[38;5;66;03m# try fsspec scanner\u001b[39;00m\n\u001b[1;32m    396\u001b[0m \u001b[38;5;28;01mif\u001b[39;00m \u001b[38;5;129;01mnot\u001b[39;00m _is_local_file(source):\n\u001b[0;32m--> 397\u001b[0m     scan \u001b[38;5;241m=\u001b[39m \u001b[43m_scan_parquet_fsspec\u001b[49m\u001b[43m(\u001b[49m\u001b[43msource\u001b[49m\u001b[43m,\u001b[49m\u001b[43m \u001b[49m\u001b[43mstorage_options\u001b[49m\u001b[43m)\u001b[49m\n\u001b[1;32m    398\u001b[0m     \u001b[38;5;28;01mif\u001b[39;00m n_rows:\n\u001b[1;32m    399\u001b[0m         scan \u001b[38;5;241m=\u001b[39m scan\u001b[38;5;241m.\u001b[39mhead(n_rows)\n",
      "File \u001b[0;32m~/opt/miniconda3/envs/deltalake-090/lib/python3.9/site-packages/polars/io/parquet/anonymous_scan.py:24\u001b[0m, in \u001b[0;36m_scan_parquet_fsspec\u001b[0;34m(source, storage_options)\u001b[0m\n\u001b[1;32m     22\u001b[0m storage_options \u001b[38;5;241m=\u001b[39m storage_options \u001b[38;5;129;01mor\u001b[39;00m {}\n\u001b[1;32m     23\u001b[0m \u001b[38;5;28;01mwith\u001b[39;00m _prepare_file_arg(source, \u001b[38;5;241m*\u001b[39m\u001b[38;5;241m*\u001b[39mstorage_options) \u001b[38;5;28;01mas\u001b[39;00m data:\n\u001b[0;32m---> 24\u001b[0m     schema \u001b[38;5;241m=\u001b[39m \u001b[43mpolars\u001b[49m\u001b[38;5;241;43m.\u001b[39;49m\u001b[43mio\u001b[49m\u001b[38;5;241;43m.\u001b[39;49m\u001b[43mparquet\u001b[49m\u001b[38;5;241;43m.\u001b[39;49m\u001b[43mread_parquet_schema\u001b[49m\u001b[43m(\u001b[49m\u001b[43mdata\u001b[49m\u001b[43m)\u001b[49m\n\u001b[1;32m     26\u001b[0m \u001b[38;5;28;01mreturn\u001b[39;00m pl\u001b[38;5;241m.\u001b[39mLazyFrame\u001b[38;5;241m.\u001b[39m_scan_python_function(schema, func_serialized)\n",
      "File \u001b[0;32m~/opt/miniconda3/envs/deltalake-090/lib/python3.9/site-packages/polars/io/parquet/functions.py:155\u001b[0m, in \u001b[0;36mread_parquet_schema\u001b[0;34m(source)\u001b[0m\n\u001b[1;32m    152\u001b[0m \u001b[38;5;28;01mif\u001b[39;00m \u001b[38;5;28misinstance\u001b[39m(source, (\u001b[38;5;28mstr\u001b[39m, Path)):\n\u001b[1;32m    153\u001b[0m     source \u001b[38;5;241m=\u001b[39m normalise_filepath(source)\n\u001b[0;32m--> 155\u001b[0m \u001b[38;5;28;01mreturn\u001b[39;00m \u001b[43m_read_parquet_schema\u001b[49m\u001b[43m(\u001b[49m\u001b[43msource\u001b[49m\u001b[43m)\u001b[49m\n",
      "\u001b[0;31mFileNotFoundError\u001b[0m: No such file or directory: /Users/matthew.powers/data/parquet/G1_1e9_1e2_0_0.parquet"
     ]
    }
   ],
   "source": [
    "%%time\n",
    "\n",
    "(\n",
    "    pl.scan_parquet(\"~/data/parquet/G1_1e9_1e2_0_0.parquet\")\n",
    "    .filter(pl.col(\"id1\") == 'id016')\n",
    "    .groupby(\"id1\")\n",
    "    .agg(pl.sum(\"v1\"))\n",
    ").collect()"
   ]
  },
  {
   "cell_type": "markdown",
   "id": "ba53c39c-6aca-4fa2-b463-791e74436e0c",
   "metadata": {},
   "source": [
    "## Create the 1e9 Parquet file"
   ]
  },
  {
   "cell_type": "code",
   "execution_count": null,
   "id": "ab4dcf34-10bd-4378-926a-40dd6981e50a",
   "metadata": {},
   "outputs": [],
   "source": [
    "df = pl.scan_csv(\"~/data/G1_1e9_1e2_0_0.csv\")\n",
    "df.collect().write_parquet(\"~/data/parquet/G1_1e9_1e2_0_0.parquet\")"
   ]
  },
  {
   "cell_type": "code",
   "execution_count": null,
   "id": "ea08510a-846b-4763-aea0-3d381fa75668",
   "metadata": {},
   "outputs": [],
   "source": []
  }
 ],
 "metadata": {
  "kernelspec": {
   "display_name": "Python [conda env:deltalake-090]",
   "language": "python",
   "name": "conda-env-deltalake-090-py"
  },
  "language_info": {
   "codemirror_mode": {
    "name": "ipython",
    "version": 3
   },
   "file_extension": ".py",
   "mimetype": "text/x-python",
   "name": "python",
   "nbconvert_exporter": "python",
   "pygments_lexer": "ipython3",
   "version": "3.9.16"
  }
 },
 "nbformat": 4,
 "nbformat_minor": 5
}
