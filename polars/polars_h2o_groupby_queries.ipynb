{
 "cells": [
  {
   "cell_type": "markdown",
   "id": "e393bf1f-7de7-4f02-822d-c85c902e3b1d",
   "metadata": {},
   "source": [
    "# Polars h2o groupby queries"
   ]
  },
  {
   "cell_type": "code",
   "execution_count": 2,
   "id": "d3e85292-7df2-4e36-9d3a-d57094abcef3",
   "metadata": {
    "tags": []
   },
   "outputs": [],
   "source": [
    "import polars as pl"
   ]
  },
  {
   "cell_type": "markdown",
   "id": "bd324b44-b456-4741-a80f-4d20a2d92b05",
   "metadata": {},
   "source": [
    "## 1e8 CSV"
   ]
  },
  {
   "cell_type": "code",
   "execution_count": 5,
   "id": "58c0eb9d-b7b3-47d9-9359-35188eefb43c",
   "metadata": {
    "tags": []
   },
   "outputs": [
    {
     "name": "stdout",
     "output_type": "stream",
     "text": [
      "CPU times: user 15.3 s, sys: 19.7 s, total: 35 s\n",
      "Wall time: 7.53 s\n"
     ]
    },
    {
     "data": {
      "text/html": [
       "<div><style>\n",
       ".dataframe > thead > tr > th,\n",
       ".dataframe > tbody > tr > td {\n",
       "  text-align: right;\n",
       "}\n",
       "</style>\n",
       "<small>shape: (100, 2)</small><table border=\"1\" class=\"dataframe\"><thead><tr><th>id1</th><th>v1</th></tr><tr><td>str</td><td>i64</td></tr></thead><tbody><tr><td>&quot;id084&quot;</td><td>3002511</td></tr><tr><td>&quot;id090&quot;</td><td>2998808</td></tr><tr><td>&quot;id020&quot;</td><td>3001006</td></tr><tr><td>&quot;id046&quot;</td><td>3001731</td></tr><tr><td>&quot;id045&quot;</td><td>2995056</td></tr><tr><td>&quot;id030&quot;</td><td>2999593</td></tr><tr><td>&quot;id069&quot;</td><td>3000337</td></tr><tr><td>&quot;id097&quot;</td><td>3004476</td></tr><tr><td>&quot;id040&quot;</td><td>3004182</td></tr><tr><td>&quot;id079&quot;</td><td>3004434</td></tr><tr><td>&quot;id018&quot;</td><td>2998792</td></tr><tr><td>&quot;id056&quot;</td><td>3004499</td></tr><tr><td>&hellip;</td><td>&hellip;</td></tr><tr><td>&quot;id094&quot;</td><td>2997173</td></tr><tr><td>&quot;id080&quot;</td><td>2995965</td></tr><tr><td>&quot;id013&quot;</td><td>3004140</td></tr><tr><td>&quot;id048&quot;</td><td>2999693</td></tr><tr><td>&quot;id049&quot;</td><td>2998645</td></tr><tr><td>&quot;id076&quot;</td><td>2998717</td></tr><tr><td>&quot;id098&quot;</td><td>2996139</td></tr><tr><td>&quot;id022&quot;</td><td>3001135</td></tr><tr><td>&quot;id033&quot;</td><td>2994558</td></tr><tr><td>&quot;id051&quot;</td><td>3000891</td></tr><tr><td>&quot;id081&quot;</td><td>2999941</td></tr><tr><td>&quot;id063&quot;</td><td>3001829</td></tr></tbody></table></div>"
      ],
      "text/plain": [
       "shape: (100, 2)\n",
       "┌───────┬─────────┐\n",
       "│ id1   ┆ v1      │\n",
       "│ ---   ┆ ---     │\n",
       "│ str   ┆ i64     │\n",
       "╞═══════╪═════════╡\n",
       "│ id084 ┆ 3002511 │\n",
       "│ id090 ┆ 2998808 │\n",
       "│ id020 ┆ 3001006 │\n",
       "│ id046 ┆ 3001731 │\n",
       "│ …     ┆ …       │\n",
       "│ id033 ┆ 2994558 │\n",
       "│ id051 ┆ 3000891 │\n",
       "│ id081 ┆ 2999941 │\n",
       "│ id063 ┆ 3001829 │\n",
       "└───────┴─────────┘"
      ]
     },
     "execution_count": 5,
     "metadata": {},
     "output_type": "execute_result"
    }
   ],
   "source": [
    "%%time\n",
    "df_csv_1e8 = pl.read_csv(\"~/data/G1_1e8_1e2_0_0.csv\")\n",
    "df_csv_1e8.groupby(\"id1\").agg(pl.sum(\"v1\"))"
   ]
  },
  {
   "cell_type": "code",
   "execution_count": 6,
   "id": "5a357be3-8a90-429f-b481-8f7940734f62",
   "metadata": {
    "tags": []
   },
   "outputs": [],
   "source": [
    "del df_csv_1e8"
   ]
  },
  {
   "cell_type": "markdown",
   "id": "eb579b00-c3ef-48e8-a037-829c36774097",
   "metadata": {},
   "source": [
    "## 1e8 Parquet"
   ]
  },
  {
   "cell_type": "code",
   "execution_count": 20,
   "id": "e9dd2a2e-1c9d-496c-9920-0b9b36dd7a9a",
   "metadata": {
    "tags": []
   },
   "outputs": [
    {
     "name": "stdout",
     "output_type": "stream",
     "text": [
      "CPU times: user 7.75 s, sys: 1.97 s, total: 9.72 s\n",
      "Wall time: 3.73 s\n"
     ]
    },
    {
     "data": {
      "text/html": [
       "<div><style>\n",
       ".dataframe > thead > tr > th,\n",
       ".dataframe > tbody > tr > td {\n",
       "  text-align: right;\n",
       "}\n",
       "</style>\n",
       "<small>shape: (100, 2)</small><table border=\"1\" class=\"dataframe\"><thead><tr><th>id1</th><th>v1</th></tr><tr><td>str</td><td>i64</td></tr></thead><tbody><tr><td>&quot;id057&quot;</td><td>2991091</td></tr><tr><td>&quot;id063&quot;</td><td>3001829</td></tr><tr><td>&quot;id073&quot;</td><td>2996491</td></tr><tr><td>&quot;id058&quot;</td><td>2997339</td></tr><tr><td>&quot;id070&quot;</td><td>2996997</td></tr><tr><td>&quot;id065&quot;</td><td>3003111</td></tr><tr><td>&quot;id028&quot;</td><td>2992208</td></tr><tr><td>&quot;id033&quot;</td><td>2994558</td></tr><tr><td>&quot;id085&quot;</td><td>2999400</td></tr><tr><td>&quot;id099&quot;</td><td>3001163</td></tr><tr><td>&quot;id025&quot;</td><td>3003923</td></tr><tr><td>&quot;id096&quot;</td><td>2997704</td></tr><tr><td>&hellip;</td><td>&hellip;</td></tr><tr><td>&quot;id003&quot;</td><td>3001204</td></tr><tr><td>&quot;id092&quot;</td><td>3004608</td></tr><tr><td>&quot;id095&quot;</td><td>3000553</td></tr><tr><td>&quot;id023&quot;</td><td>2996678</td></tr><tr><td>&quot;id020&quot;</td><td>3001006</td></tr><tr><td>&quot;id081&quot;</td><td>2999941</td></tr><tr><td>&quot;id083&quot;</td><td>2999907</td></tr><tr><td>&quot;id100&quot;</td><td>2998376</td></tr><tr><td>&quot;id017&quot;</td><td>2996486</td></tr><tr><td>&quot;id026&quot;</td><td>2995851</td></tr><tr><td>&quot;id018&quot;</td><td>2998792</td></tr><tr><td>&quot;id024&quot;</td><td>2998621</td></tr></tbody></table></div>"
      ],
      "text/plain": [
       "shape: (100, 2)\n",
       "┌───────┬─────────┐\n",
       "│ id1   ┆ v1      │\n",
       "│ ---   ┆ ---     │\n",
       "│ str   ┆ i64     │\n",
       "╞═══════╪═════════╡\n",
       "│ id057 ┆ 2991091 │\n",
       "│ id063 ┆ 3001829 │\n",
       "│ id073 ┆ 2996491 │\n",
       "│ id058 ┆ 2997339 │\n",
       "│ …     ┆ …       │\n",
       "│ id017 ┆ 2996486 │\n",
       "│ id026 ┆ 2995851 │\n",
       "│ id018 ┆ 2998792 │\n",
       "│ id024 ┆ 2998621 │\n",
       "└───────┴─────────┘"
      ]
     },
     "execution_count": 20,
     "metadata": {},
     "output_type": "execute_result"
    }
   ],
   "source": [
    "%%time\n",
    "df_parquet_1e8 = pl.read_parquet(\"~/data/parquet/G1_1e8_1e2_0_0.parquet\")\n",
    "df_parquet_1e8.groupby(\"id1\").agg(pl.sum(\"v1\"))"
   ]
  },
  {
   "cell_type": "code",
   "execution_count": 21,
   "id": "206a13eb-8b4d-4405-bc13-7afd763d6c5d",
   "metadata": {
    "tags": []
   },
   "outputs": [],
   "source": [
    "del df_parquet_1e8"
   ]
  },
  {
   "cell_type": "markdown",
   "id": "935d786d-d554-41c6-9a6e-b172e409905a",
   "metadata": {},
   "source": [
    "## 1e9 CSV"
   ]
  },
  {
   "cell_type": "code",
   "execution_count": 3,
   "id": "75dd3933-7c75-48e3-bea2-fc00fdbc680b",
   "metadata": {
    "tags": []
   },
   "outputs": [
    {
     "name": "stdout",
     "output_type": "stream",
     "text": [
      "CPU times: user 2min 33s, sys: 3min 33s, total: 6min 7s\n",
      "Wall time: 3min 49s\n"
     ]
    },
    {
     "data": {
      "text/html": [
       "<div><style>\n",
       ".dataframe > thead > tr > th,\n",
       ".dataframe > tbody > tr > td {\n",
       "  text-align: right;\n",
       "}\n",
       "</style>\n",
       "<small>shape: (100, 2)</small><table border=\"1\" class=\"dataframe\"><thead><tr><th>id1</th><th>v1</th></tr><tr><td>str</td><td>i64</td></tr></thead><tbody><tr><td>&quot;id012&quot;</td><td>29990141</td></tr><tr><td>&quot;id066&quot;</td><td>29997843</td></tr><tr><td>&quot;id054&quot;</td><td>30011978</td></tr><tr><td>&quot;id089&quot;</td><td>29990077</td></tr><tr><td>&quot;id069&quot;</td><td>30017471</td></tr><tr><td>&quot;id015&quot;</td><td>30006177</td></tr><tr><td>&quot;id092&quot;</td><td>29996666</td></tr><tr><td>&quot;id085&quot;</td><td>30010513</td></tr><tr><td>&quot;id018&quot;</td><td>29992469</td></tr><tr><td>&quot;id055&quot;</td><td>30009993</td></tr><tr><td>&quot;id038&quot;</td><td>29995309</td></tr><tr><td>&quot;id070&quot;</td><td>29990210</td></tr><tr><td>&hellip;</td><td>&hellip;</td></tr><tr><td>&quot;id068&quot;</td><td>30008470</td></tr><tr><td>&quot;id009&quot;</td><td>29994474</td></tr><tr><td>&quot;id011&quot;</td><td>30002510</td></tr><tr><td>&quot;id091&quot;</td><td>29995955</td></tr><tr><td>&quot;id022&quot;</td><td>29994847</td></tr><tr><td>&quot;id075&quot;</td><td>30013372</td></tr><tr><td>&quot;id039&quot;</td><td>30000168</td></tr><tr><td>&quot;id024&quot;</td><td>30003956</td></tr><tr><td>&quot;id079&quot;</td><td>30009124</td></tr><tr><td>&quot;id072&quot;</td><td>30003522</td></tr><tr><td>&quot;id088&quot;</td><td>29999642</td></tr><tr><td>&quot;id033&quot;</td><td>29983262</td></tr></tbody></table></div>"
      ],
      "text/plain": [
       "shape: (100, 2)\n",
       "┌───────┬──────────┐\n",
       "│ id1   ┆ v1       │\n",
       "│ ---   ┆ ---      │\n",
       "│ str   ┆ i64      │\n",
       "╞═══════╪══════════╡\n",
       "│ id012 ┆ 29990141 │\n",
       "│ id066 ┆ 29997843 │\n",
       "│ id054 ┆ 30011978 │\n",
       "│ id089 ┆ 29990077 │\n",
       "│ …     ┆ …        │\n",
       "│ id079 ┆ 30009124 │\n",
       "│ id072 ┆ 30003522 │\n",
       "│ id088 ┆ 29999642 │\n",
       "│ id033 ┆ 29983262 │\n",
       "└───────┴──────────┘"
      ]
     },
     "execution_count": 3,
     "metadata": {},
     "output_type": "execute_result"
    }
   ],
   "source": [
    "%%time\n",
    "df_csv_1e9 = pl.read_csv(\"~/data/G1_1e9_1e2_0_0.csv\")\n",
    "df_csv_1e9.groupby(\"id1\").agg(pl.sum(\"v1\"))"
   ]
  },
  {
   "cell_type": "code",
   "execution_count": 4,
   "id": "c3b5e45a-2dab-432c-bb62-7d65f6a3b2d6",
   "metadata": {
    "tags": []
   },
   "outputs": [],
   "source": [
    "del df_csv_1e9"
   ]
  },
  {
   "cell_type": "code",
   "execution_count": null,
   "id": "10a20953-d23b-4232-bef0-42b81c719f82",
   "metadata": {},
   "outputs": [],
   "source": []
  }
 ],
 "metadata": {
  "kernelspec": {
   "display_name": "Python [conda env:pandas-200]",
   "language": "python",
   "name": "conda-env-pandas-200-py"
  },
  "language_info": {
   "codemirror_mode": {
    "name": "ipython",
    "version": 3
   },
   "file_extension": ".py",
   "mimetype": "text/x-python",
   "name": "python",
   "nbconvert_exporter": "python",
   "pygments_lexer": "ipython3",
   "version": "3.9.16"
  }
 },
 "nbformat": 4,
 "nbformat_minor": 5
}
