{
 "cells": [
  {
   "cell_type": "markdown",
   "id": "293c6e3e-b221-4d5b-a0a3-e769c92ef9dc",
   "metadata": {},
   "source": [
    "# PyArrow Parquet File Analysis\n",
    "\n",
    "PyArrow makes it easy to fetch different metadata statistics from a Parquet file."
   ]
  },
  {
   "cell_type": "code",
   "execution_count": 2,
   "id": "29946c9c-f948-4c34-b4b1-0f7b72c550a1",
   "metadata": {},
   "outputs": [],
   "source": [
    "import pyarrow.parquet as pq"
   ]
  },
  {
   "cell_type": "code",
   "execution_count": 3,
   "id": "62b0f2ce-29e0-42cf-98ed-44f79953a345",
   "metadata": {},
   "outputs": [],
   "source": [
    "parquet_file = pq.ParquetFile('~/data/G1_1e9_1e2_0_0.parquet')"
   ]
  },
  {
   "cell_type": "markdown",
   "id": "91b8656e-79bf-4bac-8b69-b04275f48272",
   "metadata": {},
   "source": [
    "## Fetch schema"
   ]
  },
  {
   "cell_type": "code",
   "execution_count": 5,
   "id": "15fd99b9-9be6-4fc3-9101-1f4a39f4182b",
   "metadata": {},
   "outputs": [
    {
     "data": {
      "text/plain": [
       "<pyarrow._parquet.ParquetSchema object at 0x106a38dc0>\n",
       "required group field_id=-1 schema {\n",
       "  optional binary field_id=-1 id1 (String);\n",
       "  optional binary field_id=-1 id2 (String);\n",
       "  optional binary field_id=-1 id3 (String);\n",
       "  optional int64 field_id=-1 id4;\n",
       "  optional int64 field_id=-1 id5;\n",
       "  optional int64 field_id=-1 id6;\n",
       "  optional int64 field_id=-1 v1;\n",
       "  optional int64 field_id=-1 v2;\n",
       "  optional double field_id=-1 v3;\n",
       "}"
      ]
     },
     "execution_count": 5,
     "metadata": {},
     "output_type": "execute_result"
    }
   ],
   "source": [
    "parquet_file.schema"
   ]
  },
  {
   "cell_type": "markdown",
   "id": "622c0470-4d00-44a9-bd49-8ae673f61368",
   "metadata": {},
   "source": [
    "## Fetch metadata"
   ]
  },
  {
   "cell_type": "code",
   "execution_count": 6,
   "id": "db97b337-d88e-41b8-808c-a5cd80bcb4eb",
   "metadata": {},
   "outputs": [
    {
     "data": {
      "text/plain": [
       "<pyarrow._parquet.FileMetaData object at 0x106b04630>\n",
       "  created_by: parquet-cpp-arrow version 11.0.0\n",
       "  num_columns: 9\n",
       "  num_rows: 1000000000\n",
       "  num_row_groups: 50467\n",
       "  format_version: 2.6\n",
       "  serialized_size: 47438984"
      ]
     },
     "execution_count": 6,
     "metadata": {},
     "output_type": "execute_result"
    }
   ],
   "source": [
    "parquet_file.metadata"
   ]
  },
  {
   "cell_type": "markdown",
   "id": "8239b67e-0df0-43fc-9770-ae8c4fb0b22f",
   "metadata": {},
   "source": [
    "## Fetch metadata of a row group"
   ]
  },
  {
   "cell_type": "code",
   "execution_count": 7,
   "id": "b2abbe4b-fb95-42f4-b901-a3c6de8046f5",
   "metadata": {},
   "outputs": [
    {
     "data": {
      "text/plain": [
       "<pyarrow._parquet.RowGroupMetaData object at 0x106b04540>\n",
       "  num_columns: 9\n",
       "  num_rows: 19814\n",
       "  total_byte_size: 836536"
      ]
     },
     "execution_count": 7,
     "metadata": {},
     "output_type": "execute_result"
    }
   ],
   "source": [
    "parquet_file.metadata.row_group(0)"
   ]
  },
  {
   "cell_type": "code",
   "execution_count": 8,
   "id": "24c59446-c86f-4fe8-8fe0-dbd6e4006b35",
   "metadata": {},
   "outputs": [
    {
     "data": {
      "text/plain": [
       "<pyarrow._parquet.ColumnChunkMetaData object at 0x16495d6d0>\n",
       "  file_offset: 17870\n",
       "  file_path: \n",
       "  physical_type: BYTE_ARRAY\n",
       "  num_values: 19814\n",
       "  path_in_schema: id1\n",
       "  is_stats_set: True\n",
       "  statistics:\n",
       "    <pyarrow._parquet.Statistics object at 0x16495da90>\n",
       "      has_min_max: True\n",
       "      min: id001\n",
       "      max: id100\n",
       "      null_count: 0\n",
       "      distinct_count: 0\n",
       "      num_values: 19814\n",
       "      physical_type: BYTE_ARRAY\n",
       "      logical_type: String\n",
       "      converted_type (legacy): UTF8\n",
       "  compression: SNAPPY\n",
       "  encodings: ('RLE_DICTIONARY', 'PLAIN', 'RLE')\n",
       "  has_dictionary_page: True\n",
       "  dictionary_page_offset: 4\n",
       "  data_page_offset: 435\n",
       "  total_compressed_size: 17866\n",
       "  total_uncompressed_size: 18346"
      ]
     },
     "execution_count": 8,
     "metadata": {},
     "output_type": "execute_result"
    }
   ],
   "source": [
    "parquet_file.metadata.row_group(0).column(0)"
   ]
  },
  {
   "cell_type": "code",
   "execution_count": 9,
   "id": "17b60033-1936-400b-810d-111a35d93c4f",
   "metadata": {},
   "outputs": [
    {
     "data": {
      "text/plain": [
       "'SNAPPY'"
      ]
     },
     "execution_count": 9,
     "metadata": {},
     "output_type": "execute_result"
    }
   ],
   "source": [
    "parquet_file.metadata.row_group(0).column(0).compression"
   ]
  },
  {
   "cell_type": "code",
   "execution_count": 10,
   "id": "61e7ce9d-8a24-439c-b634-d5f96af81688",
   "metadata": {},
   "outputs": [
    {
     "data": {
      "text/plain": [
       "<pyarrow._parquet.Statistics object at 0x16497c3b0>\n",
       "  has_min_max: True\n",
       "  min: id001\n",
       "  max: id100\n",
       "  null_count: 0\n",
       "  distinct_count: 0\n",
       "  num_values: 19814\n",
       "  physical_type: BYTE_ARRAY\n",
       "  logical_type: String\n",
       "  converted_type (legacy): UTF8"
      ]
     },
     "execution_count": 10,
     "metadata": {},
     "output_type": "execute_result"
    }
   ],
   "source": [
    "parquet_file.metadata.row_group(0).column(0).statistics"
   ]
  },
  {
   "cell_type": "code",
   "execution_count": null,
   "id": "2b9c9f38-3847-4d7a-9f62-db6355c64268",
   "metadata": {},
   "outputs": [],
   "source": []
  }
 ],
 "metadata": {
  "kernelspec": {
   "display_name": "deltalake-0100",
   "language": "python",
   "name": "deltalake-0100"
  },
  "language_info": {
   "codemirror_mode": {
    "name": "ipython",
    "version": 3
   },
   "file_extension": ".py",
   "mimetype": "text/x-python",
   "name": "python",
   "nbconvert_exporter": "python",
   "pygments_lexer": "ipython3",
   "version": "3.9.16"
  }
 },
 "nbformat": 4,
 "nbformat_minor": 5
}
