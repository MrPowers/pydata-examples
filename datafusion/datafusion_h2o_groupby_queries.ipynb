{
 "cells": [
  {
   "cell_type": "markdown",
   "id": "46831a9a-639c-4db8-a7a0-8129f493888d",
   "metadata": {
    "tags": []
   },
   "source": [
    "# Datafusion h2o groupby queries"
   ]
  },
  {
   "cell_type": "code",
   "execution_count": 14,
   "id": "39c04f10-c897-45a4-a663-42f2642b2360",
   "metadata": {
    "tags": []
   },
   "outputs": [],
   "source": [
    "import pathlib\n",
    "\n",
    "from datafusion import SessionContext"
   ]
  },
  {
   "cell_type": "code",
   "execution_count": 15,
   "id": "c7b4b7b9-b9f4-4c2b-8897-90a2062fd87c",
   "metadata": {
    "tags": []
   },
   "outputs": [],
   "source": [
    "# Create a DataFusion context\n",
    "ctx = SessionContext()"
   ]
  },
  {
   "cell_type": "code",
   "execution_count": 16,
   "id": "f6d1589c-7c96-4c72-a27b-e7d4b71b4615",
   "metadata": {
    "tags": []
   },
   "outputs": [],
   "source": [
    "# Register table with context\n",
    "ctx.register_csv('csv_1e7', f\"{pathlib.Path.home()}/data/G1_1e7_1e2_0_0.csv\")"
   ]
  },
  {
   "cell_type": "code",
   "execution_count": 17,
   "id": "ddc1bbca-17bc-4f95-b106-b3ecb9d5a0d0",
   "metadata": {
    "tags": []
   },
   "outputs": [
    {
     "data": {
      "text/plain": [
       "DataFrame()\n",
       "+-------+--------+\n",
       "| id1   | v1     |\n",
       "+-------+--------+\n",
       "| id081 | 300295 |\n",
       "| id001 | 299542 |\n",
       "| id045 | 298932 |\n",
       "| id007 | 299840 |\n",
       "| id063 | 300263 |\n",
       "| id076 | 300168 |\n",
       "| id024 | 299008 |\n",
       "| id022 | 298647 |\n",
       "| id019 | 300576 |\n",
       "| id086 | 301045 |\n",
       "+-------+--------+"
      ]
     },
     "execution_count": 17,
     "metadata": {},
     "output_type": "execute_result"
    }
   ],
   "source": [
    "# Execute SQL\n",
    "ctx.sql(\"SELECT id1, sum(v1) AS v1 from csv_1e7 GROUP BY id1\")"
   ]
  },
  {
   "cell_type": "code",
   "execution_count": 18,
   "id": "720525e1-7004-45c2-9d2b-b91a6ac82d49",
   "metadata": {
    "tags": []
   },
   "outputs": [
    {
     "data": {
      "text/plain": [
       "DataFrame()\n",
       "++\n",
       "++"
      ]
     },
     "execution_count": 18,
     "metadata": {},
     "output_type": "execute_result"
    }
   ],
   "source": [
    "ctx.sql(\"DROP TABLE csv_1e7\")"
   ]
  },
  {
   "cell_type": "markdown",
   "id": "8a3a1153-5abc-41d7-9ef0-43bc1de3dd90",
   "metadata": {
    "tags": []
   },
   "source": [
    "## 1e8 CSV"
   ]
  },
  {
   "cell_type": "code",
   "execution_count": 21,
   "id": "95e6d289-7b07-4c21-a4c2-346adf042210",
   "metadata": {
    "tags": []
   },
   "outputs": [
    {
     "name": "stdout",
     "output_type": "stream",
     "text": [
      "CPU times: user 39.5 ms, sys: 4.65 ms, total: 44.1 ms\n",
      "Wall time: 40.1 ms\n"
     ]
    }
   ],
   "source": [
    "%%time\n",
    "ctx.register_csv('csv_1e8', f\"{pathlib.Path.home()}/data/G1_1e8_1e2_0_0.csv\")"
   ]
  },
  {
   "cell_type": "code",
   "execution_count": 31,
   "id": "ac66648c-23af-4f27-89f2-d22a9e11e163",
   "metadata": {
    "tags": []
   },
   "outputs": [
    {
     "name": "stdout",
     "output_type": "stream",
     "text": [
      "DataFrame()\n",
      "+-------+---------+\n",
      "| id1   | v1      |\n",
      "+-------+---------+\n",
      "| id034 | 2999826 |\n",
      "| id091 | 3002225 |\n",
      "| id084 | 3002511 |\n",
      "| id048 | 2999693 |\n",
      "| id026 | 2995851 |\n",
      "| id052 | 3008005 |\n",
      "| id078 | 2999607 |\n",
      "| id006 | 3003431 |\n",
      "| id066 | 3001928 |\n",
      "| id047 | 2992872 |\n",
      "+-------+---------+\n",
      "CPU times: user 9.22 s, sys: 750 ms, total: 9.97 s\n",
      "Wall time: 9.94 s\n"
     ]
    }
   ],
   "source": [
    "%%time\n",
    "res = ctx.sql(\"SELECT id1, sum(v1) AS v1 from csv_1e8 GROUP BY id1\")\n",
    "print(res)"
   ]
  },
  {
   "cell_type": "code",
   "execution_count": 20,
   "id": "b4e25a1b-367f-4435-8a35-f0e689d7675f",
   "metadata": {
    "tags": []
   },
   "outputs": [
    {
     "data": {
      "text/plain": [
       "DataFrame()\n",
       "++\n",
       "++"
      ]
     },
     "execution_count": 20,
     "metadata": {},
     "output_type": "execute_result"
    }
   ],
   "source": [
    "ctx.sql(\"DROP TABLE csv_1e8\")"
   ]
  },
  {
   "cell_type": "markdown",
   "id": "8c317712-6005-4a44-90ca-63b0eba147f6",
   "metadata": {
    "tags": []
   },
   "source": [
    "## 1e8 Parquet"
   ]
  },
  {
   "cell_type": "code",
   "execution_count": 24,
   "id": "a6d1bdc2-dae5-4cc3-8654-fa4cf7d95659",
   "metadata": {
    "tags": []
   },
   "outputs": [
    {
     "name": "stdout",
     "output_type": "stream",
     "text": [
      "CPU times: user 1.21 ms, sys: 2.83 ms, total: 4.04 ms\n",
      "Wall time: 2.28 ms\n"
     ]
    }
   ],
   "source": [
    "%%time\n",
    "ctx.register_parquet('parquet_1e8', f\"{pathlib.Path.home()}/data/parquet/G1_1e8_1e2_0_0.parquet\")"
   ]
  },
  {
   "cell_type": "code",
   "execution_count": 32,
   "id": "383f5b59-9a80-498e-a7a0-33a726d4297a",
   "metadata": {
    "tags": []
   },
   "outputs": [
    {
     "name": "stdout",
     "output_type": "stream",
     "text": [
      "DataFrame()\n",
      "+-------+---------+\n",
      "| id1   | v1      |\n",
      "+-------+---------+\n",
      "| id053 | 2997205 |\n",
      "| id069 | 3000337 |\n",
      "| id097 | 3004476 |\n",
      "| id015 | 3002869 |\n",
      "| id073 | 2996491 |\n",
      "| id065 | 3003111 |\n",
      "| id087 | 3002390 |\n",
      "| id008 | 2999124 |\n",
      "| id057 | 2991091 |\n",
      "| id018 | 2998792 |\n",
      "+-------+---------+\n",
      "CPU times: user 3.1 s, sys: 51.5 ms, total: 3.15 s\n",
      "Wall time: 2.11 s\n"
     ]
    }
   ],
   "source": [
    "%%time\n",
    "res = ctx.sql(\"SELECT id1, sum(v1) AS v1 from parquet_1e8 GROUP BY id1\")\n",
    "print(res)"
   ]
  },
  {
   "cell_type": "code",
   "execution_count": null,
   "id": "86fad9d1-0d23-4339-8dfb-325ce16e00bb",
   "metadata": {},
   "outputs": [],
   "source": []
  }
 ],
 "metadata": {
  "kernelspec": {
   "display_name": "Python [conda env:pandas-200] *",
   "language": "python",
   "name": "conda-env-pandas-200-py"
  },
  "language_info": {
   "codemirror_mode": {
    "name": "ipython",
    "version": 3
   },
   "file_extension": ".py",
   "mimetype": "text/x-python",
   "name": "python",
   "nbconvert_exporter": "python",
   "pygments_lexer": "ipython3",
   "version": "3.9.16"
  }
 },
 "nbformat": 4,
 "nbformat_minor": 5
}
