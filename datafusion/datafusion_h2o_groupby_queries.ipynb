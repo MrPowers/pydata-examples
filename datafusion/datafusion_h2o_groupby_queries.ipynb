{
 "cells": [
  {
   "cell_type": "markdown",
   "id": "46831a9a-639c-4db8-a7a0-8129f493888d",
   "metadata": {
    "tags": []
   },
   "source": [
    "# Datafusion h2o groupby queries"
   ]
  },
  {
   "cell_type": "code",
   "execution_count": 1,
   "id": "39c04f10-c897-45a4-a663-42f2642b2360",
   "metadata": {
    "tags": []
   },
   "outputs": [],
   "source": [
    "import pathlib\n",
    "\n",
    "from datafusion import SessionContext"
   ]
  },
  {
   "cell_type": "code",
   "execution_count": 2,
   "id": "c7b4b7b9-b9f4-4c2b-8897-90a2062fd87c",
   "metadata": {
    "tags": []
   },
   "outputs": [],
   "source": [
    "# Create a DataFusion context\n",
    "ctx = SessionContext()"
   ]
  },
  {
   "cell_type": "code",
   "execution_count": 42,
   "id": "f6d1589c-7c96-4c72-a27b-e7d4b71b4615",
   "metadata": {
    "tags": []
   },
   "outputs": [],
   "source": [
    "# Register table with context\n",
    "ctx.register_csv(\"csv_1e7\", f\"{pathlib.Path.home()}/data/G1_1e7_1e2_0_0.csv\")"
   ]
  },
  {
   "cell_type": "code",
   "execution_count": 43,
   "id": "28dec6c6-01e7-4a87-928b-68db844c96bb",
   "metadata": {
    "tags": []
   },
   "outputs": [
    {
     "data": {
      "text/plain": [
       "DataFrame()\n",
       "+-------+-------+--------------+-----+-----+-------+----+----+-----------+\n",
       "| id1   | id2   | id3          | id4 | id5 | id6   | v1 | v2 | v3        |\n",
       "+-------+-------+--------------+-----+-----+-------+----+----+-----------+\n",
       "| id016 | id016 | id0000042202 | 15  | 24  | 5971  | 5  | 11 | 37.211254 |\n",
       "| id039 | id045 | id0000029558 | 40  | 49  | 39457 | 5  | 4  | 48.951141 |\n",
       "| id047 | id023 | id0000071286 | 68  | 20  | 74463 | 2  | 14 | 60.469241 |\n",
       "+-------+-------+--------------+-----+-----+-------+----+----+-----------+"
      ]
     },
     "execution_count": 43,
     "metadata": {},
     "output_type": "execute_result"
    }
   ],
   "source": [
    "ctx.sql(\"select * from csv_1e7 limit 3\")"
   ]
  },
  {
   "cell_type": "code",
   "execution_count": null,
   "id": "6de1e33d-1d77-4aa0-b4a2-6bbf1be62127",
   "metadata": {},
   "outputs": [],
   "source": [
    "ctx.sql(\"DROP TABLE csv_1e7\")"
   ]
  },
  {
   "cell_type": "code",
   "execution_count": 17,
   "id": "ddc1bbca-17bc-4f95-b106-b3ecb9d5a0d0",
   "metadata": {
    "tags": []
   },
   "outputs": [
    {
     "data": {
      "text/plain": [
       "DataFrame()\n",
       "+-------+--------+\n",
       "| id1   | v1     |\n",
       "+-------+--------+\n",
       "| id081 | 300295 |\n",
       "| id001 | 299542 |\n",
       "| id045 | 298932 |\n",
       "| id007 | 299840 |\n",
       "| id063 | 300263 |\n",
       "| id076 | 300168 |\n",
       "| id024 | 299008 |\n",
       "| id022 | 298647 |\n",
       "| id019 | 300576 |\n",
       "| id086 | 301045 |\n",
       "+-------+--------+"
      ]
     },
     "execution_count": 17,
     "metadata": {},
     "output_type": "execute_result"
    }
   ],
   "source": [
    "# Execute SQL\n",
    "ctx.sql(\"SELECT id1, sum(v1) AS v1 from csv_1e7 GROUP BY id1\")"
   ]
  },
  {
   "cell_type": "code",
   "execution_count": 18,
   "id": "720525e1-7004-45c2-9d2b-b91a6ac82d49",
   "metadata": {
    "tags": []
   },
   "outputs": [
    {
     "data": {
      "text/plain": [
       "DataFrame()\n",
       "++\n",
       "++"
      ]
     },
     "execution_count": 18,
     "metadata": {},
     "output_type": "execute_result"
    }
   ],
   "source": [
    "ctx.sql(\"DROP TABLE csv_1e7\")"
   ]
  },
  {
   "cell_type": "markdown",
   "id": "8a3a1153-5abc-41d7-9ef0-43bc1de3dd90",
   "metadata": {
    "tags": []
   },
   "source": [
    "## 1e8 CSV"
   ]
  },
  {
   "cell_type": "code",
   "execution_count": 8,
   "id": "95e6d289-7b07-4c21-a4c2-346adf042210",
   "metadata": {
    "tags": []
   },
   "outputs": [
    {
     "name": "stdout",
     "output_type": "stream",
     "text": [
      "None\n",
      "CPU times: user 35.6 ms, sys: 6.28 ms, total: 41.9 ms\n",
      "Wall time: 40.5 ms\n"
     ]
    }
   ],
   "source": [
    "%%time\n",
    "\n",
    "res = ctx.register_csv(\"csv_1e8\", f\"{pathlib.Path.home()}/data/G1_1e8_1e2_0_0.csv\")\n",
    "\n",
    "print(res)"
   ]
  },
  {
   "cell_type": "code",
   "execution_count": 9,
   "id": "ac66648c-23af-4f27-89f2-d22a9e11e163",
   "metadata": {
    "tags": []
   },
   "outputs": [
    {
     "name": "stdout",
     "output_type": "stream",
     "text": [
      "DataFrame()\n",
      "+-------+---------+\n",
      "| id1   | v1      |\n",
      "+-------+---------+\n",
      "| id022 | 3001135 |\n",
      "| id019 | 2997246 |\n",
      "| id045 | 2995056 |\n",
      "| id001 | 2997617 |\n",
      "| id076 | 2998717 |\n",
      "| id081 | 2999941 |\n",
      "| id024 | 2998621 |\n",
      "| id007 | 2998978 |\n",
      "| id063 | 3001829 |\n",
      "| id094 | 2997173 |\n",
      "+-------+---------+\n",
      "CPU times: user 9.16 s, sys: 709 ms, total: 9.87 s\n",
      "Wall time: 9.83 s\n"
     ]
    }
   ],
   "source": [
    "%%time\n",
    "res = ctx.sql(\"SELECT id1, sum(v1) AS v1 from csv_1e8 GROUP BY id1\")\n",
    "print(res)"
   ]
  },
  {
   "cell_type": "code",
   "execution_count": 10,
   "id": "b4e25a1b-367f-4435-8a35-f0e689d7675f",
   "metadata": {
    "tags": []
   },
   "outputs": [
    {
     "data": {
      "text/plain": [
       "DataFrame()\n",
       "++\n",
       "++"
      ]
     },
     "execution_count": 10,
     "metadata": {},
     "output_type": "execute_result"
    }
   ],
   "source": [
    "ctx.sql(\"DROP TABLE csv_1e8\")"
   ]
  },
  {
   "cell_type": "markdown",
   "id": "8c317712-6005-4a44-90ca-63b0eba147f6",
   "metadata": {
    "tags": []
   },
   "source": [
    "## 1e8 Parquet"
   ]
  },
  {
   "cell_type": "code",
   "execution_count": 3,
   "id": "a6d1bdc2-dae5-4cc3-8654-fa4cf7d95659",
   "metadata": {
    "tags": []
   },
   "outputs": [
    {
     "name": "stdout",
     "output_type": "stream",
     "text": [
      "CPU times: user 1.23 ms, sys: 4.19 ms, total: 5.41 ms\n",
      "Wall time: 8.73 ms\n"
     ]
    }
   ],
   "source": [
    "%%time\n",
    "ctx.register_parquet(\n",
    "    \"parquet_1e8\", f\"{pathlib.Path.home()}/data/parquet/G1_1e8_1e2_0_0.parquet\"\n",
    ")"
   ]
  },
  {
   "cell_type": "code",
   "execution_count": 4,
   "id": "383f5b59-9a80-498e-a7a0-33a726d4297a",
   "metadata": {
    "tags": []
   },
   "outputs": [
    {
     "name": "stdout",
     "output_type": "stream",
     "text": [
      "DataFrame()\n",
      "+-------+---------+\n",
      "| id1   | v1      |\n",
      "+-------+---------+\n",
      "| id022 | 3001135 |\n",
      "| id019 | 2997246 |\n",
      "| id001 | 2997617 |\n",
      "| id024 | 2998621 |\n",
      "| id045 | 2995056 |\n",
      "| id007 | 2998978 |\n",
      "| id076 | 2998717 |\n",
      "| id063 | 3001829 |\n",
      "| id081 | 2999941 |\n",
      "| id020 | 3001006 |\n",
      "+-------+---------+\n",
      "CPU times: user 2.95 s, sys: 52.2 ms, total: 3 s\n",
      "Wall time: 2.01 s\n"
     ]
    }
   ],
   "source": [
    "%%time\n",
    "res = ctx.sql(\"SELECT id1, sum(v1) AS v1 from parquet_1e8 GROUP BY id1\")\n",
    "print(res)"
   ]
  },
  {
   "cell_type": "markdown",
   "id": "759e024d-a75a-4447-ae71-2b70727346c0",
   "metadata": {},
   "source": [
    "## 1e9 CSV"
   ]
  },
  {
   "cell_type": "code",
   "execution_count": 3,
   "id": "ef5761d5-671b-4e9b-8bba-4efd2ef14865",
   "metadata": {
    "tags": []
   },
   "outputs": [
    {
     "name": "stdout",
     "output_type": "stream",
     "text": [
      "None\n",
      "CPU times: user 34.7 ms, sys: 7.69 ms, total: 42.4 ms\n",
      "Wall time: 44.7 ms\n"
     ]
    }
   ],
   "source": [
    "%%time\n",
    "\n",
    "res = ctx.register_csv(\"csv_1e9\", f\"{pathlib.Path.home()}/data/G1_1e9_1e2_0_0.csv\")\n",
    "\n",
    "print(res)"
   ]
  },
  {
   "cell_type": "code",
   "execution_count": 4,
   "id": "9dfb4d4a-87d5-4a40-bbdf-d907e2d02e95",
   "metadata": {
    "tags": []
   },
   "outputs": [
    {
     "name": "stdout",
     "output_type": "stream",
     "text": [
      "DataFrame()\n",
      "+-------+----------+\n",
      "| id1   | v1       |\n",
      "+-------+----------+\n",
      "| id094 | 30005130 |\n",
      "| id061 | 30012298 |\n",
      "| id064 | 29985828 |\n",
      "| id074 | 30006309 |\n",
      "| id021 | 29982118 |\n",
      "| id088 | 29999642 |\n",
      "| id031 | 29998489 |\n",
      "| id089 | 29990077 |\n",
      "| id042 | 29989540 |\n",
      "| id002 | 29996534 |\n",
      "+-------+----------+\n",
      "CPU times: user 1min 32s, sys: 7.88 s, total: 1min 40s\n",
      "Wall time: 1min 39s\n"
     ]
    }
   ],
   "source": [
    "%%time\n",
    "res = ctx.sql(\"SELECT id1, sum(v1) AS v1 from csv_1e9 GROUP BY id1\")\n",
    "print(res)"
   ]
  },
  {
   "cell_type": "code",
   "execution_count": 5,
   "id": "15847789-6d65-4f06-a510-62dafe561ebe",
   "metadata": {
    "tags": []
   },
   "outputs": [
    {
     "data": {
      "text/plain": [
       "DataFrame()\n",
       "++\n",
       "++"
      ]
     },
     "execution_count": 5,
     "metadata": {},
     "output_type": "execute_result"
    }
   ],
   "source": [
    "ctx.sql(\"DROP TABLE csv_1e9\")"
   ]
  },
  {
   "cell_type": "code",
   "execution_count": null,
   "id": "c7573b38-7f0d-4e9e-8811-d4275fc768fc",
   "metadata": {},
   "outputs": [],
   "source": []
  }
 ],
 "metadata": {
  "kernelspec": {
   "display_name": "deltalake-0100",
   "language": "python",
   "name": "deltalake-0100"
  },
  "language_info": {
   "codemirror_mode": {
    "name": "ipython",
    "version": 3
   },
   "file_extension": ".py",
   "mimetype": "text/x-python",
   "name": "python",
   "nbconvert_exporter": "python",
   "pygments_lexer": "ipython3",
   "version": "3.9.16"
  }
 },
 "nbformat": 4,
 "nbformat_minor": 5
}
