{
 "cells": [
  {
   "cell_type": "markdown",
   "id": "6201e646-2bf1-41f9-be3e-6cae8141fc29",
   "metadata": {},
   "source": [
    "# DataFusion CSV 1e9 Bakeoff"
   ]
  },
  {
   "cell_type": "code",
   "execution_count": 1,
   "id": "7f511ce3-25d1-426e-9bd0-6934c011e9ae",
   "metadata": {
    "tags": []
   },
   "outputs": [],
   "source": [
    "import gc\n",
    "\n",
    "import pathlib\n",
    "\n",
    "from datafusion import SessionContext\n",
    "\n",
    "import polars as pl"
   ]
  },
  {
   "cell_type": "code",
   "execution_count": 2,
   "id": "abd5ffb2-6e41-4484-b79a-cf1070a8cf0c",
   "metadata": {
    "tags": []
   },
   "outputs": [],
   "source": [
    "# Create a DataFusion context\n",
    "ctx = SessionContext()"
   ]
  },
  {
   "cell_type": "markdown",
   "id": "c7d976fb-1dcd-45c8-bc5e-9fdaf2ebb753",
   "metadata": {},
   "source": [
    "## query 1 - DataFusion"
   ]
  },
  {
   "cell_type": "code",
   "execution_count": 3,
   "id": "226ac70b-0777-4b61-9195-dd7e2946c5fb",
   "metadata": {
    "tags": []
   },
   "outputs": [
    {
     "ename": "Exception",
     "evalue": "DataFusion error: IoError(Os { code: 2, kind: NotFound, message: \"No such file or directory\" })",
     "output_type": "error",
     "traceback": [
      "\u001b[0;31m---------------------------------------------------------------------------\u001b[0m",
      "\u001b[0;31mException\u001b[0m                                 Traceback (most recent call last)",
      "File \u001b[0;32m<timed exec>:1\u001b[0m\n",
      "\u001b[0;31mException\u001b[0m: DataFusion error: IoError(Os { code: 2, kind: NotFound, message: \"No such file or directory\" })"
     ]
    }
   ],
   "source": [
    "%%time\n",
    "\n",
    "res = ctx.register_parquet(\"csv_1e9\", f\"{pathlib.Path.home()}/data/parquet/G1_1e9_1e2_0_0.parquet\")\n",
    "\n",
    "print(res)"
   ]
  },
  {
   "cell_type": "code",
   "execution_count": 5,
   "id": "d4d652fa-1622-49e2-aaa5-d4507c782dc8",
   "metadata": {
    "tags": []
   },
   "outputs": [
    {
     "name": "stdout",
     "output_type": "stream",
     "text": [
      "DataFrame()\n",
      "+-------+----------+\n",
      "| id1   | v1       |\n",
      "+-------+----------+\n",
      "| id094 | 30005130 |\n",
      "| id004 | 30015990 |\n",
      "| id021 | 29982118 |\n",
      "| id031 | 29998489 |\n",
      "| id002 | 29996534 |\n",
      "| id061 | 30012298 |\n",
      "| id042 | 29989540 |\n",
      "| id088 | 29999642 |\n",
      "| id064 | 29985828 |\n",
      "| id023 | 29988818 |\n",
      "+-------+----------+\n",
      "CPU times: user 1min 31s, sys: 9.73 s, total: 1min 41s\n",
      "Wall time: 1min 43s\n"
     ]
    }
   ],
   "source": [
    "%%time\n",
    "res = ctx.sql(\"SELECT id1, sum(v1) AS v1 from csv_1e9 GROUP BY id1\")\n",
    "print(res)"
   ]
  },
  {
   "cell_type": "code",
   "execution_count": 6,
   "id": "74a3dea8-92e5-4bb4-bd1f-89df90637202",
   "metadata": {
    "tags": []
   },
   "outputs": [
    {
     "data": {
      "text/plain": [
       "DataFrame()\n",
       "++\n",
       "++"
      ]
     },
     "execution_count": 6,
     "metadata": {},
     "output_type": "execute_result"
    }
   ],
   "source": [
    "ctx.sql(\"DROP TABLE csv_1e9\")"
   ]
  },
  {
   "cell_type": "code",
   "execution_count": 7,
   "id": "024ff630-0af0-4c5f-af32-c3b4257eb3ba",
   "metadata": {
    "tags": []
   },
   "outputs": [
    {
     "data": {
      "text/plain": [
       "192"
      ]
     },
     "execution_count": 7,
     "metadata": {},
     "output_type": "execute_result"
    }
   ],
   "source": [
    "gc.collect()"
   ]
  },
  {
   "cell_type": "markdown",
   "id": "42ddf71e-45ea-42bd-9b74-437a711261b1",
   "metadata": {},
   "source": [
    "## query 1 - Polars"
   ]
  },
  {
   "cell_type": "code",
   "execution_count": null,
   "id": "e2926b85-aa64-402d-9163-073d2b095083",
   "metadata": {
    "tags": []
   },
   "outputs": [],
   "source": [
    "%%time\n",
    "df_csv_1e9 = pl.read_csv(\"~/data/G1_1e9_1e2_0_0.csv\")\n",
    "df_csv_1e9.groupby(\"id1\").agg(pl.sum(\"v1\"))"
   ]
  },
  {
   "cell_type": "code",
   "execution_count": null,
   "id": "c7fcf7c6-9b1b-4cbd-bf73-883a077cc2b6",
   "metadata": {
    "tags": []
   },
   "outputs": [],
   "source": [
    "del df_csv_1e9"
   ]
  },
  {
   "cell_type": "code",
   "execution_count": null,
   "id": "a18e81c8-efce-4594-bd34-4897e67ff4ac",
   "metadata": {
    "tags": []
   },
   "outputs": [],
   "source": [
    "gc.collect()"
   ]
  },
  {
   "cell_type": "markdown",
   "id": "f1015b05-307c-403d-ace1-60ab320a9b5d",
   "metadata": {},
   "source": [
    "## query 2: DataFusion"
   ]
  },
  {
   "cell_type": "code",
   "execution_count": null,
   "id": "8fb1bb53-d6a8-4ad5-a848-1ce411d82041",
   "metadata": {},
   "outputs": [],
   "source": [
    "%%time\n",
    "\n",
    "res = ctx.register_csv(\"csv_1e9\", f\"{pathlib.Path.home()}/data/G1_1e9_1e2_0_0.csv\")\n",
    "\n",
    "print(res)"
   ]
  },
  {
   "cell_type": "code",
   "execution_count": null,
   "id": "f58abfc9-069b-4abf-b55a-ee07b2a02995",
   "metadata": {},
   "outputs": [],
   "source": [
    "%%time\n",
    "res = ctx.sql(\"SELECT id1, sum(v1) AS v1 from csv_1e9 GROUP BY id1\")\n",
    "print(res)"
   ]
  },
  {
   "cell_type": "code",
   "execution_count": null,
   "id": "469b03ee-0949-40a1-b1f9-9b1f735d81cb",
   "metadata": {},
   "outputs": [],
   "source": [
    "ctx.sql(\"DROP TABLE csv_1e9\")\n",
    "gc.collect()"
   ]
  },
  {
   "cell_type": "markdown",
   "id": "8a504f9b-0e40-4027-b52a-56365c77107e",
   "metadata": {},
   "source": [
    "## query 2: Polars"
   ]
  },
  {
   "cell_type": "code",
   "execution_count": null,
   "id": "381db003-4af6-4772-8056-b5c848b8b233",
   "metadata": {},
   "outputs": [],
   "source": [
    "%%time\n",
    "df_csv_1e9 = pl.read_csv(\"~/data/G1_1e9_1e2_0_0.csv\")\n",
    "df_csv_1e9.groupby(\"id1\").agg(pl.sum(\"v1\"))"
   ]
  },
  {
   "cell_type": "code",
   "execution_count": null,
   "id": "0f8e22db-3f7b-4076-b2c7-5a63d0a18f4c",
   "metadata": {},
   "outputs": [],
   "source": [
    "del df_csv_1e9"
   ]
  },
  {
   "cell_type": "code",
   "execution_count": null,
   "id": "e1fd0d8d-4dec-4189-8cc3-f53e871610c6",
   "metadata": {},
   "outputs": [],
   "source": [
    "gc.collect()"
   ]
  },
  {
   "cell_type": "code",
   "execution_count": null,
   "id": "489f82dc-6e53-48ec-8661-93495916e0b8",
   "metadata": {},
   "outputs": [],
   "source": []
  }
 ],
 "metadata": {
  "kernelspec": {
   "display_name": "Python [conda env:pandas-201]",
   "language": "python",
   "name": "conda-env-pandas-201-py"
  },
  "language_info": {
   "codemirror_mode": {
    "name": "ipython",
    "version": 3
   },
   "file_extension": ".py",
   "mimetype": "text/x-python",
   "name": "python",
   "nbconvert_exporter": "python",
   "pygments_lexer": "ipython3",
   "version": "3.9.16"
  }
 },
 "nbformat": 4,
 "nbformat_minor": 5
}
