{
 "cells": [
  {
   "cell_type": "markdown",
   "id": "6d66bf1e-e232-40bb-8589-17ce620082d1",
   "metadata": {},
   "source": [
    "# DataFusion Query DataFrame"
   ]
  },
  {
   "cell_type": "code",
   "execution_count": 9,
   "id": "199f228e-3e38-4b4c-b28c-48eda76ad753",
   "metadata": {
    "tags": []
   },
   "outputs": [],
   "source": [
    "from datafusion import SessionContext, col, lit"
   ]
  },
  {
   "cell_type": "code",
   "execution_count": 3,
   "id": "6e93bfdf-d44d-489b-aef4-8e02bb530672",
   "metadata": {
    "tags": []
   },
   "outputs": [],
   "source": [
    "ctx = SessionContext()"
   ]
  },
  {
   "cell_type": "code",
   "execution_count": 4,
   "id": "bb7870ee-1ef6-4752-8a23-0d9829391451",
   "metadata": {
    "tags": []
   },
   "outputs": [],
   "source": [
    "df = ctx.from_pydict(\n",
    "    {\n",
    "        \"first_name\": [\"li\", \"wang\", \"ron\", \"amanda\"],\n",
    "        \"age\": [25, 75, 68, 18],\n",
    "        \"country\": [\"china\", \"china\", \"us\", \"us\"],\n",
    "    },\n",
    "    name=\"some_people\",\n",
    ")"
   ]
  },
  {
   "cell_type": "code",
   "execution_count": 5,
   "id": "6a083fba-9c6f-43ae-b984-079f91cf1ed8",
   "metadata": {
    "tags": []
   },
   "outputs": [
    {
     "data": {
      "text/plain": [
       "DataFrame()\n",
       "+------------+-----+---------+\n",
       "| first_name | age | country |\n",
       "+------------+-----+---------+\n",
       "| li         | 25  | china   |\n",
       "| wang       | 75  | china   |\n",
       "| ron        | 68  | us      |\n",
       "| amanda     | 18  | us      |\n",
       "+------------+-----+---------+"
      ]
     },
     "execution_count": 5,
     "metadata": {},
     "output_type": "execute_result"
    }
   ],
   "source": [
    "df"
   ]
  },
  {
   "cell_type": "markdown",
   "id": "62749080-c554-4fc2-bdcb-f846aafeedac",
   "metadata": {},
   "source": [
    "## Filter DataFrame"
   ]
  },
  {
   "cell_type": "code",
   "execution_count": 6,
   "id": "66e59110-f86a-4e07-b116-342759ae3514",
   "metadata": {
    "tags": []
   },
   "outputs": [
    {
     "data": {
      "text/plain": [
       "DataFrame()\n",
       "+------------+-----+---------+\n",
       "| first_name | age | country |\n",
       "+------------+-----+---------+\n",
       "| wang       | 75  | china   |\n",
       "| ron        | 68  | us      |\n",
       "+------------+-----+---------+"
      ]
     },
     "execution_count": 6,
     "metadata": {},
     "output_type": "execute_result"
    }
   ],
   "source": [
    "ctx.sql(\"select * from some_people where age > 65\")"
   ]
  },
  {
   "cell_type": "code",
   "execution_count": 11,
   "id": "d9c16b07-9980-482e-80a0-05494aadbb8c",
   "metadata": {
    "tags": []
   },
   "outputs": [
    {
     "data": {
      "text/plain": [
       "DataFrame()\n",
       "+------------+-----+---------+\n",
       "| first_name | age | country |\n",
       "+------------+-----+---------+\n",
       "| wang       | 75  | china   |\n",
       "| ron        | 68  | us      |\n",
       "+------------+-----+---------+"
      ]
     },
     "execution_count": 11,
     "metadata": {},
     "output_type": "execute_result"
    }
   ],
   "source": [
    "df.filter(col(\"age\") > lit(65))"
   ]
  },
  {
   "cell_type": "markdown",
   "id": "c71419a6-2cce-4c62-918a-456b2bbfb53a",
   "metadata": {},
   "source": [
    "## Select columns from DataFrame"
   ]
  },
  {
   "cell_type": "code",
   "execution_count": 13,
   "id": "210659d2-507c-40f1-835f-d7750c1359ee",
   "metadata": {
    "tags": []
   },
   "outputs": [
    {
     "data": {
      "text/plain": [
       "DataFrame()\n",
       "+------------+---------+\n",
       "| first_name | country |\n",
       "+------------+---------+\n",
       "| li         | china   |\n",
       "| wang       | china   |\n",
       "| ron        | us      |\n",
       "| amanda     | us      |\n",
       "+------------+---------+"
      ]
     },
     "execution_count": 13,
     "metadata": {},
     "output_type": "execute_result"
    }
   ],
   "source": [
    "ctx.sql(\"select first_name, country from some_people\")"
   ]
  },
  {
   "cell_type": "code",
   "execution_count": 14,
   "id": "48e88d58-5114-4a9a-beea-0eba7f23eb9d",
   "metadata": {
    "tags": []
   },
   "outputs": [
    {
     "data": {
      "text/plain": [
       "DataFrame()\n",
       "+------------+---------+\n",
       "| first_name | country |\n",
       "+------------+---------+\n",
       "| li         | china   |\n",
       "| wang       | china   |\n",
       "| ron        | us      |\n",
       "| amanda     | us      |\n",
       "+------------+---------+"
      ]
     },
     "execution_count": 14,
     "metadata": {},
     "output_type": "execute_result"
    }
   ],
   "source": [
    "df.select(col(\"first_name\"), col(\"country\"))"
   ]
  },
  {
   "cell_type": "markdown",
   "id": "9f6b4cd1-223b-4640-b0f0-941787f808da",
   "metadata": {
    "tags": []
   },
   "source": [
    "## Aggregation query"
   ]
  },
  {
   "cell_type": "code",
   "execution_count": 18,
   "id": "2d92a995-1779-4b9f-8e1c-c69e146bc755",
   "metadata": {
    "tags": []
   },
   "outputs": [
    {
     "data": {
      "text/plain": [
       "DataFrame()\n",
       "+---------+------------+\n",
       "| country | num_people |\n",
       "+---------+------------+\n",
       "| china   | 2          |\n",
       "| us      | 2          |\n",
       "+---------+------------+"
      ]
     },
     "execution_count": 18,
     "metadata": {},
     "output_type": "execute_result"
    }
   ],
   "source": [
    "ctx.sql(\"select country, count(*) as num_people from some_people group by country\")"
   ]
  },
  {
   "cell_type": "code",
   "execution_count": null,
   "id": "e8408fb7-bf89-4354-a4c9-1ff3f87ca94b",
   "metadata": {},
   "outputs": [],
   "source": []
  },
  {
   "cell_type": "code",
   "execution_count": null,
   "id": "20e74179-4aec-4beb-a592-cc65b13d57e4",
   "metadata": {},
   "outputs": [],
   "source": []
  }
 ],
 "metadata": {
  "kernelspec": {
   "display_name": "deltalake-0100",
   "language": "python",
   "name": "deltalake-0100"
  },
  "language_info": {
   "codemirror_mode": {
    "name": "ipython",
    "version": 3
   },
   "file_extension": ".py",
   "mimetype": "text/x-python",
   "name": "python",
   "nbconvert_exporter": "python",
   "pygments_lexer": "ipython3",
   "version": "3.9.16"
  }
 },
 "nbformat": 4,
 "nbformat_minor": 5
}
