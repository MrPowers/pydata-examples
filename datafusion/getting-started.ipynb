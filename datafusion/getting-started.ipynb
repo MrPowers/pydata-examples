{
 "cells": [
  {
   "cell_type": "code",
   "execution_count": 1,
   "id": "38030cc6-4b4c-47dd-b1ff-d87db5a53fc4",
   "metadata": {
    "tags": []
   },
   "outputs": [],
   "source": [
    "from datafusion import SessionContext"
   ]
  },
  {
   "cell_type": "code",
   "execution_count": 2,
   "id": "7141e1a5-1070-4e45-8521-214f3ec5d14b",
   "metadata": {
    "tags": []
   },
   "outputs": [],
   "source": [
    "ctx = SessionContext()"
   ]
  },
  {
   "cell_type": "markdown",
   "id": "b54acb79-0f52-4274-9f69-20025dbb78a3",
   "metadata": {},
   "source": [
    "## Create a DataFrame"
   ]
  },
  {
   "cell_type": "code",
   "execution_count": 3,
   "id": "f943c1bf-4631-4278-ae7f-1dc53772b196",
   "metadata": {
    "tags": []
   },
   "outputs": [],
   "source": [
    "df = ctx.from_pydict({\"a\": [1, 2, 3, 1], \"b\": [4, 5, 6, 7]}, name=\"my_table\")"
   ]
  },
  {
   "cell_type": "code",
   "execution_count": 4,
   "id": "50df0257-dad4-4514-a219-ec364fb0a8a8",
   "metadata": {
    "tags": []
   },
   "outputs": [
    {
     "data": {
      "text/html": [
       "<table border='1'>\n",
       "<tr><th>a</td><th>b</td></tr>\n",
       "<tr><td>1</td><td>4</td></tr>\n",
       "<tr><td>2</td><td>5</td></tr>\n",
       "<tr><td>3</td><td>6</td></tr>\n",
       "<tr><td>1</td><td>7</td></tr>\n",
       "</table>\n"
      ],
      "text/plain": [
       "DataFrame()\n",
       "+---+---+\n",
       "| a | b |\n",
       "+---+---+\n",
       "| 1 | 4 |\n",
       "| 2 | 5 |\n",
       "| 3 | 6 |\n",
       "| 1 | 7 |\n",
       "+---+---+"
      ]
     },
     "execution_count": 4,
     "metadata": {},
     "output_type": "execute_result"
    }
   ],
   "source": [
    "ctx.sql(\"select * from my_table\")"
   ]
  },
  {
   "cell_type": "code",
   "execution_count": 5,
   "id": "8ed22976-9592-45f4-85bf-65e458465757",
   "metadata": {
    "tags": []
   },
   "outputs": [
    {
     "data": {
      "text/html": [
       "<table border='1'>\n",
       "<tr><th>a</td><th>b</td></tr>\n",
       "<tr><td>1</td><td>4</td></tr>\n",
       "<tr><td>2</td><td>5</td></tr>\n",
       "</table>\n"
      ],
      "text/plain": [
       "DataFrame()\n",
       "+---+---+\n",
       "| a | b |\n",
       "+---+---+\n",
       "| 1 | 4 |\n",
       "| 2 | 5 |\n",
       "+---+---+"
      ]
     },
     "execution_count": 5,
     "metadata": {},
     "output_type": "execute_result"
    }
   ],
   "source": [
    "df.limit(2)"
   ]
  },
  {
   "cell_type": "markdown",
   "id": "8e34735f-3458-48d8-aada-86f149af6fa9",
   "metadata": {},
   "source": [
    "## Query the DataFrame with SQL"
   ]
  },
  {
   "cell_type": "code",
   "execution_count": 6,
   "id": "7171e67b-46cf-4c08-9bc6-94a16c2b4cff",
   "metadata": {
    "tags": []
   },
   "outputs": [
    {
     "data": {
      "text/html": [
       "<table border='1'>\n",
       "<tr><th>a</td><th>b</td><th>sum_a_b</td></tr>\n",
       "<tr><td>1</td><td>4</td><td>5</td></tr>\n",
       "<tr><td>2</td><td>5</td><td>7</td></tr>\n",
       "<tr><td>3</td><td>6</td><td>9</td></tr>\n",
       "<tr><td>1</td><td>7</td><td>8</td></tr>\n",
       "</table>\n"
      ],
      "text/plain": [
       "DataFrame()\n",
       "+---+---+---------+\n",
       "| a | b | sum_a_b |\n",
       "+---+---+---------+\n",
       "| 1 | 4 | 5       |\n",
       "| 2 | 5 | 7       |\n",
       "| 3 | 6 | 9       |\n",
       "| 1 | 7 | 8       |\n",
       "+---+---+---------+"
      ]
     },
     "execution_count": 6,
     "metadata": {},
     "output_type": "execute_result"
    }
   ],
   "source": [
    "ctx.sql(\"select a, b, a + b as sum_a_b from my_table\")"
   ]
  },
  {
   "cell_type": "markdown",
   "id": "c8a3d583-5636-42ef-b5a5-b654e51e5f59",
   "metadata": {},
   "source": [
    "## Query the DataFrame with Python"
   ]
  },
  {
   "cell_type": "code",
   "execution_count": 7,
   "id": "0eae30ee-81d6-4239-8f5d-0cdbe5da2298",
   "metadata": {
    "tags": []
   },
   "outputs": [],
   "source": [
    "from datafusion import col"
   ]
  },
  {
   "cell_type": "code",
   "execution_count": 9,
   "id": "3690c8cc-d232-4286-84d3-cccef99aa92b",
   "metadata": {
    "tags": []
   },
   "outputs": [
    {
     "data": {
      "text/html": [
       "<table border='1'>\n",
       "<tr><th>a</td><th>b</td><th>sum_a_b</td></tr>\n",
       "<tr><td>1</td><td>4</td><td>5</td></tr>\n",
       "<tr><td>2</td><td>5</td><td>7</td></tr>\n",
       "<tr><td>3</td><td>6</td><td>9</td></tr>\n",
       "<tr><td>1</td><td>7</td><td>8</td></tr>\n",
       "</table>\n"
      ],
      "text/plain": [
       "DataFrame()\n",
       "+---+---+---------+\n",
       "| a | b | sum_a_b |\n",
       "+---+---+---------+\n",
       "| 1 | 4 | 5       |\n",
       "| 2 | 5 | 7       |\n",
       "| 3 | 6 | 9       |\n",
       "| 1 | 7 | 8       |\n",
       "+---+---+---------+"
      ]
     },
     "execution_count": 9,
     "metadata": {},
     "output_type": "execute_result"
    }
   ],
   "source": [
    "df.select(\n",
    "    col(\"a\"),\n",
    "    col(\"b\"),\n",
    "    (col(\"a\") + col(\"b\")).alias(\"sum_a_b\"),\n",
    ")"
   ]
  },
  {
   "cell_type": "code",
   "execution_count": null,
   "id": "50c1f2aa-0330-4624-92d0-2d57e7112010",
   "metadata": {},
   "outputs": [],
   "source": []
  },
  {
   "cell_type": "code",
   "execution_count": null,
   "id": "288fd31d-6a52-4608-bb23-33b2726bc2ea",
   "metadata": {},
   "outputs": [],
   "source": []
  },
  {
   "cell_type": "markdown",
   "id": "55f8b7bb-3d3f-4478-8a60-6f0eb843c202",
   "metadata": {},
   "source": [
    "## Cleanup"
   ]
  },
  {
   "cell_type": "code",
   "execution_count": 26,
   "id": "91f3300f-4962-4ca8-b226-e83218e01028",
   "metadata": {
    "tags": []
   },
   "outputs": [
    {
     "data": {
      "text/plain": [
       "DataFrame()\n",
       "++\n",
       "++"
      ]
     },
     "execution_count": 26,
     "metadata": {},
     "output_type": "execute_result"
    }
   ],
   "source": [
    "ctx.sql(\"drop table my_table\")"
   ]
  },
  {
   "cell_type": "code",
   "execution_count": 10,
   "id": "71ecc0d7-f883-4eb6-9b3d-f3b86da6c340",
   "metadata": {},
   "outputs": [],
   "source": [
    "import datafusion\n",
    "from datafusion import col\n",
    "import pyarrow\n",
    "\n",
    "# create a context\n",
    "ctx = datafusion.SessionContext()\n",
    "\n",
    "# create a RecordBatch and a new DataFrame from it\n",
    "batch = pyarrow.RecordBatch.from_arrays(\n",
    "    [pyarrow.array([1, 2, 3]), pyarrow.array([4, 5, 6])],\n",
    "    names=[\"a\", \"b\"],\n",
    ")\n",
    "df = ctx.create_dataframe([[batch]])\n",
    "\n",
    "# create a new statement\n",
    "df = df.select(\n",
    "    col(\"a\") + col(\"b\"),\n",
    "    col(\"a\") - col(\"b\"),\n",
    ")\n",
    "\n",
    "# execute and collect the first (and only) batch\n",
    "result = df.collect()[0]"
   ]
  },
  {
   "cell_type": "code",
   "execution_count": 11,
   "id": "ab79803e-c7ff-487e-bb65-cbc7e45c54eb",
   "metadata": {},
   "outputs": [
    {
     "data": {
      "text/plain": [
       "pyarrow.RecordBatch\n",
       "c6bd0a833d6fe4973b5094552d716b481.a + c6bd0a833d6fe4973b5094552d716b481.b: int64\n",
       "c6bd0a833d6fe4973b5094552d716b481.a - c6bd0a833d6fe4973b5094552d716b481.b: int64\n",
       "----\n",
       "c6bd0a833d6fe4973b5094552d716b481.a + c6bd0a833d6fe4973b5094552d716b481.b: [5,7,9]\n",
       "c6bd0a833d6fe4973b5094552d716b481.a - c6bd0a833d6fe4973b5094552d716b481.b: [-3,-3,-3]"
      ]
     },
     "execution_count": 11,
     "metadata": {},
     "output_type": "execute_result"
    }
   ],
   "source": [
    "result"
   ]
  },
  {
   "cell_type": "markdown",
   "id": "dfa2ef02-d58d-41c3-b03d-9de0a13ab8dc",
   "metadata": {},
   "source": [
    "## Basic operations"
   ]
  },
  {
   "cell_type": "code",
   "execution_count": 12,
   "id": "14d1fa43-cd54-4d35-abc0-11d12b449d2a",
   "metadata": {},
   "outputs": [],
   "source": [
    "from datafusion import SessionContext\n",
    "\n",
    "import random\n",
    "\n",
    "ctx = SessionContext()\n",
    "\n",
    "df = ctx.from_pydict({\n",
    "    \"nrs\": [1, 2, 3, 4, 5],\n",
    "    \"names\": [\"python\", \"ruby\", \"java\", \"haskell\", \"go\"],\n",
    "    \"random\": random.sample(range(1000), 5),\n",
    "    \"groups\": [\"A\", \"A\", \"B\", \"C\", \"B\"],\n",
    "})"
   ]
  },
  {
   "cell_type": "code",
   "execution_count": 13,
   "id": "7a2585d6-bbd4-4b58-93a1-376fc4bab784",
   "metadata": {},
   "outputs": [
    {
     "data": {
      "text/html": [
       "<table border='1'>\n",
       "<tr><th>nrs</td><th>names</td><th>random</td><th>groups</td></tr>\n",
       "<tr><td>1</td><td>python</td><td>442</td><td>A</td></tr>\n",
       "<tr><td>2</td><td>ruby</td><td>348</td><td>A</td></tr>\n",
       "<tr><td>3</td><td>java</td><td>622</td><td>B</td></tr>\n",
       "<tr><td>4</td><td>haskell</td><td>0</td><td>C</td></tr>\n",
       "<tr><td>5</td><td>go</td><td>123</td><td>B</td></tr>\n",
       "</table>\n"
      ],
      "text/plain": [
       "DataFrame()\n",
       "+-----+---------+--------+--------+\n",
       "| nrs | names   | random | groups |\n",
       "+-----+---------+--------+--------+\n",
       "| 1   | python  | 442    | A      |\n",
       "| 2   | ruby    | 348    | A      |\n",
       "| 3   | java    | 622    | B      |\n",
       "| 4   | haskell | 0      | C      |\n",
       "| 5   | go      | 123    | B      |\n",
       "+-----+---------+--------+--------+"
      ]
     },
     "execution_count": 13,
     "metadata": {},
     "output_type": "execute_result"
    }
   ],
   "source": [
    "df"
   ]
  },
  {
   "cell_type": "code",
   "execution_count": 14,
   "id": "d3e1a040-8b24-4143-9541-9e72299e5974",
   "metadata": {},
   "outputs": [
    {
     "data": {
      "text/html": [
       "<table border='1'>\n",
       "<tr><th>nrs</td><th>names</td><th>random</td><th>groups</td></tr>\n",
       "<tr><td>1</td><td>python</td><td>442</td><td>A</td></tr>\n",
       "<tr><td>2</td><td>ruby</td><td>348</td><td>A</td></tr>\n",
       "</table>\n"
      ],
      "text/plain": [
       "DataFrame()\n",
       "+-----+--------+--------+--------+\n",
       "| nrs | names  | random | groups |\n",
       "+-----+--------+--------+--------+\n",
       "| 1   | python | 442    | A      |\n",
       "| 2   | ruby   | 348    | A      |\n",
       "+-----+--------+--------+--------+"
      ]
     },
     "execution_count": 14,
     "metadata": {},
     "output_type": "execute_result"
    }
   ],
   "source": [
    "df.limit(2)"
   ]
  },
  {
   "cell_type": "code",
   "execution_count": 15,
   "id": "77624b65-f326-47dd-b66d-4c8b0a31b8bc",
   "metadata": {},
   "outputs": [
    {
     "data": {
      "text/plain": [
       "nrs: int64\n",
       "names: string\n",
       "random: int64\n",
       "groups: string"
      ]
     },
     "execution_count": 15,
     "metadata": {},
     "output_type": "execute_result"
    }
   ],
   "source": [
    "df.schema()"
   ]
  },
  {
   "cell_type": "code",
   "execution_count": 16,
   "id": "a5e90081-9bdd-4f60-8db1-a87d6b6ba956",
   "metadata": {},
   "outputs": [
    {
     "data": {
      "text/html": [
       "<div>\n",
       "<style scoped>\n",
       "    .dataframe tbody tr th:only-of-type {\n",
       "        vertical-align: middle;\n",
       "    }\n",
       "\n",
       "    .dataframe tbody tr th {\n",
       "        vertical-align: top;\n",
       "    }\n",
       "\n",
       "    .dataframe thead th {\n",
       "        text-align: right;\n",
       "    }\n",
       "</style>\n",
       "<table border=\"1\" class=\"dataframe\">\n",
       "  <thead>\n",
       "    <tr style=\"text-align: right;\">\n",
       "      <th></th>\n",
       "      <th>nrs</th>\n",
       "      <th>names</th>\n",
       "      <th>random</th>\n",
       "      <th>groups</th>\n",
       "    </tr>\n",
       "  </thead>\n",
       "  <tbody>\n",
       "    <tr>\n",
       "      <th>0</th>\n",
       "      <td>1</td>\n",
       "      <td>python</td>\n",
       "      <td>442</td>\n",
       "      <td>A</td>\n",
       "    </tr>\n",
       "    <tr>\n",
       "      <th>1</th>\n",
       "      <td>2</td>\n",
       "      <td>ruby</td>\n",
       "      <td>348</td>\n",
       "      <td>A</td>\n",
       "    </tr>\n",
       "    <tr>\n",
       "      <th>2</th>\n",
       "      <td>3</td>\n",
       "      <td>java</td>\n",
       "      <td>622</td>\n",
       "      <td>B</td>\n",
       "    </tr>\n",
       "    <tr>\n",
       "      <th>3</th>\n",
       "      <td>4</td>\n",
       "      <td>haskell</td>\n",
       "      <td>0</td>\n",
       "      <td>C</td>\n",
       "    </tr>\n",
       "    <tr>\n",
       "      <th>4</th>\n",
       "      <td>5</td>\n",
       "      <td>go</td>\n",
       "      <td>123</td>\n",
       "      <td>B</td>\n",
       "    </tr>\n",
       "  </tbody>\n",
       "</table>\n",
       "</div>"
      ],
      "text/plain": [
       "   nrs    names  random groups\n",
       "0    1   python     442      A\n",
       "1    2     ruby     348      A\n",
       "2    3     java     622      B\n",
       "3    4  haskell       0      C\n",
       "4    5       go     123      B"
      ]
     },
     "execution_count": 16,
     "metadata": {},
     "output_type": "execute_result"
    }
   ],
   "source": [
    "df.to_pandas()"
   ]
  },
  {
   "cell_type": "code",
   "execution_count": 17,
   "id": "7c5f6cec-4b56-46e6-9ba4-334d601ff649",
   "metadata": {},
   "outputs": [
    {
     "data": {
      "text/html": [
       "<table border='1'>\n",
       "<tr><th>describe</td><th>nrs</td><th>names</td><th>random</td><th>groups</td></tr>\n",
       "<tr><td>count</td><td>5.0</td><td>5</td><td>5.0</td><td>5</td></tr>\n",
       "<tr><td>null_count</td><td>0.0</td><td>0</td><td>0.0</td><td>0</td></tr>\n",
       "<tr><td>mean</td><td>3.0</td><td>null</td><td>307.0</td><td>null</td></tr>\n",
       "<tr><td>std</td><td>1.5811388300841898</td><td>null</td><td>248.61415888882917</td><td>null</td></tr>\n",
       "<tr><td>min</td><td>1.0</td><td>go</td><td>0.0</td><td>A</td></tr>\n",
       "<tr><td>max</td><td>5.0</td><td>ruby</td><td>622.0</td><td>C</td></tr>\n",
       "<tr><td>median</td><td>3.0</td><td>null</td><td>348.0</td><td>null</td></tr>\n",
       "</table>\n"
      ],
      "text/plain": [
       "DataFrame()\n",
       "+------------+--------------------+-------+--------------------+--------+\n",
       "| describe   | nrs                | names | random             | groups |\n",
       "+------------+--------------------+-------+--------------------+--------+\n",
       "| count      | 5.0                | 5     | 5.0                | 5      |\n",
       "| null_count | 0.0                | 0     | 0.0                | 0      |\n",
       "| mean       | 3.0                | null  | 307.0              | null   |\n",
       "| std        | 1.5811388300841898 | null  | 248.61415888882917 | null   |\n",
       "| min        | 1.0                | go    | 0.0                | A      |\n",
       "| max        | 5.0                | ruby  | 622.0              | C      |\n",
       "| median     | 3.0                | null  | 348.0              | null   |\n",
       "+------------+--------------------+-------+--------------------+--------+"
      ]
     },
     "execution_count": 17,
     "metadata": {},
     "output_type": "execute_result"
    }
   ],
   "source": [
    "df.describe()"
   ]
  },
  {
   "cell_type": "markdown",
   "id": "6b487240-05fd-4927-ac2e-7a699a598ce5",
   "metadata": {},
   "source": [
    "## Column selections"
   ]
  },
  {
   "cell_type": "code",
   "execution_count": 18,
   "id": "448bb69b-27b2-494b-9894-40263b873834",
   "metadata": {},
   "outputs": [],
   "source": [
    "import urllib.request\n",
    "\n",
    "from datafusion import SessionContext\n",
    "\n",
    "urllib.request.urlretrieve(\n",
    "    \"https://d37ci6vzurychx.cloudfront.net/trip-data/yellow_tripdata_2021-01.parquet\",\n",
    "    \"yellow_trip_data.parquet\"\n",
    ")\n",
    "\n",
    "ctx = SessionContext()\n",
    "\n",
    "df = ctx.read_parquet(\"yellow_trip_data.parquet\")"
   ]
  },
  {
   "cell_type": "code",
   "execution_count": 19,
   "id": "5b14ce8e-1591-4f75-b066-a1d5fd6aa1aa",
   "metadata": {},
   "outputs": [
    {
     "data": {
      "text/html": [
       "<table border='1'>\n",
       "<tr><th>trip_distance</td><th>passenger_count</td></tr>\n",
       "<tr><td>2.1</td><td>1.0</td></tr>\n",
       "<tr><td>0.2</td><td>1.0</td></tr>\n",
       "<tr><td>14.7</td><td>1.0</td></tr>\n",
       "<tr><td>10.6</td><td>0.0</td></tr>\n",
       "<tr><td>4.94</td><td>1.0</td></tr>\n",
       "<tr><td>1.6</td><td>1.0</td></tr>\n",
       "<tr><td>4.1</td><td>1.0</td></tr>\n",
       "<tr><td>5.7</td><td>1.0</td></tr>\n",
       "<tr><td>9.1</td><td>1.0</td></tr>\n",
       "<tr><td>2.7</td><td>2.0</td></tr>\n",
       "</table>\n"
      ],
      "text/plain": [
       "DataFrame()\n",
       "+---------------+-----------------+\n",
       "| trip_distance | passenger_count |\n",
       "+---------------+-----------------+\n",
       "| 2.1           | 1.0             |\n",
       "| 0.2           | 1.0             |\n",
       "| 14.7          | 1.0             |\n",
       "| 10.6          | 0.0             |\n",
       "| 4.94          | 1.0             |\n",
       "| 1.6           | 1.0             |\n",
       "| 4.1           | 1.0             |\n",
       "| 5.7           | 1.0             |\n",
       "| 9.1           | 1.0             |\n",
       "| 2.7           | 2.0             |\n",
       "+---------------+-----------------+"
      ]
     },
     "execution_count": 19,
     "metadata": {},
     "output_type": "execute_result"
    }
   ],
   "source": [
    "df.select_columns(\"trip_distance\", \"passenger_count\")"
   ]
  },
  {
   "cell_type": "code",
   "execution_count": 20,
   "id": "f35efa2b-0bbe-401c-b707-9359f8ac0009",
   "metadata": {},
   "outputs": [],
   "source": [
    "from datafusion import col, lit"
   ]
  },
  {
   "cell_type": "code",
   "execution_count": 21,
   "id": "8a929fae-d400-48f7-9979-7aaea4f7b037",
   "metadata": {},
   "outputs": [
    {
     "data": {
      "text/html": [
       "<table border='1'>\n",
       "<tr><th>tips_plus_tolls</td></tr>\n",
       "<tr><td>0.0</td></tr>\n",
       "<tr><td>0.0</td></tr>\n",
       "<tr><td>8.65</td></tr>\n",
       "<tr><td>6.05</td></tr>\n",
       "<tr><td>4.06</td></tr>\n",
       "<tr><td>2.35</td></tr>\n",
       "<tr><td>0.0</td></tr>\n",
       "<tr><td>0.0</td></tr>\n",
       "<tr><td>0.0</td></tr>\n",
       "<tr><td>3.15</td></tr>\n",
       "</table>\n"
      ],
      "text/plain": [
       "DataFrame()\n",
       "+-----------------+\n",
       "| tips_plus_tolls |\n",
       "+-----------------+\n",
       "| 0.0             |\n",
       "| 0.0             |\n",
       "| 8.65            |\n",
       "| 6.05            |\n",
       "| 4.06            |\n",
       "| 2.35            |\n",
       "| 0.0             |\n",
       "| 0.0             |\n",
       "| 0.0             |\n",
       "| 3.15            |\n",
       "+-----------------+"
      ]
     },
     "execution_count": 21,
     "metadata": {},
     "output_type": "execute_result"
    }
   ],
   "source": [
    "df.select((col(\"tip_amount\") + col(\"tolls_amount\")).alias(\"tips_plus_tolls\"))"
   ]
  },
  {
   "cell_type": "code",
   "execution_count": 22,
   "id": "e0260583-a668-4542-a7d4-ca602cd80a17",
   "metadata": {},
   "outputs": [
    {
     "data": {
      "text/html": [
       "<table border='1'>\n",
       "<tr><th>VendorID</td></tr>\n",
       "<tr><td>1</td></tr>\n",
       "<tr><td>1</td></tr>\n",
       "<tr><td>1</td></tr>\n",
       "<tr><td>1</td></tr>\n",
       "<tr><td>2</td></tr>\n",
       "<tr><td>1</td></tr>\n",
       "<tr><td>1</td></tr>\n",
       "<tr><td>1</td></tr>\n",
       "<tr><td>1</td></tr>\n",
       "<tr><td>1</td></tr>\n",
       "</table>\n"
      ],
      "text/plain": [
       "DataFrame()\n",
       "+----------+\n",
       "| VendorID |\n",
       "+----------+\n",
       "| 1        |\n",
       "| 1        |\n",
       "| 1        |\n",
       "| 1        |\n",
       "| 2        |\n",
       "| 1        |\n",
       "| 1        |\n",
       "| 1        |\n",
       "| 1        |\n",
       "| 1        |\n",
       "+----------+"
      ]
     },
     "execution_count": 22,
     "metadata": {},
     "output_type": "execute_result"
    }
   ],
   "source": [
    "df.select(col('\"VendorID\"'))"
   ]
  },
  {
   "cell_type": "code",
   "execution_count": 23,
   "id": "97f67d26-887e-46ec-89d7-e3f76c08ace3",
   "metadata": {},
   "outputs": [],
   "source": [
    "large_trip_distance = col(\"trip_distance\") > lit(5.0)"
   ]
  },
  {
   "cell_type": "code",
   "execution_count": 24,
   "id": "5f1c5a84-5618-4234-b6af-0104b74eea08",
   "metadata": {},
   "outputs": [],
   "source": [
    "low_passenger_count = col(\"passenger_count\") < lit(4)"
   ]
  },
  {
   "cell_type": "code",
   "execution_count": 25,
   "id": "fb021062-fd98-4831-8ee3-6502428ff779",
   "metadata": {},
   "outputs": [
    {
     "data": {
      "text/html": [
       "<table border='1'>\n",
       "<tr><th>lonely_trips</td></tr>\n",
       "<tr><td>false</td></tr>\n",
       "<tr><td>false</td></tr>\n",
       "<tr><td>true</td></tr>\n",
       "<tr><td>true</td></tr>\n",
       "<tr><td>false</td></tr>\n",
       "<tr><td>false</td></tr>\n",
       "<tr><td>false</td></tr>\n",
       "<tr><td>true</td></tr>\n",
       "<tr><td>true</td></tr>\n",
       "<tr><td>false</td></tr>\n",
       "</table>\n"
      ],
      "text/plain": [
       "DataFrame()\n",
       "+--------------+\n",
       "| lonely_trips |\n",
       "+--------------+\n",
       "| false        |\n",
       "| false        |\n",
       "| true         |\n",
       "| true         |\n",
       "| false        |\n",
       "| false        |\n",
       "| false        |\n",
       "| true         |\n",
       "| true         |\n",
       "| false        |\n",
       "+--------------+"
      ]
     },
     "execution_count": 25,
     "metadata": {},
     "output_type": "execute_result"
    }
   ],
   "source": [
    "df.select((large_trip_distance & low_passenger_count).alias(\"lonely_trips\"))"
   ]
  },
  {
   "cell_type": "code",
   "execution_count": null,
   "id": "7fbd81b2-01f9-44e3-b825-573ea913bc84",
   "metadata": {},
   "outputs": [],
   "source": []
  }
 ],
 "metadata": {
  "kernelspec": {
   "display_name": "pydata1",
   "language": "python",
   "name": "pydata1"
  },
  "language_info": {
   "codemirror_mode": {
    "name": "ipython",
    "version": 3
   },
   "file_extension": ".py",
   "mimetype": "text/x-python",
   "name": "python",
   "nbconvert_exporter": "python",
   "pygments_lexer": "ipython3",
   "version": "3.11.10"
  }
 },
 "nbformat": 4,
 "nbformat_minor": 5
}
