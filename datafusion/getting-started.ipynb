{
 "cells": [
  {
   "cell_type": "code",
   "execution_count": 27,
   "id": "38030cc6-4b4c-47dd-b1ff-d87db5a53fc4",
   "metadata": {
    "tags": []
   },
   "outputs": [],
   "source": [
    "from datafusion import SessionContext"
   ]
  },
  {
   "cell_type": "code",
   "execution_count": 28,
   "id": "7141e1a5-1070-4e45-8521-214f3ec5d14b",
   "metadata": {
    "tags": []
   },
   "outputs": [],
   "source": [
    "ctx = SessionContext()"
   ]
  },
  {
   "cell_type": "markdown",
   "id": "b54acb79-0f52-4274-9f69-20025dbb78a3",
   "metadata": {},
   "source": [
    "## Create a DataFrame"
   ]
  },
  {
   "cell_type": "code",
   "execution_count": 29,
   "id": "f943c1bf-4631-4278-ae7f-1dc53772b196",
   "metadata": {
    "tags": []
   },
   "outputs": [],
   "source": [
    "df = ctx.from_pydict({\"a\": [1, 2, 3, 1], \"b\": [4, 5, 6, 7]}, name=\"my_table\")"
   ]
  },
  {
   "cell_type": "code",
   "execution_count": 31,
   "id": "50df0257-dad4-4514-a219-ec364fb0a8a8",
   "metadata": {
    "tags": []
   },
   "outputs": [
    {
     "data": {
      "text/plain": [
       "DataFrame()\n",
       "+---+---+\n",
       "| a | b |\n",
       "+---+---+\n",
       "| 1 | 4 |\n",
       "| 2 | 5 |\n",
       "+---+---+"
      ]
     },
     "execution_count": 31,
     "metadata": {},
     "output_type": "execute_result"
    }
   ],
   "source": [
    "ctx.sql(\"select * from my_table limit 2\")"
   ]
  },
  {
   "cell_type": "code",
   "execution_count": 25,
   "id": "8ed22976-9592-45f4-85bf-65e458465757",
   "metadata": {
    "tags": []
   },
   "outputs": [
    {
     "data": {
      "text/plain": [
       "DataFrame()\n",
       "+---+---+\n",
       "| a | b |\n",
       "+---+---+\n",
       "| 1 | 4 |\n",
       "| 2 | 5 |\n",
       "| 3 | 6 |\n",
       "| 1 | 7 |\n",
       "+---+---+"
      ]
     },
     "execution_count": 25,
     "metadata": {},
     "output_type": "execute_result"
    }
   ],
   "source": [
    "df"
   ]
  },
  {
   "cell_type": "markdown",
   "id": "8e34735f-3458-48d8-aada-86f149af6fa9",
   "metadata": {},
   "source": [
    "## Query the DataFrame with SQL"
   ]
  },
  {
   "cell_type": "code",
   "execution_count": 18,
   "id": "7171e67b-46cf-4c08-9bc6-94a16c2b4cff",
   "metadata": {
    "tags": []
   },
   "outputs": [
    {
     "data": {
      "text/plain": [
       "DataFrame()\n",
       "+---+---+---------+\n",
       "| a | b | sum_a_b |\n",
       "+---+---+---------+\n",
       "| 1 | 4 | 5       |\n",
       "| 2 | 5 | 7       |\n",
       "| 3 | 6 | 9       |\n",
       "| 1 | 7 | 8       |\n",
       "+---+---+---------+"
      ]
     },
     "execution_count": 18,
     "metadata": {},
     "output_type": "execute_result"
    }
   ],
   "source": [
    "ctx.sql(\"select a, b, a + b as sum_a_b from my_table\")"
   ]
  },
  {
   "cell_type": "markdown",
   "id": "c8a3d583-5636-42ef-b5a5-b654e51e5f59",
   "metadata": {},
   "source": [
    "## Query the DataFrame with Python"
   ]
  },
  {
   "cell_type": "code",
   "execution_count": 19,
   "id": "0eae30ee-81d6-4239-8f5d-0cdbe5da2298",
   "metadata": {
    "tags": []
   },
   "outputs": [],
   "source": [
    "from datafusion import col"
   ]
  },
  {
   "cell_type": "code",
   "execution_count": 22,
   "id": "3690c8cc-d232-4286-84d3-cccef99aa92b",
   "metadata": {
    "tags": []
   },
   "outputs": [
    {
     "data": {
      "text/plain": [
       "DataFrame()\n",
       "+---+---+-------------------------+\n",
       "| a | b | my_table.a + my_table.b |\n",
       "+---+---+-------------------------+\n",
       "| 1 | 4 | 5                       |\n",
       "| 2 | 5 | 7                       |\n",
       "| 3 | 6 | 9                       |\n",
       "| 1 | 7 | 8                       |\n",
       "+---+---+-------------------------+"
      ]
     },
     "execution_count": 22,
     "metadata": {},
     "output_type": "execute_result"
    }
   ],
   "source": [
    "df.select(\n",
    "    col(\"a\"),\n",
    "    col(\"b\"),\n",
    "    col(\"a\") + col(\"b\"),\n",
    ")"
   ]
  },
  {
   "cell_type": "code",
   "execution_count": null,
   "id": "50c1f2aa-0330-4624-92d0-2d57e7112010",
   "metadata": {},
   "outputs": [],
   "source": []
  },
  {
   "cell_type": "code",
   "execution_count": null,
   "id": "288fd31d-6a52-4608-bb23-33b2726bc2ea",
   "metadata": {},
   "outputs": [],
   "source": []
  },
  {
   "cell_type": "markdown",
   "id": "55f8b7bb-3d3f-4478-8a60-6f0eb843c202",
   "metadata": {},
   "source": [
    "## Cleanup"
   ]
  },
  {
   "cell_type": "code",
   "execution_count": 26,
   "id": "91f3300f-4962-4ca8-b226-e83218e01028",
   "metadata": {
    "tags": []
   },
   "outputs": [
    {
     "data": {
      "text/plain": [
       "DataFrame()\n",
       "++\n",
       "++"
      ]
     },
     "execution_count": 26,
     "metadata": {},
     "output_type": "execute_result"
    }
   ],
   "source": [
    "ctx.sql(\"drop table my_table\")"
   ]
  },
  {
   "cell_type": "code",
   "execution_count": null,
   "id": "71ecc0d7-f883-4eb6-9b3d-f3b86da6c340",
   "metadata": {},
   "outputs": [],
   "source": []
  }
 ],
 "metadata": {
  "kernelspec": {
   "display_name": "Python [conda env:pandas-200]",
   "language": "python",
   "name": "conda-env-pandas-200-py"
  },
  "language_info": {
   "codemirror_mode": {
    "name": "ipython",
    "version": 3
   },
   "file_extension": ".py",
   "mimetype": "text/x-python",
   "name": "python",
   "nbconvert_exporter": "python",
   "pygments_lexer": "ipython3",
   "version": "3.9.16"
  }
 },
 "nbformat": 4,
 "nbformat_minor": 5
}
