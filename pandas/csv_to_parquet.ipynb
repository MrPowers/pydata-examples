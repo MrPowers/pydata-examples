{
 "cells": [
  {
   "cell_type": "markdown",
   "id": "7586c2a4-0088-408b-b6c2-287f7a42498b",
   "metadata": {},
   "source": [
    "# CSV to Parquet"
   ]
  },
  {
   "cell_type": "code",
   "execution_count": 1,
   "id": "44284f29-f1dd-42a3-98f1-1556e2c22c4b",
   "metadata": {
    "tags": []
   },
   "outputs": [],
   "source": [
    "import pandas as pd"
   ]
  },
  {
   "cell_type": "code",
   "execution_count": null,
   "id": "14ca8ed5-60d4-4569-8ce4-5e7594df3f86",
   "metadata": {
    "tags": []
   },
   "outputs": [],
   "source": [
    "df = pd.read_csv(\"~/data/G1_1e9_1e2_0_0.csv\")"
   ]
  },
  {
   "cell_type": "code",
   "execution_count": null,
   "id": "6318c5a3-f15e-439a-bee9-86a93252d80b",
   "metadata": {
    "tags": []
   },
   "outputs": [],
   "source": [
    "df.dtypes()"
   ]
  },
  {
   "cell_type": "code",
   "execution_count": null,
   "id": "4331db92-49ac-4d43-b4e3-604a09693e81",
   "metadata": {},
   "outputs": [],
   "source": [
    "df.to_parquet(\"~/data/parquet/G1_1e9_1e2_0_0.parquet\")"
   ]
  },
  {
   "cell_type": "code",
   "execution_count": null,
   "id": "2d5b601d-bb4b-440a-8bbd-3c6b1df3b64d",
   "metadata": {},
   "outputs": [],
   "source": [
    "del df"
   ]
  },
  {
   "cell_type": "code",
   "execution_count": null,
   "id": "c90bb564-d90a-4c47-b5a0-f6aee82cf274",
   "metadata": {},
   "outputs": [],
   "source": [
    "import gc\n",
    "gc.collect()"
   ]
  }
 ],
 "metadata": {
  "kernelspec": {
   "display_name": "Python [conda env:pandas-201]",
   "language": "python",
   "name": "conda-env-pandas-201-py"
  },
  "language_info": {
   "codemirror_mode": {
    "name": "ipython",
    "version": 3
   },
   "file_extension": ".py",
   "mimetype": "text/x-python",
   "name": "python",
   "nbconvert_exporter": "python",
   "pygments_lexer": "ipython3",
   "version": "3.9.16"
  }
 },
 "nbformat": 4,
 "nbformat_minor": 5
}
