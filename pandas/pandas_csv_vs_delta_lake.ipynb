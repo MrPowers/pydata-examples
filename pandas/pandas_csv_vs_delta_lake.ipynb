{
 "cells": [
  {
   "cell_type": "markdown",
   "id": "a655fe2d-7543-4109-bab7-2314cc9a197b",
   "metadata": {},
   "source": [
    "# Pandas CSV vs Delta Lake Benchmarking"
   ]
  },
  {
   "cell_type": "code",
   "execution_count": 18,
   "id": "6636309e-278a-4d3f-b174-cfee07e63370",
   "metadata": {
    "tags": []
   },
   "outputs": [],
   "source": [
    "import pathlib\n",
    "\n",
    "import pyarrow.dataset as ds\n",
    "from deltalake import DeltaTable\n",
    "\n",
    "import pandas as pd"
   ]
  },
  {
   "cell_type": "markdown",
   "id": "95243d7c-98ca-4c9b-93a2-a7ad07b5e5aa",
   "metadata": {},
   "source": [
    "## 1e8 CSV"
   ]
  },
  {
   "cell_type": "code",
   "execution_count": 19,
   "id": "d7b61ff1-feb6-486e-9cd8-8c6f0557d333",
   "metadata": {
    "tags": []
   },
   "outputs": [
    {
     "name": "stdout",
     "output_type": "stream",
     "text": [
      "CPU times: user 18.4 s, sys: 2.19 s, total: 20.6 s\n",
      "Wall time: 20.6 s\n"
     ]
    },
    {
     "data": {
      "text/html": [
       "<div>\n",
       "<style scoped>\n",
       "    .dataframe tbody tr th:only-of-type {\n",
       "        vertical-align: middle;\n",
       "    }\n",
       "\n",
       "    .dataframe tbody tr th {\n",
       "        vertical-align: top;\n",
       "    }\n",
       "\n",
       "    .dataframe thead th {\n",
       "        text-align: right;\n",
       "    }\n",
       "</style>\n",
       "<table border=\"1\" class=\"dataframe\">\n",
       "  <thead>\n",
       "    <tr style=\"text-align: right;\">\n",
       "      <th></th>\n",
       "      <th>v1</th>\n",
       "    </tr>\n",
       "    <tr>\n",
       "      <th>id2</th>\n",
       "      <th></th>\n",
       "    </tr>\n",
       "  </thead>\n",
       "  <tbody>\n",
       "    <tr>\n",
       "      <th>id001</th>\n",
       "      <td>29918</td>\n",
       "    </tr>\n",
       "    <tr>\n",
       "      <th>id002</th>\n",
       "      <td>30343</td>\n",
       "    </tr>\n",
       "    <tr>\n",
       "      <th>id003</th>\n",
       "      <td>30180</td>\n",
       "    </tr>\n",
       "    <tr>\n",
       "      <th>id004</th>\n",
       "      <td>30581</td>\n",
       "    </tr>\n",
       "    <tr>\n",
       "      <th>id005</th>\n",
       "      <td>30769</td>\n",
       "    </tr>\n",
       "    <tr>\n",
       "      <th>...</th>\n",
       "      <td>...</td>\n",
       "    </tr>\n",
       "    <tr>\n",
       "      <th>id096</th>\n",
       "      <td>30011</td>\n",
       "    </tr>\n",
       "    <tr>\n",
       "      <th>id097</th>\n",
       "      <td>29728</td>\n",
       "    </tr>\n",
       "    <tr>\n",
       "      <th>id098</th>\n",
       "      <td>30131</td>\n",
       "    </tr>\n",
       "    <tr>\n",
       "      <th>id099</th>\n",
       "      <td>30141</td>\n",
       "    </tr>\n",
       "    <tr>\n",
       "      <th>id100</th>\n",
       "      <td>29743</td>\n",
       "    </tr>\n",
       "  </tbody>\n",
       "</table>\n",
       "<p>100 rows × 1 columns</p>\n",
       "</div>"
      ],
      "text/plain": [
       "          v1\n",
       "id2         \n",
       "id001  29918\n",
       "id002  30343\n",
       "id003  30180\n",
       "id004  30581\n",
       "id005  30769\n",
       "...      ...\n",
       "id096  30011\n",
       "id097  29728\n",
       "id098  30131\n",
       "id099  30141\n",
       "id100  29743\n",
       "\n",
       "[100 rows x 1 columns]"
      ]
     },
     "execution_count": 19,
     "metadata": {},
     "output_type": "execute_result"
    }
   ],
   "source": [
    "%%time\n",
    "\n",
    "(\n",
    "    pd.read_csv(\"~/data/G1_1e8_1e2_0_0.csv\", usecols=[\"id1\", \"id2\", \"v1\"])\n",
    "    .query(\"id1 == 'id016'\")\n",
    "    .groupby(\"id2\")\n",
    "    .agg({\"v1\": \"sum\"})\n",
    ")"
   ]
  },
  {
   "cell_type": "markdown",
   "id": "f4dd50d0-d72a-4292-b729-8a88e749ae6f",
   "metadata": {},
   "source": [
    "## 1e8 Delta Lake"
   ]
  },
  {
   "cell_type": "code",
   "execution_count": 20,
   "id": "11a61d24-782b-4ee2-8716-9cac6b4429c4",
   "metadata": {
    "tags": []
   },
   "outputs": [
    {
     "name": "stdout",
     "output_type": "stream",
     "text": [
      "CPU times: user 2.11 s, sys: 219 ms, total: 2.33 s\n",
      "Wall time: 970 ms\n"
     ]
    },
    {
     "data": {
      "text/html": [
       "<div>\n",
       "<style scoped>\n",
       "    .dataframe tbody tr th:only-of-type {\n",
       "        vertical-align: middle;\n",
       "    }\n",
       "\n",
       "    .dataframe tbody tr th {\n",
       "        vertical-align: top;\n",
       "    }\n",
       "\n",
       "    .dataframe thead th {\n",
       "        text-align: right;\n",
       "    }\n",
       "</style>\n",
       "<table border=\"1\" class=\"dataframe\">\n",
       "  <thead>\n",
       "    <tr style=\"text-align: right;\">\n",
       "      <th></th>\n",
       "      <th>v1</th>\n",
       "    </tr>\n",
       "    <tr>\n",
       "      <th>id2</th>\n",
       "      <th></th>\n",
       "    </tr>\n",
       "  </thead>\n",
       "  <tbody>\n",
       "    <tr>\n",
       "      <th>id001</th>\n",
       "      <td>29918</td>\n",
       "    </tr>\n",
       "    <tr>\n",
       "      <th>id002</th>\n",
       "      <td>30343</td>\n",
       "    </tr>\n",
       "    <tr>\n",
       "      <th>id003</th>\n",
       "      <td>30180</td>\n",
       "    </tr>\n",
       "    <tr>\n",
       "      <th>id004</th>\n",
       "      <td>30581</td>\n",
       "    </tr>\n",
       "    <tr>\n",
       "      <th>id005</th>\n",
       "      <td>30769</td>\n",
       "    </tr>\n",
       "    <tr>\n",
       "      <th>...</th>\n",
       "      <td>...</td>\n",
       "    </tr>\n",
       "    <tr>\n",
       "      <th>id096</th>\n",
       "      <td>30011</td>\n",
       "    </tr>\n",
       "    <tr>\n",
       "      <th>id097</th>\n",
       "      <td>29728</td>\n",
       "    </tr>\n",
       "    <tr>\n",
       "      <th>id098</th>\n",
       "      <td>30131</td>\n",
       "    </tr>\n",
       "    <tr>\n",
       "      <th>id099</th>\n",
       "      <td>30141</td>\n",
       "    </tr>\n",
       "    <tr>\n",
       "      <th>id100</th>\n",
       "      <td>29743</td>\n",
       "    </tr>\n",
       "  </tbody>\n",
       "</table>\n",
       "<p>100 rows × 1 columns</p>\n",
       "</div>"
      ],
      "text/plain": [
       "          v1\n",
       "id2         \n",
       "id001  29918\n",
       "id002  30343\n",
       "id003  30180\n",
       "id004  30581\n",
       "id005  30769\n",
       "...      ...\n",
       "id096  30011\n",
       "id097  29728\n",
       "id098  30131\n",
       "id099  30141\n",
       "id100  29743\n",
       "\n",
       "[100 rows x 1 columns]"
      ]
     },
     "execution_count": 20,
     "metadata": {},
     "output_type": "execute_result"
    }
   ],
   "source": [
    "%%time\n",
    "\n",
    "dt = DeltaTable(f\"{pathlib.Path.home()}/data/delta/G1_1e8_1e2_0_0\")\n",
    "dataset = dt.to_pyarrow_dataset()\n",
    "condition = ds.field(\"id1\") == \"id016\"\n",
    "(\n",
    "    dataset.to_table(filter=condition, columns=[\"id1\", \"id2\", \"v1\"])\n",
    "    .to_pandas()\n",
    "    .query(\"id1 == 'id016'\")\n",
    "    .groupby(\"id2\")\n",
    "    .agg({\"v1\": \"sum\"})\n",
    ")"
   ]
  },
  {
   "cell_type": "markdown",
   "id": "b2acd68f-f130-40e8-84f1-8d14f9c666af",
   "metadata": {},
   "source": [
    "## 1e9 CSV"
   ]
  },
  {
   "cell_type": "code",
   "execution_count": null,
   "id": "27eace8e-abdf-4ec6-908d-7addc4ed5e2c",
   "metadata": {},
   "outputs": [],
   "source": [
    "%%time\n",
    "\n",
    "df_csv_1e9_usecols = pd.read_csv(\n",
    "    \"~/data/G1_1e9_1e2_0_0.csv\", usecols=[\"id1\", \"id2\", \"v1\"]\n",
    ")\n",
    "(df_csv_1e9_usecols.query(\"id1 == 'id016'\").groupby(\"id2\").agg({\"v1\": \"sum\"}))"
   ]
  },
  {
   "cell_type": "code",
   "execution_count": null,
   "id": "441febab-7823-4e1b-b86b-114cc4f8c32c",
   "metadata": {},
   "outputs": [],
   "source": [
    "del df_csv_1e9_usecols"
   ]
  },
  {
   "cell_type": "markdown",
   "id": "5add17b5-746e-437b-8e3d-e359a04ff4f7",
   "metadata": {},
   "source": [
    "## 1e9 Delta Lake"
   ]
  },
  {
   "cell_type": "code",
   "execution_count": null,
   "id": "fb802915-7bb0-4421-b019-f78948dde42f",
   "metadata": {},
   "outputs": [],
   "source": [
    "%%time\n",
    "\n",
    "dt = DeltaTable(f\"{pathlib.Path.home()}/data/delta/G1_1e9_1e2_0_0\")\n",
    "dataset = dt.to_pyarrow_dataset()\n",
    "condition = ds.field(\"id1\") == \"id016\"\n",
    "(\n",
    "    dataset.to_table(filter=condition, columns=[\"id1\", \"id2\", \"v1\"])\n",
    "    .to_pandas()\n",
    "    .query(\"id1 == 'id016'\")\n",
    "    .groupby(\"id2\")\n",
    "    .agg({\"v1\": \"sum\"})\n",
    ")"
   ]
  }
 ],
 "metadata": {
  "kernelspec": {
   "display_name": "Python [conda env:deltalake-090]",
   "language": "python",
   "name": "conda-env-deltalake-090-py"
  },
  "language_info": {
   "codemirror_mode": {
    "name": "ipython",
    "version": 3
   },
   "file_extension": ".py",
   "mimetype": "text/x-python",
   "name": "python",
   "nbconvert_exporter": "python",
   "pygments_lexer": "ipython3",
   "version": "3.9.16"
  }
 },
 "nbformat": 4,
 "nbformat_minor": 5
}
