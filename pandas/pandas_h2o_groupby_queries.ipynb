{
 "cells": [
  {
   "cell_type": "code",
   "execution_count": 1,
   "id": "d174a0d3-1df2-4002-81ec-f133da52cb61",
   "metadata": {
    "tags": []
   },
   "outputs": [],
   "source": [
    "import gc\n",
    "\n",
    "import pandas as pd"
   ]
  },
  {
   "cell_type": "code",
   "execution_count": 2,
   "id": "fbf42c34-eb82-496b-85b1-00f0013d2dbc",
   "metadata": {
    "tags": []
   },
   "outputs": [],
   "source": [
    "df = pd.read_csv(\"~/data/G1_1e7_1e2_0_0.csv\")"
   ]
  },
  {
   "cell_type": "code",
   "execution_count": 3,
   "id": "e3b4fa2f-7cec-49d5-8e4c-0a8e7392c8fc",
   "metadata": {
    "tags": []
   },
   "outputs": [
    {
     "data": {
      "text/html": [
       "<div>\n",
       "<style scoped>\n",
       "    .dataframe tbody tr th:only-of-type {\n",
       "        vertical-align: middle;\n",
       "    }\n",
       "\n",
       "    .dataframe tbody tr th {\n",
       "        vertical-align: top;\n",
       "    }\n",
       "\n",
       "    .dataframe thead th {\n",
       "        text-align: right;\n",
       "    }\n",
       "</style>\n",
       "<table border=\"1\" class=\"dataframe\">\n",
       "  <thead>\n",
       "    <tr style=\"text-align: right;\">\n",
       "      <th></th>\n",
       "      <th>id1</th>\n",
       "      <th>id2</th>\n",
       "      <th>id3</th>\n",
       "      <th>id4</th>\n",
       "      <th>id5</th>\n",
       "      <th>id6</th>\n",
       "      <th>v1</th>\n",
       "      <th>v2</th>\n",
       "      <th>v3</th>\n",
       "    </tr>\n",
       "  </thead>\n",
       "  <tbody>\n",
       "    <tr>\n",
       "      <th>0</th>\n",
       "      <td>id016</td>\n",
       "      <td>id016</td>\n",
       "      <td>id0000042202</td>\n",
       "      <td>15</td>\n",
       "      <td>24</td>\n",
       "      <td>5971</td>\n",
       "      <td>5</td>\n",
       "      <td>11</td>\n",
       "      <td>37.211254</td>\n",
       "    </tr>\n",
       "    <tr>\n",
       "      <th>1</th>\n",
       "      <td>id039</td>\n",
       "      <td>id045</td>\n",
       "      <td>id0000029558</td>\n",
       "      <td>40</td>\n",
       "      <td>49</td>\n",
       "      <td>39457</td>\n",
       "      <td>5</td>\n",
       "      <td>4</td>\n",
       "      <td>48.951141</td>\n",
       "    </tr>\n",
       "    <tr>\n",
       "      <th>2</th>\n",
       "      <td>id047</td>\n",
       "      <td>id023</td>\n",
       "      <td>id0000071286</td>\n",
       "      <td>68</td>\n",
       "      <td>20</td>\n",
       "      <td>74463</td>\n",
       "      <td>2</td>\n",
       "      <td>14</td>\n",
       "      <td>60.469241</td>\n",
       "    </tr>\n",
       "    <tr>\n",
       "      <th>3</th>\n",
       "      <td>id043</td>\n",
       "      <td>id057</td>\n",
       "      <td>id0000015141</td>\n",
       "      <td>32</td>\n",
       "      <td>43</td>\n",
       "      <td>63743</td>\n",
       "      <td>1</td>\n",
       "      <td>15</td>\n",
       "      <td>7.692145</td>\n",
       "    </tr>\n",
       "    <tr>\n",
       "      <th>4</th>\n",
       "      <td>id054</td>\n",
       "      <td>id040</td>\n",
       "      <td>id0000011083</td>\n",
       "      <td>9</td>\n",
       "      <td>25</td>\n",
       "      <td>16920</td>\n",
       "      <td>2</td>\n",
       "      <td>9</td>\n",
       "      <td>22.863525</td>\n",
       "    </tr>\n",
       "    <tr>\n",
       "      <th>...</th>\n",
       "      <td>...</td>\n",
       "      <td>...</td>\n",
       "      <td>...</td>\n",
       "      <td>...</td>\n",
       "      <td>...</td>\n",
       "      <td>...</td>\n",
       "      <td>...</td>\n",
       "      <td>...</td>\n",
       "      <td>...</td>\n",
       "    </tr>\n",
       "    <tr>\n",
       "      <th>9999995</th>\n",
       "      <td>id003</td>\n",
       "      <td>id044</td>\n",
       "      <td>id0000019084</td>\n",
       "      <td>86</td>\n",
       "      <td>65</td>\n",
       "      <td>81507</td>\n",
       "      <td>4</td>\n",
       "      <td>8</td>\n",
       "      <td>30.926485</td>\n",
       "    </tr>\n",
       "    <tr>\n",
       "      <th>9999996</th>\n",
       "      <td>id096</td>\n",
       "      <td>id068</td>\n",
       "      <td>id0000020362</td>\n",
       "      <td>4</td>\n",
       "      <td>85</td>\n",
       "      <td>95388</td>\n",
       "      <td>3</td>\n",
       "      <td>11</td>\n",
       "      <td>53.268709</td>\n",
       "    </tr>\n",
       "    <tr>\n",
       "      <th>9999997</th>\n",
       "      <td>id071</td>\n",
       "      <td>id006</td>\n",
       "      <td>id0000046057</td>\n",
       "      <td>52</td>\n",
       "      <td>57</td>\n",
       "      <td>55223</td>\n",
       "      <td>1</td>\n",
       "      <td>13</td>\n",
       "      <td>90.368393</td>\n",
       "    </tr>\n",
       "    <tr>\n",
       "      <th>9999998</th>\n",
       "      <td>id057</td>\n",
       "      <td>id099</td>\n",
       "      <td>id0000060922</td>\n",
       "      <td>47</td>\n",
       "      <td>36</td>\n",
       "      <td>90944</td>\n",
       "      <td>3</td>\n",
       "      <td>8</td>\n",
       "      <td>34.878200</td>\n",
       "    </tr>\n",
       "    <tr>\n",
       "      <th>9999999</th>\n",
       "      <td>id091</td>\n",
       "      <td>id062</td>\n",
       "      <td>id0000084502</td>\n",
       "      <td>68</td>\n",
       "      <td>83</td>\n",
       "      <td>97012</td>\n",
       "      <td>4</td>\n",
       "      <td>10</td>\n",
       "      <td>97.998105</td>\n",
       "    </tr>\n",
       "  </tbody>\n",
       "</table>\n",
       "<p>10000000 rows × 9 columns</p>\n",
       "</div>"
      ],
      "text/plain": [
       "           id1    id2           id3  id4  id5    id6  v1  v2         v3\n",
       "0        id016  id016  id0000042202   15   24   5971   5  11  37.211254\n",
       "1        id039  id045  id0000029558   40   49  39457   5   4  48.951141\n",
       "2        id047  id023  id0000071286   68   20  74463   2  14  60.469241\n",
       "3        id043  id057  id0000015141   32   43  63743   1  15   7.692145\n",
       "4        id054  id040  id0000011083    9   25  16920   2   9  22.863525\n",
       "...        ...    ...           ...  ...  ...    ...  ..  ..        ...\n",
       "9999995  id003  id044  id0000019084   86   65  81507   4   8  30.926485\n",
       "9999996  id096  id068  id0000020362    4   85  95388   3  11  53.268709\n",
       "9999997  id071  id006  id0000046057   52   57  55223   1  13  90.368393\n",
       "9999998  id057  id099  id0000060922   47   36  90944   3   8  34.878200\n",
       "9999999  id091  id062  id0000084502   68   83  97012   4  10  97.998105\n",
       "\n",
       "[10000000 rows x 9 columns]"
      ]
     },
     "execution_count": 3,
     "metadata": {},
     "output_type": "execute_result"
    }
   ],
   "source": [
    "df"
   ]
  },
  {
   "cell_type": "code",
   "execution_count": 4,
   "id": "be2fd052-081c-4e5c-b5a3-d40a9b1402bc",
   "metadata": {
    "tags": []
   },
   "outputs": [
    {
     "data": {
      "text/html": [
       "<div>\n",
       "<style scoped>\n",
       "    .dataframe tbody tr th:only-of-type {\n",
       "        vertical-align: middle;\n",
       "    }\n",
       "\n",
       "    .dataframe tbody tr th {\n",
       "        vertical-align: top;\n",
       "    }\n",
       "\n",
       "    .dataframe thead th {\n",
       "        text-align: right;\n",
       "    }\n",
       "</style>\n",
       "<table border=\"1\" class=\"dataframe\">\n",
       "  <thead>\n",
       "    <tr style=\"text-align: right;\">\n",
       "      <th></th>\n",
       "      <th>id1</th>\n",
       "      <th>id2</th>\n",
       "      <th>id3</th>\n",
       "      <th>id4</th>\n",
       "      <th>id5</th>\n",
       "      <th>id6</th>\n",
       "      <th>v1</th>\n",
       "      <th>v2</th>\n",
       "      <th>v3</th>\n",
       "    </tr>\n",
       "  </thead>\n",
       "  <tbody>\n",
       "    <tr>\n",
       "      <th>0</th>\n",
       "      <td>id016</td>\n",
       "      <td>id016</td>\n",
       "      <td>id0000042202</td>\n",
       "      <td>15</td>\n",
       "      <td>24</td>\n",
       "      <td>5971</td>\n",
       "      <td>5</td>\n",
       "      <td>11</td>\n",
       "      <td>37.211254</td>\n",
       "    </tr>\n",
       "    <tr>\n",
       "      <th>1</th>\n",
       "      <td>id039</td>\n",
       "      <td>id045</td>\n",
       "      <td>id0000029558</td>\n",
       "      <td>40</td>\n",
       "      <td>49</td>\n",
       "      <td>39457</td>\n",
       "      <td>5</td>\n",
       "      <td>4</td>\n",
       "      <td>48.951141</td>\n",
       "    </tr>\n",
       "    <tr>\n",
       "      <th>2</th>\n",
       "      <td>id047</td>\n",
       "      <td>id023</td>\n",
       "      <td>id0000071286</td>\n",
       "      <td>68</td>\n",
       "      <td>20</td>\n",
       "      <td>74463</td>\n",
       "      <td>2</td>\n",
       "      <td>14</td>\n",
       "      <td>60.469241</td>\n",
       "    </tr>\n",
       "  </tbody>\n",
       "</table>\n",
       "</div>"
      ],
      "text/plain": [
       "     id1    id2           id3  id4  id5    id6  v1  v2         v3\n",
       "0  id016  id016  id0000042202   15   24   5971   5  11  37.211254\n",
       "1  id039  id045  id0000029558   40   49  39457   5   4  48.951141\n",
       "2  id047  id023  id0000071286   68   20  74463   2  14  60.469241"
      ]
     },
     "execution_count": 4,
     "metadata": {},
     "output_type": "execute_result"
    }
   ],
   "source": [
    "df.head(3)"
   ]
  },
  {
   "cell_type": "code",
   "execution_count": 5,
   "id": "d1571271-7164-4027-8781-b3d9948ba53c",
   "metadata": {
    "tags": []
   },
   "outputs": [],
   "source": [
    "del df"
   ]
  },
  {
   "cell_type": "markdown",
   "id": "37476668-0d03-415f-a6eb-2f1f5139926c",
   "metadata": {},
   "source": [
    "## 1e8 CSV"
   ]
  },
  {
   "cell_type": "code",
   "execution_count": 4,
   "id": "d8b94241-4776-44fa-86df-141da7400484",
   "metadata": {
    "tags": []
   },
   "outputs": [
    {
     "name": "stdout",
     "output_type": "stream",
     "text": [
      "CPU times: user 41.2 s, sys: 5.21 s, total: 46.4 s\n",
      "Wall time: 46.6 s\n"
     ]
    },
    {
     "data": {
      "text/html": [
       "<div>\n",
       "<style scoped>\n",
       "    .dataframe tbody tr th:only-of-type {\n",
       "        vertical-align: middle;\n",
       "    }\n",
       "\n",
       "    .dataframe tbody tr th {\n",
       "        vertical-align: top;\n",
       "    }\n",
       "\n",
       "    .dataframe thead th {\n",
       "        text-align: right;\n",
       "    }\n",
       "</style>\n",
       "<table border=\"1\" class=\"dataframe\">\n",
       "  <thead>\n",
       "    <tr style=\"text-align: right;\">\n",
       "      <th></th>\n",
       "      <th>v1</th>\n",
       "    </tr>\n",
       "    <tr>\n",
       "      <th>id1</th>\n",
       "      <th></th>\n",
       "    </tr>\n",
       "  </thead>\n",
       "  <tbody>\n",
       "    <tr>\n",
       "      <th>id001</th>\n",
       "      <td>2997617</td>\n",
       "    </tr>\n",
       "    <tr>\n",
       "      <th>id002</th>\n",
       "      <td>2997194</td>\n",
       "    </tr>\n",
       "    <tr>\n",
       "      <th>id003</th>\n",
       "      <td>3001204</td>\n",
       "    </tr>\n",
       "    <tr>\n",
       "      <th>id004</th>\n",
       "      <td>3000945</td>\n",
       "    </tr>\n",
       "    <tr>\n",
       "      <th>id005</th>\n",
       "      <td>3001731</td>\n",
       "    </tr>\n",
       "    <tr>\n",
       "      <th>...</th>\n",
       "      <td>...</td>\n",
       "    </tr>\n",
       "    <tr>\n",
       "      <th>id096</th>\n",
       "      <td>2997704</td>\n",
       "    </tr>\n",
       "    <tr>\n",
       "      <th>id097</th>\n",
       "      <td>3004476</td>\n",
       "    </tr>\n",
       "    <tr>\n",
       "      <th>id098</th>\n",
       "      <td>2996139</td>\n",
       "    </tr>\n",
       "    <tr>\n",
       "      <th>id099</th>\n",
       "      <td>3001163</td>\n",
       "    </tr>\n",
       "    <tr>\n",
       "      <th>id100</th>\n",
       "      <td>2998376</td>\n",
       "    </tr>\n",
       "  </tbody>\n",
       "</table>\n",
       "<p>100 rows × 1 columns</p>\n",
       "</div>"
      ],
      "text/plain": [
       "            v1\n",
       "id1           \n",
       "id001  2997617\n",
       "id002  2997194\n",
       "id003  3001204\n",
       "id004  3000945\n",
       "id005  3001731\n",
       "...        ...\n",
       "id096  2997704\n",
       "id097  3004476\n",
       "id098  2996139\n",
       "id099  3001163\n",
       "id100  2998376\n",
       "\n",
       "[100 rows x 1 columns]"
      ]
     },
     "execution_count": 4,
     "metadata": {},
     "output_type": "execute_result"
    }
   ],
   "source": [
    "%%time\n",
    "\n",
    "df_csv_1e8 = pd.read_csv(\"~/data/G1_1e8_1e2_0_0.csv\")\n",
    "df_csv_1e8.groupby(\"id1\").agg({\"v1\": \"sum\"})"
   ]
  },
  {
   "cell_type": "code",
   "execution_count": 22,
   "id": "99088950-c8e4-4ca8-b013-5d791496dbf2",
   "metadata": {
    "tags": []
   },
   "outputs": [],
   "source": [
    "del df_csv_1e8"
   ]
  },
  {
   "cell_type": "markdown",
   "id": "d3033fed-23b1-4ebe-9d37-0a5c8a766f15",
   "metadata": {},
   "source": [
    "## 1e8 Parquet"
   ]
  },
  {
   "cell_type": "code",
   "execution_count": 23,
   "id": "347470cc-008f-457a-86c8-4d244ad21b45",
   "metadata": {
    "tags": []
   },
   "outputs": [
    {
     "name": "stdout",
     "output_type": "stream",
     "text": [
      "CPU times: user 22.1 s, sys: 3.78 s, total: 25.9 s\n",
      "Wall time: 19.8 s\n"
     ]
    },
    {
     "data": {
      "text/html": [
       "<div>\n",
       "<style scoped>\n",
       "    .dataframe tbody tr th:only-of-type {\n",
       "        vertical-align: middle;\n",
       "    }\n",
       "\n",
       "    .dataframe tbody tr th {\n",
       "        vertical-align: top;\n",
       "    }\n",
       "\n",
       "    .dataframe thead th {\n",
       "        text-align: right;\n",
       "    }\n",
       "</style>\n",
       "<table border=\"1\" class=\"dataframe\">\n",
       "  <thead>\n",
       "    <tr style=\"text-align: right;\">\n",
       "      <th></th>\n",
       "      <th>v1</th>\n",
       "    </tr>\n",
       "    <tr>\n",
       "      <th>id1</th>\n",
       "      <th></th>\n",
       "    </tr>\n",
       "  </thead>\n",
       "  <tbody>\n",
       "    <tr>\n",
       "      <th>id001</th>\n",
       "      <td>2997617</td>\n",
       "    </tr>\n",
       "    <tr>\n",
       "      <th>id002</th>\n",
       "      <td>2997194</td>\n",
       "    </tr>\n",
       "    <tr>\n",
       "      <th>id003</th>\n",
       "      <td>3001204</td>\n",
       "    </tr>\n",
       "    <tr>\n",
       "      <th>id004</th>\n",
       "      <td>3000945</td>\n",
       "    </tr>\n",
       "    <tr>\n",
       "      <th>id005</th>\n",
       "      <td>3001731</td>\n",
       "    </tr>\n",
       "    <tr>\n",
       "      <th>...</th>\n",
       "      <td>...</td>\n",
       "    </tr>\n",
       "    <tr>\n",
       "      <th>id096</th>\n",
       "      <td>2997704</td>\n",
       "    </tr>\n",
       "    <tr>\n",
       "      <th>id097</th>\n",
       "      <td>3004476</td>\n",
       "    </tr>\n",
       "    <tr>\n",
       "      <th>id098</th>\n",
       "      <td>2996139</td>\n",
       "    </tr>\n",
       "    <tr>\n",
       "      <th>id099</th>\n",
       "      <td>3001163</td>\n",
       "    </tr>\n",
       "    <tr>\n",
       "      <th>id100</th>\n",
       "      <td>2998376</td>\n",
       "    </tr>\n",
       "  </tbody>\n",
       "</table>\n",
       "<p>100 rows × 1 columns</p>\n",
       "</div>"
      ],
      "text/plain": [
       "            v1\n",
       "id1           \n",
       "id001  2997617\n",
       "id002  2997194\n",
       "id003  3001204\n",
       "id004  3000945\n",
       "id005  3001731\n",
       "...        ...\n",
       "id096  2997704\n",
       "id097  3004476\n",
       "id098  2996139\n",
       "id099  3001163\n",
       "id100  2998376\n",
       "\n",
       "[100 rows x 1 columns]"
      ]
     },
     "execution_count": 23,
     "metadata": {},
     "output_type": "execute_result"
    }
   ],
   "source": [
    "%%time\n",
    "\n",
    "df_parquet_1e8 = pd.read_parquet(\"~/data/parquet/G1_1e8_1e2_0_0.parquet\")\n",
    "df_parquet_1e8.groupby(\"id1\").agg({\"v1\": \"sum\"})"
   ]
  },
  {
   "cell_type": "code",
   "execution_count": 24,
   "id": "335bed59-388c-4f70-9943-73ed23e9cb2a",
   "metadata": {
    "tags": []
   },
   "outputs": [],
   "source": [
    "del df_parquet_1e8"
   ]
  },
  {
   "cell_type": "markdown",
   "id": "1fce896b-74ad-496f-9856-0466e45f05e4",
   "metadata": {},
   "source": [
    "## 1e8 Parquet + column pruning"
   ]
  },
  {
   "cell_type": "code",
   "execution_count": 15,
   "id": "d9dea77b-ae2f-4974-8d75-f3e5d995ab62",
   "metadata": {
    "tags": []
   },
   "outputs": [
    {
     "name": "stdout",
     "output_type": "stream",
     "text": [
      "CPU times: user 4.07 s, sys: 780 ms, total: 4.85 s\n",
      "Wall time: 4.5 s\n"
     ]
    },
    {
     "data": {
      "text/html": [
       "<div>\n",
       "<style scoped>\n",
       "    .dataframe tbody tr th:only-of-type {\n",
       "        vertical-align: middle;\n",
       "    }\n",
       "\n",
       "    .dataframe tbody tr th {\n",
       "        vertical-align: top;\n",
       "    }\n",
       "\n",
       "    .dataframe thead th {\n",
       "        text-align: right;\n",
       "    }\n",
       "</style>\n",
       "<table border=\"1\" class=\"dataframe\">\n",
       "  <thead>\n",
       "    <tr style=\"text-align: right;\">\n",
       "      <th></th>\n",
       "      <th>v1</th>\n",
       "    </tr>\n",
       "    <tr>\n",
       "      <th>id1</th>\n",
       "      <th></th>\n",
       "    </tr>\n",
       "  </thead>\n",
       "  <tbody>\n",
       "    <tr>\n",
       "      <th>id001</th>\n",
       "      <td>2997617</td>\n",
       "    </tr>\n",
       "    <tr>\n",
       "      <th>id002</th>\n",
       "      <td>2997194</td>\n",
       "    </tr>\n",
       "    <tr>\n",
       "      <th>id003</th>\n",
       "      <td>3001204</td>\n",
       "    </tr>\n",
       "    <tr>\n",
       "      <th>id004</th>\n",
       "      <td>3000945</td>\n",
       "    </tr>\n",
       "    <tr>\n",
       "      <th>id005</th>\n",
       "      <td>3001731</td>\n",
       "    </tr>\n",
       "    <tr>\n",
       "      <th>...</th>\n",
       "      <td>...</td>\n",
       "    </tr>\n",
       "    <tr>\n",
       "      <th>id096</th>\n",
       "      <td>2997704</td>\n",
       "    </tr>\n",
       "    <tr>\n",
       "      <th>id097</th>\n",
       "      <td>3004476</td>\n",
       "    </tr>\n",
       "    <tr>\n",
       "      <th>id098</th>\n",
       "      <td>2996139</td>\n",
       "    </tr>\n",
       "    <tr>\n",
       "      <th>id099</th>\n",
       "      <td>3001163</td>\n",
       "    </tr>\n",
       "    <tr>\n",
       "      <th>id100</th>\n",
       "      <td>2998376</td>\n",
       "    </tr>\n",
       "  </tbody>\n",
       "</table>\n",
       "<p>100 rows × 1 columns</p>\n",
       "</div>"
      ],
      "text/plain": [
       "            v1\n",
       "id1           \n",
       "id001  2997617\n",
       "id002  2997194\n",
       "id003  3001204\n",
       "id004  3000945\n",
       "id005  3001731\n",
       "...        ...\n",
       "id096  2997704\n",
       "id097  3004476\n",
       "id098  2996139\n",
       "id099  3001163\n",
       "id100  2998376\n",
       "\n",
       "[100 rows x 1 columns]"
      ]
     },
     "execution_count": 15,
     "metadata": {},
     "output_type": "execute_result"
    }
   ],
   "source": [
    "%%time\n",
    "\n",
    "df_parquet_1e8 = pd.read_parquet(\n",
    "    \"~/data/parquet/G1_1e8_1e2_0_0.parquet\", columns=[\"id1\", \"v1\"]\n",
    ")\n",
    "df_parquet_1e8.groupby(\"id1\").agg({\"v1\": \"sum\"})"
   ]
  },
  {
   "cell_type": "code",
   "execution_count": 14,
   "id": "ad3cbcd2-8203-45f3-b106-828bd5626e4f",
   "metadata": {
    "tags": []
   },
   "outputs": [],
   "source": [
    "del df_parquet_1e8"
   ]
  },
  {
   "cell_type": "markdown",
   "id": "8b01a23b-7b33-4b5d-9f87-5491bd15c385",
   "metadata": {},
   "source": [
    "## Does pandas CSV usecols make queries run faster?"
   ]
  },
  {
   "cell_type": "code",
   "execution_count": 8,
   "id": "0d059e75-f4cf-4cc0-9791-60475b400c5c",
   "metadata": {
    "tags": []
   },
   "outputs": [
    {
     "name": "stdout",
     "output_type": "stream",
     "text": [
      "CPU times: user 41.2 s, sys: 8.83 s, total: 50 s\n",
      "Wall time: 52.2 s\n"
     ]
    },
    {
     "data": {
      "text/html": [
       "<div>\n",
       "<style scoped>\n",
       "    .dataframe tbody tr th:only-of-type {\n",
       "        vertical-align: middle;\n",
       "    }\n",
       "\n",
       "    .dataframe tbody tr th {\n",
       "        vertical-align: top;\n",
       "    }\n",
       "\n",
       "    .dataframe thead th {\n",
       "        text-align: right;\n",
       "    }\n",
       "</style>\n",
       "<table border=\"1\" class=\"dataframe\">\n",
       "  <thead>\n",
       "    <tr style=\"text-align: right;\">\n",
       "      <th></th>\n",
       "      <th>v1</th>\n",
       "    </tr>\n",
       "    <tr>\n",
       "      <th>id1</th>\n",
       "      <th></th>\n",
       "    </tr>\n",
       "  </thead>\n",
       "  <tbody>\n",
       "    <tr>\n",
       "      <th>id001</th>\n",
       "      <td>2997617</td>\n",
       "    </tr>\n",
       "    <tr>\n",
       "      <th>id002</th>\n",
       "      <td>2997194</td>\n",
       "    </tr>\n",
       "    <tr>\n",
       "      <th>id003</th>\n",
       "      <td>3001204</td>\n",
       "    </tr>\n",
       "    <tr>\n",
       "      <th>id004</th>\n",
       "      <td>3000945</td>\n",
       "    </tr>\n",
       "    <tr>\n",
       "      <th>id005</th>\n",
       "      <td>3001731</td>\n",
       "    </tr>\n",
       "    <tr>\n",
       "      <th>...</th>\n",
       "      <td>...</td>\n",
       "    </tr>\n",
       "    <tr>\n",
       "      <th>id096</th>\n",
       "      <td>2997704</td>\n",
       "    </tr>\n",
       "    <tr>\n",
       "      <th>id097</th>\n",
       "      <td>3004476</td>\n",
       "    </tr>\n",
       "    <tr>\n",
       "      <th>id098</th>\n",
       "      <td>2996139</td>\n",
       "    </tr>\n",
       "    <tr>\n",
       "      <th>id099</th>\n",
       "      <td>3001163</td>\n",
       "    </tr>\n",
       "    <tr>\n",
       "      <th>id100</th>\n",
       "      <td>2998376</td>\n",
       "    </tr>\n",
       "  </tbody>\n",
       "</table>\n",
       "<p>100 rows × 1 columns</p>\n",
       "</div>"
      ],
      "text/plain": [
       "            v1\n",
       "id1           \n",
       "id001  2997617\n",
       "id002  2997194\n",
       "id003  3001204\n",
       "id004  3000945\n",
       "id005  3001731\n",
       "...        ...\n",
       "id096  2997704\n",
       "id097  3004476\n",
       "id098  2996139\n",
       "id099  3001163\n",
       "id100  2998376\n",
       "\n",
       "[100 rows x 1 columns]"
      ]
     },
     "execution_count": 8,
     "metadata": {},
     "output_type": "execute_result"
    }
   ],
   "source": [
    "%%time\n",
    "\n",
    "df_csv_1e8 = pd.read_csv(\"~/data/G1_1e8_1e2_0_0.csv\")\n",
    "df_csv_1e8.groupby(\"id1\").agg({\"v1\": \"sum\"})"
   ]
  },
  {
   "cell_type": "code",
   "execution_count": 9,
   "id": "838ff38c-7827-4c29-b183-4b0c0e7bfc35",
   "metadata": {
    "tags": []
   },
   "outputs": [],
   "source": [
    "del df_csv_1e8"
   ]
  },
  {
   "cell_type": "code",
   "execution_count": 11,
   "id": "60e72a66-1a07-4644-adaa-6e6e1eeb5d02",
   "metadata": {
    "tags": []
   },
   "outputs": [
    {
     "name": "stdout",
     "output_type": "stream",
     "text": [
      "CPU times: user 17.4 s, sys: 1.89 s, total: 19.3 s\n",
      "Wall time: 19.3 s\n"
     ]
    },
    {
     "data": {
      "text/html": [
       "<div>\n",
       "<style scoped>\n",
       "    .dataframe tbody tr th:only-of-type {\n",
       "        vertical-align: middle;\n",
       "    }\n",
       "\n",
       "    .dataframe tbody tr th {\n",
       "        vertical-align: top;\n",
       "    }\n",
       "\n",
       "    .dataframe thead th {\n",
       "        text-align: right;\n",
       "    }\n",
       "</style>\n",
       "<table border=\"1\" class=\"dataframe\">\n",
       "  <thead>\n",
       "    <tr style=\"text-align: right;\">\n",
       "      <th></th>\n",
       "      <th>v1</th>\n",
       "    </tr>\n",
       "    <tr>\n",
       "      <th>id1</th>\n",
       "      <th></th>\n",
       "    </tr>\n",
       "  </thead>\n",
       "  <tbody>\n",
       "    <tr>\n",
       "      <th>id001</th>\n",
       "      <td>2997617</td>\n",
       "    </tr>\n",
       "    <tr>\n",
       "      <th>id002</th>\n",
       "      <td>2997194</td>\n",
       "    </tr>\n",
       "    <tr>\n",
       "      <th>id003</th>\n",
       "      <td>3001204</td>\n",
       "    </tr>\n",
       "    <tr>\n",
       "      <th>id004</th>\n",
       "      <td>3000945</td>\n",
       "    </tr>\n",
       "    <tr>\n",
       "      <th>id005</th>\n",
       "      <td>3001731</td>\n",
       "    </tr>\n",
       "    <tr>\n",
       "      <th>...</th>\n",
       "      <td>...</td>\n",
       "    </tr>\n",
       "    <tr>\n",
       "      <th>id096</th>\n",
       "      <td>2997704</td>\n",
       "    </tr>\n",
       "    <tr>\n",
       "      <th>id097</th>\n",
       "      <td>3004476</td>\n",
       "    </tr>\n",
       "    <tr>\n",
       "      <th>id098</th>\n",
       "      <td>2996139</td>\n",
       "    </tr>\n",
       "    <tr>\n",
       "      <th>id099</th>\n",
       "      <td>3001163</td>\n",
       "    </tr>\n",
       "    <tr>\n",
       "      <th>id100</th>\n",
       "      <td>2998376</td>\n",
       "    </tr>\n",
       "  </tbody>\n",
       "</table>\n",
       "<p>100 rows × 1 columns</p>\n",
       "</div>"
      ],
      "text/plain": [
       "            v1\n",
       "id1           \n",
       "id001  2997617\n",
       "id002  2997194\n",
       "id003  3001204\n",
       "id004  3000945\n",
       "id005  3001731\n",
       "...        ...\n",
       "id096  2997704\n",
       "id097  3004476\n",
       "id098  2996139\n",
       "id099  3001163\n",
       "id100  2998376\n",
       "\n",
       "[100 rows x 1 columns]"
      ]
     },
     "execution_count": 11,
     "metadata": {},
     "output_type": "execute_result"
    }
   ],
   "source": [
    "%%time\n",
    "\n",
    "df_csv_1e8_usecols = pd.read_csv(\"~/data/G1_1e8_1e2_0_0.csv\", usecols=[\"id1\", \"v1\"])\n",
    "df_csv_1e8_usecols.groupby(\"id1\").agg({\"v1\": \"sum\"})"
   ]
  },
  {
   "cell_type": "code",
   "execution_count": 12,
   "id": "f86bfa9a-5ba7-4070-a1f5-e910b6d01203",
   "metadata": {
    "tags": []
   },
   "outputs": [],
   "source": [
    "del df_csv_1e8_usecols"
   ]
  },
  {
   "cell_type": "markdown",
   "id": "173da7bc-f63e-4bed-a62a-e9634b719807",
   "metadata": {},
   "source": [
    "## 1e9 CSV + usecols"
   ]
  },
  {
   "cell_type": "code",
   "execution_count": 7,
   "id": "4df46a6a-f3ac-4089-9735-9c10946af289",
   "metadata": {
    "tags": []
   },
   "outputs": [
    {
     "name": "stdout",
     "output_type": "stream",
     "text": [
      "CPU times: user 2min 55s, sys: 23.4 s, total: 3min 19s\n",
      "Wall time: 3min 24s\n"
     ]
    },
    {
     "data": {
      "text/html": [
       "<div>\n",
       "<style scoped>\n",
       "    .dataframe tbody tr th:only-of-type {\n",
       "        vertical-align: middle;\n",
       "    }\n",
       "\n",
       "    .dataframe tbody tr th {\n",
       "        vertical-align: top;\n",
       "    }\n",
       "\n",
       "    .dataframe thead th {\n",
       "        text-align: right;\n",
       "    }\n",
       "</style>\n",
       "<table border=\"1\" class=\"dataframe\">\n",
       "  <thead>\n",
       "    <tr style=\"text-align: right;\">\n",
       "      <th></th>\n",
       "      <th>v1</th>\n",
       "    </tr>\n",
       "    <tr>\n",
       "      <th>id1</th>\n",
       "      <th></th>\n",
       "    </tr>\n",
       "  </thead>\n",
       "  <tbody>\n",
       "    <tr>\n",
       "      <th>id001</th>\n",
       "      <td>30009448</td>\n",
       "    </tr>\n",
       "    <tr>\n",
       "      <th>id002</th>\n",
       "      <td>29996534</td>\n",
       "    </tr>\n",
       "    <tr>\n",
       "      <th>id003</th>\n",
       "      <td>30003365</td>\n",
       "    </tr>\n",
       "    <tr>\n",
       "      <th>id004</th>\n",
       "      <td>30015990</td>\n",
       "    </tr>\n",
       "    <tr>\n",
       "      <th>id005</th>\n",
       "      <td>29993888</td>\n",
       "    </tr>\n",
       "    <tr>\n",
       "      <th>...</th>\n",
       "      <td>...</td>\n",
       "    </tr>\n",
       "    <tr>\n",
       "      <th>id096</th>\n",
       "      <td>29993372</td>\n",
       "    </tr>\n",
       "    <tr>\n",
       "      <th>id097</th>\n",
       "      <td>30015928</td>\n",
       "    </tr>\n",
       "    <tr>\n",
       "      <th>id098</th>\n",
       "      <td>29997789</td>\n",
       "    </tr>\n",
       "    <tr>\n",
       "      <th>id099</th>\n",
       "      <td>30009485</td>\n",
       "    </tr>\n",
       "    <tr>\n",
       "      <th>id100</th>\n",
       "      <td>29987827</td>\n",
       "    </tr>\n",
       "  </tbody>\n",
       "</table>\n",
       "<p>100 rows × 1 columns</p>\n",
       "</div>"
      ],
      "text/plain": [
       "             v1\n",
       "id1            \n",
       "id001  30009448\n",
       "id002  29996534\n",
       "id003  30003365\n",
       "id004  30015990\n",
       "id005  29993888\n",
       "...         ...\n",
       "id096  29993372\n",
       "id097  30015928\n",
       "id098  29997789\n",
       "id099  30009485\n",
       "id100  29987827\n",
       "\n",
       "[100 rows x 1 columns]"
      ]
     },
     "execution_count": 7,
     "metadata": {},
     "output_type": "execute_result"
    }
   ],
   "source": [
    "%%time\n",
    "\n",
    "df = pd.read_csv(\"~/data/G1_1e9_1e2_0_0.csv\", usecols=[\"id1\", \"v1\"])\n",
    "df.groupby(\"id1\").agg({\"v1\": \"sum\"})"
   ]
  },
  {
   "cell_type": "code",
   "execution_count": 8,
   "id": "6f0d6a0a-2cd6-4e35-9db6-995bb8b0a2c0",
   "metadata": {
    "tags": []
   },
   "outputs": [],
   "source": [
    "del df"
   ]
  },
  {
   "cell_type": "code",
   "execution_count": 9,
   "id": "fe5decc7-811b-456b-a6f6-68d5ac5cf458",
   "metadata": {
    "tags": []
   },
   "outputs": [
    {
     "data": {
      "text/plain": [
       "0"
      ]
     },
     "execution_count": 9,
     "metadata": {},
     "output_type": "execute_result"
    }
   ],
   "source": [
    "gc.collect()"
   ]
  },
  {
   "cell_type": "markdown",
   "id": "01b7e924-5536-4d4f-a85a-a3f971b3db27",
   "metadata": {},
   "source": [
    "## 1e9 CSV + pyarrow + usecols"
   ]
  },
  {
   "cell_type": "code",
   "execution_count": 2,
   "id": "d9183c1a-8b57-4db5-8aad-e25dfaa287e2",
   "metadata": {
    "tags": []
   },
   "outputs": [
    {
     "name": "stdout",
     "output_type": "stream",
     "text": [
      "CPU times: user 2min 33s, sys: 53 s, total: 3min 27s\n",
      "Wall time: 2min 19s\n"
     ]
    },
    {
     "data": {
      "text/html": [
       "<div>\n",
       "<style scoped>\n",
       "    .dataframe tbody tr th:only-of-type {\n",
       "        vertical-align: middle;\n",
       "    }\n",
       "\n",
       "    .dataframe tbody tr th {\n",
       "        vertical-align: top;\n",
       "    }\n",
       "\n",
       "    .dataframe thead th {\n",
       "        text-align: right;\n",
       "    }\n",
       "</style>\n",
       "<table border=\"1\" class=\"dataframe\">\n",
       "  <thead>\n",
       "    <tr style=\"text-align: right;\">\n",
       "      <th></th>\n",
       "      <th>v1</th>\n",
       "    </tr>\n",
       "    <tr>\n",
       "      <th>id1</th>\n",
       "      <th></th>\n",
       "    </tr>\n",
       "  </thead>\n",
       "  <tbody>\n",
       "    <tr>\n",
       "      <th>id001</th>\n",
       "      <td>30009448</td>\n",
       "    </tr>\n",
       "    <tr>\n",
       "      <th>id002</th>\n",
       "      <td>29996534</td>\n",
       "    </tr>\n",
       "    <tr>\n",
       "      <th>id003</th>\n",
       "      <td>30003365</td>\n",
       "    </tr>\n",
       "    <tr>\n",
       "      <th>id004</th>\n",
       "      <td>30015990</td>\n",
       "    </tr>\n",
       "    <tr>\n",
       "      <th>id005</th>\n",
       "      <td>29993888</td>\n",
       "    </tr>\n",
       "    <tr>\n",
       "      <th>...</th>\n",
       "      <td>...</td>\n",
       "    </tr>\n",
       "    <tr>\n",
       "      <th>id096</th>\n",
       "      <td>29993372</td>\n",
       "    </tr>\n",
       "    <tr>\n",
       "      <th>id097</th>\n",
       "      <td>30015928</td>\n",
       "    </tr>\n",
       "    <tr>\n",
       "      <th>id098</th>\n",
       "      <td>29997789</td>\n",
       "    </tr>\n",
       "    <tr>\n",
       "      <th>id099</th>\n",
       "      <td>30009485</td>\n",
       "    </tr>\n",
       "    <tr>\n",
       "      <th>id100</th>\n",
       "      <td>29987827</td>\n",
       "    </tr>\n",
       "  </tbody>\n",
       "</table>\n",
       "<p>100 rows × 1 columns</p>\n",
       "</div>"
      ],
      "text/plain": [
       "             v1\n",
       "id1            \n",
       "id001  30009448\n",
       "id002  29996534\n",
       "id003  30003365\n",
       "id004  30015990\n",
       "id005  29993888\n",
       "...         ...\n",
       "id096  29993372\n",
       "id097  30015928\n",
       "id098  29997789\n",
       "id099  30009485\n",
       "id100  29987827\n",
       "\n",
       "[100 rows x 1 columns]"
      ]
     },
     "execution_count": 2,
     "metadata": {},
     "output_type": "execute_result"
    }
   ],
   "source": [
    "%%time\n",
    "\n",
    "df_csv_1e9_usecols = pd.read_csv(\n",
    "    \"~/data/G1_1e9_1e2_0_0.csv\", engine=\"pyarrow\", usecols=[\"id1\", \"v1\"]\n",
    ")\n",
    "df_csv_1e9_usecols.groupby(\"id1\").agg({\"v1\": \"sum\"})"
   ]
  },
  {
   "cell_type": "code",
   "execution_count": 5,
   "id": "c7e85a95-0b02-4e08-b275-907f4b9df03d",
   "metadata": {
    "tags": []
   },
   "outputs": [],
   "source": [
    "del df_csv_1e9_usecols"
   ]
  },
  {
   "cell_type": "code",
   "execution_count": 6,
   "id": "26ed3b5f-7737-40ef-abc2-0f4ac0f4bb76",
   "metadata": {
    "tags": []
   },
   "outputs": [
    {
     "data": {
      "text/plain": [
       "0"
      ]
     },
     "execution_count": 6,
     "metadata": {},
     "output_type": "execute_result"
    }
   ],
   "source": [
    "gc.collect()"
   ]
  },
  {
   "cell_type": "code",
   "execution_count": null,
   "id": "593de876-6c10-4a2d-a3bf-25483a7501d7",
   "metadata": {},
   "outputs": [],
   "source": []
  }
 ],
 "metadata": {
  "kernelspec": {
   "display_name": "Python [conda env:pandas-201]",
   "language": "python",
   "name": "conda-env-pandas-201-py"
  },
  "language_info": {
   "codemirror_mode": {
    "name": "ipython",
    "version": 3
   },
   "file_extension": ".py",
   "mimetype": "text/x-python",
   "name": "python",
   "nbconvert_exporter": "python",
   "pygments_lexer": "ipython3",
   "version": "3.9.16"
  }
 },
 "nbformat": 4,
 "nbformat_minor": 5
}
