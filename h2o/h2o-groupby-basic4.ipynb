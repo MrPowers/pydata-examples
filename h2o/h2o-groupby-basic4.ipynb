{
 "cells": [
  {
   "cell_type": "markdown",
   "id": "46d1d316-b9de-44b5-94d2-04d88dc1c42d",
   "metadata": {},
   "source": [
    "# h2o groupby - query 4"
   ]
  },
  {
   "cell_type": "code",
   "execution_count": 5,
   "id": "60bb8c6d-2203-42ff-8b23-ba10272bc95d",
   "metadata": {},
   "outputs": [],
   "source": [
    "import pandas as pd\n",
    "import polars as pl"
   ]
  },
  {
   "cell_type": "markdown",
   "id": "54af985c-23ab-48fe-82d4-ea2e8172a652",
   "metadata": {},
   "source": [
    "## Polars 1e9 Parquet"
   ]
  },
  {
   "cell_type": "code",
   "execution_count": 3,
   "id": "434ae4c1-35bc-4de0-b0ee-d6d3e207e1b0",
   "metadata": {},
   "outputs": [
    {
     "name": "stdout",
     "output_type": "stream",
     "text": [
      "CPU times: user 30.3 s, sys: 17.1 s, total: 47.4 s\n",
      "Wall time: 11.5 s\n"
     ]
    },
    {
     "data": {
      "text/html": [
       "<div><style>\n",
       ".dataframe > thead > tr > th,\n",
       ".dataframe > tbody > tr > td {\n",
       "  text-align: right;\n",
       "}\n",
       "</style>\n",
       "<small>shape: (100, 4)</small><table border=\"1\" class=\"dataframe\"><thead><tr><th>id4</th><th>v1_mean</th><th>v2_mean</th><th>v3_mean</th></tr><tr><td>i64</td><td>f64</td><td>f64</td><td>f64</td></tr></thead><tbody><tr><td>12</td><td>2.99984</td><td>8.00007</td><td>49.99989</td></tr><tr><td>60</td><td>2.999751</td><td>7.998735</td><td>49.991873</td></tr><tr><td>24</td><td>2.999709</td><td>8.00059</td><td>49.990037</td></tr><tr><td>72</td><td>2.999663</td><td>8.002505</td><td>49.997393</td></tr><tr><td>67</td><td>2.999492</td><td>7.999422</td><td>50.005143</td></tr><tr><td>84</td><td>2.999165</td><td>7.998618</td><td>49.992159</td></tr><tr><td>36</td><td>2.999718</td><td>7.999917</td><td>50.005492</td></tr><tr><td>5</td><td>2.999809</td><td>7.999542</td><td>49.993548</td></tr><tr><td>48</td><td>2.999959</td><td>7.999087</td><td>49.998138</td></tr><tr><td>91</td><td>3.000607</td><td>7.998143</td><td>50.013529</td></tr><tr><td>79</td><td>3.000387</td><td>7.999028</td><td>50.006693</td></tr><tr><td>17</td><td>2.999552</td><td>8.000989</td><td>50.006284</td></tr><tr><td>&hellip;</td><td>&hellip;</td><td>&hellip;</td><td>&hellip;</td></tr><tr><td>69</td><td>3.000025</td><td>7.999082</td><td>49.976641</td></tr><tr><td>27</td><td>2.999891</td><td>8.00225</td><td>49.995202</td></tr><tr><td>100</td><td>2.999844</td><td>8.000531</td><td>49.988959</td></tr><tr><td>76</td><td>3.000283</td><td>7.998808</td><td>50.002063</td></tr><tr><td>33</td><td>2.999956</td><td>7.99982</td><td>50.00828</td></tr><tr><td>64</td><td>2.999731</td><td>8.001908</td><td>49.994006</td></tr><tr><td>39</td><td>3.00028</td><td>7.999938</td><td>50.005987</td></tr><tr><td>70</td><td>2.999638</td><td>7.999434</td><td>50.006209</td></tr><tr><td>51</td><td>2.999898</td><td>8.00039</td><td>49.991699</td></tr><tr><td>88</td><td>3.0006</td><td>8.00052</td><td>50.008474</td></tr><tr><td>45</td><td>2.999788</td><td>7.998148</td><td>49.992306</td></tr><tr><td>82</td><td>2.999538</td><td>7.999011</td><td>50.000214</td></tr></tbody></table></div>"
      ],
      "text/plain": [
       "shape: (100, 4)\n",
       "┌─────┬──────────┬──────────┬───────────┐\n",
       "│ id4 ┆ v1_mean  ┆ v2_mean  ┆ v3_mean   │\n",
       "│ --- ┆ ---      ┆ ---      ┆ ---       │\n",
       "│ i64 ┆ f64      ┆ f64      ┆ f64       │\n",
       "╞═════╪══════════╪══════════╪═══════════╡\n",
       "│ 12  ┆ 2.99984  ┆ 8.00007  ┆ 49.99989  │\n",
       "│ 60  ┆ 2.999751 ┆ 7.998735 ┆ 49.991873 │\n",
       "│ 24  ┆ 2.999709 ┆ 8.00059  ┆ 49.990037 │\n",
       "│ 72  ┆ 2.999663 ┆ 8.002505 ┆ 49.997393 │\n",
       "│ …   ┆ …        ┆ …        ┆ …         │\n",
       "│ 51  ┆ 2.999898 ┆ 8.00039  ┆ 49.991699 │\n",
       "│ 88  ┆ 3.0006   ┆ 8.00052  ┆ 50.008474 │\n",
       "│ 45  ┆ 2.999788 ┆ 7.998148 ┆ 49.992306 │\n",
       "│ 82  ┆ 2.999538 ┆ 7.999011 ┆ 50.000214 │\n",
       "└─────┴──────────┴──────────┴───────────┘"
      ]
     },
     "execution_count": 3,
     "metadata": {},
     "output_type": "execute_result"
    }
   ],
   "source": [
    "%%time\n",
    "\n",
    "(\n",
    "    pl.scan_parquet(\"~/data/G1_1e9_1e2_0_0.parquet\")\n",
    "    .groupby(\"id4\")\n",
    "    .agg(\n",
    "        [\n",
    "            pl.mean(\"v1\").alias(\"v1_mean\"),\n",
    "            pl.mean(\"v2\").alias(\"v2_mean\"),\n",
    "            pl.mean(\"v3\").alias(\"v3_mean\"),\n",
    "        ]\n",
    "    )\n",
    ").collect(streaming=True)"
   ]
  },
  {
   "cell_type": "markdown",
   "id": "3ea9242e-69fd-4975-a7f6-a857c79e2894",
   "metadata": {},
   "source": [
    "## pandas 1e9"
   ]
  },
  {
   "cell_type": "code",
   "execution_count": 7,
   "id": "62ffd0ed-99c0-4cf0-a92d-0829426ad4b6",
   "metadata": {},
   "outputs": [
    {
     "name": "stdout",
     "output_type": "stream",
     "text": [
      "CPU times: user 32.9 s, sys: 46.8 s, total: 1min 19s\n",
      "Wall time: 53.7 s\n"
     ]
    },
    {
     "data": {
      "text/html": [
       "<div>\n",
       "<style scoped>\n",
       "    .dataframe tbody tr th:only-of-type {\n",
       "        vertical-align: middle;\n",
       "    }\n",
       "\n",
       "    .dataframe tbody tr th {\n",
       "        vertical-align: top;\n",
       "    }\n",
       "\n",
       "    .dataframe thead th {\n",
       "        text-align: right;\n",
       "    }\n",
       "</style>\n",
       "<table border=\"1\" class=\"dataframe\">\n",
       "  <thead>\n",
       "    <tr style=\"text-align: right;\">\n",
       "      <th></th>\n",
       "      <th>id4</th>\n",
       "      <th>v1</th>\n",
       "      <th>v2</th>\n",
       "      <th>v3</th>\n",
       "    </tr>\n",
       "  </thead>\n",
       "  <tbody>\n",
       "    <tr>\n",
       "      <th>0</th>\n",
       "      <td>31</td>\n",
       "      <td>3.000027</td>\n",
       "      <td>8.000086</td>\n",
       "      <td>50.005195</td>\n",
       "    </tr>\n",
       "    <tr>\n",
       "      <th>1</th>\n",
       "      <td>32</td>\n",
       "      <td>2.999118</td>\n",
       "      <td>8.000395</td>\n",
       "      <td>50.003075</td>\n",
       "    </tr>\n",
       "    <tr>\n",
       "      <th>2</th>\n",
       "      <td>52</td>\n",
       "      <td>3.000156</td>\n",
       "      <td>8.000799</td>\n",
       "      <td>50.000750</td>\n",
       "    </tr>\n",
       "    <tr>\n",
       "      <th>3</th>\n",
       "      <td>37</td>\n",
       "      <td>2.999983</td>\n",
       "      <td>8.000249</td>\n",
       "      <td>50.008905</td>\n",
       "    </tr>\n",
       "    <tr>\n",
       "      <th>4</th>\n",
       "      <td>94</td>\n",
       "      <td>2.999754</td>\n",
       "      <td>7.999775</td>\n",
       "      <td>50.009630</td>\n",
       "    </tr>\n",
       "    <tr>\n",
       "      <th>...</th>\n",
       "      <td>...</td>\n",
       "      <td>...</td>\n",
       "      <td>...</td>\n",
       "      <td>...</td>\n",
       "    </tr>\n",
       "    <tr>\n",
       "      <th>95</th>\n",
       "      <td>27</td>\n",
       "      <td>2.999891</td>\n",
       "      <td>8.002250</td>\n",
       "      <td>49.995202</td>\n",
       "    </tr>\n",
       "    <tr>\n",
       "      <th>96</th>\n",
       "      <td>100</td>\n",
       "      <td>2.999844</td>\n",
       "      <td>8.000531</td>\n",
       "      <td>49.988959</td>\n",
       "    </tr>\n",
       "    <tr>\n",
       "      <th>97</th>\n",
       "      <td>72</td>\n",
       "      <td>2.999663</td>\n",
       "      <td>8.002505</td>\n",
       "      <td>49.997393</td>\n",
       "    </tr>\n",
       "    <tr>\n",
       "      <th>98</th>\n",
       "      <td>83</td>\n",
       "      <td>2.999361</td>\n",
       "      <td>7.998659</td>\n",
       "      <td>49.995630</td>\n",
       "    </tr>\n",
       "    <tr>\n",
       "      <th>99</th>\n",
       "      <td>33</td>\n",
       "      <td>2.999956</td>\n",
       "      <td>7.999820</td>\n",
       "      <td>50.008280</td>\n",
       "    </tr>\n",
       "  </tbody>\n",
       "</table>\n",
       "<p>100 rows × 4 columns</p>\n",
       "</div>"
      ],
      "text/plain": [
       "    id4        v1        v2         v3\n",
       "0    31  3.000027  8.000086  50.005195\n",
       "1    32  2.999118  8.000395  50.003075\n",
       "2    52  3.000156  8.000799  50.000750\n",
       "3    37  2.999983  8.000249  50.008905\n",
       "4    94  2.999754  7.999775  50.009630\n",
       "..  ...       ...       ...        ...\n",
       "95   27  2.999891  8.002250  49.995202\n",
       "96  100  2.999844  8.000531  49.988959\n",
       "97   72  2.999663  8.002505  49.997393\n",
       "98   83  2.999361  7.998659  49.995630\n",
       "99   33  2.999956  7.999820  50.008280\n",
       "\n",
       "[100 rows x 4 columns]"
      ]
     },
     "execution_count": 7,
     "metadata": {},
     "output_type": "execute_result"
    }
   ],
   "source": [
    "%%time\n",
    "\n",
    "(\n",
    "    pd.read_parquet(\"~/data/G1_1e9_1e2_0_0.parquet\", columns=[\"id4\", \"v1\", \"v2\", \"v3\"])\n",
    "    .groupby(\"id4\", as_index=False, sort=False, observed=True, dropna=False)\n",
    "    .agg({\"v1\": \"mean\", \"v2\": \"mean\", \"v3\": \"mean\"})\n",
    ")"
   ]
  },
  {
   "cell_type": "markdown",
   "id": "a604c795-7043-4f4e-81a2-fe0808519cbc",
   "metadata": {},
   "source": [
    "## datafusion 1e9"
   ]
  },
  {
   "cell_type": "code",
   "execution_count": 8,
   "id": "f079c145-ebb9-463e-b20c-0957b1538ac6",
   "metadata": {},
   "outputs": [],
   "source": [
    "import pathlib\n",
    "\n",
    "from datafusion import SessionContext"
   ]
  },
  {
   "cell_type": "code",
   "execution_count": 9,
   "id": "c9840f4d-1e34-45d3-a3ea-e85f85aa775c",
   "metadata": {},
   "outputs": [],
   "source": [
    "# Create a DataFusion context\n",
    "ctx = SessionContext()"
   ]
  },
  {
   "cell_type": "code",
   "execution_count": 10,
   "id": "267f91a7-b964-463c-a02a-3a53ac1b3cef",
   "metadata": {},
   "outputs": [],
   "source": [
    "ctx.register_parquet(\"x\", f\"{pathlib.Path.home()}/data/G1_1e9_1e2_0_0.parquet\")"
   ]
  },
  {
   "cell_type": "code",
   "execution_count": 11,
   "id": "127aaaa8-1460-479f-aaf3-92c02361a95f",
   "metadata": {},
   "outputs": [
    {
     "name": "stdout",
     "output_type": "stream",
     "text": [
      "DataFrame()\n",
      "+-----+--------------------+-------------------+--------------------+\n",
      "| id4 | v1                 | v2                | v3                 |\n",
      "+-----+--------------------+-------------------+--------------------+\n",
      "| 51  | 2.9998978856120826 | 8.000389554888283 | 49.99169947291488  |\n",
      "| 94  | 2.999753562664744  | 7.999774665861878 | 50.00962994793638  |\n",
      "| 64  | 2.99973078998151   | 8.001908353275093 | 49.99400574534753  |\n",
      "| 28  | 2.9998600201990855 | 7.999258307026296 | 49.99759693434262  |\n",
      "| 54  | 2.999831937917867  | 8.000056820989673 | 50.00737585565297  |\n",
      "| 48  | 2.9999585949899936 | 7.999086989525733 | 49.99813764497906  |\n",
      "| 42  | 3.0005378493745725 | 8.003788547788687 | 50.006665325973735 |\n",
      "| 24  | 2.9997089870710685 | 8.000589723554713 | 49.990037046851555 |\n",
      "| 75  | 2.9989431071170487 | 7.997714182838368 | 50.01580391849532  |\n",
      "| 12  | 2.999839676400366  | 8.00007011032024  | 49.999889884748356 |\n",
      "+-----+--------------------+-------------------+--------------------+\n",
      "CPU times: user 38.9 s, sys: 9.37 s, total: 48.3 s\n",
      "Wall time: 9.82 s\n"
     ]
    }
   ],
   "source": [
    "%%time\n",
    "\n",
    "res = ctx.sql(\n",
    "    \"select id4, mean(v1) as v1, mean(v2) as v2, mean(v3) as v3 from x group by id4\"\n",
    ")\n",
    "print(res)"
   ]
  },
  {
   "cell_type": "markdown",
   "id": "45262d7a-8958-425e-9d99-8ee08761f3c8",
   "metadata": {},
   "source": [
    "## Spark 1e9"
   ]
  },
  {
   "cell_type": "code",
   "execution_count": 1,
   "id": "bca7f14e-c351-4769-9c87-131a132dc334",
   "metadata": {},
   "outputs": [],
   "source": [
    "from pathlib import Path\n",
    "\n",
    "import delta\n",
    "from delta import *\n",
    "from pyspark.sql import functions as F\n",
    "\n",
    "import pyspark"
   ]
  },
  {
   "cell_type": "code",
   "execution_count": 2,
   "id": "d0dfd885-1016-452f-a849-8114a94d10bf",
   "metadata": {},
   "outputs": [
    {
     "name": "stdout",
     "output_type": "stream",
     "text": [
      ":: loading settings :: url = jar:file:/Users/matthew.powers/opt/miniconda3/envs/pyspark-340-delta-240/lib/python3.9/site-packages/pyspark/jars/ivy-2.5.1.jar!/org/apache/ivy/core/settings/ivysettings.xml\n"
     ]
    },
    {
     "name": "stderr",
     "output_type": "stream",
     "text": [
      "Ivy Default Cache set to: /Users/matthew.powers/.ivy2/cache\n",
      "The jars for the packages stored in: /Users/matthew.powers/.ivy2/jars\n",
      "io.delta#delta-core_2.12 added as a dependency\n",
      ":: resolving dependencies :: org.apache.spark#spark-submit-parent-cc68e7ab-1246-48b1-8189-c19e7e19b161;1.0\n",
      "\tconfs: [default]\n",
      "\tfound io.delta#delta-core_2.12;2.4.0 in central\n",
      "\tfound io.delta#delta-storage;2.4.0 in central\n",
      "\tfound org.antlr#antlr4-runtime;4.9.3 in central\n",
      ":: resolution report :: resolve 108ms :: artifacts dl 3ms\n",
      "\t:: modules in use:\n",
      "\tio.delta#delta-core_2.12;2.4.0 from central in [default]\n",
      "\tio.delta#delta-storage;2.4.0 from central in [default]\n",
      "\torg.antlr#antlr4-runtime;4.9.3 from central in [default]\n",
      "\t---------------------------------------------------------------------\n",
      "\t|                  |            modules            ||   artifacts   |\n",
      "\t|       conf       | number| search|dwnlded|evicted|| number|dwnlded|\n",
      "\t---------------------------------------------------------------------\n",
      "\t|      default     |   3   |   0   |   0   |   0   ||   3   |   0   |\n",
      "\t---------------------------------------------------------------------\n",
      ":: retrieving :: org.apache.spark#spark-submit-parent-cc68e7ab-1246-48b1-8189-c19e7e19b161\n",
      "\tconfs: [default]\n",
      "\t0 artifacts copied, 3 already retrieved (0kB/4ms)\n",
      "23/06/30 08:12:35 WARN NativeCodeLoader: Unable to load native-hadoop library for your platform... using builtin-java classes where applicable\n",
      "Setting default log level to \"WARN\".\n",
      "To adjust logging level use sc.setLogLevel(newLevel). For SparkR, use setLogLevel(newLevel).\n"
     ]
    }
   ],
   "source": [
    "builder = (\n",
    "    pyspark.sql.SparkSession.builder.appName(\"MyApp\")\n",
    "    .config(\"spark.sql.extensions\", \"io.delta.sql.DeltaSparkSessionExtension\")\n",
    "    .config(\"spark.executor.memory\", \"10G\")\n",
    "    .config(\"spark.driver.memory\", \"25G\")\n",
    "    .config(\n",
    "        \"spark.sql.catalog.spark_catalog\",\n",
    "        \"org.apache.spark.sql.delta.catalog.DeltaCatalog\",\n",
    "    )\n",
    ")\n",
    "\n",
    "spark = configure_spark_with_delta_pip(builder).getOrCreate()"
   ]
  },
  {
   "cell_type": "code",
   "execution_count": 4,
   "id": "fa42b6b1-af67-499c-9d34-dc9a80a1934e",
   "metadata": {},
   "outputs": [],
   "source": [
    "spark.read.format(\"delta\").load(\n",
    "    f\"{Path.home()}/data/delta/G1_1e9_1e2_0_0\"\n",
    ").createOrReplaceTempView(\"x0\")"
   ]
  },
  {
   "cell_type": "code",
   "execution_count": 5,
   "id": "89407ca1-bc9a-46e9-9959-ac3d79d99a1a",
   "metadata": {},
   "outputs": [
    {
     "name": "stderr",
     "output_type": "stream",
     "text": [
      "23/06/30 08:13:02 WARN package: Truncated the string representation of a plan since it was too large. This behavior can be adjusted by setting 'spark.sql.debug.maxToStringFields'.\n",
      "[Stage 9:====================================================>  (169 + 7) / 176]\r"
     ]
    },
    {
     "name": "stdout",
     "output_type": "stream",
     "text": [
      "+---+------------------+------------------+------------------+\n",
      "|id4|                v1|                v2|                v3|\n",
      "+---+------------------+------------------+------------------+\n",
      "| 31|  3.00002710005962| 8.000085500188101|50.005194701907875|\n",
      "| 85|2.9997569215610573| 7.999475546519024| 50.00824121783243|\n",
      "| 65| 3.000018497648949| 7.999512062016918| 49.99618929804722|\n",
      "| 53|2.9999569305190343| 8.002265294812096|49.980730604806816|\n",
      "| 78| 3.000358751285417| 7.999743191703941|  50.0013464052305|\n",
      "| 34| 3.000038691863101| 7.999651073379268|49.990471598797704|\n",
      "| 81| 2.999849930119025| 7.999589682350752| 49.99841869137996|\n",
      "| 28|2.9998600201990855| 7.999258307026296|49.997596934342674|\n",
      "| 76|3.0002825900331844|7.9988081202671175| 50.00206271448731|\n",
      "| 27|2.9998909979071597|  8.00225034320659|49.995202221886636|\n",
      "| 26|2.9996000727467673|  8.00324590956905|49.992869292253644|\n",
      "| 44|3.0004836689000896| 7.999020962952082|50.003574675633864|\n",
      "| 12| 2.999839676400366|  8.00007011032024|49.999889884748185|\n",
      "| 91| 3.000607368929785|  7.99814300074044|50.013529191699156|\n",
      "| 22| 2.999889503403295|  7.99916722564945|  49.9978494023795|\n",
      "| 93| 3.000323265669186| 8.001615628420263|49.997891454020916|\n",
      "| 47|2.9990407816324534| 8.000507862670254| 50.00221615082732|\n",
      "|  1|2.9998097854443784|  8.00123704431969|50.000112077970755|\n",
      "| 52|3.0001563533321214| 8.000798572393043| 50.00074978905507|\n",
      "| 13| 2.999724693199922|  7.99826255708516| 49.99450817674691|\n",
      "+---+------------------+------------------+------------------+\n",
      "only showing top 20 rows\n",
      "\n",
      "CPU times: user 24.1 ms, sys: 8.63 ms, total: 32.7 ms\n",
      "Wall time: 12.1 s\n"
     ]
    },
    {
     "name": "stderr",
     "output_type": "stream",
     "text": [
      "                                                                                \r"
     ]
    }
   ],
   "source": [
    "%%time\n",
    "\n",
    "spark.sql(\n",
    "    \"select id4, mean(v1) as v1, mean(v2) as v2, mean(v3) as v3 from x0 group by id4\"\n",
    ").show()"
   ]
  },
  {
   "cell_type": "code",
   "execution_count": null,
   "id": "45515855-fcb7-46dc-bfcf-cc1eb8382a50",
   "metadata": {},
   "outputs": [],
   "source": []
  }
 ],
 "metadata": {
  "kernelspec": {
   "display_name": "Python [conda env:pyspark-340-delta-240]",
   "language": "python",
   "name": "conda-env-pyspark-340-delta-240-py"
  },
  "language_info": {
   "codemirror_mode": {
    "name": "ipython",
    "version": 3
   },
   "file_extension": ".py",
   "mimetype": "text/x-python",
   "name": "python",
   "nbconvert_exporter": "python",
   "pygments_lexer": "ipython3",
   "version": "3.9.16"
  }
 },
 "nbformat": 4,
 "nbformat_minor": 5
}
