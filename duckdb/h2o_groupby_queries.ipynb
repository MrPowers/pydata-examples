{
 "cells": [
  {
   "cell_type": "markdown",
   "id": "058be3c2-41e5-4e55-bf0c-caabbb70fad4",
   "metadata": {
    "tags": []
   },
   "source": [
    "# DuckDB h2o benchmarks"
   ]
  },
  {
   "cell_type": "code",
   "execution_count": 5,
   "id": "8f0820a2-5c27-43e4-8ae9-55650c15ee6a",
   "metadata": {
    "tags": []
   },
   "outputs": [],
   "source": [
    "import duckdb"
   ]
  },
  {
   "cell_type": "code",
   "execution_count": 6,
   "id": "538fbf07-be8b-4814-88c7-d0eb1e841167",
   "metadata": {
    "tags": []
   },
   "outputs": [
    {
     "name": "stdout",
     "output_type": "stream",
     "text": [
      "┌─────────┬────────┐\n",
      "│   id1   │   v1   │\n",
      "│ varchar │ int128 │\n",
      "├─────────┼────────┤\n",
      "│ id016   │ 298268 │\n",
      "│ id039   │ 299711 │\n",
      "│ id047   │ 298115 │\n",
      "│ id043   │ 299557 │\n",
      "│ id054   │ 299408 │\n",
      "│ id029   │ 298486 │\n",
      "│ id091   │ 300497 │\n",
      "│ id090   │ 299207 │\n",
      "│ id070   │ 298446 │\n",
      "│ id023   │ 299417 │\n",
      "│   ·     │    ·   │\n",
      "│   ·     │    ·   │\n",
      "│   ·     │    ·   │\n",
      "│ id080   │ 302108 │\n",
      "│ id068   │ 299946 │\n",
      "│ id077   │ 301454 │\n",
      "│ id028   │ 298640 │\n",
      "│ id084   │ 301421 │\n",
      "│ id008   │ 300392 │\n",
      "│ id062   │ 299313 │\n",
      "│ id011   │ 300188 │\n",
      "│ id059   │ 301107 │\n",
      "│ id096   │ 300114 │\n",
      "├─────────┴────────┤\n",
      "│     100 rows     │\n",
      "│    (20 shown)    │\n",
      "└──────────────────┘\n",
      "\n",
      "CPU times: user 1.83 s, sys: 65 ms, total: 1.89 s\n",
      "Wall time: 1.89 s\n"
     ]
    }
   ],
   "source": [
    "%%time\n",
    "query = \"\"\"\n",
    "SELECT id1, sum(v1) AS v1 \n",
    "FROM read_csv_auto('~/data/G1_1e7_1e2_0_0.csv', header=True) \n",
    "GROUP BY id1\n",
    "\"\"\"\n",
    "duckdb.sql(query).show()"
   ]
  },
  {
   "cell_type": "code",
   "execution_count": null,
   "id": "dcac5a82-88f2-4e45-a873-b481f491d044",
   "metadata": {
    "tags": []
   },
   "outputs": [],
   "source": [
    "%%time\n",
    "query = \"\"\"\n",
    "SELECT id1, sum(v1) AS v1 \n",
    "FROM read_csv_auto('~/data/G1_1e8_1e2_0_0.csv', header=True) \n",
    "GROUP BY id1\n",
    "\"\"\"\n",
    "duckdb.sql(query).show()"
   ]
  },
  {
   "cell_type": "code",
   "execution_count": null,
   "id": "3484c9e6-b89e-412e-ad4f-6a834a0a74f3",
   "metadata": {},
   "outputs": [],
   "source": []
  }
 ],
 "metadata": {
  "kernelspec": {
   "display_name": "Python [conda env:pandas-200]",
   "language": "python",
   "name": "conda-env-pandas-200-py"
  },
  "language_info": {
   "codemirror_mode": {
    "name": "ipython",
    "version": 3
   },
   "file_extension": ".py",
   "mimetype": "text/x-python",
   "name": "python",
   "nbconvert_exporter": "python",
   "pygments_lexer": "ipython3",
   "version": "3.9.16"
  }
 },
 "nbformat": 4,
 "nbformat_minor": 5
}
