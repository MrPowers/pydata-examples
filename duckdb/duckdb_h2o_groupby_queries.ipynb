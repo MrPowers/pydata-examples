{
 "cells": [
  {
   "cell_type": "markdown",
   "id": "058be3c2-41e5-4e55-bf0c-caabbb70fad4",
   "metadata": {
    "tags": []
   },
   "source": [
    "# DuckDB h2o benchmarks"
   ]
  },
  {
   "cell_type": "code",
   "execution_count": 2,
   "id": "8f0820a2-5c27-43e4-8ae9-55650c15ee6a",
   "metadata": {
    "tags": []
   },
   "outputs": [],
   "source": [
    "import duckdb\n",
    "import psutil"
   ]
  },
  {
   "cell_type": "code",
   "execution_count": 2,
   "id": "538fbf07-be8b-4814-88c7-d0eb1e841167",
   "metadata": {
    "tags": []
   },
   "outputs": [
    {
     "name": "stdout",
     "output_type": "stream",
     "text": [
      "┌─────────┬────────┐\n",
      "│   id1   │   v1   │\n",
      "│ varchar │ int128 │\n",
      "├─────────┼────────┤\n",
      "│ id016   │ 298268 │\n",
      "│ id039   │ 299711 │\n",
      "│ id047   │ 298115 │\n",
      "│ id043   │ 299557 │\n",
      "│ id054   │ 299408 │\n",
      "│ id029   │ 298486 │\n",
      "│ id091   │ 300497 │\n",
      "│ id090   │ 299207 │\n",
      "│ id070   │ 298446 │\n",
      "│ id023   │ 299417 │\n",
      "│   ·     │    ·   │\n",
      "│   ·     │    ·   │\n",
      "│   ·     │    ·   │\n",
      "│ id080   │ 302108 │\n",
      "│ id068   │ 299946 │\n",
      "│ id077   │ 301454 │\n",
      "│ id028   │ 298640 │\n",
      "│ id084   │ 301421 │\n",
      "│ id008   │ 300392 │\n",
      "│ id062   │ 299313 │\n",
      "│ id011   │ 300188 │\n",
      "│ id059   │ 301107 │\n",
      "│ id096   │ 300114 │\n",
      "├─────────┴────────┤\n",
      "│     100 rows     │\n",
      "│    (20 shown)    │\n",
      "└──────────────────┘\n",
      "\n",
      "CPU times: user 1.92 s, sys: 103 ms, total: 2.02 s\n",
      "Wall time: 2.03 s\n"
     ]
    }
   ],
   "source": [
    "%%time\n",
    "query = \"\"\"\n",
    "SELECT id1, sum(v1) AS v1 \n",
    "FROM read_csv_auto('~/data/G1_1e7_1e2_0_0.csv', header=True) \n",
    "GROUP BY id1\n",
    "\"\"\"\n",
    "duckdb.sql(query).show()"
   ]
  },
  {
   "cell_type": "code",
   "execution_count": 3,
   "id": "44fbd538-d1f2-4c2c-acca-e4ddb3f96d59",
   "metadata": {
    "tags": []
   },
   "outputs": [
    {
     "name": "stdout",
     "output_type": "stream",
     "text": [
      "┌─────────┬────────┐\n",
      "│   id1   │   v1   │\n",
      "│ varchar │ int128 │\n",
      "├─────────┼────────┤\n",
      "│ id016   │ 298268 │\n",
      "│ id039   │ 299711 │\n",
      "│ id047   │ 298115 │\n",
      "│ id043   │ 299557 │\n",
      "│ id054   │ 299408 │\n",
      "│ id029   │ 298486 │\n",
      "│ id091   │ 300497 │\n",
      "│ id090   │ 299207 │\n",
      "│ id070   │ 298446 │\n",
      "│ id023   │ 299417 │\n",
      "│   ·     │    ·   │\n",
      "│   ·     │    ·   │\n",
      "│   ·     │    ·   │\n",
      "│ id080   │ 302108 │\n",
      "│ id068   │ 299946 │\n",
      "│ id077   │ 301454 │\n",
      "│ id028   │ 298640 │\n",
      "│ id084   │ 301421 │\n",
      "│ id008   │ 300392 │\n",
      "│ id062   │ 299313 │\n",
      "│ id011   │ 300188 │\n",
      "│ id059   │ 301107 │\n",
      "│ id096   │ 300114 │\n",
      "├─────────┴────────┤\n",
      "│     100 rows     │\n",
      "│    (20 shown)    │\n",
      "└──────────────────┘\n",
      "\n",
      "CPU times: user 1.91 s, sys: 77.9 ms, total: 1.99 s\n",
      "Wall time: 1.99 s\n"
     ]
    }
   ],
   "source": [
    "%%time\n",
    "query = \"\"\"\n",
    "SELECT id1, sum(v1) AS v1 \n",
    "FROM read_csv_auto('~/data/G1_1e7_1e2_0_0.csv', header=True) \n",
    "GROUP BY id1\n",
    "\"\"\"\n",
    "duckdb.sql(query).show()"
   ]
  },
  {
   "cell_type": "code",
   "execution_count": 3,
   "id": "dcac5a82-88f2-4e45-a873-b481f491d044",
   "metadata": {
    "tags": []
   },
   "outputs": [
    {
     "ename": "AttributeError",
     "evalue": "'duckdb.DuckDBPyConnection' object has no attribute 'show'",
     "output_type": "error",
     "traceback": [
      "\u001b[0;31m---------------------------------------------------------------------------\u001b[0m",
      "\u001b[0;31mAttributeError\u001b[0m                            Traceback (most recent call last)",
      "File \u001b[0;32m<timed exec>:8\u001b[0m\n",
      "\u001b[0;31mAttributeError\u001b[0m: 'duckdb.DuckDBPyConnection' object has no attribute 'show'"
     ]
    }
   ],
   "source": [
    "%%time\n",
    "conn = duckdb.connect()\n",
    "conn.execute(\"SET experimental_parallel_csv=TRUE\")\n",
    "query = \"\"\"\n",
    "SELECT id1, sum(v1) AS v1 \n",
    "FROM read_csv_auto('~/data/G1_1e7_1e2_0_0.csv', header=True) \n",
    "GROUP BY id1\n",
    "\"\"\"\n",
    "conn.execute(query).show()"
   ]
  },
  {
   "cell_type": "markdown",
   "id": "33b09cb7-6424-4cc6-8bf4-8c12b959ffee",
   "metadata": {},
   "source": [
    "## Try adjusting settings"
   ]
  },
  {
   "cell_type": "code",
   "execution_count": 3,
   "id": "dac006e8-3f87-43df-bee7-57bc05bd7abf",
   "metadata": {
    "tags": []
   },
   "outputs": [
    {
     "name": "stdout",
     "output_type": "stream",
     "text": [
      "Available memory: 42.0GB\n",
      "Available threads: 10\n"
     ]
    }
   ],
   "source": [
    "print(f\"Available memory: {round(psutil.virtual_memory().available * 1e-9, 0)}GB\")\n",
    "print(f\"Available threads: {psutil.cpu_count(logical=True)}\")"
   ]
  },
  {
   "cell_type": "code",
   "execution_count": 4,
   "id": "97f63f14-5d29-4cc3-88f7-fb1ddaabdf68",
   "metadata": {
    "tags": []
   },
   "outputs": [],
   "source": [
    "duckdb.sql(\"SET memory_limit='20GB';\")\n",
    "duckdb.sql(\"SET threads TO 10;\")"
   ]
  },
  {
   "cell_type": "code",
   "execution_count": 8,
   "id": "2b9f196d-23bb-48b1-8190-753cfb205ffa",
   "metadata": {
    "tags": []
   },
   "outputs": [],
   "source": [
    "duckdb.sql('PRAGMA disable_progress_bar;')"
   ]
  },
  {
   "cell_type": "code",
   "execution_count": 5,
   "id": "8b504466-53f5-4dcb-982f-2744c51c949e",
   "metadata": {
    "tags": []
   },
   "outputs": [
    {
     "data": {
      "text/plain": [
       "┌──────────────────────┬──────────────────┬───────────────────────────────────────────────────────────────┬────────────┐\n",
       "│         name         │      value       │                          description                          │ input_type │\n",
       "│       varchar        │     varchar      │                            varchar                            │  varchar   │\n",
       "├──────────────────────┼──────────────────┼───────────────────────────────────────────────────────────────┼────────────┤\n",
       "│ access_mode          │ automatic        │ Access mode of the database (AUTOMATIC, READ_ONLY or READ_W…  │ VARCHAR    │\n",
       "│ checkpoint_threshold │ 16.7MB           │ The WAL size threshold at which to automatically trigger a …  │ VARCHAR    │\n",
       "│ debug_checkpoint_a…  │ none             │ DEBUG SETTING: trigger an abort while checkpointing for tes…  │ VARCHAR    │\n",
       "│ debug_force_external │ false            │ DEBUG SETTING: force out-of-core computation for operators …  │ BOOLEAN    │\n",
       "│ debug_force_no_cro…  │ false            │ DEBUG SETTING: Force disable cross product generation when …  │ BOOLEAN    │\n",
       "│ debug_window_mode    │ NULL             │ DEBUG SETTING: switch window mode to use                      │ VARCHAR    │\n",
       "│ default_collation    │                  │ The collation setting used when none is specified             │ VARCHAR    │\n",
       "│ default_order        │ asc              │ The order type used when none is specified (ASC or DESC)      │ VARCHAR    │\n",
       "│ default_null_order   │ nulls_first      │ Null ordering used when none is specified (NULLS_FIRST or N…  │ VARCHAR    │\n",
       "│ disabled_optimizers  │                  │ DEBUG SETTING: disable a specific set of optimizers (comma …  │ VARCHAR    │\n",
       "│       ·              │  ·               │                       ·                                       │    ·       │\n",
       "│       ·              │  ·               │                       ·                                       │    ·       │\n",
       "│       ·              │  ·               │                       ·                                       │    ·       │\n",
       "│ temp_directory       │ .tmp             │ Set the directory to which to write temp files                │ VARCHAR    │\n",
       "│ threads              │ 10               │ The number of total threads used by the system.               │ BIGINT     │\n",
       "│ username             │ NULL             │ The username to use. Ignored for legacy compatibility.        │ VARCHAR    │\n",
       "│ user                 │ NULL             │ The username to use. Ignored for legacy compatibility.        │ VARCHAR    │\n",
       "│ wal_autocheckpoint   │ 16.7MB           │ The WAL size threshold at which to automatically trigger a …  │ VARCHAR    │\n",
       "│ worker_threads       │ 10               │ The number of total threads used by the system.               │ BIGINT     │\n",
       "│ binary_as_string     │                  │ In Parquet files, interpret binary data as a string.          │ BOOLEAN    │\n",
       "│ pandas_analyze_sam…  │ 1000             │ The maximum number of rows to sample when analyzing a panda…  │ UBIGINT    │\n",
       "│ Calendar             │ gregorian        │ The current calendar                                          │ VARCHAR    │\n",
       "│ TimeZone             │ America/New_York │ The current time zone                                         │ VARCHAR    │\n",
       "├──────────────────────┴──────────────────┴───────────────────────────────────────────────────────────────┴────────────┤\n",
       "│ 54 rows (20 shown)                                                                                         4 columns │\n",
       "└──────────────────────────────────────────────────────────────────────────────────────────────────────────────────────┘"
      ]
     },
     "execution_count": 5,
     "metadata": {},
     "output_type": "execute_result"
    }
   ],
   "source": [
    "duckdb.sql(\"SELECT * FROM duckdb_settings();\")"
   ]
  },
  {
   "cell_type": "code",
   "execution_count": 5,
   "id": "870baf0d-89a7-441d-92c4-2da634f4cce3",
   "metadata": {
    "tags": []
   },
   "outputs": [
    {
     "data": {
      "text/plain": [
       "┌─────────────────────────────────┐\n",
       "│ current_setting('memory_limit') │\n",
       "│             varchar             │\n",
       "├─────────────────────────────────┤\n",
       "│ 20.0GB                          │\n",
       "└─────────────────────────────────┘"
      ]
     },
     "execution_count": 5,
     "metadata": {},
     "output_type": "execute_result"
    }
   ],
   "source": [
    "duckdb.sql(\"SELECT current_setting('memory_limit');\")"
   ]
  },
  {
   "cell_type": "code",
   "execution_count": 6,
   "id": "4b164c85-40a7-4a13-be13-359927d1ad69",
   "metadata": {
    "tags": []
   },
   "outputs": [
    {
     "data": {
      "text/plain": [
       "┌────────────────────────────┐\n",
       "│ current_setting('threads') │\n",
       "│           int64            │\n",
       "├────────────────────────────┤\n",
       "│                         10 │\n",
       "└────────────────────────────┘"
      ]
     },
     "execution_count": 6,
     "metadata": {},
     "output_type": "execute_result"
    }
   ],
   "source": [
    "duckdb.sql(\"SELECT current_setting('threads');\")"
   ]
  },
  {
   "cell_type": "code",
   "execution_count": 9,
   "id": "8afe7325-430e-4c8a-9944-ea8487907291",
   "metadata": {
    "tags": []
   },
   "outputs": [
    {
     "data": {
      "text/plain": [
       "┌────────────────────────────────────────┐\n",
       "│ current_setting('enable_progress_bar') │\n",
       "│                boolean                 │\n",
       "├────────────────────────────────────────┤\n",
       "│ false                                  │\n",
       "└────────────────────────────────────────┘"
      ]
     },
     "execution_count": 9,
     "metadata": {},
     "output_type": "execute_result"
    }
   ],
   "source": [
    "duckdb.sql(\"SELECT current_setting('enable_progress_bar');\")"
   ]
  },
  {
   "cell_type": "code",
   "execution_count": null,
   "id": "3484c9e6-b89e-412e-ad4f-6a834a0a74f3",
   "metadata": {},
   "outputs": [],
   "source": [
    "%%time\n",
    "conn = duckdb.connect()\n",
    "conn.execute(\"SET experimental_parallel_csv=TRUE\")\n",
    "query = \"\"\"\n",
    "SELECT id1, sum(v1) AS v1 \n",
    "FROM read_csv_auto('~/data/G1_1e8_1e2_0_0.csv', header=True) \n",
    "GROUP BY id1\n",
    "\"\"\"\n",
    "conn.execute(query).show()"
   ]
  },
  {
   "cell_type": "code",
   "execution_count": null,
   "id": "4c309aca-c29d-4822-912c-116a084ad6c4",
   "metadata": {},
   "outputs": [],
   "source": []
  }
 ],
 "metadata": {
  "kernelspec": {
   "display_name": "Python [conda env:deltalake-090]",
   "language": "python",
   "name": "conda-env-deltalake-090-py"
  },
  "language_info": {
   "codemirror_mode": {
    "name": "ipython",
    "version": 3
   },
   "file_extension": ".py",
   "mimetype": "text/x-python",
   "name": "python",
   "nbconvert_exporter": "python",
   "pygments_lexer": "ipython3",
   "version": "3.9.16"
  }
 },
 "nbformat": 4,
 "nbformat_minor": 5
}
